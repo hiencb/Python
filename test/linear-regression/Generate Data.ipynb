{
 "cells": [
  {
   "cell_type": "code",
   "execution_count": 1,
   "metadata": {
    "collapsed": true
   },
   "outputs": [],
   "source": [
    "import numpy as np\n",
    "import pandas as pd\n",
    "import time\n",
    "import math"
   ]
  },
  {
   "cell_type": "code",
   "execution_count": 2,
   "metadata": {
    "collapsed": false
   },
   "outputs": [],
   "source": [
    "featuresMin = 2\n",
    "featuresMax = 11\n",
    "samplesMin = 1000\n",
    "samplesMax = 30000\n",
    "powerMin = 1\n",
    "powerMax = 5\n",
    "coefficientMin = -200\n",
    "coefficientMax = 200\n",
    "biasMin = -200\n",
    "biasMax = 200\n",
    "scopes = [-0.01, -0.1, -1, -2, -5, -10, -20, -50, -80, -100, -150, -200, 0.01, 0.1, 1, 2, 5, 10, 20, 50, 80, 100, 150, 200]\n",
    "np.random.seed(int(time.time()))"
   ]
  },
  {
   "cell_type": "code",
   "execution_count": 3,
   "metadata": {
    "collapsed": false
   },
   "outputs": [
    {
     "name": "stdout",
     "output_type": "stream",
     "text": [
      "y = 14 + (3.5)*X1^1 + (-8.1)*X2^1\n"
     ]
    }
   ],
   "source": [
    "def generate_metadata(features=None, linear=True):\n",
    "    features = features or np.random.randint(featuresMin, featuresMax)\n",
    "    featureInfos = []\n",
    "    bias = np.random.randint(biasMin, biasMax)\n",
    "    metadata = {\n",
    "        'bias': bias,\n",
    "        'featureInfos': featureInfos\n",
    "    }\n",
    "    for i in range(features):\n",
    "        scope1 = np.random.choice(scopes)\n",
    "        scope2 = np.random.choice(scopes)\n",
    "        coefficient = round(np.random.rand() * (coefficientMax - coefficientMin) + coefficientMin, 2)\n",
    "        power = 1 if linear else np.random.randint(powerMin, powerMax)\n",
    "        featureInfos.append({\n",
    "            'min': min(scope1, scope2),\n",
    "            'max': max(scope1, scope2) + 1,\n",
    "            'power': power,\n",
    "            'coefficient': coefficient\n",
    "        })\n",
    "    return metadata\n",
    "\n",
    "\n",
    "def compute_y(metadata, X):\n",
    "    y = np.full(X.shape[0], metadata['bias'], dtype=float)\n",
    "#     print(y)\n",
    "    \n",
    "    featureInfos = metadata['featureInfos']\n",
    "    for i in range(len(featureInfos)):\n",
    "        featureInfo = featureInfos[i]\n",
    "        coefficient = featureInfo['coefficient']\n",
    "        power = featureInfo['power']\n",
    "#         print(X[:, i])\n",
    "        y += coefficient * np.power(X[:, i], power)\n",
    "    return y\n",
    "\n",
    "\n",
    "def write_file(X, y, file):\n",
    "    (xRows, xCols) = X.shape\n",
    "\n",
    "    totalArray = np.append(X, np.reshape(y, newshape=(xRows, 1)), axis=1)\n",
    "    columns = ['X{0}'.format(i + 1) for i in range(xCols)]\n",
    "    columns.append('Y')\n",
    "    dataFrame = pd.DataFrame(totalArray, columns=columns)\n",
    "#     print(columns)\n",
    "#     print(dataFrame)\n",
    "    dataFrame.to_csv(file, index=False)\n",
    "\n",
    "\n",
    "def generate_data(metadata=None, features=None, linear=True, samples=None, file=None):\n",
    "    metadata = metadata or generate_metadata(features, linear)\n",
    "    samples = samples or np.random.randint(samplesMin, samplesMax)\n",
    "    features = len(metadata['featureInfos'])\n",
    "    \n",
    "#     print('samples = {0}, features = {1}'.format(samples, features))\n",
    "    X = np.ndarray(shape=(samples, features))\n",
    "    for i in range(features):\n",
    "        featureInfo = metadata['featureInfos'][i]\n",
    "        max = featureInfo['max']\n",
    "        min = featureInfo['min']\n",
    "        X[:, i] = np.random.random_sample((samples, )) * (max - min) + min\n",
    "        \n",
    "    y = compute_y(metadata, X)\n",
    "    \n",
    "    if file:\n",
    "        write_file(X, y, file)\n",
    "        \n",
    "    return (X, y, metadata)\n",
    "\n",
    "\n",
    "def generate_function(metadata):\n",
    "    exp = 'y = {0}'.format(metadata['bias'])\n",
    "    for i in range(len(metadata['featureInfos'])):\n",
    "        featureInfo = metadata['featureInfos'][i]\n",
    "        operand = '({0})*X{1}^{2}'.format(featureInfo['coefficient'], i + 1, featureInfo['power'])\n",
    "        exp += ' + ' + operand\n",
    "    return exp\n",
    "    \n",
    "\n",
    "metadata = {\n",
    "    'bias': 14,\n",
    "    'featureInfos': [\n",
    "        {\n",
    "            'min': -2,\n",
    "            'max': 2,\n",
    "            'coefficient': 3.5,\n",
    "            'power': 1\n",
    "        },\n",
    "        {\n",
    "            'min': -100,\n",
    "            'max': 100,\n",
    "            'coefficient': -8.1,\n",
    "            'power': 1\n",
    "        }\n",
    "    ]\n",
    "}\n",
    "\n",
    "(X, y, metadata) = generate_data(metadata=metadata, features=6, samples=500, file='data2.csv')\n",
    "# print(X[: 5, :])\n",
    "# print(y[: 5])\n",
    "print(generate_function(metadata))"
   ]
  },
  {
   "cell_type": "code",
   "execution_count": null,
   "metadata": {
    "collapsed": true
   },
   "outputs": [],
   "source": []
  }
 ],
 "metadata": {
  "kernelspec": {
   "display_name": "Python 3",
   "language": "python",
   "name": "python3"
  },
  "language_info": {
   "codemirror_mode": {
    "name": "ipython",
    "version": 3
   },
   "file_extension": ".py",
   "mimetype": "text/x-python",
   "name": "python",
   "nbconvert_exporter": "python",
   "pygments_lexer": "ipython3",
   "version": "3.6.0"
  }
 },
 "nbformat": 4,
 "nbformat_minor": 2
}
