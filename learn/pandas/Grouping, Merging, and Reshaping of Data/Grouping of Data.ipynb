{
 "cells": [
  {
   "cell_type": "markdown",
   "metadata": {},
   "source": [
    "# GROUPING OF DATA"
   ]
  },
  {
   "cell_type": "code",
   "execution_count": 129,
   "metadata": {
    "collapsed": true
   },
   "outputs": [],
   "source": [
    "import pandas as pd\n",
    "import numpy as np\n",
    "import math"
   ]
  },
  {
   "cell_type": "code",
   "execution_count": 97,
   "metadata": {
    "collapsed": false
   },
   "outputs": [
    {
     "data": {
      "text/html": [
       "<div>\n",
       "<table border=\"1\" class=\"dataframe\">\n",
       "  <thead>\n",
       "    <tr style=\"text-align: right;\">\n",
       "      <th></th>\n",
       "      <th>Team</th>\n",
       "      <th>Region</th>\n",
       "      <th>Code</th>\n",
       "      <th>Quantiy</th>\n",
       "      <th>Value</th>\n",
       "    </tr>\n",
       "  </thead>\n",
       "  <tbody>\n",
       "    <tr>\n",
       "      <th>0</th>\n",
       "      <td>A1</td>\n",
       "      <td>D</td>\n",
       "      <td>D1-96432</td>\n",
       "      <td>56.0</td>\n",
       "      <td>73454.0</td>\n",
       "    </tr>\n",
       "    <tr>\n",
       "      <th>1</th>\n",
       "      <td>A2</td>\n",
       "      <td>E</td>\n",
       "      <td>D2-09528</td>\n",
       "      <td>45.0</td>\n",
       "      <td>87674.0</td>\n",
       "    </tr>\n",
       "    <tr>\n",
       "      <th>2</th>\n",
       "      <td>A1</td>\n",
       "      <td>C</td>\n",
       "      <td>D3-09643</td>\n",
       "      <td>863.0</td>\n",
       "      <td>25447.0</td>\n",
       "    </tr>\n",
       "    <tr>\n",
       "      <th>3</th>\n",
       "      <td>A3</td>\n",
       "      <td>A</td>\n",
       "      <td>D2-63432</td>\n",
       "      <td>45.0</td>\n",
       "      <td>956875.0</td>\n",
       "    </tr>\n",
       "    <tr>\n",
       "      <th>4</th>\n",
       "      <td>A5</td>\n",
       "      <td>B</td>\n",
       "      <td>D1-09876</td>\n",
       "      <td>NaN</td>\n",
       "      <td>245456.0</td>\n",
       "    </tr>\n",
       "    <tr>\n",
       "      <th>5</th>\n",
       "      <td>A6</td>\n",
       "      <td>A</td>\n",
       "      <td>D4-73524</td>\n",
       "      <td>674.0</td>\n",
       "      <td>365145.0</td>\n",
       "    </tr>\n",
       "  </tbody>\n",
       "</table>\n",
       "</div>"
      ],
      "text/plain": [
       "  Team Region      Code  Quantiy     Value\n",
       "0   A1      D  D1-96432     56.0   73454.0\n",
       "1   A2      E  D2-09528     45.0   87674.0\n",
       "2   A1      C  D3-09643    863.0   25447.0\n",
       "3   A3      A  D2-63432     45.0  956875.0\n",
       "4   A5      B  D1-09876      NaN  245456.0\n",
       "5   A6      A  D4-73524    674.0  365145.0"
      ]
     },
     "execution_count": 97,
     "metadata": {},
     "output_type": "execute_result"
    }
   ],
   "source": [
    "df = pd.read_csv('../data/items.csv')\n",
    "df.head(6)"
   ]
  },
  {
   "cell_type": "markdown",
   "metadata": {},
   "source": [
    "## The groupby operation"
   ]
  },
  {
   "cell_type": "code",
   "execution_count": 98,
   "metadata": {
    "collapsed": false
   },
   "outputs": [
    {
     "data": {
      "text/plain": [
       "<pandas.core.groupby.DataFrameGroupBy object at 0x7f2a60bb22b0>"
      ]
     },
     "execution_count": 98,
     "metadata": {},
     "output_type": "execute_result"
    }
   ],
   "source": [
    "dfGroupedByTeam1 = df.groupby('Team')\n",
    "dfGroupedByTeam1"
   ]
  },
  {
   "cell_type": "code",
   "execution_count": 99,
   "metadata": {
    "collapsed": false
   },
   "outputs": [
    {
     "data": {
      "text/plain": [
       "{'A1': Int64Index([0, 2, 7], dtype='int64'),\n",
       " 'A2': Int64Index([1, 6, 10, 11, 13], dtype='int64'),\n",
       " 'A3': Int64Index([3, 8, 14], dtype='int64'),\n",
       " 'A4': Int64Index([9], dtype='int64'),\n",
       " 'A5': Int64Index([4, 12], dtype='int64'),\n",
       " 'A6': Int64Index([5], dtype='int64')}"
      ]
     },
     "execution_count": 99,
     "metadata": {},
     "output_type": "execute_result"
    }
   ],
   "source": [
    "dfGroupedByTeam1.groups"
   ]
  },
  {
   "cell_type": "code",
   "execution_count": 100,
   "metadata": {
    "collapsed": false
   },
   "outputs": [
    {
     "data": {
      "text/plain": [
       "Team\n",
       "A2    5\n",
       "A3    3\n",
       "A1    3\n",
       "A5    2\n",
       "A6    1\n",
       "A4    1\n",
       "dtype: int64"
      ]
     },
     "execution_count": 100,
     "metadata": {},
     "output_type": "execute_result"
    }
   ],
   "source": [
    "dfSum = dfGroupedByTeam1.size()\n",
    "dfSum.sort_values(ascending=False)"
   ]
  },
  {
   "cell_type": "code",
   "execution_count": 101,
   "metadata": {
    "collapsed": false
   },
   "outputs": [
    {
     "data": {
      "text/plain": [
       "<pandas.core.groupby.DataFrameGroupBy object at 0x7f2a60bca6d8>"
      ]
     },
     "execution_count": 101,
     "metadata": {},
     "output_type": "execute_result"
    }
   ],
   "source": [
    "dfCode = df.set_index('Code')\n",
    "dfGroupedByProduct = dfCode.groupby(lambda code: code.split('-')[0])\n",
    "dfGroupedByProduct"
   ]
  },
  {
   "cell_type": "code",
   "execution_count": 102,
   "metadata": {
    "collapsed": false
   },
   "outputs": [
    {
     "name": "stdout",
     "output_type": "stream",
     "text": [
      "D1\n",
      "         Team Region  Quantiy     Value\n",
      "Code                                   \n",
      "D1-96432   A1      D     56.0   73454.0\n",
      "D1-09876   A5      B      NaN  245456.0\n",
      "D1-63793   A2      C     84.0  234546.0\n",
      "\n",
      "\n",
      "D2\n",
      "         Team Region  Quantiy     Value\n",
      "Code                                   \n",
      "D2-09528   A2      E     45.0   87674.0\n",
      "D2-63432   A3      A     45.0  956875.0\n",
      "D2-90858   A1      D    876.0       NaN\n",
      "D2-98734   A3      E    524.0   24536.0\n",
      "D2-96532   A2      D     51.0  472876.0\n",
      "D2-97435   A3      B    653.0   53343.0\n",
      "\n",
      "\n",
      "D3\n",
      "         Team Region  Quantiy    Value\n",
      "Code                                  \n",
      "D3-09643   A1      C    863.0  25447.0\n",
      "D3-53870   A4      B     67.0  37567.0\n",
      "\n",
      "\n",
      "D4\n",
      "         Team Region  Quantiy     Value\n",
      "Code                                   \n",
      "D4-73524   A6      A    674.0  365145.0\n",
      "D4-73484   A5      A   2435.0   34745.0\n",
      "\n",
      "\n",
      "D5\n",
      "         Team Region  Quantiy    Value\n",
      "Code                                  \n",
      "D5-09453   A2      C     54.0  84673.0\n",
      "D5-09844   A2      A    752.0  24753.0\n",
      "\n",
      "\n"
     ]
    }
   ],
   "source": [
    "for (name, group) in dfGroupedByProduct:\n",
    "    print(name)\n",
    "    print(group)\n",
    "    print('\\n')"
   ]
  },
  {
   "cell_type": "code",
   "execution_count": 103,
   "metadata": {
    "collapsed": false
   },
   "outputs": [
    {
     "data": {
      "text/plain": [
       "<pandas.core.groupby.DataFrameGroupBy object at 0x7f2a60bca710>"
      ]
     },
     "execution_count": 103,
     "metadata": {},
     "output_type": "execute_result"
    }
   ],
   "source": [
    "dfIndexed = df.set_index('Team')\n",
    "dfGroupedLevel1 = dfIndexed.groupby(level=0)\n",
    "dfGroupedLevel1"
   ]
  },
  {
   "cell_type": "code",
   "execution_count": 104,
   "metadata": {
    "collapsed": false
   },
   "outputs": [
    {
     "name": "stdout",
     "output_type": "stream",
     "text": [
      "A1\n",
      "      Region      Code  Quantiy\n",
      "Team                           \n",
      "A1         3  D1-96432       56\n",
      "A1         2  D3-09643      863\n",
      "A1         2  D2-90858      876\n",
      "\n",
      "\n",
      "A2\n",
      "      Region      Code  Quantiy\n",
      "Team                           \n",
      "A2         5  D2-09528       45\n",
      "A2         4  D5-09453       54\n",
      "A2         1  D2-96532       51\n",
      "A2         2  D1-63793       84\n",
      "A2         1  D5-09844      752\n",
      "\n",
      "\n",
      "A3\n",
      "      Region      Code  Quantiy\n",
      "Team                           \n",
      "A3         3  D2-63432       45\n",
      "A3         5  D2-98734      524\n",
      "\n",
      "\n",
      "A4\n",
      "      Region      Code  Quantiy\n",
      "Team                           \n",
      "A4         3  D3-53870       67\n",
      "\n",
      "\n",
      "A5\n",
      "      Region      Code  Quantiy\n",
      "Team                           \n",
      "A5         1  D1-09876      326\n",
      "A5         4  D4-73484     2435\n",
      "\n",
      "\n",
      "A6\n",
      "      Region      Code  Quantiy\n",
      "Team                           \n",
      "A6         1  D4-73524      674\n",
      "\n",
      "\n"
     ]
    }
   ],
   "source": [
    "for (name, group) in dfGroupedLevel0:\n",
    "    print(name)\n",
    "    print(group)\n",
    "    print('\\n')"
   ]
  },
  {
   "cell_type": "code",
   "execution_count": 105,
   "metadata": {
    "collapsed": false
   },
   "outputs": [
    {
     "name": "stdout",
     "output_type": "stream",
     "text": [
      "('A1', 'C')\n",
      "                 Code  Quantiy    Value\n",
      "Team Region                            \n",
      "A1   C       D3-09643    863.0  25447.0\n",
      "\n",
      "\n",
      "('A1', 'D')\n",
      "                 Code  Quantiy    Value\n",
      "Team Region                            \n",
      "A1   D       D1-96432     56.0  73454.0\n",
      "     D       D2-90858    876.0      NaN\n",
      "\n",
      "\n",
      "('A2', 'A')\n",
      "                 Code  Quantiy    Value\n",
      "Team Region                            \n",
      "A2   A       D5-09844    752.0  24753.0\n",
      "\n",
      "\n",
      "('A2', 'C')\n",
      "                 Code  Quantiy     Value\n",
      "Team Region                             \n",
      "A2   C       D5-09453     54.0   84673.0\n",
      "     C       D1-63793     84.0  234546.0\n",
      "\n",
      "\n",
      "('A2', 'D')\n",
      "                 Code  Quantiy     Value\n",
      "Team Region                             \n",
      "A2   D       D2-96532     51.0  472876.0\n",
      "\n",
      "\n",
      "('A2', 'E')\n",
      "                 Code  Quantiy    Value\n",
      "Team Region                            \n",
      "A2   E       D2-09528     45.0  87674.0\n",
      "\n",
      "\n",
      "('A3', 'A')\n",
      "                 Code  Quantiy     Value\n",
      "Team Region                             \n",
      "A3   A       D2-63432     45.0  956875.0\n",
      "\n",
      "\n",
      "('A3', 'B')\n",
      "                 Code  Quantiy    Value\n",
      "Team Region                            \n",
      "A3   B       D2-97435    653.0  53343.0\n",
      "\n",
      "\n",
      "('A3', 'E')\n",
      "                 Code  Quantiy    Value\n",
      "Team Region                            \n",
      "A3   E       D2-98734    524.0  24536.0\n",
      "\n",
      "\n",
      "('A4', 'B')\n",
      "                 Code  Quantiy    Value\n",
      "Team Region                            \n",
      "A4   B       D3-53870     67.0  37567.0\n",
      "\n",
      "\n",
      "('A5', 'A')\n",
      "                 Code  Quantiy    Value\n",
      "Team Region                            \n",
      "A5   A       D4-73484   2435.0  34745.0\n",
      "\n",
      "\n",
      "('A5', 'B')\n",
      "                 Code  Quantiy     Value\n",
      "Team Region                             \n",
      "A5   B       D1-09876      NaN  245456.0\n",
      "\n",
      "\n",
      "('A6', 'A')\n",
      "                 Code  Quantiy     Value\n",
      "Team Region                             \n",
      "A6   A       D4-73524    674.0  365145.0\n",
      "\n",
      "\n"
     ]
    }
   ],
   "source": [
    "df.reset_index()\n",
    "dfIndexed = df.set_index(['Team', 'Region'])\n",
    "dfGroupedLevel2 = dfIndexed.groupby(level=['Team', 'Region'])\n",
    "for (name, group) in dfGroupedLevel2:\n",
    "    print(name)\n",
    "    print(group)\n",
    "    print('\\n')"
   ]
  },
  {
   "cell_type": "markdown",
   "metadata": {},
   "source": [
    "## Using groupby with a MultiIndex"
   ]
  },
  {
   "cell_type": "code",
   "execution_count": 106,
   "metadata": {
    "collapsed": false
   },
   "outputs": [
    {
     "data": {
      "text/html": [
       "<div>\n",
       "<table border=\"1\" class=\"dataframe\">\n",
       "  <thead>\n",
       "    <tr style=\"text-align: right;\">\n",
       "      <th></th>\n",
       "      <th>Quantiy</th>\n",
       "      <th>Value</th>\n",
       "    </tr>\n",
       "    <tr>\n",
       "      <th>Region</th>\n",
       "      <th></th>\n",
       "      <th></th>\n",
       "    </tr>\n",
       "  </thead>\n",
       "  <tbody>\n",
       "    <tr>\n",
       "      <th>A</th>\n",
       "      <td>3906.0</td>\n",
       "      <td>1381518.0</td>\n",
       "    </tr>\n",
       "    <tr>\n",
       "      <th>B</th>\n",
       "      <td>720.0</td>\n",
       "      <td>336366.0</td>\n",
       "    </tr>\n",
       "    <tr>\n",
       "      <th>C</th>\n",
       "      <td>1001.0</td>\n",
       "      <td>344666.0</td>\n",
       "    </tr>\n",
       "    <tr>\n",
       "      <th>D</th>\n",
       "      <td>983.0</td>\n",
       "      <td>546330.0</td>\n",
       "    </tr>\n",
       "    <tr>\n",
       "      <th>E</th>\n",
       "      <td>569.0</td>\n",
       "      <td>112210.0</td>\n",
       "    </tr>\n",
       "  </tbody>\n",
       "</table>\n",
       "</div>"
      ],
      "text/plain": [
       "        Quantiy      Value\n",
       "Region                    \n",
       "A        3906.0  1381518.0\n",
       "B         720.0   336366.0\n",
       "C        1001.0   344666.0\n",
       "D         983.0   546330.0\n",
       "E         569.0   112210.0"
      ]
     },
     "execution_count": 106,
     "metadata": {},
     "output_type": "execute_result"
    }
   ],
   "source": [
    "dfGroupedLevel3 = dfIndexed.groupby(level='Region')\n",
    "dfGroupedLevel3Sum = dfGroupedLevel3.sum()\n",
    "dfGroupedLevel3Sum"
   ]
  },
  {
   "cell_type": "code",
   "execution_count": 107,
   "metadata": {
    "collapsed": false
   },
   "outputs": [
    {
     "data": {
      "text/html": [
       "<div>\n",
       "<table border=\"1\" class=\"dataframe\">\n",
       "  <thead>\n",
       "    <tr style=\"text-align: right;\">\n",
       "      <th></th>\n",
       "      <th>Quantiy</th>\n",
       "      <th>Value</th>\n",
       "    </tr>\n",
       "    <tr>\n",
       "      <th>Region</th>\n",
       "      <th></th>\n",
       "      <th></th>\n",
       "    </tr>\n",
       "  </thead>\n",
       "  <tbody>\n",
       "    <tr>\n",
       "      <th>A</th>\n",
       "      <td>3906.0</td>\n",
       "      <td>1381518.0</td>\n",
       "    </tr>\n",
       "    <tr>\n",
       "      <th>B</th>\n",
       "      <td>720.0</td>\n",
       "      <td>336366.0</td>\n",
       "    </tr>\n",
       "    <tr>\n",
       "      <th>C</th>\n",
       "      <td>1001.0</td>\n",
       "      <td>344666.0</td>\n",
       "    </tr>\n",
       "    <tr>\n",
       "      <th>D</th>\n",
       "      <td>983.0</td>\n",
       "      <td>546330.0</td>\n",
       "    </tr>\n",
       "    <tr>\n",
       "      <th>E</th>\n",
       "      <td>569.0</td>\n",
       "      <td>112210.0</td>\n",
       "    </tr>\n",
       "  </tbody>\n",
       "</table>\n",
       "</div>"
      ],
      "text/plain": [
       "        Quantiy      Value\n",
       "Region                    \n",
       "A        3906.0  1381518.0\n",
       "B         720.0   336366.0\n",
       "C        1001.0   344666.0\n",
       "D         983.0   546330.0\n",
       "E         569.0   112210.0"
      ]
     },
     "execution_count": 107,
     "metadata": {},
     "output_type": "execute_result"
    }
   ],
   "source": [
    "dfIndexed.sum(level='Region')"
   ]
  },
  {
   "cell_type": "code",
   "execution_count": 108,
   "metadata": {
    "collapsed": false
   },
   "outputs": [
    {
     "data": {
      "text/plain": [
       "Quantiy    0.732452\n",
       "Value      0.615683\n",
       "dtype: float64"
      ]
     },
     "execution_count": 108,
     "metadata": {},
     "output_type": "execute_result"
    }
   ],
   "source": [
    "dfGroupedLevel3Sum.ix['B']/dfGroupedLevel3Sum.ix['D']"
   ]
  },
  {
   "cell_type": "markdown",
   "metadata": {},
   "source": [
    "## Using the aggregate method"
   ]
  },
  {
   "cell_type": "code",
   "execution_count": 109,
   "metadata": {
    "collapsed": false
   },
   "outputs": [
    {
     "data": {
      "text/html": [
       "<div>\n",
       "<table border=\"1\" class=\"dataframe\">\n",
       "  <thead>\n",
       "    <tr style=\"text-align: right;\">\n",
       "      <th></th>\n",
       "      <th>Quantiy</th>\n",
       "      <th>Value</th>\n",
       "    </tr>\n",
       "    <tr>\n",
       "      <th>Region</th>\n",
       "      <th></th>\n",
       "      <th></th>\n",
       "    </tr>\n",
       "  </thead>\n",
       "  <tbody>\n",
       "    <tr>\n",
       "      <th>A</th>\n",
       "      <td>3906.0</td>\n",
       "      <td>1381518.0</td>\n",
       "    </tr>\n",
       "    <tr>\n",
       "      <th>B</th>\n",
       "      <td>720.0</td>\n",
       "      <td>336366.0</td>\n",
       "    </tr>\n",
       "    <tr>\n",
       "      <th>C</th>\n",
       "      <td>1001.0</td>\n",
       "      <td>344666.0</td>\n",
       "    </tr>\n",
       "    <tr>\n",
       "      <th>D</th>\n",
       "      <td>983.0</td>\n",
       "      <td>546330.0</td>\n",
       "    </tr>\n",
       "    <tr>\n",
       "      <th>E</th>\n",
       "      <td>569.0</td>\n",
       "      <td>112210.0</td>\n",
       "    </tr>\n",
       "  </tbody>\n",
       "</table>\n",
       "</div>"
      ],
      "text/plain": [
       "        Quantiy      Value\n",
       "Region                    \n",
       "A        3906.0  1381518.0\n",
       "B         720.0   336366.0\n",
       "C        1001.0   344666.0\n",
       "D         983.0   546330.0\n",
       "E         569.0   112210.0"
      ]
     },
     "execution_count": 109,
     "metadata": {},
     "output_type": "execute_result"
    }
   ],
   "source": [
    "dfGroupedLevel3.aggregate(np.sum)"
   ]
  },
  {
   "cell_type": "markdown",
   "metadata": {},
   "source": [
    "## Applying multiple functions"
   ]
  },
  {
   "cell_type": "code",
   "execution_count": 110,
   "metadata": {
    "collapsed": false
   },
   "outputs": [
    {
     "data": {
      "text/html": [
       "<div>\n",
       "<table border=\"1\" class=\"dataframe\">\n",
       "  <thead>\n",
       "    <tr>\n",
       "      <th></th>\n",
       "      <th colspan=\"3\" halign=\"left\">Quantiy</th>\n",
       "      <th colspan=\"3\" halign=\"left\">Value</th>\n",
       "    </tr>\n",
       "    <tr>\n",
       "      <th></th>\n",
       "      <th>sum</th>\n",
       "      <th>mean</th>\n",
       "      <th>std</th>\n",
       "      <th>sum</th>\n",
       "      <th>mean</th>\n",
       "      <th>std</th>\n",
       "    </tr>\n",
       "    <tr>\n",
       "      <th>Region</th>\n",
       "      <th></th>\n",
       "      <th></th>\n",
       "      <th></th>\n",
       "      <th></th>\n",
       "      <th></th>\n",
       "      <th></th>\n",
       "    </tr>\n",
       "  </thead>\n",
       "  <tbody>\n",
       "    <tr>\n",
       "      <th>A</th>\n",
       "      <td>3906.0</td>\n",
       "      <td>976.500000</td>\n",
       "      <td>1022.549265</td>\n",
       "      <td>1381518.0</td>\n",
       "      <td>345379.500000</td>\n",
       "      <td>437269.012014</td>\n",
       "    </tr>\n",
       "    <tr>\n",
       "      <th>B</th>\n",
       "      <td>720.0</td>\n",
       "      <td>360.000000</td>\n",
       "      <td>414.364574</td>\n",
       "      <td>336366.0</td>\n",
       "      <td>112122.000000</td>\n",
       "      <td>115739.739118</td>\n",
       "    </tr>\n",
       "    <tr>\n",
       "      <th>C</th>\n",
       "      <td>1001.0</td>\n",
       "      <td>333.666667</td>\n",
       "      <td>458.661458</td>\n",
       "      <td>344666.0</td>\n",
       "      <td>114888.666667</td>\n",
       "      <td>107774.476730</td>\n",
       "    </tr>\n",
       "    <tr>\n",
       "      <th>D</th>\n",
       "      <td>983.0</td>\n",
       "      <td>327.666667</td>\n",
       "      <td>474.877177</td>\n",
       "      <td>546330.0</td>\n",
       "      <td>273165.000000</td>\n",
       "      <td>282434.004755</td>\n",
       "    </tr>\n",
       "    <tr>\n",
       "      <th>E</th>\n",
       "      <td>569.0</td>\n",
       "      <td>284.500000</td>\n",
       "      <td>338.704148</td>\n",
       "      <td>112210.0</td>\n",
       "      <td>56105.000000</td>\n",
       "      <td>44645.307951</td>\n",
       "    </tr>\n",
       "  </tbody>\n",
       "</table>\n",
       "</div>"
      ],
      "text/plain": [
       "       Quantiy                               Value                 \\\n",
       "           sum        mean          std        sum           mean   \n",
       "Region                                                              \n",
       "A       3906.0  976.500000  1022.549265  1381518.0  345379.500000   \n",
       "B        720.0  360.000000   414.364574   336366.0  112122.000000   \n",
       "C       1001.0  333.666667   458.661458   344666.0  114888.666667   \n",
       "D        983.0  327.666667   474.877177   546330.0  273165.000000   \n",
       "E        569.0  284.500000   338.704148   112210.0   56105.000000   \n",
       "\n",
       "                       \n",
       "                  std  \n",
       "Region                 \n",
       "A       437269.012014  \n",
       "B       115739.739118  \n",
       "C       107774.476730  \n",
       "D       282434.004755  \n",
       "E        44645.307951  "
      ]
     },
     "execution_count": 110,
     "metadata": {},
     "output_type": "execute_result"
    }
   ],
   "source": [
    "dfGroupedLevel3.agg([np.sum, np.mean, np.std])"
   ]
  },
  {
   "cell_type": "code",
   "execution_count": 111,
   "metadata": {
    "collapsed": false
   },
   "outputs": [
    {
     "data": {
      "text/html": [
       "<div>\n",
       "<table border=\"1\" class=\"dataframe\">\n",
       "  <thead>\n",
       "    <tr style=\"text-align: right;\">\n",
       "      <th></th>\n",
       "      <th>Total</th>\n",
       "      <th>Average</th>\n",
       "      <th>Count</th>\n",
       "    </tr>\n",
       "    <tr>\n",
       "      <th>Region</th>\n",
       "      <th></th>\n",
       "      <th></th>\n",
       "      <th></th>\n",
       "    </tr>\n",
       "  </thead>\n",
       "  <tbody>\n",
       "    <tr>\n",
       "      <th>A</th>\n",
       "      <td>1381518.0</td>\n",
       "      <td>345379.500000</td>\n",
       "      <td>4.0</td>\n",
       "    </tr>\n",
       "    <tr>\n",
       "      <th>B</th>\n",
       "      <td>336366.0</td>\n",
       "      <td>112122.000000</td>\n",
       "      <td>3.0</td>\n",
       "    </tr>\n",
       "    <tr>\n",
       "      <th>C</th>\n",
       "      <td>344666.0</td>\n",
       "      <td>114888.666667</td>\n",
       "      <td>3.0</td>\n",
       "    </tr>\n",
       "    <tr>\n",
       "      <th>D</th>\n",
       "      <td>546330.0</td>\n",
       "      <td>273165.000000</td>\n",
       "      <td>3.0</td>\n",
       "    </tr>\n",
       "    <tr>\n",
       "      <th>E</th>\n",
       "      <td>112210.0</td>\n",
       "      <td>56105.000000</td>\n",
       "      <td>2.0</td>\n",
       "    </tr>\n",
       "  </tbody>\n",
       "</table>\n",
       "</div>"
      ],
      "text/plain": [
       "            Total        Average  Count\n",
       "Region                                 \n",
       "A       1381518.0  345379.500000    4.0\n",
       "B        336366.0  112122.000000    3.0\n",
       "C        344666.0  114888.666667    3.0\n",
       "D        546330.0  273165.000000    3.0\n",
       "E        112210.0   56105.000000    2.0"
      ]
     },
     "execution_count": 111,
     "metadata": {},
     "output_type": "execute_result"
    }
   ],
   "source": [
    "dfGroupedLevel3['Value'].agg({'Total': np.sum, 'Average': np.mean, 'Count': np.size})"
   ]
  },
  {
   "cell_type": "markdown",
   "metadata": {},
   "source": [
    "## The transform() method"
   ]
  },
  {
   "cell_type": "code",
   "execution_count": 122,
   "metadata": {
    "collapsed": false
   },
   "outputs": [
    {
     "name": "stdout",
     "output_type": "stream",
     "text": [
      "        Quantiy          Value\n",
      "D1    70.000000  184485.333333\n",
      "D2   365.666667  319060.800000\n",
      "D3   465.000000   31507.000000\n",
      "D4  1554.500000  199945.000000\n",
      "D5   403.000000   54713.000000\n",
      "    Team  Region  Quantiy  Value\n",
      "D1     3       3        2      3\n",
      "D2     6       6        6      5\n",
      "D3     2       2        2      2\n",
      "D4     2       2        2      2\n",
      "D5     2       2        2      2\n",
      "        Quantiy          Value\n",
      "D1    70.000000  184485.333333\n",
      "D2   365.666667  319060.800000\n",
      "D3   465.000000   31507.000000\n",
      "D4  1554.500000  199945.000000\n",
      "D5   403.000000   54713.000000\n",
      "    Quantiy  Value\n",
      "D1        3      3\n",
      "D2        6      6\n",
      "D3        2      2\n",
      "D4        2      2\n",
      "D5        2      2\n"
     ]
    }
   ],
   "source": [
    "dfIndexedCode = df.set_index('Code')\n",
    "dfGroupedByProduct2 = dfIndexedCode.groupby(lambda code: code.split('-')[0])\n",
    "print(dfGroupedByProduct2.mean())\n",
    "print(dfGroupedByProduct2.count())\n",
    "\n",
    "def transformGroup(x):\n",
    "#     print(x, type(x))\n",
    "    filled = x.fillna(x.mean())\n",
    "#     print(filled, type(filled))\n",
    "    return filled\n",
    "transformed = dfGroupedByProduct2.transform(transformGroup)\n",
    "dfGroupedTransformed = transformed.groupby(lambda code: code.split('-')[0])\n",
    "print(dfGroupedTransformed.mean())\n",
    "print(dfGroupedTransformed.count())"
   ]
  },
  {
   "cell_type": "markdown",
   "metadata": {},
   "source": [
    "## Filtering"
   ]
  },
  {
   "cell_type": "code",
   "execution_count": 140,
   "metadata": {
    "collapsed": false
   },
   "outputs": [
    {
     "name": "stdout",
     "output_type": "stream",
     "text": [
      "     Region      Code  Quantiy    Value\n",
      "Team                                   \n",
      "A1        D  D1-96432     56.0  73454.0\n",
      "A1        C  D3-09643    863.0  25447.0\n",
      "A1        D  D2-90858    876.0      NaN\n",
      "inf\n",
      "     Region      Code  Quantiy     Value\n",
      "Team                                    \n",
      "A2        E  D2-09528     45.0   87674.0\n",
      "A2        C  D5-09453     54.0   84673.0\n",
      "A2        D  D2-96532     51.0  472876.0\n",
      "A2        C  D1-63793     84.0  234546.0\n",
      "A2        A  D5-09844    752.0   24753.0\n",
      "inf\n",
      "     Region      Code  Quantiy     Value\n",
      "Team                                    \n",
      "A3        A  D2-63432     45.0  956875.0\n",
      "A3        E  D2-98734    524.0   24536.0\n",
      "A3        B  D2-97435    653.0   53343.0\n",
      "inf\n",
      "     Region      Code  Quantiy    Value\n",
      "Team                                   \n",
      "A4        B  D3-53870     67.0  37567.0\n",
      "inf\n",
      "     Region      Code  Quantiy     Value\n",
      "Team                                    \n",
      "A5        B  D1-09876      NaN  245456.0\n",
      "A5        A  D4-73484   2435.0   34745.0\n",
      "inf\n",
      "     Region      Code  Quantiy     Value\n",
      "Team                                    \n",
      "A6        A  D4-73524    674.0  365145.0\n",
      "inf\n"
     ]
    },
    {
     "data": {
      "text/html": [
       "<div>\n",
       "<table border=\"1\" class=\"dataframe\">\n",
       "  <thead>\n",
       "    <tr style=\"text-align: right;\">\n",
       "      <th></th>\n",
       "      <th>Region</th>\n",
       "      <th>Code</th>\n",
       "      <th>Quantiy</th>\n",
       "      <th>Value</th>\n",
       "    </tr>\n",
       "    <tr>\n",
       "      <th>Team</th>\n",
       "      <th></th>\n",
       "      <th></th>\n",
       "      <th></th>\n",
       "      <th></th>\n",
       "    </tr>\n",
       "  </thead>\n",
       "  <tbody>\n",
       "    <tr>\n",
       "      <th>A1</th>\n",
       "      <td>D</td>\n",
       "      <td>D1-96432</td>\n",
       "      <td>56.0</td>\n",
       "      <td>73454.0</td>\n",
       "    </tr>\n",
       "    <tr>\n",
       "      <th>A2</th>\n",
       "      <td>E</td>\n",
       "      <td>D2-09528</td>\n",
       "      <td>45.0</td>\n",
       "      <td>87674.0</td>\n",
       "    </tr>\n",
       "    <tr>\n",
       "      <th>A1</th>\n",
       "      <td>C</td>\n",
       "      <td>D3-09643</td>\n",
       "      <td>863.0</td>\n",
       "      <td>25447.0</td>\n",
       "    </tr>\n",
       "    <tr>\n",
       "      <th>A3</th>\n",
       "      <td>A</td>\n",
       "      <td>D2-63432</td>\n",
       "      <td>45.0</td>\n",
       "      <td>956875.0</td>\n",
       "    </tr>\n",
       "    <tr>\n",
       "      <th>A5</th>\n",
       "      <td>B</td>\n",
       "      <td>D1-09876</td>\n",
       "      <td>NaN</td>\n",
       "      <td>245456.0</td>\n",
       "    </tr>\n",
       "    <tr>\n",
       "      <th>A6</th>\n",
       "      <td>A</td>\n",
       "      <td>D4-73524</td>\n",
       "      <td>674.0</td>\n",
       "      <td>365145.0</td>\n",
       "    </tr>\n",
       "    <tr>\n",
       "      <th>A2</th>\n",
       "      <td>C</td>\n",
       "      <td>D5-09453</td>\n",
       "      <td>54.0</td>\n",
       "      <td>84673.0</td>\n",
       "    </tr>\n",
       "    <tr>\n",
       "      <th>A1</th>\n",
       "      <td>D</td>\n",
       "      <td>D2-90858</td>\n",
       "      <td>876.0</td>\n",
       "      <td>NaN</td>\n",
       "    </tr>\n",
       "    <tr>\n",
       "      <th>A3</th>\n",
       "      <td>E</td>\n",
       "      <td>D2-98734</td>\n",
       "      <td>524.0</td>\n",
       "      <td>24536.0</td>\n",
       "    </tr>\n",
       "    <tr>\n",
       "      <th>A4</th>\n",
       "      <td>B</td>\n",
       "      <td>D3-53870</td>\n",
       "      <td>67.0</td>\n",
       "      <td>37567.0</td>\n",
       "    </tr>\n",
       "    <tr>\n",
       "      <th>A2</th>\n",
       "      <td>D</td>\n",
       "      <td>D2-96532</td>\n",
       "      <td>51.0</td>\n",
       "      <td>472876.0</td>\n",
       "    </tr>\n",
       "    <tr>\n",
       "      <th>A2</th>\n",
       "      <td>C</td>\n",
       "      <td>D1-63793</td>\n",
       "      <td>84.0</td>\n",
       "      <td>234546.0</td>\n",
       "    </tr>\n",
       "    <tr>\n",
       "      <th>A5</th>\n",
       "      <td>A</td>\n",
       "      <td>D4-73484</td>\n",
       "      <td>2435.0</td>\n",
       "      <td>34745.0</td>\n",
       "    </tr>\n",
       "    <tr>\n",
       "      <th>A2</th>\n",
       "      <td>A</td>\n",
       "      <td>D5-09844</td>\n",
       "      <td>752.0</td>\n",
       "      <td>24753.0</td>\n",
       "    </tr>\n",
       "    <tr>\n",
       "      <th>A3</th>\n",
       "      <td>B</td>\n",
       "      <td>D2-97435</td>\n",
       "      <td>653.0</td>\n",
       "      <td>53343.0</td>\n",
       "    </tr>\n",
       "  </tbody>\n",
       "</table>\n",
       "</div>"
      ],
      "text/plain": [
       "     Region      Code  Quantiy     Value\n",
       "Team                                    \n",
       "A1        D  D1-96432     56.0   73454.0\n",
       "A2        E  D2-09528     45.0   87674.0\n",
       "A1        C  D3-09643    863.0   25447.0\n",
       "A3        A  D2-63432     45.0  956875.0\n",
       "A5        B  D1-09876      NaN  245456.0\n",
       "A6        A  D4-73524    674.0  365145.0\n",
       "A2        C  D5-09453     54.0   84673.0\n",
       "A1        D  D2-90858    876.0       NaN\n",
       "A3        E  D2-98734    524.0   24536.0\n",
       "A4        B  D3-53870     67.0   37567.0\n",
       "A2        D  D2-96532     51.0  472876.0\n",
       "A2        C  D1-63793     84.0  234546.0\n",
       "A5        A  D4-73484   2435.0   34745.0\n",
       "A2        A  D5-09844    752.0   24753.0\n",
       "A3        B  D2-97435    653.0   53343.0"
      ]
     },
     "execution_count": 140,
     "metadata": {},
     "output_type": "execute_result"
    }
   ],
   "source": [
    "def filterQuantity(x):\n",
    "    print(x)\n",
    "    quantity = x.get('Quantity', math.inf)\n",
    "    print(quantity)\n",
    "    return True\n",
    "\n",
    "df.set_index('Team').groupby(level='Team').filter(filterQuantity)"
   ]
  },
  {
   "cell_type": "code",
   "execution_count": null,
   "metadata": {
    "collapsed": true
   },
   "outputs": [],
   "source": []
  }
 ],
 "metadata": {
  "kernelspec": {
   "display_name": "Python 3",
   "language": "python",
   "name": "python3"
  },
  "language_info": {
   "codemirror_mode": {
    "name": "ipython",
    "version": 3
   },
   "file_extension": ".py",
   "mimetype": "text/x-python",
   "name": "python",
   "nbconvert_exporter": "python",
   "pygments_lexer": "ipython3",
   "version": "3.6.0"
  }
 },
 "nbformat": 4,
 "nbformat_minor": 2
}
