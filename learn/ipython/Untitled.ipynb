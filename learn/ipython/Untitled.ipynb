{
 "cells": [
  {
   "cell_type": "code",
   "execution_count": 10,
   "metadata": {
    "collapsed": false
   },
   "outputs": [],
   "source": [
    "import numpy as np\n",
    "import matplotlib.pyplot as plt\n",
    "\n",
    "from IPython.display import display_html\n",
    "# from notebook.html.widgets import FloatSlider\n",
    "from IPython.html.widgets import FloatSlider\n",
    "\n",
    "from functools import wraps"
   ]
  },
  {
   "cell_type": "code",
   "execution_count": 11,
   "metadata": {
    "collapsed": false
   },
   "outputs": [
    {
     "data": {
      "text/html": [
       "<table><tr><td>some</td><td>table</td></tr></table>"
      ]
     },
     "metadata": {},
     "output_type": "display_data"
    },
    {
     "data": {
      "image/png": "[encoded data removed]",
      "text/plain": [
       "<matplotlib.figure.Figure at 0x7f96155b54a8>"
      ]
     },
     "metadata": {},
     "output_type": "display_data"
    }
   ],
   "source": [
    "%matplotlib inline\n",
    "plt.imshow(np.random.rand(20, 20), interpolation='none')\n",
    "display_html('<table><tr><td>some</td><td>table</td></tr></table>', raw=True)\n",
    "FloatSlider(value=70)"
   ]
  },
  {
   "cell_type": "markdown",
   "metadata": {},
   "source": [
    "###### "
   ]
  },
  {
   "cell_type": "code",
   "execution_count": null,
   "metadata": {
    "collapsed": true
   },
   "outputs": [],
   "source": []
  },
  {
   "cell_type": "markdown",
   "metadata": {},
   "source": [
    "# H1\n",
    "\n",
    "# H2\n",
    "\n"
   ]
  },
  {
   "cell_type": "code",
   "execution_count": 4,
   "metadata": {
    "collapsed": false
   },
   "outputs": [
    {
     "name": "stdout",
     "output_type": "stream",
     "text": [
      "positionalArgs: (5, 7, 'hi')\n",
      "keywordArgs: {'a': 9, 'b': 'hello', 'c': 'friend'}\n"
     ]
    }
   ],
   "source": [
    "def my_func(*positionalArgs, **keywordArgs):\n",
    "    print('positionalArgs:', positionalArgs)\n",
    "    print('keywordArgs:', keywordArgs)\n",
    "    \n",
    "my_func(5, 7, 'hi', a=9, b='hello', c='friend')"
   ]
  },
  {
   "cell_type": "code",
   "execution_count": 11,
   "metadata": {
    "collapsed": false
   },
   "outputs": [
    {
     "name": "stdout",
     "output_type": "stream",
     "text": [
      "create_text\n",
      "__main__\n",
      "None\n"
     ]
    }
   ],
   "source": [
    "def div_decorate(func):\n",
    "    @wraps(func)\n",
    "    def wrapper_func(*args, **kwargs):\n",
    "        return \"<div>{0}</div>\".format(func(args, kwargs))\n",
    "    return wrapper_func\n",
    "\n",
    "@div_decorate\n",
    "def create_text(name):\n",
    "    return \"Hello, {0}\".format(name)\n",
    "\n",
    "print(create_text.__name__)\n",
    "print(create_text.__module__)\n",
    "print(create_text.__doc__)\n",
    "# create_text('John')"
   ]
  },
  {
   "cell_type": "code",
   "execution_count": 12,
   "metadata": {
    "collapsed": false
   },
   "outputs": [
    {
     "data": {
      "text/plain": [
       "'/home/fimplus/GitHub/hiencb/Python/learn/ipython'"
      ]
     },
     "execution_count": 12,
     "metadata": {},
     "output_type": "execute_result"
    }
   ],
   "source": [
    "%pwd"
   ]
  },
  {
   "cell_type": "code",
   "execution_count": 14,
   "metadata": {
    "collapsed": false
   },
   "outputs": [
    {
     "name": "stdout",
     "output_type": "stream",
     "text": [
      "--2017-03-31 10:52:51--  https://raw.githubusercontent.com/ipython-books/minibook-2nd-data/master/facebook.zip\n",
      "Resolving raw.githubusercontent.com (raw.githubusercontent.com)... 151.101.100.133\n",
      "Connecting to raw.githubusercontent.com (raw.githubusercontent.com)|151.101.100.133|:443... connected.\n",
      "HTTP request sent, awaiting response... 200 OK\n",
      "Length: 610785 (596K) [application/zip]\n",
      "Saving to: ‘facebook.zip’\n",
      "\n",
      "facebook.zip        100%[===================>] 596,47K  1,82MB/s    in 0,3s    \n",
      "\n",
      "2017-03-31 10:52:52 (1,82 MB/s) - ‘facebook.zip’ saved [610785/610785]\n",
      "\n"
     ]
    }
   ],
   "source": [
    "!wget https://raw.githubusercontent.com/ipython-books/minibook-2nd-data/master/facebook.zip"
   ]
  },
  {
   "cell_type": "code",
   "execution_count": 15,
   "metadata": {
    "collapsed": false
   },
   "outputs": [
    {
     "name": "stdout",
     "output_type": "stream",
     "text": [
      "\u001b[0m\u001b[01;31mfacebook.zip\u001b[0m  \u001b[01;34mGetting Started with IPython\u001b[0m/  Untitled.ipynb\r\n"
     ]
    }
   ],
   "source": [
    "%ls"
   ]
  },
  {
   "cell_type": "code",
   "execution_count": 16,
   "metadata": {
    "collapsed": false
   },
   "outputs": [
    {
     "name": "stdout",
     "output_type": "stream",
     "text": [
      ".ipynb_checkpoints  .\tUntitled.ipynb\r\n",
      "facebook.zip\t    ..\tGetting Started with IPython\r\n"
     ]
    }
   ],
   "source": [
    "!ls -lf"
   ]
  },
  {
   "cell_type": "code",
   "execution_count": 17,
   "metadata": {
    "collapsed": false
   },
   "outputs": [
    {
     "name": "stdout",
     "output_type": "stream",
     "text": [
      "total 620\r\n",
      "-rw-rw-r-- 1 fimplus fimplus 610785 Th03 31 10:52 \u001b[0m\u001b[01;31mfacebook.zip\u001b[0m\r\n",
      "drwxrwxr-x 3 fimplus fimplus   4096 Th03 30 17:31 \u001b[01;34mGetting Started with IPython\u001b[0m/\r\n",
      "-rw-rw-r-- 1 fimplus fimplus  13904 Th03 31 10:54 Untitled.ipynb\r\n"
     ]
    }
   ],
   "source": [
    "%ls -l"
   ]
  },
  {
   "cell_type": "code",
   "execution_count": 18,
   "metadata": {
    "collapsed": false
   },
   "outputs": [
    {
     "name": "stdout",
     "output_type": "stream",
     "text": [
      "total 620\r\n",
      "600 \u001b[0m\u001b[01;31mfacebook.zip\u001b[0m    4 \u001b[01;34mGetting Started with IPython\u001b[0m/   16 Untitled.ipynb\r\n"
     ]
    }
   ],
   "source": [
    "%ls -s"
   ]
  },
  {
   "cell_type": "code",
   "execution_count": 19,
   "metadata": {
    "collapsed": false
   },
   "outputs": [
    {
     "name": "stdout",
     "output_type": "stream",
     "text": [
      "Archive:  facebook.zip\n",
      "  inflating: facebook/0.circles      \n",
      "  inflating: facebook/0.edges        \n",
      "  inflating: facebook/107.circles    \n",
      "  inflating: facebook/107.edges      \n",
      "  inflating: facebook/1684.circles   \n",
      "  inflating: facebook/1684.edges     \n",
      "  inflating: facebook/1912.circles   \n",
      "  inflating: facebook/1912.edges     \n",
      "  inflating: facebook/3437.circles   \n",
      "  inflating: facebook/3437.edges     \n",
      "  inflating: facebook/348.circles    \n",
      "  inflating: facebook/348.edges      \n",
      "  inflating: facebook/3980.circles   \n",
      "  inflating: facebook/3980.edges     \n",
      "  inflating: facebook/414.circles    \n",
      "  inflating: facebook/414.edges      \n",
      "  inflating: facebook/686.circles    \n",
      "  inflating: facebook/686.edges      \n",
      "  inflating: facebook/698.circles    \n",
      "  inflating: facebook/698.edges      \n"
     ]
    }
   ],
   "source": [
    "!unzip facebook.zip"
   ]
  },
  {
   "cell_type": "code",
   "execution_count": 20,
   "metadata": {
    "collapsed": false
   },
   "outputs": [
    {
     "name": "stdout",
     "output_type": "stream",
     "text": [
      "total 624\r\n",
      "  4 \u001b[0m\u001b[01;34mfacebook\u001b[0m/       4 \u001b[01;34mGetting Started with IPython\u001b[0m/\r\n",
      "600 \u001b[01;31mfacebook.zip\u001b[0m   16 Untitled.ipynb\r\n"
     ]
    }
   ],
   "source": [
    "%ls -s"
   ]
  },
  {
   "cell_type": "code",
   "execution_count": 21,
   "metadata": {
    "collapsed": false
   },
   "outputs": [
    {
     "name": "stdout",
     "output_type": "stream",
     "text": [
      "/home/fimplus/GitHub/hiencb/Python/learn/ipython/facebook\n"
     ]
    }
   ],
   "source": [
    "%cd facebook/"
   ]
  },
  {
   "cell_type": "code",
   "execution_count": 22,
   "metadata": {
    "collapsed": false
   },
   "outputs": [
    {
     "name": "stdout",
     "output_type": "stream",
     "text": [
      "total 1676\r\n",
      "  4 0.circles     276 1684.edges      4 348.circles    28 414.edges\r\n",
      " 40 0.edges         8 1912.circles   52 348.edges       4 686.circles\r\n",
      "  4 107.circles   588 1912.edges      4 3980.circles   28 686.edges\r\n",
      "512 107.edges       4 3437.circles    4 3980.edges      4 698.circles\r\n",
      "  4 1684.circles   96 3437.edges      4 414.circles     8 698.edges\r\n"
     ]
    }
   ],
   "source": [
    "%ls -s"
   ]
  },
  {
   "cell_type": "code",
   "execution_count": null,
   "metadata": {
    "collapsed": true
   },
   "outputs": [],
   "source": []
  }
 ],
 "metadata": {
  "kernelspec": {
   "display_name": "Python 3",
   "language": "python",
   "name": "python3"
  },
  "language_info": {
   "codemirror_mode": {
    "name": "ipython",
    "version": 3
   },
   "file_extension": ".py",
   "mimetype": "text/x-python",
   "name": "python",
   "nbconvert_exporter": "python",
   "pygments_lexer": "ipython3",
   "version": "3.6.0"
  }
 },
 "nbformat": 4,
 "nbformat_minor": 2
}
