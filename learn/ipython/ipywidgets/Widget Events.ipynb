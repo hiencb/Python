{
 "cells": [
  {
   "cell_type": "markdown",
   "metadata": {},
   "source": [
    "# [WIDGET EVENTS](https://github.com/jupyter-widgets/ipywidgets/blob/adce7cb43d8c805bace4740fcbb8e58ceb179667/docs/source/examples/Widget%20Events.ipynb)"
   ]
  },
  {
   "cell_type": "markdown",
   "metadata": {},
   "source": [
    "## Special events"
   ]
  },
  {
   "cell_type": "code",
   "execution_count": 1,
   "metadata": {
    "collapsed": true
   },
   "outputs": [],
   "source": [
    "from __future__ import print_function\n",
    "from IPython.display import display\n",
    "import ipywidgets as widgets\n",
    "import traitlets"
   ]
  },
  {
   "cell_type": "markdown",
   "metadata": {},
   "source": [
    "### ``on_click``\n",
    "\n",
    "The ``Button`` is not used to represent a data type. Instead the button widget is used to handle mouse clicks. The ``on_click`` method of the ``Button`` can be used to register function to be called when the button is clicked. "
   ]
  },
  {
   "cell_type": "code",
   "execution_count": 2,
   "metadata": {},
   "outputs": [
    {
     "data": {
      "application/vnd.jupyter.widget-view+json": {
       "model_id": "31b08b5da48b4077bc43e194745bc8cf"
      }
     },
     "metadata": {},
     "output_type": "display_data"
    }
   ],
   "source": [
    "button = widgets.Button(description='Run', button_style='danger', tooltip='Click to run')\n",
    "button.on_click(lambda _: print('Button clicked'))\n",
    "display(button)"
   ]
  },
  {
   "cell_type": "markdown",
   "metadata": {},
   "source": [
    "### ``on_submit``\n",
    "\n",
    "The ``Text`` widget also has a special ``on_submit`` event. The ``on_submit`` event fires when the user hits return."
   ]
  },
  {
   "cell_type": "code",
   "execution_count": 3,
   "metadata": {},
   "outputs": [
    {
     "data": {
      "application/vnd.jupyter.widget-view+json": {
       "model_id": "2eb5b8da03d748678e44c5e95165c9b1"
      }
     },
     "metadata": {},
     "output_type": "display_data"
    }
   ],
   "source": [
    "text = widgets.Text(description='Content', placholder='Type something')\n",
    "text.on_submit(lambda _: print(text.value))\n",
    "display(text)"
   ]
  },
  {
   "cell_type": "markdown",
   "metadata": {},
   "source": [
    "## Trailet events\n",
    "\n",
    "Widget properties are IPython traitlets and traitlets are eventful. To handle changes, the ``observe`` method of the widget can be used to register a callback."
   ]
  },
  {
   "cell_type": "code",
   "execution_count": 4,
   "metadata": {},
   "outputs": [
    {
     "name": "stderr",
     "output_type": "stream",
     "text": [
      "Widget Javascript not detected.  It may not be installed or enabled properly.\n"
     ]
    },
    {
     "data": {
      "application/vnd.jupyter.widget-view+json": {
       "model_id": "e9c9467cb1e74cdba13d6d90d87f2274"
      }
     },
     "metadata": {},
     "output_type": "display_data"
    }
   ],
   "source": [
    "intSlider = widgets.IntSlider(min=4, max=80, step=2, value=8, continuous_update=False)\n",
    "intSlider.observe(lambda change: print(change['new']), names='value')\n",
    "display(intSlider)"
   ]
  },
  {
   "cell_type": "markdown",
   "metadata": {},
   "source": [
    "## Linking Widgets"
   ]
  },
  {
   "cell_type": "markdown",
   "metadata": {},
   "source": [
    "### Linking traitlets attributes in the kernel\n",
    "\n",
    "The first method is to use the ``link`` and ``dlink`` functions from the ``traitlets`` module. This only works if we are interacting with a live kernel."
   ]
  },
  {
   "cell_type": "code",
   "execution_count": 14,
   "metadata": {
    "collapsed": true
   },
   "outputs": [],
   "source": [
    "labelTwoWay = widgets.Label(value='Two-way link')\n",
    "slider1, slider2 = widgets.IntSlider(description='Slider 1'), widgets.IntSlider(description='Slider 2')\n",
    "link = traitlets.link((slider1, 'value'), (slider2, 'value'))\n",
    "display(labelTwoWay, slider1, slider2)"
   ]
  },
  {
   "cell_type": "code",
   "execution_count": 15,
   "metadata": {
    "collapsed": true
   },
   "outputs": [],
   "source": [
    "labelOneWay = widgets.Label(value='One-way link')\n",
    "sliderSrc, sliderTar = widgets.IntSlider(description='Source'), widgets.IntSlider(description='Target')\n",
    "dlink = traitlets.dlink((sliderSrc, 'value'), (sliderTar, 'value'))\n",
    "display(labelOneWay, sliderSrc, sliderTar)"
   ]
  },
  {
   "cell_type": "markdown",
   "metadata": {},
   "source": [
    "Function ``traitlets.link`` and ``traitlets.dlink`` return a ``Link`` or ``DLink`` object. The link can be broken by calling the ``unlink`` method."
   ]
  },
  {
   "cell_type": "code",
   "execution_count": 16,
   "metadata": {
    "collapsed": true
   },
   "outputs": [],
   "source": [
    "link.unlink()\n",
    "dlink.unlink()"
   ]
  },
  {
   "cell_type": "markdown",
   "metadata": {},
   "source": [
    "### Registering callbacks to trait changes in the kernel\n",
    "\n",
    "The handler passed to the decorator will be called with one change argument. The change object at least holds a ``type`` key and a ``name`` key, corresponding respectively to the type of notification and the name of the attribute that triggered the notification.\n",
    "\n",
    "Other keys may be passed depending on the value of ``type``. In the case where type is ``change``, we also have the following keys:\n",
    "* ``owner`` : the HasTraits instance\n",
    "* ``old`` : the old value of the modified trait attribute\n",
    "* ``new`` : the new value of the modified trait attribute\n",
    "* ``name`` : the name of the modified trait attribute."
   ]
  },
  {
   "cell_type": "code",
   "execution_count": 21,
   "metadata": {},
   "outputs": [
    {
     "name": "stdout",
     "output_type": "stream",
     "text": [
      "owner: <ipywidgets.widgets.widget_int.IntSlider object at 0x102f8ed68>, type: change, name: value, old: 46, new: 122\n"
     ]
    }
   ],
   "source": [
    "sliderObserved = widgets.IntSlider(min=-10, max=200, step=4, value=46, description='Value', continuous_update=False)\n",
    "\n",
    "def slider_onchanged(change):\n",
    "    print('owner: {0}, type: {1}, name: {2}, old: {3}, new: {4}'.format(change.owner, change.type, change.name, change.old, change.new))\n",
    "\n",
    "sliderObserved.observe(slider_onchanged, names='value')\n",
    "display(sliderObserved)"
   ]
  },
  {
   "cell_type": "markdown",
   "metadata": {},
   "source": [
    "### Linking widgets attributes from the client side\n",
    "\n",
    "When synchronizing traitlets attributes, you may experience a lag because of the latency due to the roundtrip to the server side. You can also directly link widget attributes in the browser using the link widgets, in either a unidirectional or a bidirectional fashion.\n",
    "\n",
    "Javascript links persist when embedding widgets in html web pages without a kernel."
   ]
  },
  {
   "cell_type": "code",
   "execution_count": 22,
   "metadata": {
    "collapsed": true
   },
   "outputs": [],
   "source": [
    "labelBidirectional = widgets.Label(value='Bidirectional Link')\n",
    "sliderA, sliderB = widgets.FloatSlider(description='Slider A'), widgets.FloatSlider(description='Slider B')\n",
    "jsLink = widgets.jslink((sliderA, 'value'), (sliderB, 'value'))\n",
    "display(labelBidirectional, sliderA, sliderB)"
   ]
  },
  {
   "cell_type": "code",
   "execution_count": 26,
   "metadata": {
    "collapsed": true
   },
   "outputs": [],
   "source": [
    "labelUnidirectional = widgets.Label(value='Unidirectional Link')\n",
    "dropdownFrom = widgets.Dropdown(options=['Avocado', 'Blueberry', 'Coconut', 'Durian'], description='Select fruit:')\n",
    "textTo = widgets.Text(description='Your choice')\n",
    "jsDlink = widgets.jsdlink((dropdownFrom, 'value'), (textTo, 'value'))\n",
    "display(labelUnidirectional, dropdownFrom, textTo)"
   ]
  },
  {
   "cell_type": "markdown",
   "metadata": {},
   "source": [
    "The links can be broken by calling the ``unlink`` method"
   ]
  },
  {
   "cell_type": "code",
   "execution_count": 27,
   "metadata": {
    "collapsed": true
   },
   "outputs": [],
   "source": [
    "jsLink.unlink()\n",
    "jsDlink.unlink()"
   ]
  }
 ],
 "metadata": {
  "kernelspec": {
   "display_name": "Python 3",
   "language": "python",
   "name": "python3"
  },
  "language_info": {
   "codemirror_mode": {
    "name": "ipython",
    "version": 3
   },
   "file_extension": ".py",
   "mimetype": "text/x-python",
   "name": "python",
   "nbconvert_exporter": "python",
   "pygments_lexer": "ipython3",
   "version": "3.5.2"
  },
  "widgets": {
   "state": {
    "720f05aff15b4cc7b4778dcaf4e9b80d": {
     "views": [
      {
       "cell_index": 4
      }
     ]
    },
    "c78bdbe3f40f405f8fede2af4551171e": {
     "views": [
      {
       "cell_index": 6
      }
     ]
    }
   },
   "version": "1.2.0"
  }
 },
 "nbformat": 4,
 "nbformat_minor": 2
}
