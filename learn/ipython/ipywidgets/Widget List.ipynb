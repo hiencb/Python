{
 "cells": [
  {
   "cell_type": "markdown",
   "metadata": {},
   "source": [
    "# [WIDGET LIST](https://github.com/jupyter-widgets/ipywidgets/blob/adce7cb43d8c805bace4740fcbb8e58ceb179667/docs/source/examples/Widget%20List.ipynb)"
   ]
  },
  {
   "cell_type": "code",
   "execution_count": 1,
   "metadata": {
    "collapsed": true
   },
   "outputs": [],
   "source": [
    "import ipywidgets as widgets\n",
    "from IPython.display import display"
   ]
  },
  {
   "cell_type": "markdown",
   "metadata": {},
   "source": [
    "## Complete list\n",
    "\n",
    "For a complete list of the GUI widgets available to you, you can list the registered widget types. ``Widget`` and ``DOMWidget``, not listed below, are base classes."
   ]
  },
  {
   "cell_type": "code",
   "execution_count": 2,
   "metadata": {},
   "outputs": [
    {
     "data": {
      "text/plain": [
       "['Jupyter.Accordion',\n",
       " 'Jupyter.BoundedFloatText',\n",
       " 'Jupyter.BoundedIntText',\n",
       " 'Jupyter.Box',\n",
       " 'Jupyter.Button',\n",
       " 'Jupyter.ButtonStyle',\n",
       " 'Jupyter.Checkbox',\n",
       " 'Jupyter.ColorPicker',\n",
       " 'Jupyter.Controller',\n",
       " 'Jupyter.ControllerAxis',\n",
       " 'Jupyter.ControllerButton',\n",
       " 'Jupyter.DatePicker',\n",
       " 'Jupyter.Dropdown',\n",
       " 'Jupyter.FloatProgress',\n",
       " 'Jupyter.FloatRangeSlider',\n",
       " 'Jupyter.FloatSlider',\n",
       " 'Jupyter.FloatText',\n",
       " 'Jupyter.HBox',\n",
       " 'Jupyter.HTML',\n",
       " 'Jupyter.HTMLMath',\n",
       " 'Jupyter.Image',\n",
       " 'Jupyter.IntProgress',\n",
       " 'Jupyter.IntRangeSlider',\n",
       " 'Jupyter.IntSlider',\n",
       " 'Jupyter.IntText',\n",
       " 'Jupyter.Label',\n",
       " 'Jupyter.Play',\n",
       " 'Jupyter.ProgressStyle',\n",
       " 'Jupyter.RadioButtons',\n",
       " 'Jupyter.Select',\n",
       " 'Jupyter.SelectMultiple',\n",
       " 'Jupyter.SelectionSlider',\n",
       " 'Jupyter.SliderStyle',\n",
       " 'Jupyter.Tab',\n",
       " 'Jupyter.Text',\n",
       " 'Jupyter.Textarea',\n",
       " 'Jupyter.ToggleButton',\n",
       " 'Jupyter.ToggleButtons',\n",
       " 'Jupyter.VBox',\n",
       " 'Jupyter.Valid',\n",
       " 'jupyter.DirectionalLink',\n",
       " 'jupyter.Link']"
      ]
     },
     "execution_count": 2,
     "metadata": {},
     "output_type": "execute_result"
    }
   ],
   "source": [
    "sorted(widgets.Widget.widget_types)"
   ]
  },
  {
   "cell_type": "markdown",
   "metadata": {},
   "source": [
    "## Numeric widgets\n",
    "\n",
    "There are 10 widgets distributed with IPython that are designed to display numeric values."
   ]
  },
  {
   "cell_type": "markdown",
   "metadata": {},
   "source": [
    "### ``IntSlider``"
   ]
  },
  {
   "cell_type": "code",
   "execution_count": 3,
   "metadata": {},
   "outputs": [
    {
     "data": {
      "application/vnd.jupyter.widget-view+json": {
       "model_id": "58d78389418c458e97083e442506655d"
      }
     },
     "metadata": {},
     "output_type": "display_data"
    }
   ],
   "source": [
    "widgets.IntSlider(\n",
    "    value=34,\n",
    "    min=18,\n",
    "    max=60,\n",
    "    step=3,\n",
    "    description='IntSlider',\n",
    "    disabled=False,\n",
    "    continuous_update=False,\n",
    "    orientation='vertical',\n",
    "    readout=True,\n",
    "    readout_format='i',\n",
    "    slider_color='SpringGreen'\n",
    ")"
   ]
  },
  {
   "cell_type": "markdown",
   "metadata": {},
   "source": [
    "### ``FloatSlider``"
   ]
  },
  {
   "cell_type": "code",
   "execution_count": 4,
   "metadata": {},
   "outputs": [
    {
     "data": {
      "application/vnd.jupyter.widget-view+json": {
       "model_id": "3a01000ebf0b4a059e60bdbb823fa9ae"
      }
     },
     "metadata": {},
     "output_type": "display_data"
    }
   ],
   "source": [
    "widgets.FloatSlider(\n",
    "    value=1.8,\n",
    "    min=-7.3,\n",
    "    max=15.4,\n",
    "    step=0.3,\n",
    "    description='FloatSlider',\n",
    "    disabled=False,\n",
    "    continuous_update=True,\n",
    "    orientation='horizontal',\n",
    "    readout=False,\n",
    "    readout_format='.1f',\n",
    "    slider_color='Pink'\n",
    ")"
   ]
  },
  {
   "cell_type": "markdown",
   "metadata": {},
   "source": [
    "### ``IntRangeSlider``"
   ]
  },
  {
   "cell_type": "code",
   "execution_count": 5,
   "metadata": {},
   "outputs": [
    {
     "data": {
      "application/vnd.jupyter.widget-view+json": {
       "model_id": "944498624c794290a5cda2f9652b854d"
      }
     },
     "metadata": {},
     "output_type": "display_data"
    }
   ],
   "source": [
    "widgets.IntRangeSlider(\n",
    "    value=[24, 86],\n",
    "    min=-8,\n",
    "    max=300,\n",
    "    step=4,\n",
    "    description='IntRangeSlider',\n",
    "    disabled=False,\n",
    "    continuous_update=True,\n",
    "    orientation='horizontal',\n",
    "    readout=False,\n",
    "    readout_format='i',\n",
    "    slider_color='Crimson',\n",
    "    color='Lavender'\n",
    ")"
   ]
  },
  {
   "cell_type": "markdown",
   "metadata": {},
   "source": [
    "### ``FloatRangSlider``"
   ]
  },
  {
   "cell_type": "code",
   "execution_count": 6,
   "metadata": {},
   "outputs": [
    {
     "data": {
      "application/vnd.jupyter.widget-view+json": {
       "model_id": "d687dc2e892c401c87f299831ca4471d"
      }
     },
     "metadata": {},
     "output_type": "display_data"
    }
   ],
   "source": [
    "widgets.FloatRangeSlider(\n",
    "    value=[10.35, 23.46],\n",
    "    min=4.02,\n",
    "    max=88.14,\n",
    "    step=0.2,\n",
    "    description='FloatRangeSlider',\n",
    "    disabled=False,\n",
    "    continuous_update=False,\n",
    "    orientation='vertical',\n",
    "    readout=True,\n",
    "    readout_format='.1f',\n",
    "    slider_color='#AABB22',\n",
    "    color='#996688'\n",
    ")"
   ]
  },
  {
   "cell_type": "markdown",
   "metadata": {},
   "source": [
    "### ``IntProgress``"
   ]
  },
  {
   "cell_type": "code",
   "execution_count": 7,
   "metadata": {},
   "outputs": [
    {
     "data": {
      "application/vnd.jupyter.widget-view+json": {
       "model_id": "495f697cc5ff4ffb8915441d6659afa2"
      }
     },
     "metadata": {},
     "output_type": "display_data"
    }
   ],
   "source": [
    "widgets.IntProgress(\n",
    "    value=366,\n",
    "    min=0,\n",
    "    max=1000,\n",
    "    step=4,\n",
    "    description='IntProgress',\n",
    "    bar_style='warning',\n",
    "    orientation='vertical'\n",
    ")"
   ]
  },
  {
   "cell_type": "markdown",
   "metadata": {},
   "source": [
    "### ``FloatProgress``"
   ]
  },
  {
   "cell_type": "code",
   "execution_count": 8,
   "metadata": {},
   "outputs": [
    {
     "data": {
      "application/vnd.jupyter.widget-view+json": {
       "model_id": "cb8ba79f4b484ff8806b601ee19ea8e5"
      }
     },
     "metadata": {},
     "output_type": "display_data"
    }
   ],
   "source": [
    "widgets.FloatProgress(\n",
    "    value=0.745,\n",
    "    min=0,\n",
    "    max=1,\n",
    "    step=0.005,\n",
    "    description='FloatProgress',\n",
    "    bar_style='success',\n",
    "    orientation='horizontal'\n",
    ")"
   ]
  },
  {
   "cell_type": "markdown",
   "metadata": {},
   "source": [
    "### ``BoundedIntText``"
   ]
  },
  {
   "cell_type": "code",
   "execution_count": 9,
   "metadata": {},
   "outputs": [
    {
     "data": {
      "application/vnd.jupyter.widget-view+json": {
       "model_id": "1daedec1836b413792a08c35ffe96ab2"
      }
     },
     "metadata": {},
     "output_type": "display_data"
    }
   ],
   "source": [
    "widgets.BoundedIntText(\n",
    "    value=244,\n",
    "    min=46,\n",
    "    max=366,\n",
    "    step=5,\n",
    "    description='BoundedIntText',\n",
    "    disabled=False,\n",
    "    color='Chocolate'\n",
    ")"
   ]
  },
  {
   "cell_type": "markdown",
   "metadata": {},
   "source": [
    "### ``BoundedFloatText``"
   ]
  },
  {
   "cell_type": "code",
   "execution_count": 10,
   "metadata": {},
   "outputs": [
    {
     "data": {
      "application/vnd.jupyter.widget-view+json": {
       "model_id": "befab059795f453a8cd683f70b0b3a25"
      }
     },
     "metadata": {},
     "output_type": "display_data"
    }
   ],
   "source": [
    "widgets.BoundedIntText(\n",
    "    value=3.89,\n",
    "    min=2.15,\n",
    "    max=6.77,\n",
    "    step=0.45,\n",
    "    description='BoundedFloatText',\n",
    "    disabled=False,\n",
    "    color='DodgerBlue'\n",
    ")"
   ]
  },
  {
   "cell_type": "markdown",
   "metadata": {},
   "source": [
    "### ``IntText``"
   ]
  },
  {
   "cell_type": "code",
   "execution_count": 11,
   "metadata": {},
   "outputs": [
    {
     "data": {
      "application/vnd.jupyter.widget-view+json": {
       "model_id": "cbc0e1b5080d4937995918db1cdbc311"
      }
     },
     "metadata": {},
     "output_type": "display_data"
    }
   ],
   "source": [
    "widgets.IntText(\n",
    "    value=1453,\n",
    "    description='IntText',\n",
    "    disabled=False\n",
    ")"
   ]
  },
  {
   "cell_type": "markdown",
   "metadata": {},
   "source": [
    "### ``FloatText``"
   ]
  },
  {
   "cell_type": "code",
   "execution_count": 12,
   "metadata": {},
   "outputs": [
    {
     "data": {
      "application/vnd.jupyter.widget-view+json": {
       "model_id": "b3573584d47a4bdfa5b1f5f3c4e436ed"
      }
     },
     "metadata": {},
     "output_type": "display_data"
    }
   ],
   "source": [
    "widgets.FloatText(\n",
    "    value=33.78,\n",
    "    description='FloatText',\n",
    "    disabled=False\n",
    ")"
   ]
  },
  {
   "cell_type": "markdown",
   "metadata": {
    "collapsed": true
   },
   "source": [
    "## Boolean widgets\n",
    "\n",
    "There are three widgets that are designed to display a boolean value."
   ]
  },
  {
   "cell_type": "markdown",
   "metadata": {},
   "source": [
    "### ``ToggleButton``"
   ]
  },
  {
   "cell_type": "code",
   "execution_count": 13,
   "metadata": {},
   "outputs": [
    {
     "data": {
      "application/vnd.jupyter.widget-view+json": {
       "model_id": "187b994727ec4025a65c70f2c39b3a40"
      }
     },
     "metadata": {},
     "output_type": "display_data"
    }
   ],
   "source": [
    "widgets.ToggleButton(\n",
    "    value=False,\n",
    "    description='ToggleButton',\n",
    "    disabled=False,\n",
    "    button_style='info',\n",
    "    tooltip='Toggle me',\n",
    "    icon='check'\n",
    ")"
   ]
  },
  {
   "cell_type": "markdown",
   "metadata": {
    "collapsed": true
   },
   "source": [
    "### ``Checkbox``"
   ]
  },
  {
   "cell_type": "code",
   "execution_count": 14,
   "metadata": {},
   "outputs": [
    {
     "data": {
      "application/vnd.jupyter.widget-view+json": {
       "model_id": "e2e20e02b2634f58967b8885dd011ed5"
      }
     },
     "metadata": {},
     "output_type": "display_data"
    }
   ],
   "source": [
    "widgets.Checkbox(\n",
    "    value=True,\n",
    "    description='Checkbox',\n",
    "    disabled=False\n",
    ")"
   ]
  },
  {
   "cell_type": "markdown",
   "metadata": {},
   "source": [
    "### ``Valid``"
   ]
  },
  {
   "cell_type": "code",
   "execution_count": 15,
   "metadata": {},
   "outputs": [
    {
     "data": {
      "application/vnd.jupyter.widget-view+json": {
       "model_id": "e86464cc6192452c8b1e356ec6b85935"
      }
     },
     "metadata": {},
     "output_type": "display_data"
    },
    {
     "data": {
      "application/vnd.jupyter.widget-view+json": {
       "model_id": "dcc3ff5e770847cab5a56173a8832207"
      }
     },
     "metadata": {},
     "output_type": "display_data"
    }
   ],
   "source": [
    "valid = widgets.Valid(\n",
    "    value=True,\n",
    "    description='Valid',\n",
    "    disabled=False\n",
    ")\n",
    "\n",
    "invalid = widgets.Valid(\n",
    "    value=False,\n",
    "    description='Invalid',\n",
    "    disabled=False\n",
    ")\n",
    "\n",
    "display(valid, invalid)"
   ]
  },
  {
   "cell_type": "markdown",
   "metadata": {},
   "source": [
    "## Selection widgets\n",
    "\n",
    "There are five widgets that can be used to display single selection lists, and one that can be used to display multiple selection lists. All inherit from the same base class. You can specify the **enumeration of selectable options by passing a list**. You can also specify the **enumeration as a dictionary**, in which case **the keys will be used as the item displayed** in the list and **the corresponding value will be returned** when an item is selected."
   ]
  },
  {
   "cell_type": "markdown",
   "metadata": {},
   "source": [
    "### ``Dropdown``"
   ]
  },
  {
   "cell_type": "code",
   "execution_count": 16,
   "metadata": {},
   "outputs": [
    {
     "data": {
      "application/vnd.jupyter.widget-view+json": {
       "model_id": "b15c36c64e5e47419341404c629bf8c6"
      }
     },
     "metadata": {},
     "output_type": "display_data"
    }
   ],
   "source": [
    "widgets.Dropdown(\n",
    "    options=['A', 'B', 'C', 'D', 'E'],\n",
    "    value='D',\n",
    "    description='Dropdown',\n",
    "    disabled=False,\n",
    "    button_style='success'\n",
    ")"
   ]
  },
  {
   "cell_type": "markdown",
   "metadata": {},
   "source": [
    "### ``RadioButtons``"
   ]
  },
  {
   "cell_type": "code",
   "execution_count": 17,
   "metadata": {},
   "outputs": [
    {
     "data": {
      "application/vnd.jupyter.widget-view+json": {
       "model_id": "ca6a27b3e4624525b907759ae46b8a0a"
      }
     },
     "metadata": {},
     "output_type": "display_data"
    }
   ],
   "source": [
    "widgets.RadioButtons(\n",
    "    options={'alpha': 34, 'beta': 93, 'gamma': 12},\n",
    "    value=93,\n",
    "    description='RadioButtons',\n",
    "    disabled=False\n",
    ")"
   ]
  },
  {
   "cell_type": "markdown",
   "metadata": {},
   "source": [
    "### ``Select``"
   ]
  },
  {
   "cell_type": "code",
   "execution_count": 18,
   "metadata": {},
   "outputs": [
    {
     "data": {
      "application/vnd.jupyter.widget-view+json": {
       "model_id": "71f8e5d073e542f298adb6dc6db493b5"
      }
     },
     "metadata": {},
     "output_type": "display_data"
    }
   ],
   "source": [
    "widgets.Select(\n",
    "    options=['Red', 'Yello', 'Green', 'Cyan', 'Blue', 'Magenta'],\n",
    "    value='Blue',\n",
    "    description='Select',\n",
    "    disabled=False\n",
    ")"
   ]
  },
  {
   "cell_type": "markdown",
   "metadata": {},
   "source": [
    "### ``SelectionSlider``"
   ]
  },
  {
   "cell_type": "code",
   "execution_count": 19,
   "metadata": {},
   "outputs": [
    {
     "data": {
      "application/vnd.jupyter.widget-view+json": {
       "model_id": "5c9c172106a44ca7aa9bf806e7de235f"
      }
     },
     "metadata": {},
     "output_type": "display_data"
    }
   ],
   "source": [
    "widgets.SelectionSlider(\n",
    "    options={'USA': 1, 'Canada': 2, 'England': 3, 'France': 4, 'Italy': 5, 'Germany': 6},\n",
    "    value=2,\n",
    "    description='SelectionSlider',\n",
    "    disabled=False,\n",
    "    continuous_update=False,\n",
    "    orientation='vertical',\n",
    "    readout=True,\n",
    "    readout_format='i',\n",
    "    slider_color='Orange'\n",
    ")"
   ]
  },
  {
   "cell_type": "markdown",
   "metadata": {},
   "source": [
    "### ``ToggleButtons``"
   ]
  },
  {
   "cell_type": "code",
   "execution_count": 20,
   "metadata": {},
   "outputs": [
    {
     "data": {
      "application/vnd.jupyter.widget-view+json": {
       "model_id": "f434268828524437b7f8439101d27996"
      }
     },
     "metadata": {},
     "output_type": "display_data"
    }
   ],
   "source": [
    "widgets.ToggleButtons(\n",
    "    options=['Mouse', 'Keyboard', 'CPU', 'RAM', 'Hard Drive', 'Webcam'],\n",
    "    description='ToggleButtons',\n",
    "    disabled=False,\n",
    "    button_style='warning',\n",
    "    tooltip='Choose what you want',\n",
    "    icon='check'\n",
    ")"
   ]
  },
  {
   "cell_type": "markdown",
   "metadata": {},
   "source": [
    "### ``SelectMultiple``\n",
    "\n",
    "Multiple values can be selected with ``shift`` and/or ``ctrl`` (or command) pressed and mouse clicks or arrow keys."
   ]
  },
  {
   "cell_type": "code",
   "execution_count": 21,
   "metadata": {},
   "outputs": [
    {
     "data": {
      "application/vnd.jupyter.widget-view+json": {
       "model_id": "a3e21df55e80475a93538f048b2b3e1b"
      }
     },
     "metadata": {},
     "output_type": "display_data"
    }
   ],
   "source": [
    "widgets.SelectMultiple(\n",
    "    options={'Dolphin': 453, 'Whale': 848, 'Seal': 239, 'Shark': 721, 'Ray': 583},\n",
    "    value=[848, 721],\n",
    "    description='SelectMultiple',\n",
    "    disabled=False\n",
    ")"
   ]
  },
  {
   "cell_type": "markdown",
   "metadata": {},
   "source": [
    "## String widgets\n",
    "\n",
    "There are 4 widgets that can be used to display a string value. Of those, the ``Text`` and ``Textarea`` widgets accept input. The ``Label`` and ``HTML`` widgets display the string as either Label or HTML respectively, but do not accept input."
   ]
  },
  {
   "cell_type": "markdown",
   "metadata": {},
   "source": [
    "### ``Text``"
   ]
  },
  {
   "cell_type": "code",
   "execution_count": 22,
   "metadata": {},
   "outputs": [
    {
     "data": {
      "application/vnd.jupyter.widget-view+json": {
       "model_id": "a1bb9b3c149e4b4c81cde20bbf8ca912"
      }
     },
     "metadata": {},
     "output_type": "display_data"
    }
   ],
   "source": [
    "widgets.Text(\n",
    "    value='I LOVE YOU',\n",
    "    placeholder='Type something',\n",
    "    description='Text',\n",
    "    disabled=False\n",
    ")"
   ]
  },
  {
   "cell_type": "markdown",
   "metadata": {},
   "source": [
    "### ``Textarea``"
   ]
  },
  {
   "cell_type": "code",
   "execution_count": 23,
   "metadata": {},
   "outputs": [
    {
     "data": {
      "application/vnd.jupyter.widget-view+json": {
       "model_id": "0acb62572e1a49aaa9c8a0b8a1adf6f4"
      }
     },
     "metadata": {},
     "output_type": "display_data"
    }
   ],
   "source": [
    "widgets.Textarea(\n",
    "    value='I LOVE MYSELF',\n",
    "    placeholder='Type something',\n",
    "    description='Textarea',\n",
    "    disabled=False\n",
    ")"
   ]
  },
  {
   "cell_type": "markdown",
   "metadata": {},
   "source": [
    "### ``Label``"
   ]
  },
  {
   "cell_type": "code",
   "execution_count": 24,
   "metadata": {},
   "outputs": [
    {
     "data": {
      "application/vnd.jupyter.widget-view+json": {
       "model_id": "a64e1370b6864f2d951c84527ebb1e5a"
      }
     },
     "metadata": {},
     "output_type": "display_data"
    }
   ],
   "source": [
    "widgets.Label(\n",
    "    value='$$E = \\\\frac{mc^2}{\\\\sqrt{1-\\\\frac{v^2}{c^2}}}$$',\n",
    "    placeholder='Some LaTeX',\n",
    "    description='Label',\n",
    "    disabled=False\n",
    ")"
   ]
  },
  {
   "cell_type": "markdown",
   "metadata": {},
   "source": [
    "### ``HTML``"
   ]
  },
  {
   "cell_type": "code",
   "execution_count": 25,
   "metadata": {},
   "outputs": [
    {
     "data": {
      "application/vnd.jupyter.widget-view+json": {
       "model_id": "86561cdebb4e4a29b15c18579d2f57fb"
      }
     },
     "metadata": {},
     "output_type": "display_data"
    }
   ],
   "source": [
    "widgets.HTML(\n",
    "    value='<strong>ABC <small>abc</small></strong>',\n",
    "    placeholder='Some HTML',\n",
    "    description='HTML',\n",
    "    disabled=False\n",
    ")"
   ]
  },
  {
   "cell_type": "markdown",
   "metadata": {},
   "source": [
    "### ``HTMLMath``"
   ]
  },
  {
   "cell_type": "code",
   "execution_count": 26,
   "metadata": {},
   "outputs": [
    {
     "data": {
      "application/vnd.jupyter.widget-view+json": {
       "model_id": "63178c603032424184f00aba7938ea8c"
      }
     },
     "metadata": {},
     "output_type": "display_data"
    }
   ],
   "source": [
    "widgets.HTMLMath(\n",
    "    value=r'Some math and <i>HTML</i>: $x^2$ and $$\\frac{x+1}{x-1}$$',\n",
    "    placeholder='Some HTML',\n",
    "    description='HTMLMath',\n",
    "    disabled=False\n",
    ")"
   ]
  },
  {
   "cell_type": "markdown",
   "metadata": {},
   "source": [
    "## ``Image``"
   ]
  },
  {
   "cell_type": "code",
   "execution_count": 27,
   "metadata": {},
   "outputs": [
    {
     "data": {
      "application/vnd.jupyter.widget-view+json": {
       "model_id": "62739fedb2bc40e7b089f4eb179ce6de"
      }
     },
     "metadata": {},
     "output_type": "display_data"
    }
   ],
   "source": [
    "file = open('python.jpg', 'rb')\n",
    "image = file.read()\n",
    "widgets.Image(\n",
    "    value=image,\n",
    "    format='jpeg',\n",
    "    width=340,\n",
    "    height=230\n",
    ")"
   ]
  },
  {
   "cell_type": "markdown",
   "metadata": {},
   "source": [
    "## ``Button``"
   ]
  },
  {
   "cell_type": "code",
   "execution_count": 28,
   "metadata": {},
   "outputs": [
    {
     "data": {
      "application/vnd.jupyter.widget-view+json": {
       "model_id": "505a516cff5d404aabfa76b9281b3bb8"
      }
     },
     "metadata": {},
     "output_type": "display_data"
    }
   ],
   "source": [
    "widgets.Button(\n",
    "    description='Execute',\n",
    "    disabled=False,\n",
    "    button_style='danger',\n",
    "    tooltip='Click to execute',\n",
    "    icon='check'\n",
    ")"
   ]
  },
  {
   "cell_type": "markdown",
   "metadata": {},
   "source": [
    "## Play (Animation) widget\n",
    "\n",
    "The ``Play`` widget is useful to perform animations by iterating on a sequence of integers with a certain speed."
   ]
  },
  {
   "cell_type": "code",
   "execution_count": 29,
   "metadata": {},
   "outputs": [
    {
     "data": {
      "application/vnd.jupyter.widget-view+json": {
       "model_id": "f5211013159145159f4f141756baa6b0"
      }
     },
     "metadata": {},
     "output_type": "display_data"
    }
   ],
   "source": [
    "play = widgets.Play(\n",
    "    interval=100,\n",
    "    value=36,\n",
    "    min=-128,\n",
    "    max=248,\n",
    "    step=4,\n",
    "    description='Play',\n",
    "    disabled=False\n",
    ")\n",
    "\n",
    "slider = widgets.IntSlider(\n",
    "    min=-128,\n",
    "    max=248\n",
    ")\n",
    "\n",
    "widgets.jslink((play, 'value'), (slider, 'value'))\n",
    "widgets.VBox([play, slider])"
   ]
  },
  {
   "cell_type": "markdown",
   "metadata": {},
   "source": [
    "## ``DatePicker``"
   ]
  },
  {
   "cell_type": "code",
   "execution_count": 30,
   "metadata": {},
   "outputs": [
    {
     "data": {
      "application/vnd.jupyter.widget-view+json": {
       "model_id": "9703019c8e35401c9eb87eb31a0bbf78"
      }
     },
     "metadata": {},
     "output_type": "display_data"
    }
   ],
   "source": [
    "widgets.DatePicker(description='DatePicker')"
   ]
  },
  {
   "cell_type": "markdown",
   "metadata": {
    "collapsed": true
   },
   "source": [
    "## ``ColorPicker``"
   ]
  },
  {
   "cell_type": "code",
   "execution_count": 31,
   "metadata": {},
   "outputs": [
    {
     "data": {
      "application/vnd.jupyter.widget-view+json": {
       "model_id": "51519d6f2bf649deb34327959fdbc0bd"
      }
     },
     "metadata": {},
     "output_type": "display_data"
    }
   ],
   "source": [
    "widgets.ColorPicker(\n",
    "    concise=False,\n",
    "    description='ColorPicker',\n",
    "    value='OrangeRed'\n",
    ")"
   ]
  },
  {
   "cell_type": "markdown",
   "metadata": {},
   "source": [
    "## ``Controller``"
   ]
  },
  {
   "cell_type": "code",
   "execution_count": 32,
   "metadata": {},
   "outputs": [
    {
     "data": {
      "application/vnd.jupyter.widget-view+json": {
       "model_id": "fc054e210d34440eac42c79a1915987b"
      }
     },
     "metadata": {},
     "output_type": "display_data"
    }
   ],
   "source": [
    "widgets.Controller(index=0)"
   ]
  },
  {
   "cell_type": "markdown",
   "metadata": {},
   "source": [
    "## Layout widgets"
   ]
  },
  {
   "cell_type": "markdown",
   "metadata": {},
   "source": [
    "### Box"
   ]
  },
  {
   "cell_type": "markdown",
   "metadata": {},
   "source": [
    "#### ``HBox``"
   ]
  },
  {
   "cell_type": "code",
   "execution_count": 33,
   "metadata": {},
   "outputs": [
    {
     "data": {
      "application/vnd.jupyter.widget-view+json": {
       "model_id": "aa794d5396f844df8ccb5664f0392ff9"
      }
     },
     "metadata": {},
     "output_type": "display_data"
    }
   ],
   "source": [
    "widgets.HBox([widgets.Label('AAA'), widgets.Label('BBB'), widgets.Label('CCC')])"
   ]
  },
  {
   "cell_type": "markdown",
   "metadata": {},
   "source": [
    "#### ``VBox``"
   ]
  },
  {
   "cell_type": "code",
   "execution_count": 34,
   "metadata": {},
   "outputs": [
    {
     "data": {
      "application/vnd.jupyter.widget-view+json": {
       "model_id": "27ea8bedb28645bd844fb7b964ab1ba5"
      }
     },
     "metadata": {},
     "output_type": "display_data"
    }
   ],
   "source": [
    "widgets.VBox([\n",
    "    widgets.HBox([widgets.Label('11'), widgets.Label('12'), widgets.Label('13')]),\n",
    "    widgets.HBox([widgets.Label('21'), widgets.Label('22'), widgets.Label('23')]),\n",
    "    widgets.HBox([widgets.Label('31'), widgets.Label('32'), widgets.Label('33')])\n",
    "])"
   ]
  },
  {
   "cell_type": "markdown",
   "metadata": {},
   "source": [
    "#### ``Accordion``"
   ]
  },
  {
   "cell_type": "code",
   "execution_count": 35,
   "metadata": {},
   "outputs": [
    {
     "data": {
      "application/vnd.jupyter.widget-view+json": {
       "model_id": "4163e1448d194cbb8e4a6a4d7dba3090"
      }
     },
     "metadata": {},
     "output_type": "display_data"
    }
   ],
   "source": [
    "accordion = widgets.Accordion(children=[widgets.IntSlider(), widgets.FloatSlider()])\n",
    "accordion.set_title(0, 'IntSlider')\n",
    "accordion.set_title(1, 'FloatSlider')\n",
    "accordion"
   ]
  },
  {
   "cell_type": "markdown",
   "metadata": {},
   "source": [
    "#### ``Tabs``"
   ]
  },
  {
   "cell_type": "code",
   "execution_count": 36,
   "metadata": {},
   "outputs": [
    {
     "data": {
      "application/vnd.jupyter.widget-view+json": {
       "model_id": "7bc0f5e8c6ac4ba18bcc52ffd1ad6bf9"
      }
     },
     "metadata": {},
     "output_type": "display_data"
    }
   ],
   "source": [
    "tab = widgets.Tab(children=[\n",
    "    widgets.Text(description='Text 1'),\n",
    "    widgets.Text(description='Text 2'),\n",
    "    widgets.Text(description='Text 3')\n",
    "])\n",
    "\n",
    "tab.set_title(0, 'Tab 1')\n",
    "tab.set_title(1, 'Tab 2')\n",
    "tab.set_title(2, 'Tab 3')\n",
    "\n",
    "tab"
   ]
  },
  {
   "cell_type": "code",
   "execution_count": null,
   "metadata": {
    "collapsed": true
   },
   "outputs": [],
   "source": []
  }
 ],
 "metadata": {
  "kernelspec": {
   "display_name": "Python 3",
   "language": "python",
   "name": "python3"
  },
  "language_info": {
   "codemirror_mode": {
    "name": "ipython",
    "version": 3
   },
   "file_extension": ".py",
   "mimetype": "text/x-python",
   "name": "python",
   "nbconvert_exporter": "python",
   "pygments_lexer": "ipython3",
   "version": "3.5.2"
  }
 },
 "nbformat": 4,
 "nbformat_minor": 2
}
