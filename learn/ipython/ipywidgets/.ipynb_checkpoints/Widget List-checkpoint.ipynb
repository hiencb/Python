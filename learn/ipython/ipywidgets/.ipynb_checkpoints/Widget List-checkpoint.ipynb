{
 "cells": [
  {
   "cell_type": "markdown",
   "metadata": {},
   "source": [
    "# WIDGET LIST"
   ]
  },
  {
   "cell_type": "code",
   "execution_count": 63,
   "metadata": {
    "collapsed": true
   },
   "outputs": [],
   "source": [
    "import ipywidgets as widgets\n",
    "from IPython.display import display"
   ]
  },
  {
   "cell_type": "markdown",
   "metadata": {},
   "source": [
    "## Complete list\n",
    "\n",
    "For a complete list of the GUI widgets available to you, you can list the registered widget types. ``Widget`` and ``DOMWidget``, not listed below, are base classes."
   ]
  },
  {
   "cell_type": "code",
   "execution_count": 64,
   "metadata": {
    "collapsed": false
   },
   "outputs": [
    {
     "data": {
      "text/plain": [
       "['Jupyter.Accordion',\n",
       " 'Jupyter.BoundedFloatText',\n",
       " 'Jupyter.BoundedIntText',\n",
       " 'Jupyter.Box',\n",
       " 'Jupyter.Button',\n",
       " 'Jupyter.Checkbox',\n",
       " 'Jupyter.ColorPicker',\n",
       " 'Jupyter.Controller',\n",
       " 'Jupyter.ControllerAxis',\n",
       " 'Jupyter.ControllerButton',\n",
       " 'Jupyter.Dropdown',\n",
       " 'Jupyter.FlexBox',\n",
       " 'Jupyter.FloatProgress',\n",
       " 'Jupyter.FloatRangeSlider',\n",
       " 'Jupyter.FloatSlider',\n",
       " 'Jupyter.FloatText',\n",
       " 'Jupyter.HTML',\n",
       " 'Jupyter.Image',\n",
       " 'Jupyter.IntProgress',\n",
       " 'Jupyter.IntRangeSlider',\n",
       " 'Jupyter.IntSlider',\n",
       " 'Jupyter.IntText',\n",
       " 'Jupyter.Label',\n",
       " 'Jupyter.PlaceProxy',\n",
       " 'Jupyter.Play',\n",
       " 'Jupyter.Proxy',\n",
       " 'Jupyter.RadioButtons',\n",
       " 'Jupyter.Select',\n",
       " 'Jupyter.SelectMultiple',\n",
       " 'Jupyter.SelectionSlider',\n",
       " 'Jupyter.Tab',\n",
       " 'Jupyter.Text',\n",
       " 'Jupyter.Textarea',\n",
       " 'Jupyter.ToggleButton',\n",
       " 'Jupyter.ToggleButtons',\n",
       " 'Jupyter.Valid',\n",
       " 'jupyter.DirectionalLink',\n",
       " 'jupyter.Link']"
      ]
     },
     "execution_count": 64,
     "metadata": {},
     "output_type": "execute_result"
    }
   ],
   "source": [
    "sorted(widgets.Widget.widget_types)"
   ]
  },
  {
   "cell_type": "markdown",
   "metadata": {},
   "source": [
    "## Numeric widgets\n",
    "\n",
    "There are 10 widgets distributed with IPython that are designed to display numeric values."
   ]
  },
  {
   "cell_type": "markdown",
   "metadata": {},
   "source": [
    "### ``IntSlider``"
   ]
  },
  {
   "cell_type": "code",
   "execution_count": 4,
   "metadata": {
    "collapsed": false
   },
   "outputs": [],
   "source": [
    "widgets.IntSlider(\n",
    "    value=34,\n",
    "    min=18,\n",
    "    max=60,\n",
    "    step=3,\n",
    "    description='IntSlider',\n",
    "    disabled=False,\n",
    "    continuous_update=False,\n",
    "    orientation='vertical',\n",
    "    readout=True,\n",
    "    readout_format='i',\n",
    "    slider_color='SpringGreen'\n",
    ")"
   ]
  },
  {
   "cell_type": "markdown",
   "metadata": {},
   "source": [
    "### ``FloatSlider``"
   ]
  },
  {
   "cell_type": "code",
   "execution_count": 9,
   "metadata": {
    "collapsed": false
   },
   "outputs": [],
   "source": [
    "widgets.FloatSlider(\n",
    "    value=1.8,\n",
    "    min=-7.3,\n",
    "    max=15.4,\n",
    "    step=0.3,\n",
    "    description='FloatSlider',\n",
    "    disabled=False,\n",
    "    continuous_update=True,\n",
    "    orientation='horizontal',\n",
    "    readout=False,\n",
    "    readout_format='.lf',\n",
    "    slider_color='SandyBrown'\n",
    ")"
   ]
  },
  {
   "cell_type": "markdown",
   "metadata": {},
   "source": [
    "### ``IntRangeSlider``"
   ]
  },
  {
   "cell_type": "code",
   "execution_count": 29,
   "metadata": {
    "collapsed": true
   },
   "outputs": [],
   "source": [
    "widgets.IntRangeSlider(\n",
    "    value=[24, 86],\n",
    "    min=-8,\n",
    "    max=300,\n",
    "    step=4,\n",
    "    description='IntRangeSlider',\n",
    "    disabled=False,\n",
    "    continuous_update=True,\n",
    "    orientation='horizontal',\n",
    "    readout=False,\n",
    "    readout_format='i',\n",
    "    slider_color='Crimson',\n",
    "    color='Lavender'\n",
    ")"
   ]
  },
  {
   "cell_type": "markdown",
   "metadata": {},
   "source": [
    "### ``FloatRangSlider``"
   ]
  },
  {
   "cell_type": "code",
   "execution_count": 13,
   "metadata": {
    "collapsed": true
   },
   "outputs": [],
   "source": [
    "widgets.FloatRangeSlider(\n",
    "    value=[10.35, 23.46],\n",
    "    min=4.02,\n",
    "    max=88.14,\n",
    "    step=0.2,\n",
    "    description='FloatRangeSlider',\n",
    "    disabled=False,\n",
    "    continuous_update=False,\n",
    "    orientation='vertical',\n",
    "    readout=True,\n",
    "    readout_format='.lf',\n",
    "    slider_color='#AABB22',\n",
    "    color='#996688'\n",
    ")"
   ]
  },
  {
   "cell_type": "markdown",
   "metadata": {},
   "source": [
    "### ``IntProgress``"
   ]
  },
  {
   "cell_type": "code",
   "execution_count": 14,
   "metadata": {
    "collapsed": true
   },
   "outputs": [],
   "source": [
    "widgets.IntProgress(\n",
    "    value=366,\n",
    "    min=0,\n",
    "    max=1000,\n",
    "    step=4,\n",
    "    description='IntProgress',\n",
    "    bar_style='warning',\n",
    "    orientation='vertical'\n",
    ")"
   ]
  },
  {
   "cell_type": "markdown",
   "metadata": {},
   "source": [
    "### ``FloatProgress``"
   ]
  },
  {
   "cell_type": "code",
   "execution_count": 15,
   "metadata": {
    "collapsed": true
   },
   "outputs": [],
   "source": [
    "widgets.FloatProgress(\n",
    "    value=0.745,\n",
    "    min=0,\n",
    "    max=1,\n",
    "    step=0.005,\n",
    "    description='FloatProgress',\n",
    "    bar_style='success',\n",
    "    orientation='horizontal'\n",
    ")"
   ]
  },
  {
   "cell_type": "markdown",
   "metadata": {},
   "source": [
    "### ``BoundedIntText``"
   ]
  },
  {
   "cell_type": "code",
   "execution_count": 18,
   "metadata": {
    "collapsed": true
   },
   "outputs": [],
   "source": [
    "widgets.BoundedIntText(\n",
    "    value=244,\n",
    "    min=46,\n",
    "    max=366,\n",
    "    step=5,\n",
    "    description='BoundedIntText',\n",
    "    disabled=False,\n",
    "    color='Chocolate'\n",
    ")"
   ]
  },
  {
   "cell_type": "markdown",
   "metadata": {},
   "source": [
    "### ``BoundedFloatText``"
   ]
  },
  {
   "cell_type": "code",
   "execution_count": 19,
   "metadata": {
    "collapsed": true
   },
   "outputs": [],
   "source": [
    "widgets.BoundedIntText(\n",
    "    value=3.89,\n",
    "    min=2.15,\n",
    "    max=6.77,\n",
    "    step=0.45,\n",
    "    description='BoundedFloatText',\n",
    "    disabled=False,\n",
    "    color='DodgerBlue'\n",
    ")"
   ]
  },
  {
   "cell_type": "markdown",
   "metadata": {},
   "source": [
    "### ``IntText``"
   ]
  },
  {
   "cell_type": "code",
   "execution_count": 20,
   "metadata": {
    "collapsed": true
   },
   "outputs": [],
   "source": [
    "widgets.IntText(\n",
    "    value=1453,\n",
    "    description='IntText',\n",
    "    disabled=False\n",
    ")"
   ]
  },
  {
   "cell_type": "markdown",
   "metadata": {},
   "source": [
    "### ``FloatText``"
   ]
  },
  {
   "cell_type": "code",
   "execution_count": 21,
   "metadata": {
    "collapsed": true
   },
   "outputs": [],
   "source": [
    "widgets.FloatText(\n",
    "    value=33.78,\n",
    "    description='FloatText',\n",
    "    disabled=False\n",
    ")"
   ]
  },
  {
   "cell_type": "markdown",
   "metadata": {
    "collapsed": true
   },
   "source": [
    "## Boolean widgets\n",
    "\n",
    "There are three widgets that are designed to display a boolean value."
   ]
  },
  {
   "cell_type": "markdown",
   "metadata": {},
   "source": [
    "### ``ToggleButton``"
   ]
  },
  {
   "cell_type": "code",
   "execution_count": 9,
   "metadata": {
    "collapsed": true
   },
   "outputs": [],
   "source": [
    "widgets.ToggleButton(\n",
    "    value=False,\n",
    "    description='ToggleButton',\n",
    "    disabled=False,\n",
    "    button_style='info',\n",
    "    tooltip='Toggle me',\n",
    "    icon='check'\n",
    ")"
   ]
  },
  {
   "cell_type": "markdown",
   "metadata": {
    "collapsed": true
   },
   "source": [
    "### ``Checkbox``"
   ]
  },
  {
   "cell_type": "code",
   "execution_count": 10,
   "metadata": {
    "collapsed": true
   },
   "outputs": [],
   "source": [
    "widgets.Checkbox(\n",
    "    value=True,\n",
    "    description='Checkbox',\n",
    "    disabled=False\n",
    ")"
   ]
  },
  {
   "cell_type": "markdown",
   "metadata": {},
   "source": [
    "### ``Valid``"
   ]
  },
  {
   "cell_type": "code",
   "execution_count": 24,
   "metadata": {
    "collapsed": true
   },
   "outputs": [],
   "source": [
    "valid = widgets.Valid(\n",
    "    value=True,\n",
    "    description='Valid',\n",
    "    disabled=False\n",
    ")\n",
    "\n",
    "invalid = widgets.Valid(\n",
    "    value=False,\n",
    "    description='Invalid',\n",
    "    disabled=False\n",
    ")\n",
    "\n",
    "display(valid, invalid)"
   ]
  },
  {
   "cell_type": "markdown",
   "metadata": {},
   "source": [
    "## Selection widgets\n",
    "\n",
    "There are five widgets that can be used to display single selection lists, and one that can be used to display multiple selection lists. All inherit from the same base class. You can specify the **enumeration of selectable options by passing a list**. You can also specify the **enumeration as a dictionary**, in which case **the keys will be used as the item displayed** in the list and **the corresponding value will be returned** when an item is selected."
   ]
  },
  {
   "cell_type": "markdown",
   "metadata": {},
   "source": [
    "### ``Dropdown``"
   ]
  },
  {
   "cell_type": "code",
   "execution_count": 21,
   "metadata": {
    "collapsed": false
   },
   "outputs": [],
   "source": [
    "widgets.Dropdown(\n",
    "    options=['A', 'B', 'C', 'D', 'E'],\n",
    "    value='D',\n",
    "    description='Dropdown',\n",
    "    disabled=False,\n",
    "    button_style='success'\n",
    ")"
   ]
  },
  {
   "cell_type": "markdown",
   "metadata": {},
   "source": [
    "### ``RadioButtons``"
   ]
  },
  {
   "cell_type": "code",
   "execution_count": 22,
   "metadata": {
    "collapsed": true
   },
   "outputs": [],
   "source": [
    "widgets.RadioButtons(\n",
    "    options={'alpha': 34, 'beta': 93, 'gamma': 12},\n",
    "    value=93,\n",
    "    description='RadioButtons',\n",
    "    disabled=False\n",
    ")"
   ]
  },
  {
   "cell_type": "markdown",
   "metadata": {},
   "source": [
    "### ``Select``"
   ]
  },
  {
   "cell_type": "code",
   "execution_count": 25,
   "metadata": {
    "collapsed": true
   },
   "outputs": [],
   "source": [
    "widgets.Select(\n",
    "    options=['Red', 'Yello', 'Green', 'Cyan', 'Blue', 'Magenta'],\n",
    "    value='Blue',\n",
    "    description='Select',\n",
    "    disabled=False\n",
    ")"
   ]
  },
  {
   "cell_type": "markdown",
   "metadata": {},
   "source": [
    "### ``SelectionSlider``"
   ]
  },
  {
   "cell_type": "code",
   "execution_count": 31,
   "metadata": {
    "collapsed": false
   },
   "outputs": [],
   "source": [
    "widgets.SelectionSlider(\n",
    "    options={'USA': 1, 'Canada': 2, 'England': 3, 'France': 4, 'Italy': 5, 'Germany': 6},\n",
    "    value=2,\n",
    "    description='SelectionSlider',\n",
    "    disabled=False,\n",
    "    continuous_update=False,\n",
    "    orientation='vertical',\n",
    "    readout=True,\n",
    "    readout_format='i',\n",
    "    slider_color='Orange'\n",
    ")"
   ]
  },
  {
   "cell_type": "markdown",
   "metadata": {},
   "source": [
    "### ``ToggleButtons``"
   ]
  },
  {
   "cell_type": "code",
   "execution_count": 36,
   "metadata": {
    "collapsed": true
   },
   "outputs": [],
   "source": [
    "widgets.ToggleButtons(\n",
    "    options=['Mouse', 'Keyboard', 'CPU', 'RAM', 'Hard Drive', 'Webcam'],\n",
    "    description='ToggleButtons',\n",
    "    disabled=False,\n",
    "    button_style='warning',\n",
    "    tooltip='Choose what you want',\n",
    "    icon='check'\n",
    ")"
   ]
  },
  {
   "cell_type": "markdown",
   "metadata": {},
   "source": [
    "### ``SelectMultiple``\n",
    "\n",
    "Multiple values can be selected with ``shift`` and/or ``ctrl`` (or command) pressed and mouse clicks or arrow keys."
   ]
  },
  {
   "cell_type": "code",
   "execution_count": 35,
   "metadata": {
    "collapsed": false
   },
   "outputs": [],
   "source": [
    "widgets.SelectMultiple(\n",
    "    options={'Dolphin': 453, 'Whale': 848, 'Seal': 239, 'Shark': 721, 'Ray': 583},\n",
    "    value=[848, 721],\n",
    "    description='SelectMultiple',\n",
    "    disabled=False\n",
    ")"
   ]
  },
  {
   "cell_type": "markdown",
   "metadata": {},
   "source": [
    "## String widgets\n",
    "\n",
    "There are 4 widgets that can be used to display a string value. Of those, the ``Text`` and ``Textarea`` widgets accept input. The ``Label`` and ``HTML`` widgets display the string as either Label or HTML respectively, but do not accept input."
   ]
  },
  {
   "cell_type": "markdown",
   "metadata": {},
   "source": [
    "### ``Text``"
   ]
  },
  {
   "cell_type": "code",
   "execution_count": 37,
   "metadata": {
    "collapsed": true
   },
   "outputs": [],
   "source": [
    "widgets.Text(\n",
    "    value='I LOVE YOU',\n",
    "    placeholder='Type something',\n",
    "    description='Text',\n",
    "    disabled=False\n",
    ")"
   ]
  },
  {
   "cell_type": "markdown",
   "metadata": {},
   "source": [
    "### ``Textarea``"
   ]
  },
  {
   "cell_type": "code",
   "execution_count": 38,
   "metadata": {
    "collapsed": true
   },
   "outputs": [],
   "source": [
    "widgets.Textarea(\n",
    "    value='I LOVE MYSELF',\n",
    "    placeholder='Type something',\n",
    "    description='Textarea',\n",
    "    disabled=False\n",
    ")"
   ]
  },
  {
   "cell_type": "markdown",
   "metadata": {},
   "source": [
    "### ``Label``"
   ]
  },
  {
   "cell_type": "code",
   "execution_count": 49,
   "metadata": {
    "collapsed": true
   },
   "outputs": [],
   "source": [
    "widgets.Label(\n",
    "    value='$$E = \\\\frac{mc^2}{\\\\sqrt{1-\\\\frac{v^2}{c^2}}}$$',\n",
    "    placeholder='Some LaTeX',\n",
    "    description='Label',\n",
    "    disabled=False\n",
    ")"
   ]
  },
  {
   "cell_type": "markdown",
   "metadata": {},
   "source": [
    "### ``HTML``"
   ]
  },
  {
   "cell_type": "code",
   "execution_count": 50,
   "metadata": {
    "collapsed": true
   },
   "outputs": [],
   "source": [
    "widgets.HTML(\n",
    "    value='<strong>ABC <small>abc</small></strong>',\n",
    "    placeholder='Some HTML',\n",
    "    description='HTML',\n",
    "    disabled=False\n",
    ")"
   ]
  },
  {
   "cell_type": "markdown",
   "metadata": {},
   "source": [
    "## ``Image``"
   ]
  },
  {
   "cell_type": "code",
   "execution_count": 53,
   "metadata": {
    "collapsed": false
   },
   "outputs": [],
   "source": [
    "file = open('python.jpg', 'rb')\n",
    "image = file.read()\n",
    "widgets.Image(\n",
    "    value=image,\n",
    "    format='jpeg',\n",
    "    width=340,\n",
    "    height=230\n",
    ")"
   ]
  },
  {
   "cell_type": "markdown",
   "metadata": {},
   "source": [
    "## ``Button``"
   ]
  },
  {
   "cell_type": "code",
   "execution_count": 55,
   "metadata": {
    "collapsed": true
   },
   "outputs": [],
   "source": [
    "widgets.Button(\n",
    "    description='Execute',\n",
    "    disabled=False,\n",
    "    button_style='danger',\n",
    "    tooltip='Click to execute',\n",
    "    icon='check'\n",
    ")"
   ]
  },
  {
   "cell_type": "markdown",
   "metadata": {},
   "source": [
    "## Play (Animation) widget\n",
    "\n",
    "The ``Play`` widget is useful to perform animations by iterating on a sequence of integers with a certain speed."
   ]
  },
  {
   "cell_type": "code",
   "execution_count": 59,
   "metadata": {
    "collapsed": true
   },
   "outputs": [],
   "source": [
    "play = widgets.Play(\n",
    "    interval=100,\n",
    "    value=36,\n",
    "    min=-128,\n",
    "    max=248,\n",
    "    step=4,\n",
    "    description='Play',\n",
    "    disabled=False\n",
    ")\n",
    "\n",
    "slider = widgets.IntSlider(\n",
    "    min=-128,\n",
    "    max=248\n",
    ")\n",
    "\n",
    "widgets.jslink((play, 'value'), (slider, 'value'))\n",
    "widgets.VBox([play, slider])"
   ]
  },
  {
   "cell_type": "markdown",
   "metadata": {},
   "source": [
    "## ``DatePicker``"
   ]
  },
  {
   "cell_type": "code",
   "execution_count": 60,
   "metadata": {
    "collapsed": false
   },
   "outputs": [
    {
     "ename": "AttributeError",
     "evalue": "module 'ipywidgets' has no attribute 'DatePicker'",
     "output_type": "error",
     "traceback": [
      "\u001b[0;31m---------------------------------------------------------------------------\u001b[0m",
      "\u001b[0;31mAttributeError\u001b[0m                            Traceback (most recent call last)",
      "\u001b[0;32m<ipython-input-60-b5f18d959b9f>\u001b[0m in \u001b[0;36m<module>\u001b[0;34m()\u001b[0m\n\u001b[0;32m----> 1\u001b[0;31m \u001b[0mwidgets\u001b[0m\u001b[0;34m.\u001b[0m\u001b[0mDatePicker\u001b[0m\u001b[0;34m(\u001b[0m\u001b[0mdescription\u001b[0m\u001b[0;34m=\u001b[0m\u001b[0;34m'DatePicker'\u001b[0m\u001b[0;34m)\u001b[0m\u001b[0;34m\u001b[0m\u001b[0m\n\u001b[0m",
      "\u001b[0;31mAttributeError\u001b[0m: module 'ipywidgets' has no attribute 'DatePicker'"
     ]
    }
   ],
   "source": [
    "widgets.DatePicker(description='DatePicker')"
   ]
  },
  {
   "cell_type": "code",
   "execution_count": null,
   "metadata": {
    "collapsed": true
   },
   "outputs": [],
   "source": []
  }
 ],
 "metadata": {
  "kernelspec": {
   "display_name": "Python 3",
   "language": "python",
   "name": "python3"
  },
  "language_info": {
   "codemirror_mode": {
    "name": "ipython",
    "version": 3
   },
   "file_extension": ".py",
   "mimetype": "text/x-python",
   "name": "python",
   "nbconvert_exporter": "python",
   "pygments_lexer": "ipython3",
   "version": "3.6.0"
  },
  "widgets": {
   "state": {
    "0a07691ca51a4d28b789d02ab089de12": {
     "views": [
      {
       "cell_index": 57
      }
     ]
    },
    "11d8571490104c7c83539da418a943cd": {
     "views": [
      {
       "cell_index": 29
      }
     ]
    },
    "18aaaf0f9a38489eab843261709a0f19": {
     "views": [
      {
       "cell_index": 59
      }
     ]
    },
    "214f8af79ab54b139e9b3ac8cab04fdc": {
     "views": [
      {
       "cell_index": 34
      }
     ]
    },
    "2fa63e9f42ae412bb0cdca05ad912a31": {
     "views": [
      {
       "cell_index": 53
      }
     ]
    },
    "329d0bc4dbf54ef2b2bd04d2a19163c3": {
     "views": [
      {
       "cell_index": 40
      }
     ]
    },
    "3c120ad5825b4d7791b91516ccba434b": {
     "views": [
      {
       "cell_index": 36
      }
     ]
    },
    "52b1c88d643c4b81ba097e822d85dc3a": {
     "views": [
      {
       "cell_index": 27
      }
     ]
    },
    "55422c45edd2499084301468e4cd841a": {
     "views": [
      {
       "cell_index": 31
      }
     ]
    },
    "5b0d903f5f2c48a690f74219bb23d651": {
     "views": [
      {
       "cell_index": 38
      }
     ]
    },
    "5c3853cd1aec40ceb11ff811582be76a": {
     "views": [
      {
       "cell_index": 49
      }
     ]
    },
    "7c097e1e906c4803904c8d6d35c7d9c5": {
     "views": [
      {
       "cell_index": 44
      }
     ]
    },
    "7c32bd4a0408409bbafc4dda7deb1ccd": {
     "views": [
      {
       "cell_index": 55
      }
     ]
    },
    "a0796954c77b4a1082e32a859c8515ac": {
     "views": [
      {
       "cell_index": 42
      }
     ]
    },
    "aeef5ace21d74a239ee83c71cad40504": {
     "views": [
      {
       "cell_index": 31
      }
     ]
    },
    "cadfbe76a48a4bdb9d8cbf055a90f51f": {
     "views": [
      {
       "cell_index": 31
      }
     ]
    },
    "d580db494ed84e00a9dcf89fa146d0e9": {
     "views": [
      {
       "cell_index": 6
      }
     ]
    },
    "d8c930ea719143c487df9a700e4d687a": {
     "views": [
      {
       "cell_index": 31
      }
     ]
    },
    "ed591c63f81744aca4b9cda8de663bde": {
     "views": [
      {
       "cell_index": 31
      }
     ]
    },
    "ee2e92b4ba78495787d77fec9076a57f": {
     "views": [
      {
       "cell_index": 47
      }
     ]
    },
    "ff7f5eb5165b4c7db24ef26229b16477": {
     "views": [
      {
       "cell_index": 51
      }
     ]
    },
    "ffc5521be75040bf80e1b7c81a8feea9": {
     "views": [
      {
       "cell_index": 10
      }
     ]
    }
   },
   "version": "1.2.0"
  }
 },
 "nbformat": 4,
 "nbformat_minor": 2
}
