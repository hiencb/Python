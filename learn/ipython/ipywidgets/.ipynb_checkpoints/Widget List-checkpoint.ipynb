{
 "cells": [
  {
   "cell_type": "markdown",
   "metadata": {
    "deletable": true,
    "editable": true
   },
   "source": [
    "# [WIDGET LIST](https://github.com/jupyter-widgets/ipywidgets/blob/adce7cb43d8c805bace4740fcbb8e58ceb179667/docs/source/examples/Widget%20List.ipynb)"
   ]
  },
  {
   "cell_type": "code",
   "execution_count": 1,
   "metadata": {
    "collapsed": true,
    "deletable": true,
    "editable": true
   },
   "outputs": [],
   "source": [
    "import ipywidgets as widgets\n",
    "from IPython.display import display"
   ]
  },
  {
   "cell_type": "markdown",
   "metadata": {
    "deletable": true,
    "editable": true
   },
   "source": [
    "## Complete list\n",
    "\n",
    "For a complete list of the GUI widgets available to you, you can list the registered widget types. ``Widget`` and ``DOMWidget``, not listed below, are base classes."
   ]
  },
  {
   "cell_type": "code",
   "execution_count": 2,
   "metadata": {
    "collapsed": false,
    "deletable": true,
    "editable": true
   },
   "outputs": [
    {
     "data": {
      "text/plain": [
       "['Jupyter.Accordion',\n",
       " 'Jupyter.BoundedFloatText',\n",
       " 'Jupyter.BoundedIntText',\n",
       " 'Jupyter.Box',\n",
       " 'Jupyter.Button',\n",
       " 'Jupyter.ButtonStyle',\n",
       " 'Jupyter.Checkbox',\n",
       " 'Jupyter.ColorPicker',\n",
       " 'Jupyter.Controller',\n",
       " 'Jupyter.ControllerAxis',\n",
       " 'Jupyter.ControllerButton',\n",
       " 'Jupyter.DatePicker',\n",
       " 'Jupyter.Dropdown',\n",
       " 'Jupyter.FloatProgress',\n",
       " 'Jupyter.FloatRangeSlider',\n",
       " 'Jupyter.FloatSlider',\n",
       " 'Jupyter.FloatText',\n",
       " 'Jupyter.HBox',\n",
       " 'Jupyter.HTML',\n",
       " 'Jupyter.HTMLMath',\n",
       " 'Jupyter.Image',\n",
       " 'Jupyter.IntProgress',\n",
       " 'Jupyter.IntRangeSlider',\n",
       " 'Jupyter.IntSlider',\n",
       " 'Jupyter.IntText',\n",
       " 'Jupyter.Label',\n",
       " 'Jupyter.Play',\n",
       " 'Jupyter.ProgressStyle',\n",
       " 'Jupyter.RadioButtons',\n",
       " 'Jupyter.Select',\n",
       " 'Jupyter.SelectMultiple',\n",
       " 'Jupyter.SelectionSlider',\n",
       " 'Jupyter.SliderStyle',\n",
       " 'Jupyter.Tab',\n",
       " 'Jupyter.Text',\n",
       " 'Jupyter.Textarea',\n",
       " 'Jupyter.ToggleButton',\n",
       " 'Jupyter.ToggleButtons',\n",
       " 'Jupyter.VBox',\n",
       " 'Jupyter.Valid',\n",
       " 'jupyter.DirectionalLink',\n",
       " 'jupyter.Link']"
      ]
     },
     "execution_count": 2,
     "metadata": {},
     "output_type": "execute_result"
    }
   ],
   "source": [
    "sorted(widgets.Widget.widget_types)"
   ]
  },
  {
   "cell_type": "markdown",
   "metadata": {
    "deletable": true,
    "editable": true
   },
   "source": [
    "## Numeric widgets\n",
    "\n",
    "There are 10 widgets distributed with IPython that are designed to display numeric values."
   ]
  },
  {
   "cell_type": "markdown",
   "metadata": {
    "deletable": true,
    "editable": true
   },
   "source": [
    "### ``IntSlider``"
   ]
  },
  {
   "cell_type": "code",
   "execution_count": 3,
   "metadata": {
    "collapsed": false,
    "deletable": true,
    "editable": true
   },
   "outputs": [
    {
     "data": {
      "application/vnd.jupyter.widget-view+json": {
       "model_id": "d5d2c68725224751b49f898016637bce"
      }
     },
     "metadata": {},
     "output_type": "display_data"
    }
   ],
   "source": [
    "widgets.IntSlider(\n",
    "    value=34,\n",
    "    min=18,\n",
    "    max=60,\n",
    "    step=3,\n",
    "    description='IntSlider',\n",
    "    disabled=False,\n",
    "    continuous_update=False,\n",
    "    orientation='vertical',\n",
    "    readout=True,\n",
    "    readout_format='i',\n",
    "    slider_color='SpringGreen'\n",
    ")"
   ]
  },
  {
   "cell_type": "markdown",
   "metadata": {
    "deletable": true,
    "editable": true
   },
   "source": [
    "### ``FloatSlider``"
   ]
  },
  {
   "cell_type": "code",
   "execution_count": 4,
   "metadata": {
    "collapsed": false,
    "deletable": true,
    "editable": true
   },
   "outputs": [
    {
     "data": {
      "application/vnd.jupyter.widget-view+json": {
       "model_id": "2280c504291f42fca163240e6ba26639"
      }
     },
     "metadata": {},
     "output_type": "display_data"
    }
   ],
   "source": [
    "widgets.FloatSlider(\n",
    "    value=1.8,\n",
    "    min=-7.3,\n",
    "    max=15.4,\n",
    "    step=0.3,\n",
    "    description='FloatSlider',\n",
    "    disabled=False,\n",
    "    continuous_update=True,\n",
    "    orientation='horizontal',\n",
    "    readout=False,\n",
    "    readout_format='.1f',\n",
    "    slider_color='Pink'\n",
    ")"
   ]
  },
  {
   "cell_type": "markdown",
   "metadata": {
    "deletable": true,
    "editable": true
   },
   "source": [
    "### ``IntRangeSlider``"
   ]
  },
  {
   "cell_type": "code",
   "execution_count": 5,
   "metadata": {
    "collapsed": false,
    "deletable": true,
    "editable": true
   },
   "outputs": [
    {
     "data": {
      "application/vnd.jupyter.widget-view+json": {
       "model_id": "33657ee48d1b43dfaa35f48e20fd263d"
      }
     },
     "metadata": {},
     "output_type": "display_data"
    }
   ],
   "source": [
    "widgets.IntRangeSlider(\n",
    "    value=[24, 86],\n",
    "    min=-8,\n",
    "    max=300,\n",
    "    step=4,\n",
    "    description='IntRangeSlider',\n",
    "    disabled=False,\n",
    "    continuous_update=True,\n",
    "    orientation='horizontal',\n",
    "    readout=False,\n",
    "    readout_format='i',\n",
    "    slider_color='Crimson',\n",
    "    color='Lavender'\n",
    ")"
   ]
  },
  {
   "cell_type": "markdown",
   "metadata": {
    "deletable": true,
    "editable": true
   },
   "source": [
    "### ``FloatRangSlider``"
   ]
  },
  {
   "cell_type": "code",
   "execution_count": 6,
   "metadata": {
    "collapsed": false,
    "deletable": true,
    "editable": true
   },
   "outputs": [
    {
     "data": {
      "application/vnd.jupyter.widget-view+json": {
       "model_id": "f5bf00b0ac5e467ba7c560432195e45d"
      }
     },
     "metadata": {},
     "output_type": "display_data"
    }
   ],
   "source": [
    "widgets.FloatRangeSlider(\n",
    "    value=[10.35, 23.46],\n",
    "    min=4.02,\n",
    "    max=88.14,\n",
    "    step=0.2,\n",
    "    description='FloatRangeSlider',\n",
    "    disabled=False,\n",
    "    continuous_update=False,\n",
    "    orientation='vertical',\n",
    "    readout=True,\n",
    "    readout_format='.1f',\n",
    "    slider_color='#AABB22',\n",
    "    color='#996688'\n",
    ")"
   ]
  },
  {
   "cell_type": "markdown",
   "metadata": {
    "deletable": true,
    "editable": true
   },
   "source": [
    "### ``IntProgress``"
   ]
  },
  {
   "cell_type": "code",
   "execution_count": 7,
   "metadata": {
    "collapsed": false,
    "deletable": true,
    "editable": true
   },
   "outputs": [
    {
     "data": {
      "application/vnd.jupyter.widget-view+json": {
       "model_id": "49e60f1e72044506b861ac5b203eb605"
      }
     },
     "metadata": {},
     "output_type": "display_data"
    }
   ],
   "source": [
    "widgets.IntProgress(\n",
    "    value=366,\n",
    "    min=0,\n",
    "    max=1000,\n",
    "    step=4,\n",
    "    description='IntProgress',\n",
    "    bar_style='warning',\n",
    "    orientation='vertical'\n",
    ")"
   ]
  },
  {
   "cell_type": "markdown",
   "metadata": {
    "deletable": true,
    "editable": true
   },
   "source": [
    "### ``FloatProgress``"
   ]
  },
  {
   "cell_type": "code",
   "execution_count": 8,
   "metadata": {
    "collapsed": false,
    "deletable": true,
    "editable": true
   },
   "outputs": [
    {
     "data": {
      "application/vnd.jupyter.widget-view+json": {
       "model_id": "05261626d05b49cb933bb42d1e2e072b"
      }
     },
     "metadata": {},
     "output_type": "display_data"
    }
   ],
   "source": [
    "widgets.FloatProgress(\n",
    "    value=0.745,\n",
    "    min=0,\n",
    "    max=1,\n",
    "    step=0.005,\n",
    "    description='FloatProgress',\n",
    "    bar_style='success',\n",
    "    orientation='horizontal'\n",
    ")"
   ]
  },
  {
   "cell_type": "markdown",
   "metadata": {
    "deletable": true,
    "editable": true
   },
   "source": [
    "### ``BoundedIntText``"
   ]
  },
  {
   "cell_type": "code",
   "execution_count": 9,
   "metadata": {
    "collapsed": false,
    "deletable": true,
    "editable": true
   },
   "outputs": [
    {
     "data": {
      "application/vnd.jupyter.widget-view+json": {
       "model_id": "dc2101551bed4378b1bff6975fd5436e"
      }
     },
     "metadata": {},
     "output_type": "display_data"
    }
   ],
   "source": [
    "widgets.BoundedIntText(\n",
    "    value=244,\n",
    "    min=46,\n",
    "    max=366,\n",
    "    step=5,\n",
    "    description='BoundedIntText',\n",
    "    disabled=False,\n",
    "    color='Chocolate'\n",
    ")"
   ]
  },
  {
   "cell_type": "markdown",
   "metadata": {
    "deletable": true,
    "editable": true
   },
   "source": [
    "### ``BoundedFloatText``"
   ]
  },
  {
   "cell_type": "code",
   "execution_count": 10,
   "metadata": {
    "collapsed": false,
    "deletable": true,
    "editable": true
   },
   "outputs": [
    {
     "data": {
      "application/vnd.jupyter.widget-view+json": {
       "model_id": "f1b10472ebcd48268b01962345f8fb75"
      }
     },
     "metadata": {},
     "output_type": "display_data"
    }
   ],
   "source": [
    "widgets.BoundedIntText(\n",
    "    value=3.89,\n",
    "    min=2.15,\n",
    "    max=6.77,\n",
    "    step=0.45,\n",
    "    description='BoundedFloatText',\n",
    "    disabled=False,\n",
    "    color='DodgerBlue'\n",
    ")"
   ]
  },
  {
   "cell_type": "markdown",
   "metadata": {
    "deletable": true,
    "editable": true
   },
   "source": [
    "### ``IntText``"
   ]
  },
  {
   "cell_type": "code",
   "execution_count": 11,
   "metadata": {
    "collapsed": false,
    "deletable": true,
    "editable": true
   },
   "outputs": [
    {
     "data": {
      "application/vnd.jupyter.widget-view+json": {
       "model_id": "319488d45ddd42679d1c723e87a5880d"
      }
     },
     "metadata": {},
     "output_type": "display_data"
    }
   ],
   "source": [
    "widgets.IntText(\n",
    "    value=1453,\n",
    "    description='IntText',\n",
    "    disabled=False\n",
    ")"
   ]
  },
  {
   "cell_type": "markdown",
   "metadata": {
    "deletable": true,
    "editable": true
   },
   "source": [
    "### ``FloatText``"
   ]
  },
  {
   "cell_type": "code",
   "execution_count": 12,
   "metadata": {
    "collapsed": false,
    "deletable": true,
    "editable": true
   },
   "outputs": [
    {
     "data": {
      "application/vnd.jupyter.widget-view+json": {
       "model_id": "a0ddc675ed7b4a0687af348e41a7a581"
      }
     },
     "metadata": {},
     "output_type": "display_data"
    }
   ],
   "source": [
    "widgets.FloatText(\n",
    "    value=33.78,\n",
    "    description='FloatText',\n",
    "    disabled=False\n",
    ")"
   ]
  },
  {
   "cell_type": "markdown",
   "metadata": {
    "collapsed": true,
    "deletable": true,
    "editable": true
   },
   "source": [
    "## Boolean widgets\n",
    "\n",
    "There are three widgets that are designed to display a boolean value."
   ]
  },
  {
   "cell_type": "markdown",
   "metadata": {
    "deletable": true,
    "editable": true
   },
   "source": [
    "### ``ToggleButton``"
   ]
  },
  {
   "cell_type": "code",
   "execution_count": 13,
   "metadata": {
    "collapsed": false,
    "deletable": true,
    "editable": true
   },
   "outputs": [
    {
     "data": {
      "application/vnd.jupyter.widget-view+json": {
       "model_id": "253a81d1a5d7439aa680c2e7924cd4cd"
      }
     },
     "metadata": {},
     "output_type": "display_data"
    }
   ],
   "source": [
    "widgets.ToggleButton(\n",
    "    value=False,\n",
    "    description='ToggleButton',\n",
    "    disabled=False,\n",
    "    button_style='info',\n",
    "    tooltip='Toggle me',\n",
    "    icon='check'\n",
    ")"
   ]
  },
  {
   "cell_type": "markdown",
   "metadata": {
    "collapsed": true,
    "deletable": true,
    "editable": true
   },
   "source": [
    "### ``Checkbox``"
   ]
  },
  {
   "cell_type": "code",
   "execution_count": 14,
   "metadata": {
    "collapsed": false,
    "deletable": true,
    "editable": true
   },
   "outputs": [
    {
     "data": {
      "application/vnd.jupyter.widget-view+json": {
       "model_id": "0b61a14226724a27b513a223fb8412c2"
      }
     },
     "metadata": {},
     "output_type": "display_data"
    }
   ],
   "source": [
    "widgets.Checkbox(\n",
    "    value=True,\n",
    "    description='Checkbox',\n",
    "    disabled=False\n",
    ")"
   ]
  },
  {
   "cell_type": "markdown",
   "metadata": {
    "deletable": true,
    "editable": true
   },
   "source": [
    "### ``Valid``"
   ]
  },
  {
   "cell_type": "code",
   "execution_count": 15,
   "metadata": {
    "collapsed": false,
    "deletable": true,
    "editable": true
   },
   "outputs": [
    {
     "data": {
      "application/vnd.jupyter.widget-view+json": {
       "model_id": "f3a3cb5e984f4538841582e976ba0185"
      }
     },
     "metadata": {},
     "output_type": "display_data"
    },
    {
     "data": {
      "application/vnd.jupyter.widget-view+json": {
       "model_id": "1c26563488c8403c8ebe94c47daa8acc"
      }
     },
     "metadata": {},
     "output_type": "display_data"
    }
   ],
   "source": [
    "valid = widgets.Valid(\n",
    "    value=True,\n",
    "    description='Valid',\n",
    "    disabled=False\n",
    ")\n",
    "\n",
    "invalid = widgets.Valid(\n",
    "    value=False,\n",
    "    description='Invalid',\n",
    "    disabled=False\n",
    ")\n",
    "\n",
    "display(valid, invalid)"
   ]
  },
  {
   "cell_type": "markdown",
   "metadata": {
    "deletable": true,
    "editable": true
   },
   "source": [
    "## Selection widgets\n",
    "\n",
    "There are five widgets that can be used to display single selection lists, and one that can be used to display multiple selection lists. All inherit from the same base class. You can specify the **enumeration of selectable options by passing a list**. You can also specify the **enumeration as a dictionary**, in which case **the keys will be used as the item displayed** in the list and **the corresponding value will be returned** when an item is selected."
   ]
  },
  {
   "cell_type": "markdown",
   "metadata": {
    "deletable": true,
    "editable": true
   },
   "source": [
    "### ``Dropdown``"
   ]
  },
  {
   "cell_type": "code",
   "execution_count": 16,
   "metadata": {
    "collapsed": false,
    "deletable": true,
    "editable": true
   },
   "outputs": [
    {
     "data": {
      "application/vnd.jupyter.widget-view+json": {
       "model_id": "e9c272d5c0bd4a52bc7f16c9cdd36dff"
      }
     },
     "metadata": {},
     "output_type": "display_data"
    }
   ],
   "source": [
    "widgets.Dropdown(\n",
    "    options=['A', 'B', 'C', 'D', 'E'],\n",
    "    value='D',\n",
    "    description='Dropdown',\n",
    "    disabled=False,\n",
    "    button_style='success'\n",
    ")"
   ]
  },
  {
   "cell_type": "markdown",
   "metadata": {
    "deletable": true,
    "editable": true
   },
   "source": [
    "### ``RadioButtons``"
   ]
  },
  {
   "cell_type": "code",
   "execution_count": 17,
   "metadata": {
    "collapsed": false,
    "deletable": true,
    "editable": true
   },
   "outputs": [
    {
     "data": {
      "application/vnd.jupyter.widget-view+json": {
       "model_id": "54223fa89ba049e185be4b3afa654456"
      }
     },
     "metadata": {},
     "output_type": "display_data"
    }
   ],
   "source": [
    "widgets.RadioButtons(\n",
    "    options={'alpha': 34, 'beta': 93, 'gamma': 12},\n",
    "    value=93,\n",
    "    description='RadioButtons',\n",
    "    disabled=False\n",
    ")"
   ]
  },
  {
   "cell_type": "markdown",
   "metadata": {
    "deletable": true,
    "editable": true
   },
   "source": [
    "### ``Select``"
   ]
  },
  {
   "cell_type": "code",
   "execution_count": 18,
   "metadata": {
    "collapsed": false,
    "deletable": true,
    "editable": true
   },
   "outputs": [
    {
     "data": {
      "application/vnd.jupyter.widget-view+json": {
       "model_id": "c4e10cc576b049989c76187463a4659c"
      }
     },
     "metadata": {},
     "output_type": "display_data"
    }
   ],
   "source": [
    "widgets.Select(\n",
    "    options=['Red', 'Yello', 'Green', 'Cyan', 'Blue', 'Magenta'],\n",
    "    value='Blue',\n",
    "    description='Select',\n",
    "    disabled=False\n",
    ")"
   ]
  },
  {
   "cell_type": "markdown",
   "metadata": {
    "deletable": true,
    "editable": true
   },
   "source": [
    "### ``SelectionSlider``"
   ]
  },
  {
   "cell_type": "code",
   "execution_count": 19,
   "metadata": {
    "collapsed": false,
    "deletable": true,
    "editable": true
   },
   "outputs": [
    {
     "data": {
      "application/vnd.jupyter.widget-view+json": {
       "model_id": "17aefc9fd47b4ec9a39673b47dfa471c"
      }
     },
     "metadata": {},
     "output_type": "display_data"
    }
   ],
   "source": [
    "widgets.SelectionSlider(\n",
    "    options={'USA': 1, 'Canada': 2, 'England': 3, 'France': 4, 'Italy': 5, 'Germany': 6},\n",
    "    value=2,\n",
    "    description='SelectionSlider',\n",
    "    disabled=False,\n",
    "    continuous_update=False,\n",
    "    orientation='vertical',\n",
    "    readout=True,\n",
    "    readout_format='i',\n",
    "    slider_color='Orange'\n",
    ")"
   ]
  },
  {
   "cell_type": "markdown",
   "metadata": {
    "deletable": true,
    "editable": true
   },
   "source": [
    "### ``ToggleButtons``"
   ]
  },
  {
   "cell_type": "code",
   "execution_count": 20,
   "metadata": {
    "collapsed": false,
    "deletable": true,
    "editable": true
   },
   "outputs": [
    {
     "data": {
      "application/vnd.jupyter.widget-view+json": {
       "model_id": "a2c5978a711a4ece8451b47b27341ad2"
      }
     },
     "metadata": {},
     "output_type": "display_data"
    }
   ],
   "source": [
    "widgets.ToggleButtons(\n",
    "    options=['Mouse', 'Keyboard', 'CPU', 'RAM', 'Hard Drive', 'Webcam'],\n",
    "    description='ToggleButtons',\n",
    "    disabled=False,\n",
    "    button_style='warning',\n",
    "    tooltip='Choose what you want',\n",
    "    icon='check'\n",
    ")"
   ]
  },
  {
   "cell_type": "markdown",
   "metadata": {
    "deletable": true,
    "editable": true
   },
   "source": [
    "### ``SelectMultiple``\n",
    "\n",
    "Multiple values can be selected with ``shift`` and/or ``ctrl`` (or command) pressed and mouse clicks or arrow keys."
   ]
  },
  {
   "cell_type": "code",
   "execution_count": 21,
   "metadata": {
    "collapsed": false,
    "deletable": true,
    "editable": true
   },
   "outputs": [
    {
     "data": {
      "application/vnd.jupyter.widget-view+json": {
       "model_id": "3a4ba9b8bdde484daa3d504087b07761"
      }
     },
     "metadata": {},
     "output_type": "display_data"
    }
   ],
   "source": [
    "widgets.SelectMultiple(\n",
    "    options={'Dolphin': 453, 'Whale': 848, 'Seal': 239, 'Shark': 721, 'Ray': 583},\n",
    "    value=[848, 721],\n",
    "    description='SelectMultiple',\n",
    "    disabled=False\n",
    ")"
   ]
  },
  {
   "cell_type": "markdown",
   "metadata": {
    "deletable": true,
    "editable": true
   },
   "source": [
    "## String widgets\n",
    "\n",
    "There are 4 widgets that can be used to display a string value. Of those, the ``Text`` and ``Textarea`` widgets accept input. The ``Label`` and ``HTML`` widgets display the string as either Label or HTML respectively, but do not accept input."
   ]
  },
  {
   "cell_type": "markdown",
   "metadata": {
    "deletable": true,
    "editable": true
   },
   "source": [
    "### ``Text``"
   ]
  },
  {
   "cell_type": "code",
   "execution_count": 22,
   "metadata": {
    "collapsed": false,
    "deletable": true,
    "editable": true
   },
   "outputs": [
    {
     "data": {
      "application/vnd.jupyter.widget-view+json": {
       "model_id": "79fd4f46b3db4b8bac0451b21e74e8ba"
      }
     },
     "metadata": {},
     "output_type": "display_data"
    }
   ],
   "source": [
    "widgets.Text(\n",
    "    value='I LOVE YOU',\n",
    "    placeholder='Type something',\n",
    "    description='Text',\n",
    "    disabled=False\n",
    ")"
   ]
  },
  {
   "cell_type": "markdown",
   "metadata": {
    "deletable": true,
    "editable": true
   },
   "source": [
    "### ``Textarea``"
   ]
  },
  {
   "cell_type": "code",
   "execution_count": 23,
   "metadata": {
    "collapsed": false,
    "deletable": true,
    "editable": true
   },
   "outputs": [
    {
     "data": {
      "application/vnd.jupyter.widget-view+json": {
       "model_id": "70d69b836d0a475e8be7fc432bff24c1"
      }
     },
     "metadata": {},
     "output_type": "display_data"
    }
   ],
   "source": [
    "widgets.Textarea(\n",
    "    value='I LOVE MYSELF',\n",
    "    placeholder='Type something',\n",
    "    description='Textarea',\n",
    "    disabled=False\n",
    ")"
   ]
  },
  {
   "cell_type": "markdown",
   "metadata": {
    "deletable": true,
    "editable": true
   },
   "source": [
    "### ``Label``"
   ]
  },
  {
   "cell_type": "code",
   "execution_count": 24,
   "metadata": {
    "collapsed": false,
    "deletable": true,
    "editable": true
   },
   "outputs": [
    {
     "data": {
      "application/vnd.jupyter.widget-view+json": {
       "model_id": "9be715fe200d41f09fa876566e60436b"
      }
     },
     "metadata": {},
     "output_type": "display_data"
    }
   ],
   "source": [
    "widgets.Label(\n",
    "    value='$$E = \\\\frac{mc^2}{\\\\sqrt{1-\\\\frac{v^2}{c^2}}}$$',\n",
    "    placeholder='Some LaTeX',\n",
    "    description='Label',\n",
    "    disabled=False\n",
    ")"
   ]
  },
  {
   "cell_type": "markdown",
   "metadata": {
    "deletable": true,
    "editable": true
   },
   "source": [
    "### ``HTML``"
   ]
  },
  {
   "cell_type": "code",
   "execution_count": 25,
   "metadata": {
    "collapsed": false,
    "deletable": true,
    "editable": true
   },
   "outputs": [
    {
     "data": {
      "application/vnd.jupyter.widget-view+json": {
       "model_id": "a67d9c1f3a754c188044bd317997969c"
      }
     },
     "metadata": {},
     "output_type": "display_data"
    }
   ],
   "source": [
    "widgets.HTML(\n",
    "    value='<strong>ABC <small>abc</small></strong>',\n",
    "    placeholder='Some HTML',\n",
    "    description='HTML',\n",
    "    disabled=False\n",
    ")"
   ]
  },
  {
   "cell_type": "markdown",
   "metadata": {
    "deletable": true,
    "editable": true
   },
   "source": [
    "### ``HTMLMath``"
   ]
  },
  {
   "cell_type": "code",
   "execution_count": 26,
   "metadata": {
    "collapsed": false,
    "deletable": true,
    "editable": true
   },
   "outputs": [
    {
     "data": {
      "application/vnd.jupyter.widget-view+json": {
       "model_id": "8b350a6ce85c4d339ff0cf429b346f4d"
      }
     },
     "metadata": {},
     "output_type": "display_data"
    }
   ],
   "source": [
    "widgets.HTMLMath(\n",
    "    value=r'Some math and <i>HTML</i>: $x^2$ and $$\\frac{x+1}{x-1}$$',\n",
    "    placeholder='Some HTML',\n",
    "    description='HTMLMath',\n",
    "    disabled=False\n",
    ")"
   ]
  },
  {
   "cell_type": "markdown",
   "metadata": {
    "deletable": true,
    "editable": true
   },
   "source": [
    "## ``Image``"
   ]
  },
  {
   "cell_type": "code",
   "execution_count": 27,
   "metadata": {
    "collapsed": false,
    "deletable": true,
    "editable": true
   },
   "outputs": [
    {
     "data": {
      "application/vnd.jupyter.widget-view+json": {
       "model_id": "3f1bc463ec944377b6c04b8d14b671d4"
      }
     },
     "metadata": {},
     "output_type": "display_data"
    }
   ],
   "source": [
    "file = open('python.jpg', 'rb')\n",
    "image = file.read()\n",
    "widgets.Image(\n",
    "    value=image,\n",
    "    format='jpeg',\n",
    "    width=340,\n",
    "    height=230\n",
    ")"
   ]
  },
  {
   "cell_type": "markdown",
   "metadata": {
    "deletable": true,
    "editable": true
   },
   "source": [
    "## ``Button``"
   ]
  },
  {
   "cell_type": "code",
   "execution_count": 28,
   "metadata": {
    "collapsed": false,
    "deletable": true,
    "editable": true
   },
   "outputs": [
    {
     "data": {
      "application/vnd.jupyter.widget-view+json": {
       "model_id": "bac01d58bba84892b92b2d0e78e61a5a"
      }
     },
     "metadata": {},
     "output_type": "display_data"
    }
   ],
   "source": [
    "widgets.Button(\n",
    "    description='Execute',\n",
    "    disabled=False,\n",
    "    button_style='danger',\n",
    "    tooltip='Click to execute',\n",
    "    icon='check'\n",
    ")"
   ]
  },
  {
   "cell_type": "markdown",
   "metadata": {
    "deletable": true,
    "editable": true
   },
   "source": [
    "## Play (Animation) widget\n",
    "\n",
    "The ``Play`` widget is useful to perform animations by iterating on a sequence of integers with a certain speed."
   ]
  },
  {
   "cell_type": "code",
   "execution_count": 29,
   "metadata": {
    "collapsed": false,
    "deletable": true,
    "editable": true
   },
   "outputs": [
    {
     "data": {
      "application/vnd.jupyter.widget-view+json": {
       "model_id": "b8e8d1b5649240528e8869e15653d296"
      }
     },
     "metadata": {},
     "output_type": "display_data"
    }
   ],
   "source": [
    "play = widgets.Play(\n",
    "    interval=100,\n",
    "    value=36,\n",
    "    min=-128,\n",
    "    max=248,\n",
    "    step=4,\n",
    "    description='Play',\n",
    "    disabled=False\n",
    ")\n",
    "\n",
    "slider = widgets.IntSlider(\n",
    "    min=-128,\n",
    "    max=248\n",
    ")\n",
    "\n",
    "widgets.jslink((play, 'value'), (slider, 'value'))\n",
    "widgets.VBox([play, slider])"
   ]
  },
  {
   "cell_type": "markdown",
   "metadata": {
    "deletable": true,
    "editable": true
   },
   "source": [
    "## ``DatePicker``"
   ]
  },
  {
   "cell_type": "code",
   "execution_count": 31,
   "metadata": {
    "collapsed": false,
    "deletable": true,
    "editable": true
   },
   "outputs": [
    {
     "data": {
      "application/vnd.jupyter.widget-view+json": {
       "model_id": "0c2308c9548d457c8cfb27dd64130971"
      }
     },
     "metadata": {},
     "output_type": "display_data"
    }
   ],
   "source": [
    "widgets.DatePicker(description='DatePicker')"
   ]
  },
  {
   "cell_type": "markdown",
   "metadata": {
    "collapsed": true,
    "deletable": true,
    "editable": true
   },
   "source": [
    "## ``ColorPicker``"
   ]
  },
  {
   "cell_type": "code",
   "execution_count": 32,
   "metadata": {
    "collapsed": false
   },
   "outputs": [
    {
     "data": {
      "application/vnd.jupyter.widget-view+json": {
       "model_id": "8eeb07019f7e4c04a1888ab704216b5d"
      }
     },
     "metadata": {},
     "output_type": "display_data"
    }
   ],
   "source": [
    "widgets.ColorPicker(\n",
    "    concise=False,\n",
    "    description='ColorPicker',\n",
    "    value='OrangeRed'\n",
    ")"
   ]
  },
  {
   "cell_type": "markdown",
   "metadata": {},
   "source": [
    "## ``Controller``"
   ]
  },
  {
   "cell_type": "code",
   "execution_count": 33,
   "metadata": {
    "collapsed": false
   },
   "outputs": [
    {
     "data": {
      "application/vnd.jupyter.widget-view+json": {
       "model_id": "a5fda371ec98419783a56635ef15851a"
      }
     },
     "metadata": {},
     "output_type": "display_data"
    }
   ],
   "source": [
    "widgets.Controller(index=0)"
   ]
  },
  {
   "cell_type": "markdown",
   "metadata": {},
   "source": [
    "## Layout widgets"
   ]
  },
  {
   "cell_type": "markdown",
   "metadata": {},
   "source": [
    "### Box"
   ]
  },
  {
   "cell_type": "markdown",
   "metadata": {},
   "source": [
    "#### ``HBox``"
   ]
  },
  {
   "cell_type": "code",
   "execution_count": 36,
   "metadata": {
    "collapsed": false
   },
   "outputs": [
    {
     "data": {
      "application/vnd.jupyter.widget-view+json": {
       "model_id": "5ce264f3d03545a2b00350690dbc19c6"
      }
     },
     "metadata": {},
     "output_type": "display_data"
    }
   ],
   "source": [
    "widgets.HBox([widgets.Label('AAA'), widgets.Label('BBB'), widgets.Label('CCC')])"
   ]
  },
  {
   "cell_type": "markdown",
   "metadata": {},
   "source": [
    "#### ``VBox``"
   ]
  },
  {
   "cell_type": "code",
   "execution_count": 37,
   "metadata": {
    "collapsed": false
   },
   "outputs": [
    {
     "data": {
      "application/vnd.jupyter.widget-view+json": {
       "model_id": "69fbb9153ea64182ae427930e6bad234"
      }
     },
     "metadata": {},
     "output_type": "display_data"
    }
   ],
   "source": [
    "widgets.VBox([\n",
    "    widgets.HBox([widgets.Label('11'), widgets.Label('12'), widgets.Label('13')]),\n",
    "    widgets.HBox([widgets.Label('21'), widgets.Label('22'), widgets.Label('23')]),\n",
    "    widgets.HBox([widgets.Label('31'), widgets.Label('32'), widgets.Label('33')])\n",
    "])"
   ]
  },
  {
   "cell_type": "markdown",
   "metadata": {},
   "source": [
    "#### ``Accordion``"
   ]
  },
  {
   "cell_type": "code",
   "execution_count": 38,
   "metadata": {
    "collapsed": false
   },
   "outputs": [
    {
     "data": {
      "application/vnd.jupyter.widget-view+json": {
       "model_id": "31c913c06db04dcd84b79c1b39ea9320"
      }
     },
     "metadata": {},
     "output_type": "display_data"
    }
   ],
   "source": [
    "accordion = widgets.Accordion(children=[widgets.IntSlider(), widgets.FloatSlider()])\n",
    "accordion.set_title(0, 'IntSlider')\n",
    "accordion.set_title(1, 'FloatSlider')\n",
    "accordion"
   ]
  },
  {
   "cell_type": "markdown",
   "metadata": {},
   "source": [
    "#### ``Tabs``"
   ]
  },
  {
   "cell_type": "code",
   "execution_count": 48,
   "metadata": {
    "collapsed": false
   },
   "outputs": [
    {
     "data": {
      "application/vnd.jupyter.widget-view+json": {
       "model_id": "9abdf49676b84ef994eb544163365ace"
      }
     },
     "metadata": {},
     "output_type": "display_data"
    }
   ],
   "source": [
    "tab = widgets.Tab(children=[\n",
    "    widgets.Text(description='Text 1'),\n",
    "    widgets.Text(description='Text 2'),\n",
    "    widgets.Text(description='Text 3')\n",
    "])\n",
    "\n",
    "tab.set_title(0, 'Tab 1')\n",
    "tab.set_title(1, 'Tab 2')\n",
    "tab.set_title(2, 'Tab 3')\n",
    "\n",
    "tab"
   ]
  },
  {
   "cell_type": "code",
   "execution_count": null,
   "metadata": {
    "collapsed": true
   },
   "outputs": [],
   "source": []
  }
 ],
 "metadata": {
  "kernelspec": {
   "display_name": "Python 3",
   "language": "python",
   "name": "python3"
  },
  "language_info": {
   "codemirror_mode": {
    "name": "ipython",
    "version": 3
   },
   "file_extension": ".py",
   "mimetype": "text/x-python",
   "name": "python",
   "nbconvert_exporter": "python",
   "pygments_lexer": "ipython3",
   "version": "3.6.0"
  }
 },
 "nbformat": 4,
 "nbformat_minor": 2
}
