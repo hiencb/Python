{
 "cells": [
  {
   "cell_type": "markdown",
   "metadata": {},
   "source": [
    "# WIDGET EVENTS"
   ]
  },
  {
   "cell_type": "markdown",
   "metadata": {},
   "source": [
    "## Special events"
   ]
  },
  {
   "cell_type": "code",
   "execution_count": 13,
   "metadata": {
    "collapsed": true
   },
   "outputs": [],
   "source": [
    "from __future__ import print_function\n",
    "from IPython.display import display\n",
    "import ipywidgets as widgets\n",
    "import traitlets"
   ]
  },
  {
   "cell_type": "markdown",
   "metadata": {},
   "source": [
    "### ``on_click``\n",
    "\n",
    "The ``Button`` is not used to represent a data type. Instead the button widget is used to handle mouse clicks. The ``on_click`` method of the ``Button`` can be used to register function to be called when the button is clicked. "
   ]
  },
  {
   "cell_type": "code",
   "execution_count": 7,
   "metadata": {
    "collapsed": false
   },
   "outputs": [
    {
     "name": "stdout",
     "output_type": "stream",
     "text": [
      "Button clicked\n",
      "Button clicked\n"
     ]
    }
   ],
   "source": [
    "button = widgets.Button(description='Run', button_style='danger', tooltip='Click to run')\n",
    "button.on_click(lambda _: print('Button clicked'))\n",
    "display(button)"
   ]
  },
  {
   "cell_type": "markdown",
   "metadata": {},
   "source": [
    "### ``on_submit``\n",
    "\n",
    "The ``Text`` widget also has a special ``on_submit`` event. The ``on_submit`` event fires when the user hits return."
   ]
  },
  {
   "cell_type": "code",
   "execution_count": 8,
   "metadata": {
    "collapsed": false
   },
   "outputs": [
    {
     "name": "stdout",
     "output_type": "stream",
     "text": [
      "Hello, World!\n"
     ]
    }
   ],
   "source": [
    "text = widgets.Text(description='Content', placholder='Type something')\n",
    "text.on_submit(lambda _: print(text.value))\n",
    "display(text)"
   ]
  },
  {
   "cell_type": "markdown",
   "metadata": {},
   "source": [
    "## Trailet events\n",
    "\n",
    "Widget properties are IPython traitlets and traitlets are eventful. To handle changes, the ``observe`` method of the widget can be used to register a callback."
   ]
  },
  {
   "cell_type": "code",
   "execution_count": 12,
   "metadata": {
    "collapsed": false
   },
   "outputs": [
    {
     "name": "stdout",
     "output_type": "stream",
     "text": [
      "58\n"
     ]
    }
   ],
   "source": [
    "intSlider = widgets.IntSlider(min=4, max=80, step=2, value=8, continuous_update=False)\n",
    "intSlider.observe(lambda change: print(change['new']), names='value')\n",
    "display(intSlider)"
   ]
  },
  {
   "cell_type": "markdown",
   "metadata": {},
   "source": [
    "## Linking Widgets"
   ]
  },
  {
   "cell_type": "markdown",
   "metadata": {},
   "source": [
    "### Linking traitlets attributes in the kernel\n",
    "\n",
    "The first method is to use the ``link`` and ``dlink`` functions from the ``traitlets`` module. This only works if we are interacting with a live kernel."
   ]
  },
  {
   "cell_type": "code",
   "execution_count": 14,
   "metadata": {
    "collapsed": true
   },
   "outputs": [],
   "source": [
    "labelTwoWay = widgets.Label(value='Two-way link')\n",
    "slider1, slider2 = widgets.IntSlider(description='Slider 1'), widgets.IntSlider(description='Slider 2')\n",
    "link = traitlets.link((slider1, 'value'), (slider2, 'value'))\n",
    "display(labelTwoWay, slider1, slider2)"
   ]
  },
  {
   "cell_type": "code",
   "execution_count": 15,
   "metadata": {
    "collapsed": true
   },
   "outputs": [],
   "source": [
    "labelOneWay = widgets.Label(value='One-way link')\n",
    "sliderSrc, sliderTar = widgets.IntSlider(description='Source'), widgets.IntSlider(description='Target')\n",
    "dlink = traitlets.dlink((sliderSrc, 'value'), (sliderTar, 'value'))\n",
    "display(labelOneWay, sliderSrc, sliderTar)"
   ]
  },
  {
   "cell_type": "markdown",
   "metadata": {},
   "source": [
    "Function ``traitlets.link`` and ``traitlets.dlink`` return a ``Link`` or ``DLink`` object. The link can be broken by calling the ``unlink`` method."
   ]
  },
  {
   "cell_type": "code",
   "execution_count": 16,
   "metadata": {
    "collapsed": true
   },
   "outputs": [],
   "source": [
    "link.unlink()\n",
    "dlink.unlink()"
   ]
  },
  {
   "cell_type": "markdown",
   "metadata": {},
   "source": [
    "### Registering callbacks to trait changes in the kernel\n",
    "\n",
    "The handler passed to the decorator will be called with one change argument. The change object at least holds a ``type`` key and a ``name`` key, corresponding respectively to the type of notification and the name of the attribute that triggered the notification.\n",
    "\n",
    "Other keys may be passed depending on the value of ``type``. In the case where type is ``change``, we also have the following keys:\n",
    "* ``owner`` : the HasTraits instance\n",
    "* ``old`` : the old value of the modified trait attribute\n",
    "* ``new`` : the new value of the modified trait attribute\n",
    "* ``name`` : the name of the modified trait attribute."
   ]
  },
  {
   "cell_type": "code",
   "execution_count": 21,
   "metadata": {
    "collapsed": false
   },
   "outputs": [
    {
     "name": "stdout",
     "output_type": "stream",
     "text": [
      "owner: <ipywidgets.widgets.widget_int.IntSlider object at 0x102f8ed68>, type: change, name: value, old: 46, new: 122\n"
     ]
    }
   ],
   "source": [
    "sliderObserved = widgets.IntSlider(min=-10, max=200, step=4, value=46, description='Value', continuous_update=False)\n",
    "\n",
    "def slider_onchanged(change):\n",
    "    print('owner: {0}, type: {1}, name: {2}, old: {3}, new: {4}'.format(change.owner, change.type, change.name, change.old, change.new))\n",
    "\n",
    "sliderObserved.observe(slider_onchanged, names='value')\n",
    "display(sliderObserved)"
   ]
  },
  {
   "cell_type": "markdown",
   "metadata": {},
   "source": [
    "### Linking widgets attributes from the client side\n",
    "\n",
    "When synchronizing traitlets attributes, you may experience a lag because of the latency due to the roundtrip to the server side. You can also directly link widget attributes in the browser using the link widgets, in either a unidirectional or a bidirectional fashion.\n",
    "\n",
    "Javascript links persist when embedding widgets in html web pages without a kernel."
   ]
  },
  {
   "cell_type": "code",
   "execution_count": 22,
   "metadata": {
    "collapsed": true
   },
   "outputs": [],
   "source": [
    "labelBidirectional = widgets.Label(value='Bidirectional Link')\n",
    "sliderA, sliderB = widgets.FloatSlider(description='Slider A'), widgets.FloatSlider(description='Slider B')\n",
    "jsLink = widgets.jslink((sliderA, 'value'), (sliderB, 'value'))\n",
    "display(labelBidirectional, sliderA, sliderB)"
   ]
  },
  {
   "cell_type": "code",
   "execution_count": 23,
   "metadata": {
    "collapsed": true
   },
   "outputs": [],
   "source": [
    "labelUnidirectional = widgets.Label(value='Unidirectional Link')\n",
    "sliderFrom, sliderTo = widgets.FloatSlider(description='From'), widgets.FloatSlider(description='To')\n",
    "jsDlink = widgets.jsdlink((sliderFrom, 'value'), (sliderTo, 'value'))\n",
    "display(labelUnidirectional, sliderFrom, sliderTo)"
   ]
  },
  {
   "cell_type": "markdown",
   "metadata": {},
   "source": [
    "The links can be broken by calling the ``unlink`` method"
   ]
  },
  {
   "cell_type": "code",
   "execution_count": 24,
   "metadata": {
    "collapsed": true
   },
   "outputs": [],
   "source": [
    "jsLink.unlink()\n",
    "jsDlink.unlink()"
   ]
  },
  {
   "cell_type": "code",
   "execution_count": null,
   "metadata": {
    "collapsed": true
   },
   "outputs": [],
   "source": []
  }
 ],
 "metadata": {
  "kernelspec": {
   "display_name": "Python 3",
   "language": "python",
   "name": "python3"
  },
  "language_info": {
   "codemirror_mode": {
    "name": "ipython",
    "version": 3
   },
   "file_extension": ".py",
   "mimetype": "text/x-python",
   "name": "python",
   "nbconvert_exporter": "python",
   "pygments_lexer": "ipython3",
   "version": "3.6.0"
  },
  "widgets": {
   "state": {
    "0f091434f04944d4b1127be8ac025bb4": {
     "views": [
      {
       "cell_index": 12
      }
     ]
    },
    "2012a5095db24092969dafe63a26af22": {
     "views": [
      {
       "cell_index": 11
      }
     ]
    },
    "24e0e6e6c35a418e8b98fd05d56736f8": {
     "views": [
      {
       "cell_index": 19
      }
     ]
    },
    "345a9706c1524ff68ddddae6f543f980": {
     "views": [
      {
       "cell_index": 8
      }
     ]
    },
    "61ccdd356e1c44b7b7cbb95240278116": {
     "views": [
      {
       "cell_index": 6
      }
     ]
    },
    "6333eb7dce19416aaed8aac26c5130dc": {
     "views": [
      {
       "cell_index": 18
      }
     ]
    },
    "6f40f0953d5843d8a1a8a9b769939581": {
     "views": [
      {
       "cell_index": 19
      }
     ]
    },
    "76d4739c3b2a46fba7ff8e4b42c72f7d": {
     "views": [
      {
       "cell_index": 12
      }
     ]
    },
    "8c4b893112624e32b1d78967edec6b51": {
     "views": [
      {
       "cell_index": 8
      }
     ]
    },
    "9a0935d6a0e3450483fd31a928aa43e1": {
     "views": [
      {
       "cell_index": 4
      }
     ]
    },
    "a8541c16f5444b75beebb961eb18738c": {
     "views": [
      {
       "cell_index": 11
      }
     ]
    },
    "b0e077771e504d32af60d067d33f4544": {
     "views": [
      {
       "cell_index": 18
      }
     ]
    },
    "ba89552613da45f0bb4cf11058c3e627": {
     "views": [
      {
       "cell_index": 18
      }
     ]
    },
    "d06886d1b6ee4418a8110c3fefeeb05a": {
     "views": [
      {
       "cell_index": 12
      }
     ]
    },
    "ed756d8ecf654179a738febec7bf0262": {
     "views": [
      {
       "cell_index": 16
      }
     ]
    },
    "f3388fd3e8d548deba7496dd21709548": {
     "views": [
      {
       "cell_index": 11
      }
     ]
    },
    "f39bb730ce5c4bada5040eb1816de2f3": {
     "views": [
      {
       "cell_index": 19
      }
     ]
    }
   },
   "version": "1.2.0"
  }
 },
 "nbformat": 4,
 "nbformat_minor": 2
}
