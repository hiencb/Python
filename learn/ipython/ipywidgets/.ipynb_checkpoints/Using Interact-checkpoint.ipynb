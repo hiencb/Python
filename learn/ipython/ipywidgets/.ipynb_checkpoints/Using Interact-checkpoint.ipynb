{
 "cells": [
  {
   "cell_type": "markdown",
   "metadata": {},
   "source": [
    "# USING INTERACT\n",
    "The ``interact`` function (``ipywidgets.interact``) automatically creates user interface (UI) controls for exploring code and data interactively. It is the easiest way to get started using IPython's widgets."
   ]
  },
  {
   "cell_type": "code",
   "execution_count": 14,
   "metadata": {
    "collapsed": true
   },
   "outputs": [],
   "source": [
    "from __future__ import print_function\n",
    "from ipywidgets import interact, interactive, fixed, interact_manual\n",
    "import ipywidgets as widgets"
   ]
  },
  {
   "cell_type": "markdown",
   "metadata": {},
   "source": [
    "## Basic ``interact``\n",
    "``interact`` autogenerates UI controls for function arguments, and then calls the function with those arguments when you manipulate the controls interactively."
   ]
  },
  {
   "cell_type": "code",
   "execution_count": 9,
   "metadata": {
    "collapsed": false
   },
   "outputs": [
    {
     "data": {
      "text/plain": [
       "'Result: -1.0'"
      ]
     },
     "metadata": {},
     "output_type": "display_data"
    }
   ],
   "source": [
    "@interact(negative=True, init=1.0, prompt='Result')\n",
    "def runInteract(negative, init, prompt):\n",
    "    value = init ** 2.4\n",
    "    return '{0}: {1}'.format(prompt, -value if negative else value)"
   ]
  },
  {
   "cell_type": "markdown",
   "metadata": {},
   "source": [
    "## Fixing arguments using ``fixed``\n",
    "There are times when you may want to explore a function using ``interact``, but fix one or more of its arguments to specific values. This can be accomplished by wrapping values with the ``fixed`` function."
   ]
  },
  {
   "cell_type": "code",
   "execution_count": 12,
   "metadata": {
    "collapsed": false
   },
   "outputs": [
    {
     "data": {
      "text/plain": [
       "'Value: 8.405675837991364'"
      ]
     },
     "metadata": {},
     "output_type": "display_data"
    }
   ],
   "source": [
    "@interact(a = 524, desc=fixed('Value'))\n",
    "def runFixed(a, desc):\n",
    "    value = a ** 0.34\n",
    "    return '{0}: {1}'.format(desc, value)"
   ]
  },
  {
   "cell_type": "markdown",
   "metadata": {},
   "source": [
    "## Widget abbreviations\n",
    "\n",
    "This is how interact proceses its keyword arguments:\n",
    "\n",
    "1. If the keyword argument is a Widget instance with a value attribute, that widget is used. Any widget with a value attribute can be used, even custom ones.\n",
    "\n",
    "2. Otherwise, the value is treated as a widget abbreviation that is converted to a widget before it is used.\n",
    "\n",
    "The following table gives an overview of different widget abbreviations:\n",
    "\n",
    "Keyword argument                                            | Widget\n",
    "----------------------------------------------------------- | -----------\n",
    "Boolean                                                     | Checkbox\n",
    "String                                                      | Text\n",
    "Integer or tuple of integers (min, max) or (min, max, step) | IntSlider\n",
    "Float or tuple of floats (min, max) or (min, max, step)     | FloatSlider\n",
    "Array or Object                                             | Dropdown\n"
   ]
  },
  {
   "cell_type": "markdown",
   "metadata": {},
   "source": [
    "### Checkbox"
   ]
  },
  {
   "cell_type": "code",
   "execution_count": 20,
   "metadata": {
    "collapsed": false
   },
   "outputs": [
    {
     "data": {
      "text/plain": [
       "(True, False, True, False)"
      ]
     },
     "metadata": {},
     "output_type": "display_data"
    }
   ],
   "source": [
    "@interact(a=True, b=False, c=widgets.Checkbox(True), d=widgets.Checkbox(False))\n",
    "def runCheckbox(a, b, c, d):\n",
    "    return (a, b, c, d)"
   ]
  },
  {
   "cell_type": "code",
   "execution_count": 18,
   "metadata": {
    "collapsed": true
   },
   "outputs": [],
   "source": [
    "widgets.Checkbox?"
   ]
  },
  {
   "cell_type": "markdown",
   "metadata": {},
   "source": [
    "### Text"
   ]
  },
  {
   "cell_type": "code",
   "execution_count": 21,
   "metadata": {
    "collapsed": false
   },
   "outputs": [
    {
     "data": {
      "text/plain": [
       "('A', 'B')"
      ]
     },
     "metadata": {},
     "output_type": "display_data"
    }
   ],
   "source": [
    "@interact(a='A', b=widgets.Text('B'))\n",
    "def runText(a, b):\n",
    "    return (a, b)"
   ]
  },
  {
   "cell_type": "markdown",
   "metadata": {},
   "source": [
    "### IntSlider"
   ]
  },
  {
   "cell_type": "code",
   "execution_count": 24,
   "metadata": {
    "collapsed": false
   },
   "outputs": [
    {
     "data": {
      "text/plain": [
       "(5, 10, 16, -45)"
      ]
     },
     "metadata": {},
     "output_type": "display_data"
    }
   ],
   "source": [
    "@interact(a=5, b=(0, 20), c=(4, 40, 2), d=widgets.IntSlider(value=-9, min=-45, max=3, step=3))\n",
    "def runIntSlider(a, b, c, d):\n",
    "    return (a, b, c, d)"
   ]
  },
  {
   "cell_type": "markdown",
   "metadata": {},
   "source": [
    "### FloatSlider"
   ]
  },
  {
   "cell_type": "code",
   "execution_count": 26,
   "metadata": {
    "collapsed": false
   },
   "outputs": [
    {
     "data": {
      "text/plain": [
       "(4.5, 3.3, 3.52, 0.1)"
      ]
     },
     "metadata": {},
     "output_type": "display_data"
    }
   ],
   "source": [
    "@interact(a=4.5, b=(2.4, 10.6), c=(-3.2, 4.8, 0.12), d=widgets.FloatSlider(value=0.4, min=-0.32, max=1, step=0.02))\n",
    "def runFloatSlider(a, b, c, d):\n",
    "    return (a, b, c, d)"
   ]
  },
  {
   "cell_type": "markdown",
   "metadata": {},
   "source": [
    "### Dropdown"
   ]
  },
  {
   "cell_type": "code",
   "execution_count": 29,
   "metadata": {
    "collapsed": false
   },
   "outputs": [
    {
     "data": {
      "text/plain": [
       "('iPod', 197, 'Desktop', 64)"
      ]
     },
     "metadata": {},
     "output_type": "display_data"
    }
   ],
   "source": [
    "aChoices = ['iPad', 'iPod', 'iPhone']\n",
    "bChoices = {'Samsung': 237, 'Sony': 197, 'LG': 78}\n",
    "cChoices = ['Laptop', 'Desktop', 'Smart phone']\n",
    "dChoices = {'Cat': 45, 'Dog': 238, 'Pig': 64}\n",
    "@interact(a=aChoices, b=bChoices, c=widgets.Dropdown(options=cChoices), d=widgets.Dropdown(options=dChoices))\n",
    "def runDropdown(a, b, c, d):\n",
    "    return (a, b, c, d)"
   ]
  },
  {
   "cell_type": "markdown",
   "metadata": {},
   "source": [
    "## Using function annotations with interact\n",
    "If you are using Python 3, you can also specify widget abbreviations using [function annotations](https://docs.python.org/3/tutorial/controlflow.html#function-annotations)."
   ]
  },
  {
   "cell_type": "code",
   "execution_count": 33,
   "metadata": {
    "collapsed": false
   },
   "outputs": [
    {
     "data": {
      "text/plain": [
       "(True, 'Test', 6, 3.0, 2)"
      ]
     },
     "metadata": {},
     "output_type": "display_data"
    }
   ],
   "source": [
    "@interact\n",
    "def runAnnotation(a:True, b:'Test', c:3, d:(2.4, 3.2, 0.2), e:{'one': 1, 'two': 2, 'three': 3}):\n",
    "    return (a, b, c, d, e)"
   ]
  },
  {
   "cell_type": "markdown",
   "metadata": {},
   "source": [
    "## ``interactive``\n",
    "In addition to interact, IPython provides another function, interactive, that is useful when you want to reuse the widgets that are produced or access the data that is bound to the UI controls."
   ]
  },
  {
   "cell_type": "code",
   "execution_count": 39,
   "metadata": {
    "collapsed": false
   },
   "outputs": [],
   "source": [
    "def runInteractive(a, b):\n",
    "    return a ** b\n",
    "\n",
    "w = interactive(runInteractive, a=5, b=0.4)"
   ]
  },
  {
   "cell_type": "markdown",
   "metadata": {},
   "source": [
    "The widget is a Box, which is a container for other widgets."
   ]
  },
  {
   "cell_type": "code",
   "execution_count": 40,
   "metadata": {
    "collapsed": false,
    "scrolled": true
   },
   "outputs": [
    {
     "data": {
      "text/plain": [
       "ipywidgets.widgets.widget_box.Box"
      ]
     },
     "execution_count": 40,
     "metadata": {},
     "output_type": "execute_result"
    }
   ],
   "source": [
    "type(w)"
   ]
  },
  {
   "cell_type": "code",
   "execution_count": 37,
   "metadata": {
    "collapsed": false
   },
   "outputs": [
    {
     "data": {
      "text/plain": [
       "(<ipywidgets.widgets.widget_int.IntSlider at 0x10a014860>,\n",
       " <ipywidgets.widgets.widget_float.FloatSlider at 0x10a014be0>)"
      ]
     },
     "execution_count": 37,
     "metadata": {},
     "output_type": "execute_result"
    }
   ],
   "source": [
    "w.children"
   ]
  },
  {
   "cell_type": "markdown",
   "metadata": {},
   "source": [
    "To actually display the widgets, you can use IPython's display function."
   ]
  },
  {
   "cell_type": "code",
   "execution_count": 41,
   "metadata": {
    "collapsed": false
   },
   "outputs": [
    {
     "data": {
      "text/plain": [
       "(-0.587785252292473+0.8090169943749475j)"
      ]
     },
     "metadata": {},
     "output_type": "display_data"
    }
   ],
   "source": [
    "from IPython.display import display\n",
    "display(w)"
   ]
  },
  {
   "cell_type": "markdown",
   "metadata": {},
   "source": [
    "Here are the current keyword arguments. If you rerun this cell after manipulating the sliders, the values will have changed."
   ]
  },
  {
   "cell_type": "code",
   "execution_count": 43,
   "metadata": {
    "collapsed": false
   },
   "outputs": [
    {
     "data": {
      "text/plain": [
       "{'a': -1, 'b': 0.7}"
      ]
     },
     "execution_count": 43,
     "metadata": {},
     "output_type": "execute_result"
    }
   ],
   "source": [
    "w.kwargs"
   ]
  },
  {
   "cell_type": "markdown",
   "metadata": {},
   "source": [
    "Here is the current return value of the function."
   ]
  },
  {
   "cell_type": "code",
   "execution_count": 44,
   "metadata": {
    "collapsed": false
   },
   "outputs": [
    {
     "data": {
      "text/plain": [
       "(-0.587785252292473+0.8090169943749475j)"
      ]
     },
     "execution_count": 44,
     "metadata": {},
     "output_type": "execute_result"
    }
   ],
   "source": [
    "w.result"
   ]
  },
  {
   "cell_type": "markdown",
   "metadata": {},
   "source": [
    "## Disabling continuous updates"
   ]
  },
  {
   "cell_type": "markdown",
   "metadata": {},
   "source": [
    "### ``interact_manual``\n",
    "The ``interact_manual`` function provides a variant of interaction that allows you to restrict execution so it is only done on demand. A button is added to the interact controls that allows you to trigger an execute event."
   ]
  },
  {
   "cell_type": "code",
   "execution_count": 46,
   "metadata": {
    "collapsed": false
   },
   "outputs": [
    {
     "data": {
      "text/plain": [
       "3.110398667002615"
      ]
     },
     "metadata": {},
     "output_type": "display_data"
    }
   ],
   "source": [
    "@interact_manual(a=2.4, )\n",
    "def runInteractManual(a):\n",
    "    return a ** 0.85"
   ]
  },
  {
   "cell_type": "code",
   "execution_count": 47,
   "metadata": {
    "collapsed": true
   },
   "outputs": [],
   "source": [
    "interact_manual?"
   ]
  },
  {
   "cell_type": "markdown",
   "metadata": {},
   "source": [
    "### ``continuous_update``\n",
    "If you are using slider widgets, you can set the ``continuous_update`` kwarg to ``False``. ``continuous_update`` is a kwarg of slider widgets that restricts executions to mouse release events."
   ]
  },
  {
   "cell_type": "code",
   "execution_count": 48,
   "metadata": {
    "collapsed": false
   },
   "outputs": [
    {
     "data": {
      "text/plain": [
       "187.92"
      ]
     },
     "metadata": {},
     "output_type": "display_data"
    }
   ],
   "source": [
    "@interact(a=widgets.FloatSlider(min=-0.8, max=0.43, step=0.01, continuous_update=False))\n",
    "def runNotContinuousUpdate(a):\n",
    "    return a * 1044"
   ]
  },
  {
   "cell_type": "markdown",
   "metadata": {},
   "source": [
    "## Arguments that are dependent of each other\n",
    "Arguments that are dependent of each other can be expressed manually using observe. See the following example, where one variable is used to describe the bounds of another. For more information, please see the [widget events example notebook](https://github.com/jupyter-widgets/ipywidgets/blob/adce7cb43d8c805bace4740fcbb8e58ceb179667/docs/source/examples/Widget%20Events.ipynb)."
   ]
  },
  {
   "cell_type": "code",
   "execution_count": 61,
   "metadata": {
    "collapsed": false
   },
   "outputs": [
    {
     "name": "stdout",
     "output_type": "stream",
     "text": [
      "x_widget: {min: 0.0, max:5.6, value:4.95}\n",
      "y_widget: {min: 0.5, max:10.0, value:2.8}\n"
     ]
    }
   ],
   "source": [
    "x_widget = widgets.FloatSlider(min=0.0, max=10.0, step=0.05)\n",
    "y_widget = widgets.FloatSlider(min=0.5, max=10.0, step=0.05, value=5.0)\n",
    "\n",
    "def update_x_range(*args):\n",
    "    x_widget.max = 2.0 * y_widget.value\n",
    "    \n",
    "y_widget.observe(update_x_range, 'value')\n",
    "\n",
    "@interact(x=x_widget, y=y_widget)\n",
    "def printer(x, y):\n",
    "    print('x_widget: {{min: {0}, max:{1}, value:{2}}}'.format(x_widget.min, x_widget.max, x_widget.value))\n",
    "    print('y_widget: {{min: {0}, max:{1}, value:{2}}}'.format(y_widget.min, y_widget.max, y_widget.value))"
   ]
  },
  {
   "cell_type": "code",
   "execution_count": null,
   "metadata": {
    "collapsed": true
   },
   "outputs": [],
   "source": [
    "\n"
   ]
  }
 ],
 "metadata": {
  "kernelspec": {
   "display_name": "Python 3",
   "language": "python",
   "name": "python3"
  },
  "language_info": {
   "codemirror_mode": {
    "name": "ipython",
    "version": 3
   },
   "file_extension": ".py",
   "mimetype": "text/x-python",
   "name": "python",
   "nbconvert_exporter": "python",
   "pygments_lexer": "ipython3",
   "version": "3.6.0"
  },
  "widgets": {
   "state": {
    "2bd0f85874c54ab3836c7574a2238974": {
     "views": [
      {
       "cell_index": 13
      }
     ]
    },
    "2cc82599d0d14834b94006eebe49fc82": {
     "views": [
      {
       "cell_index": 36
      }
     ]
    },
    "53d37dd3a1cd4e6f94d0e02abd225ac2": {
     "views": [
      {
       "cell_index": 15
      }
     ]
    },
    "5a4c9659fa874eb7a9d71645d4140e05": {
     "views": [
      {
       "cell_index": 38
      }
     ]
    },
    "5d8898249ae9418cbfa1c5cab3149533": {
     "views": [
      {
       "cell_index": 17
      }
     ]
    },
    "70a17c74980c40bb90ed51f624cdc88c": {
     "views": [
      {
       "cell_index": 5
      }
     ]
    },
    "73011fab9eee4232be8e01c9da44c5ba": {
     "views": [
      {
       "cell_index": 33
      }
     ]
    },
    "76a862606be24ae9b26efbc2f87332a9": {
     "views": [
      {
       "cell_index": 3
      }
     ]
    },
    "8311e07ad21c467b824733221babc1c9": {
     "views": [
      {
       "cell_index": 19
      }
     ]
    },
    "a4001ddefe454860aacce2db4b771f06": {
     "views": [
      {
       "cell_index": 11
      }
     ]
    },
    "ae2f89386de14ba389774852a20379ce": {
     "views": [
      {
       "cell_index": 26
      }
     ]
    },
    "bac4195073074ef9b88114509d55da43": {
     "views": [
      {
       "cell_index": 8
      }
     ]
    }
   },
   "version": "1.2.0"
  }
 },
 "nbformat": 4,
 "nbformat_minor": 2
}
