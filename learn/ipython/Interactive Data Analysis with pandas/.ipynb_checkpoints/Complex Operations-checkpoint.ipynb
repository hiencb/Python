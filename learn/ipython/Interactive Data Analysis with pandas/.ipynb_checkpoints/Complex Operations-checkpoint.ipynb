{
 "cells": [
  {
   "cell_type": "markdown",
   "metadata": {
    "collapsed": true
   },
   "source": [
    "# COMPLEX OPERATIONS"
   ]
  },
  {
   "cell_type": "markdown",
   "metadata": {},
   "source": [
    "``pandas`` is somewhat inspired by SQL, which is familiar to\n",
    "many data analysts. Additionally, pandas can connect to SQL databases. You will find more information about the links between pandas and SQL at http://pandas.pydata.org/pandas-docs/stable/comparison_with_sql.html."
   ]
  },
  {
   "cell_type": "code",
   "execution_count": 2,
   "metadata": {},
   "outputs": [],
   "source": [
    "import numpy as np\n",
    "import pandas as pd\n",
    "import matplotlib.pyplot as plt\n",
    "import seaborn\n",
    "%matplotlib inline"
   ]
  },
  {
   "cell_type": "code",
   "execution_count": 3,
   "metadata": {
    "collapsed": true
   },
   "outputs": [],
   "source": [
    "data = pd.read_csv('data/nyc_data.csv', parse_dates=['pickup_datetime', 'dropoff_datetime'])\n",
    "fare = pd.read_csv('data/nyc_fare.csv', parse_dates=['pickup_datetime'])"
   ]
  },
  {
   "cell_type": "code",
   "execution_count": 4,
   "metadata": {},
   "outputs": [
    {
     "data": {
      "text/html": [
       "<div>\n",
       "<table border=\"1\" class=\"dataframe\">\n",
       "  <thead>\n",
       "    <tr style=\"text-align: right;\">\n",
       "      <th></th>\n",
       "      <th>medallion</th>\n",
       "      <th>hack_license</th>\n",
       "      <th>vendor_id</th>\n",
       "      <th>rate_code</th>\n",
       "      <th>store_and_fwd_flag</th>\n",
       "      <th>pickup_datetime</th>\n",
       "      <th>dropoff_datetime</th>\n",
       "      <th>passenger_count</th>\n",
       "      <th>trip_time_in_secs</th>\n",
       "      <th>trip_distance</th>\n",
       "      <th>pickup_longitude</th>\n",
       "      <th>pickup_latitude</th>\n",
       "      <th>dropoff_longitude</th>\n",
       "      <th>dropoff_latitude</th>\n",
       "    </tr>\n",
       "  </thead>\n",
       "  <tbody>\n",
       "    <tr>\n",
       "      <th>846939</th>\n",
       "      <td>F8317FADB346A30B44CF0DB7EDA718AF</td>\n",
       "      <td>73E8FFE6D1EA6E6923E29D103FAF1E93</td>\n",
       "      <td>CMT</td>\n",
       "      <td>1</td>\n",
       "      <td>N</td>\n",
       "      <td>2013-12-31 23:50:10</td>\n",
       "      <td>2013-12-31 23:52:32</td>\n",
       "      <td>2</td>\n",
       "      <td>141</td>\n",
       "      <td>0.70</td>\n",
       "      <td>-73.973480</td>\n",
       "      <td>40.795177</td>\n",
       "      <td>-73.974670</td>\n",
       "      <td>40.788231</td>\n",
       "    </tr>\n",
       "    <tr>\n",
       "      <th>846940</th>\n",
       "      <td>9F29B1D177C67F2731E69EAA85D49367</td>\n",
       "      <td>5500334F780132AC7D883F01F869212E</td>\n",
       "      <td>CMT</td>\n",
       "      <td>1</td>\n",
       "      <td>N</td>\n",
       "      <td>2013-12-31 23:51:41</td>\n",
       "      <td>2013-12-31 23:57:50</td>\n",
       "      <td>1</td>\n",
       "      <td>368</td>\n",
       "      <td>1.60</td>\n",
       "      <td>-73.992058</td>\n",
       "      <td>40.750126</td>\n",
       "      <td>-73.987114</td>\n",
       "      <td>40.733604</td>\n",
       "    </tr>\n",
       "    <tr>\n",
       "      <th>846941</th>\n",
       "      <td>C76AB9E3B27A5CC4F7087CFB109F51AE</td>\n",
       "      <td>6B8BA824723DE0DAB63B980B1DC843CE</td>\n",
       "      <td>CMT</td>\n",
       "      <td>1</td>\n",
       "      <td>N</td>\n",
       "      <td>2013-12-31 23:54:00</td>\n",
       "      <td>2014-01-01 00:09:06</td>\n",
       "      <td>1</td>\n",
       "      <td>906</td>\n",
       "      <td>9.80</td>\n",
       "      <td>-73.994949</td>\n",
       "      <td>40.769096</td>\n",
       "      <td>-73.898994</td>\n",
       "      <td>40.869537</td>\n",
       "    </tr>\n",
       "    <tr>\n",
       "      <th>846942</th>\n",
       "      <td>D87EB3AD2ED303B3D92E37D871B2C2E9</td>\n",
       "      <td>F578F0435B49B3D7B9A7AAFC663A82CD</td>\n",
       "      <td>VTS</td>\n",
       "      <td>1</td>\n",
       "      <td>NaN</td>\n",
       "      <td>2013-12-31 23:59:00</td>\n",
       "      <td>2014-01-01 00:05:00</td>\n",
       "      <td>1</td>\n",
       "      <td>360</td>\n",
       "      <td>2.23</td>\n",
       "      <td>-73.993492</td>\n",
       "      <td>40.729347</td>\n",
       "      <td>-74.013725</td>\n",
       "      <td>40.702332</td>\n",
       "    </tr>\n",
       "    <tr>\n",
       "      <th>846943</th>\n",
       "      <td>F74743D90F84644B1FA4576F4A82A8A3</td>\n",
       "      <td>537121DB04EC62BADFA44D8F03755A64</td>\n",
       "      <td>VTS</td>\n",
       "      <td>1</td>\n",
       "      <td>NaN</td>\n",
       "      <td>2013-12-31 23:59:00</td>\n",
       "      <td>2014-01-01 00:08:00</td>\n",
       "      <td>1</td>\n",
       "      <td>540</td>\n",
       "      <td>1.76</td>\n",
       "      <td>-73.978477</td>\n",
       "      <td>40.772945</td>\n",
       "      <td>-73.963814</td>\n",
       "      <td>40.773922</td>\n",
       "    </tr>\n",
       "    <tr>\n",
       "      <th>846944</th>\n",
       "      <td>E5DCEBA68A6094576B10AFC609C61E29</td>\n",
       "      <td>735F78FA4CB06B5CB7122FF31822F68E</td>\n",
       "      <td>CMT</td>\n",
       "      <td>1</td>\n",
       "      <td>N</td>\n",
       "      <td>2013-12-31 23:59:24</td>\n",
       "      <td>2014-01-01 00:22:26</td>\n",
       "      <td>1</td>\n",
       "      <td>1381</td>\n",
       "      <td>4.50</td>\n",
       "      <td>-73.987206</td>\n",
       "      <td>40.750568</td>\n",
       "      <td>-73.970909</td>\n",
       "      <td>40.795815</td>\n",
       "    </tr>\n",
       "  </tbody>\n",
       "</table>\n",
       "</div>"
      ],
      "text/plain": [
       "                               medallion                      hack_license  \\\n",
       "846939  F8317FADB346A30B44CF0DB7EDA718AF  73E8FFE6D1EA6E6923E29D103FAF1E93   \n",
       "846940  9F29B1D177C67F2731E69EAA85D49367  5500334F780132AC7D883F01F869212E   \n",
       "846941  C76AB9E3B27A5CC4F7087CFB109F51AE  6B8BA824723DE0DAB63B980B1DC843CE   \n",
       "846942  D87EB3AD2ED303B3D92E37D871B2C2E9  F578F0435B49B3D7B9A7AAFC663A82CD   \n",
       "846943  F74743D90F84644B1FA4576F4A82A8A3  537121DB04EC62BADFA44D8F03755A64   \n",
       "846944  E5DCEBA68A6094576B10AFC609C61E29  735F78FA4CB06B5CB7122FF31822F68E   \n",
       "\n",
       "       vendor_id  rate_code store_and_fwd_flag     pickup_datetime  \\\n",
       "846939       CMT          1                  N 2013-12-31 23:50:10   \n",
       "846940       CMT          1                  N 2013-12-31 23:51:41   \n",
       "846941       CMT          1                  N 2013-12-31 23:54:00   \n",
       "846942       VTS          1                NaN 2013-12-31 23:59:00   \n",
       "846943       VTS          1                NaN 2013-12-31 23:59:00   \n",
       "846944       CMT          1                  N 2013-12-31 23:59:24   \n",
       "\n",
       "          dropoff_datetime  passenger_count  trip_time_in_secs  trip_distance  \\\n",
       "846939 2013-12-31 23:52:32                2                141           0.70   \n",
       "846940 2013-12-31 23:57:50                1                368           1.60   \n",
       "846941 2014-01-01 00:09:06                1                906           9.80   \n",
       "846942 2014-01-01 00:05:00                1                360           2.23   \n",
       "846943 2014-01-01 00:08:00                1                540           1.76   \n",
       "846944 2014-01-01 00:22:26                1               1381           4.50   \n",
       "\n",
       "        pickup_longitude  pickup_latitude  dropoff_longitude  dropoff_latitude  \n",
       "846939        -73.973480        40.795177         -73.974670         40.788231  \n",
       "846940        -73.992058        40.750126         -73.987114         40.733604  \n",
       "846941        -73.994949        40.769096         -73.898994         40.869537  \n",
       "846942        -73.993492        40.729347         -74.013725         40.702332  \n",
       "846943        -73.978477        40.772945         -73.963814         40.773922  \n",
       "846944        -73.987206        40.750568         -73.970909         40.795815  "
      ]
     },
     "execution_count": 4,
     "metadata": {},
     "output_type": "execute_result"
    }
   ],
   "source": [
    "data.tail(6)"
   ]
  },
  {
   "cell_type": "code",
   "execution_count": 5,
   "metadata": {},
   "outputs": [
    {
     "data": {
      "text/html": [
       "<div>\n",
       "<table border=\"1\" class=\"dataframe\">\n",
       "  <thead>\n",
       "    <tr style=\"text-align: right;\">\n",
       "      <th></th>\n",
       "      <th>medallion</th>\n",
       "      <th>hack_license</th>\n",
       "      <th>vendor_id</th>\n",
       "      <th>pickup_datetime</th>\n",
       "      <th>payment_type</th>\n",
       "      <th>fare_amount</th>\n",
       "      <th>surcharge</th>\n",
       "      <th>mta_tax</th>\n",
       "      <th>tip_amount</th>\n",
       "      <th>tolls_amount</th>\n",
       "      <th>total_amount</th>\n",
       "    </tr>\n",
       "  </thead>\n",
       "  <tbody>\n",
       "    <tr>\n",
       "      <th>0</th>\n",
       "      <td>76942C3205E17D7E7FE5A9F709D16434</td>\n",
       "      <td>25BA06A87905667AA1FE5990E33F0E2E</td>\n",
       "      <td>VTS</td>\n",
       "      <td>2013-01-01 00:00:00</td>\n",
       "      <td>CSH</td>\n",
       "      <td>5.0</td>\n",
       "      <td>0.5</td>\n",
       "      <td>0.5</td>\n",
       "      <td>0.0</td>\n",
       "      <td>0.0</td>\n",
       "      <td>6.0</td>\n",
       "    </tr>\n",
       "    <tr>\n",
       "      <th>1</th>\n",
       "      <td>517C6B330DBB3F055D007B07512628B3</td>\n",
       "      <td>2C19FBEE1A6E05612EFE4C958C14BC7F</td>\n",
       "      <td>VTS</td>\n",
       "      <td>2013-01-01 00:05:00</td>\n",
       "      <td>CRD</td>\n",
       "      <td>13.5</td>\n",
       "      <td>0.5</td>\n",
       "      <td>0.5</td>\n",
       "      <td>2.8</td>\n",
       "      <td>0.0</td>\n",
       "      <td>17.3</td>\n",
       "    </tr>\n",
       "    <tr>\n",
       "      <th>2</th>\n",
       "      <td>ED15611F168E41B33619C83D900FE266</td>\n",
       "      <td>754AEBD7C80DA17BA1D81D89FB6F4D1D</td>\n",
       "      <td>CMT</td>\n",
       "      <td>2013-01-01 00:05:52</td>\n",
       "      <td>CSH</td>\n",
       "      <td>7.5</td>\n",
       "      <td>0.5</td>\n",
       "      <td>0.5</td>\n",
       "      <td>0.0</td>\n",
       "      <td>0.0</td>\n",
       "      <td>8.5</td>\n",
       "    </tr>\n",
       "    <tr>\n",
       "      <th>3</th>\n",
       "      <td>B33E704CC189E80C9671230C16527BBC</td>\n",
       "      <td>6789C77E1CBDC850C450D72204702976</td>\n",
       "      <td>VTS</td>\n",
       "      <td>2013-01-01 00:06:00</td>\n",
       "      <td>CSH</td>\n",
       "      <td>2.5</td>\n",
       "      <td>0.5</td>\n",
       "      <td>0.5</td>\n",
       "      <td>0.0</td>\n",
       "      <td>0.0</td>\n",
       "      <td>3.5</td>\n",
       "    </tr>\n",
       "    <tr>\n",
       "      <th>4</th>\n",
       "      <td>BD5CC6A22D05EB2D5C8235526A2A4276</td>\n",
       "      <td>5E8F2C93B5220A922699FEBAFC2F7A54</td>\n",
       "      <td>VTS</td>\n",
       "      <td>2013-01-01 00:06:00</td>\n",
       "      <td>CSH</td>\n",
       "      <td>6.5</td>\n",
       "      <td>0.5</td>\n",
       "      <td>0.5</td>\n",
       "      <td>0.0</td>\n",
       "      <td>0.0</td>\n",
       "      <td>7.5</td>\n",
       "    </tr>\n",
       "    <tr>\n",
       "      <th>5</th>\n",
       "      <td>61E558C4FCB0BCB8562FC37B06B97FFE</td>\n",
       "      <td>76DC5E351A0E646679BCA84B18B37B9A</td>\n",
       "      <td>VTS</td>\n",
       "      <td>2013-01-01 00:07:00</td>\n",
       "      <td>CRD</td>\n",
       "      <td>22.5</td>\n",
       "      <td>0.5</td>\n",
       "      <td>0.5</td>\n",
       "      <td>0.1</td>\n",
       "      <td>0.0</td>\n",
       "      <td>23.6</td>\n",
       "    </tr>\n",
       "  </tbody>\n",
       "</table>\n",
       "</div>"
      ],
      "text/plain": [
       "                          medallion                      hack_license  \\\n",
       "0  76942C3205E17D7E7FE5A9F709D16434  25BA06A87905667AA1FE5990E33F0E2E   \n",
       "1  517C6B330DBB3F055D007B07512628B3  2C19FBEE1A6E05612EFE4C958C14BC7F   \n",
       "2  ED15611F168E41B33619C83D900FE266  754AEBD7C80DA17BA1D81D89FB6F4D1D   \n",
       "3  B33E704CC189E80C9671230C16527BBC  6789C77E1CBDC850C450D72204702976   \n",
       "4  BD5CC6A22D05EB2D5C8235526A2A4276  5E8F2C93B5220A922699FEBAFC2F7A54   \n",
       "5  61E558C4FCB0BCB8562FC37B06B97FFE  76DC5E351A0E646679BCA84B18B37B9A   \n",
       "\n",
       "  vendor_id     pickup_datetime payment_type  fare_amount  surcharge  mta_tax  \\\n",
       "0       VTS 2013-01-01 00:00:00          CSH          5.0        0.5      0.5   \n",
       "1       VTS 2013-01-01 00:05:00          CRD         13.5        0.5      0.5   \n",
       "2       CMT 2013-01-01 00:05:52          CSH          7.5        0.5      0.5   \n",
       "3       VTS 2013-01-01 00:06:00          CSH          2.5        0.5      0.5   \n",
       "4       VTS 2013-01-01 00:06:00          CSH          6.5        0.5      0.5   \n",
       "5       VTS 2013-01-01 00:07:00          CRD         22.5        0.5      0.5   \n",
       "\n",
       "   tip_amount  tolls_amount  total_amount  \n",
       "0         0.0           0.0           6.0  \n",
       "1         2.8           0.0          17.3  \n",
       "2         0.0           0.0           8.5  \n",
       "3         0.0           0.0           3.5  \n",
       "4         0.0           0.0           7.5  \n",
       "5         0.1           0.0          23.6  "
      ]
     },
     "execution_count": 5,
     "metadata": {},
     "output_type": "execute_result"
    }
   ],
   "source": [
    "fare.head(6)"
   ]
  },
  {
   "cell_type": "markdown",
   "metadata": {},
   "source": [
    "## Group-by\n",
    "\n",
    "A ``group-by`` operation typically consists of one or several of the following steps:\n",
    "* splitting the data into groups that share common attributes\n",
    "* applying a function to every group\n",
    "* recombining the results"
   ]
  },
  {
   "cell_type": "markdown",
   "metadata": {},
   "source": [
    "Let's have a look at the weekly statistics in our dataset. We first need to split the data into weekly groups. pandas provides the groupby() method for this purpose, as shown here:"
   ]
  },
  {
   "cell_type": "code",
   "execution_count": 50,
   "metadata": {},
   "outputs": [
    {
     "name": "stdout",
     "output_type": "stream",
     "text": [
      "52\n"
     ]
    }
   ],
   "source": [
    "weekly = data.groupby(data.pickup_datetime.dt.weekofyear)\n",
    "print(len(weekly))"
   ]
  },
  {
   "cell_type": "markdown",
   "metadata": {},
   "source": [
    "The ``size()`` method returns the number of rows in each group, as shown here:"
   ]
  },
  {
   "cell_type": "code",
   "execution_count": 51,
   "metadata": {},
   "outputs": [
    {
     "data": {
      "text/plain": [
       "pickup_datetime\n",
       "1    17042\n",
       "2    15941\n",
       "3    17017\n",
       "4    17149\n",
       "5    17372\n",
       "6    15993\n",
       "dtype: int64"
      ]
     },
     "execution_count": 51,
     "metadata": {},
     "output_type": "execute_result"
    }
   ],
   "source": [
    "totalRides = weekly.size()\n",
    "totalRides.head(6)"
   ]
  },
  {
   "cell_type": "markdown",
   "metadata": {},
   "source": [
    "We'll now plot the number of rides per week. To create a meaningful plot, we first need to specify the appropriate x-axis with the dates of all 52 weeks:"
   ]
  },
  {
   "cell_type": "code",
   "execution_count": 52,
   "metadata": {},
   "outputs": [
    {
     "data": {
      "text/plain": [
       "pickup_datetime\n",
       "1   2013-01-01 00:00:00\n",
       "2   2013-01-07 00:03:00\n",
       "3   2013-01-14 00:00:51\n",
       "4   2013-01-21 00:00:53\n",
       "5   2013-01-28 00:00:13\n",
       "6   2013-02-04 00:00:00\n",
       "Name: pickup_datetime, dtype: datetime64[ns]"
      ]
     },
     "execution_count": 52,
     "metadata": {},
     "output_type": "execute_result"
    }
   ],
   "source": [
    "firstDayOfWeeks = weekly.pickup_datetime.first()\n",
    "firstDayOfWeeks.head(6)"
   ]
  },
  {
   "cell_type": "code",
   "execution_count": 53,
   "metadata": {},
   "outputs": [
    {
     "data": {
      "text/plain": [
       "<matplotlib.text.Text at 0x1192eac18>"
      ]
     },
     "execution_count": 53,
     "metadata": {},
     "output_type": "execute_result"
    },
    {
     "data": {
      "image/png": "[encoded data removed]",
      "text/plain": [
       "<matplotlib.figure.Figure at 0x11a08e518>"
      ]
     },
     "metadata": {},
     "output_type": "display_data"
    }
   ],
   "source": [
    "# Create a new Series with the values in totalRides and indexed by the firstDayOfWeeks\n",
    "pd.Series(totalRides.values, index=firstDayOfWeeks).plot()\n",
    "plt.ylim(0) # Set the lower totalRides value to 0\n",
    "plt.xlabel('Week')\n",
    "plt.ylabel('Taxi rides')"
   ]
  },
  {
   "cell_type": "markdown",
   "metadata": {},
   "source": [
    "More information about the powerful group-by operation in pandas can be found at\n",
    "http://pandas.pydata.org/pandas-docs/stable/groupby.html."
   ]
  },
  {
   "cell_type": "markdown",
   "metadata": {},
   "source": [
    "## Joins"
   ]
  },
  {
   "cell_type": "markdown",
   "metadata": {},
   "source": [
    "For the first step, we use groupby() again:"
   ]
  },
  {
   "cell_type": "code",
   "execution_count": 54,
   "metadata": {},
   "outputs": [
    {
     "name": "stdout",
     "output_type": "stream",
     "text": [
      "13407\n"
     ]
    },
    {
     "data": {
      "text/html": [
       "<div>\n",
       "<table border=\"1\" class=\"dataframe\">\n",
       "  <thead>\n",
       "    <tr style=\"text-align: right;\">\n",
       "      <th></th>\n",
       "      <th>tip_amount</th>\n",
       "    </tr>\n",
       "    <tr>\n",
       "      <th>medallion</th>\n",
       "      <th></th>\n",
       "    </tr>\n",
       "  </thead>\n",
       "  <tbody>\n",
       "    <tr>\n",
       "      <th>00005007A9F30E289E760362F69E4EAD</th>\n",
       "      <td>1.815854</td>\n",
       "    </tr>\n",
       "    <tr>\n",
       "      <th>000318C2E3E6381580E5C99910A60668</th>\n",
       "      <td>2.857222</td>\n",
       "    </tr>\n",
       "    <tr>\n",
       "      <th>000351EDC735C079246435340A54C7C1</th>\n",
       "      <td>2.099111</td>\n",
       "    </tr>\n",
       "    <tr>\n",
       "      <th>0009986BDBAB2F9A125FEF49D0BFCCDD</th>\n",
       "      <td>2.220000</td>\n",
       "    </tr>\n",
       "    <tr>\n",
       "      <th>00115F46520039845A5F719C979BEA45</th>\n",
       "      <td>3.422222</td>\n",
       "    </tr>\n",
       "    <tr>\n",
       "      <th>00153E36140C5B2A84EA308F355A7925</th>\n",
       "      <td>2.704687</td>\n",
       "    </tr>\n",
       "  </tbody>\n",
       "</table>\n",
       "</div>"
      ],
      "text/plain": [
       "                                  tip_amount\n",
       "medallion                                   \n",
       "00005007A9F30E289E760362F69E4EAD    1.815854\n",
       "000318C2E3E6381580E5C99910A60668    2.857222\n",
       "000351EDC735C079246435340A54C7C1    2.099111\n",
       "0009986BDBAB2F9A125FEF49D0BFCCDD    2.220000\n",
       "00115F46520039845A5F719C979BEA45    3.422222\n",
       "00153E36140C5B2A84EA308F355A7925    2.704687"
      ]
     },
     "execution_count": 54,
     "metadata": {},
     "output_type": "execute_result"
    }
   ],
   "source": [
    "tip = fare[['medallion', 'tip_amount']].loc[fare.tip_amount > 0].groupby('medallion').mean()\n",
    "print(len(tip))\n",
    "tip.head(6)"
   ]
  },
  {
   "cell_type": "markdown",
   "metadata": {},
   "source": [
    "Let's plot a histogram of these average tips:"
   ]
  },
  {
   "cell_type": "code",
   "execution_count": 60,
   "metadata": {},
   "outputs": [
    {
     "data": {
      "text/plain": [
       "<matplotlib.text.Text at 0x11a8d3048>"
      ]
     },
     "execution_count": 60,
     "metadata": {},
     "output_type": "execute_result"
    },
    {
     "data": {
      "image/png": "[encoded data removed]",
      "text/plain": [
       "<matplotlib.figure.Figure at 0x11a0dbd30>"
      ]
     },
     "metadata": {},
     "output_type": "display_data"
    }
   ],
   "source": [
    "tip.hist(bins=np.linspace(0.0, 6.0, 100))\n",
    "plt.xlabel('Average tip')\n",
    "plt.ylabel('Number of taxis')\n",
    "plt.title('Tip distribution')"
   ]
  },
  {
   "cell_type": "markdown",
   "metadata": {},
   "source": [
    "We can use the ``merge()`` function here:"
   ]
  },
  {
   "cell_type": "code",
   "execution_count": 70,
   "metadata": {},
   "outputs": [
    {
     "data": {
      "text/html": [
       "<div>\n",
       "<table border=\"1\" class=\"dataframe\">\n",
       "  <thead>\n",
       "    <tr style=\"text-align: right;\">\n",
       "      <th></th>\n",
       "      <th>medallion</th>\n",
       "      <th>hack_license</th>\n",
       "      <th>vendor_id</th>\n",
       "      <th>rate_code</th>\n",
       "      <th>store_and_fwd_flag</th>\n",
       "      <th>pickup_datetime</th>\n",
       "      <th>dropoff_datetime</th>\n",
       "      <th>passenger_count</th>\n",
       "      <th>trip_time_in_secs</th>\n",
       "      <th>trip_distance</th>\n",
       "      <th>pickup_longitude</th>\n",
       "      <th>pickup_latitude</th>\n",
       "      <th>dropoff_longitude</th>\n",
       "      <th>dropoff_latitude</th>\n",
       "      <th>tip_amount</th>\n",
       "    </tr>\n",
       "  </thead>\n",
       "  <tbody>\n",
       "    <tr>\n",
       "      <th>0</th>\n",
       "      <td>76942C3205E17D7E7FE5A9F709D16434</td>\n",
       "      <td>25BA06A87905667AA1FE5990E33F0E2E</td>\n",
       "      <td>VTS</td>\n",
       "      <td>1</td>\n",
       "      <td>NaN</td>\n",
       "      <td>2013-01-01 00:00:00</td>\n",
       "      <td>2013-01-01 00:05:00</td>\n",
       "      <td>3</td>\n",
       "      <td>300</td>\n",
       "      <td>0.61</td>\n",
       "      <td>-73.955925</td>\n",
       "      <td>40.781887</td>\n",
       "      <td>-73.963181</td>\n",
       "      <td>40.777832</td>\n",
       "      <td>3.180417</td>\n",
       "    </tr>\n",
       "    <tr>\n",
       "      <th>1</th>\n",
       "      <td>517C6B330DBB3F055D007B07512628B3</td>\n",
       "      <td>2C19FBEE1A6E05612EFE4C958C14BC7F</td>\n",
       "      <td>VTS</td>\n",
       "      <td>1</td>\n",
       "      <td>NaN</td>\n",
       "      <td>2013-01-01 00:05:00</td>\n",
       "      <td>2013-01-01 00:21:00</td>\n",
       "      <td>1</td>\n",
       "      <td>960</td>\n",
       "      <td>3.28</td>\n",
       "      <td>-74.005501</td>\n",
       "      <td>40.745735</td>\n",
       "      <td>-73.964943</td>\n",
       "      <td>40.755722</td>\n",
       "      <td>2.863235</td>\n",
       "    </tr>\n",
       "    <tr>\n",
       "      <th>2</th>\n",
       "      <td>ED15611F168E41B33619C83D900FE266</td>\n",
       "      <td>754AEBD7C80DA17BA1D81D89FB6F4D1D</td>\n",
       "      <td>CMT</td>\n",
       "      <td>1</td>\n",
       "      <td>N</td>\n",
       "      <td>2013-01-01 00:05:52</td>\n",
       "      <td>2013-01-01 00:12:18</td>\n",
       "      <td>1</td>\n",
       "      <td>386</td>\n",
       "      <td>1.50</td>\n",
       "      <td>-73.969955</td>\n",
       "      <td>40.799770</td>\n",
       "      <td>-73.954567</td>\n",
       "      <td>40.787392</td>\n",
       "      <td>2.147143</td>\n",
       "    </tr>\n",
       "    <tr>\n",
       "      <th>3</th>\n",
       "      <td>B33E704CC189E80C9671230C16527BBC</td>\n",
       "      <td>6789C77E1CBDC850C450D72204702976</td>\n",
       "      <td>VTS</td>\n",
       "      <td>1</td>\n",
       "      <td>NaN</td>\n",
       "      <td>2013-01-01 00:06:00</td>\n",
       "      <td>2013-01-01 00:06:00</td>\n",
       "      <td>6</td>\n",
       "      <td>0</td>\n",
       "      <td>0.00</td>\n",
       "      <td>-73.991432</td>\n",
       "      <td>40.755081</td>\n",
       "      <td>-73.991417</td>\n",
       "      <td>40.755085</td>\n",
       "      <td>2.498750</td>\n",
       "    </tr>\n",
       "    <tr>\n",
       "      <th>4</th>\n",
       "      <td>BD5CC6A22D05EB2D5C8235526A2A4276</td>\n",
       "      <td>5E8F2C93B5220A922699FEBAFC2F7A54</td>\n",
       "      <td>VTS</td>\n",
       "      <td>1</td>\n",
       "      <td>NaN</td>\n",
       "      <td>2013-01-01 00:06:00</td>\n",
       "      <td>2013-01-01 00:12:00</td>\n",
       "      <td>2</td>\n",
       "      <td>360</td>\n",
       "      <td>1.31</td>\n",
       "      <td>-73.966225</td>\n",
       "      <td>40.773716</td>\n",
       "      <td>-73.955399</td>\n",
       "      <td>40.782597</td>\n",
       "      <td>2.604571</td>\n",
       "    </tr>\n",
       "    <tr>\n",
       "      <th>5</th>\n",
       "      <td>61E558C4FCB0BCB8562FC37B06B97FFE</td>\n",
       "      <td>76DC5E351A0E646679BCA84B18B37B9A</td>\n",
       "      <td>VTS</td>\n",
       "      <td>1</td>\n",
       "      <td>NaN</td>\n",
       "      <td>2013-01-01 00:07:00</td>\n",
       "      <td>2013-01-01 00:34:00</td>\n",
       "      <td>1</td>\n",
       "      <td>1620</td>\n",
       "      <td>5.81</td>\n",
       "      <td>-73.955238</td>\n",
       "      <td>40.768978</td>\n",
       "      <td>-73.994064</td>\n",
       "      <td>40.720299</td>\n",
       "      <td>2.447000</td>\n",
       "    </tr>\n",
       "  </tbody>\n",
       "</table>\n",
       "</div>"
      ],
      "text/plain": [
       "                          medallion                      hack_license  \\\n",
       "0  76942C3205E17D7E7FE5A9F709D16434  25BA06A87905667AA1FE5990E33F0E2E   \n",
       "1  517C6B330DBB3F055D007B07512628B3  2C19FBEE1A6E05612EFE4C958C14BC7F   \n",
       "2  ED15611F168E41B33619C83D900FE266  754AEBD7C80DA17BA1D81D89FB6F4D1D   \n",
       "3  B33E704CC189E80C9671230C16527BBC  6789C77E1CBDC850C450D72204702976   \n",
       "4  BD5CC6A22D05EB2D5C8235526A2A4276  5E8F2C93B5220A922699FEBAFC2F7A54   \n",
       "5  61E558C4FCB0BCB8562FC37B06B97FFE  76DC5E351A0E646679BCA84B18B37B9A   \n",
       "\n",
       "  vendor_id  rate_code store_and_fwd_flag     pickup_datetime  \\\n",
       "0       VTS          1                NaN 2013-01-01 00:00:00   \n",
       "1       VTS          1                NaN 2013-01-01 00:05:00   \n",
       "2       CMT          1                  N 2013-01-01 00:05:52   \n",
       "3       VTS          1                NaN 2013-01-01 00:06:00   \n",
       "4       VTS          1                NaN 2013-01-01 00:06:00   \n",
       "5       VTS          1                NaN 2013-01-01 00:07:00   \n",
       "\n",
       "     dropoff_datetime  passenger_count  trip_time_in_secs  trip_distance  \\\n",
       "0 2013-01-01 00:05:00                3                300           0.61   \n",
       "1 2013-01-01 00:21:00                1                960           3.28   \n",
       "2 2013-01-01 00:12:18                1                386           1.50   \n",
       "3 2013-01-01 00:06:00                6                  0           0.00   \n",
       "4 2013-01-01 00:12:00                2                360           1.31   \n",
       "5 2013-01-01 00:34:00                1               1620           5.81   \n",
       "\n",
       "   pickup_longitude  pickup_latitude  dropoff_longitude  dropoff_latitude  \\\n",
       "0        -73.955925        40.781887         -73.963181         40.777832   \n",
       "1        -74.005501        40.745735         -73.964943         40.755722   \n",
       "2        -73.969955        40.799770         -73.954567         40.787392   \n",
       "3        -73.991432        40.755081         -73.991417         40.755085   \n",
       "4        -73.966225        40.773716         -73.955399         40.782597   \n",
       "5        -73.955238        40.768978         -73.994064         40.720299   \n",
       "\n",
       "   tip_amount  \n",
       "0    3.180417  \n",
       "1    2.863235  \n",
       "2    2.147143  \n",
       "3    2.498750  \n",
       "4    2.604571  \n",
       "5    2.447000  "
      ]
     },
     "execution_count": 70,
     "metadata": {},
     "output_type": "execute_result"
    }
   ],
   "source": [
    "data_merged = pd.merge(data, tip, how='left', left_on='medallion', right_index=True)\n",
    "data_merged.head(6)"
   ]
  },
  {
   "cell_type": "markdown",
   "metadata": {},
   "source": [
    "Joins and merges form a rich and complex topic. You will find more information at\n",
    "http://pandas.pydata.org/pandas-docs/stable/merging.html.\n",
    "\n",
    "Finally, here are a few more advanced topics in pandas that are worth exploring:\n",
    "* Features for time series data at http://pandas.pydata.org/pandas-docs/stable/timeseries.html\n",
    "* Support for categorical variables at http://pandas.pydata.org/pandasdocs/stable/categorical.html\n",
    "* Pivot tables (particularly useful when dealing with high-dimensional data) at\n",
    "http://pandas.pydata.org/pandas-docs/stable/reshaping.html"
   ]
  },
  {
   "cell_type": "code",
   "execution_count": null,
   "metadata": {
    "collapsed": true
   },
   "outputs": [],
   "source": []
  }
 ],
 "metadata": {
  "kernelspec": {
   "display_name": "Python 3",
   "language": "python",
   "name": "python3"
  },
  "language_info": {
   "codemirror_mode": {
    "name": "ipython",
    "version": 3
   },
   "file_extension": ".py",
   "mimetype": "text/x-python",
   "name": "python",
   "nbconvert_exporter": "python",
   "pygments_lexer": "ipython3",
   "version": "3.6.0"
  }
 },
 "nbformat": 4,
 "nbformat_minor": 2
}
