{
 "cells": [
  {
   "cell_type": "markdown",
   "metadata": {},
   "source": [
    "# TEN JUPYTER/IPYTHON ESSENTIALS"
   ]
  },
  {
   "cell_type": "markdown",
   "metadata": {},
   "source": [
    "## Using IPython as an extended shell\n",
    "IPython provides several magic commands that let you interact with your filesystem. These commands are prefixed with a %.\n",
    "\n",
    "Like most other magic commands, this magic command works on all operating systems, including Windows. IPython implements several cross-platform Python equivalents of common Unix commands like pwd. For other commands not implemented by IPython, we need to call shell commands directly with the ! prefix (as shown in the following examples). This doesn't work well on Windows since many of these commands are Unix-specific. In brief, %-prefixed commands should work on all operating systems while !-prefixed commands will generally only work on Linux and OS X, not Windows."
   ]
  },
  {
   "cell_type": "code",
   "execution_count": 1,
   "metadata": {
    "collapsed": false
   },
   "outputs": [
    {
     "data": {
      "text/plain": [
       "'/home/fimplus/GitHub/hiencb/Python/learn/ipython/Getting Started with IPython'"
      ]
     },
     "execution_count": 1,
     "metadata": {},
     "output_type": "execute_result"
    }
   ],
   "source": [
    "%pwd"
   ]
  },
  {
   "cell_type": "code",
   "execution_count": 3,
   "metadata": {
    "collapsed": false
   },
   "outputs": [
    {
     "name": "stdout",
     "output_type": "stream",
     "text": [
      "--2017-03-31 11:08:46--  https://raw.githubusercontent.com/ipython-books/minibook-2nd-data/master/facebook.zip\n",
      "Resolving raw.githubusercontent.com (raw.githubusercontent.com)... 151.101.100.133\n",
      "Connecting to raw.githubusercontent.com (raw.githubusercontent.com)|151.101.100.133|:443... connected.\n",
      "HTTP request sent, awaiting response... 200 OK\n",
      "Length: 610785 (596K) [application/zip]\n",
      "Saving to: ‘facebook.zip’\n",
      "\n",
      "facebook.zip        100%[===================>] 596,47K  1,82MB/s    in 0,3s    \n",
      "\n",
      "2017-03-31 11:08:47 (1,82 MB/s) - ‘facebook.zip’ saved [610785/610785]\n",
      "\n"
     ]
    }
   ],
   "source": [
    "!wget https://raw.githubusercontent.com/ipython-books/minibook-2nd-data/master/facebook.zip"
   ]
  },
  {
   "cell_type": "code",
   "execution_count": 4,
   "metadata": {
    "collapsed": false
   },
   "outputs": [
    {
     "name": "stdout",
     "output_type": "stream",
     "text": [
      "Archive:  facebook.zip\r\n",
      "  inflating: facebook/0.circles      \r\n",
      "  inflating: facebook/0.edges        \r\n",
      "  inflating: facebook/107.circles    \r\n",
      "  inflating: facebook/107.edges      \r\n",
      "  inflating: facebook/1684.circles   \r\n",
      "  inflating: facebook/1684.edges     \r\n",
      "  inflating: facebook/1912.circles   \r\n",
      "  inflating: facebook/1912.edges     \r\n",
      "  inflating: facebook/3437.circles   \r\n",
      "  inflating: facebook/3437.edges     \r\n",
      "  inflating: facebook/348.circles    \r\n",
      "  inflating: facebook/348.edges      \r\n",
      "  inflating: facebook/3980.circles   \r\n",
      "  inflating: facebook/3980.edges     \r\n",
      "  inflating: facebook/414.circles    \r\n",
      "  inflating: facebook/414.edges      \r\n",
      "  inflating: facebook/686.circles    \r\n",
      "  inflating: facebook/686.edges      \r\n",
      "  inflating: facebook/698.circles    \r\n",
      "  inflating: facebook/698.edges      \r\n"
     ]
    }
   ],
   "source": [
    "!unzip facebook.zip"
   ]
  },
  {
   "cell_type": "code",
   "execution_count": 7,
   "metadata": {
    "collapsed": false
   },
   "outputs": [
    {
     "name": "stdout",
     "output_type": "stream",
     "text": [
      "[Errno 2] No such file or directory: 'facebook/'\n",
      "/home/fimplus/GitHub/hiencb/Python/learn/ipython/Getting Started with IPython/facebook\n"
     ]
    }
   ],
   "source": [
    "%cd facebook/"
   ]
  },
  {
   "cell_type": "code",
   "execution_count": 8,
   "metadata": {
    "collapsed": false
   },
   "outputs": [
    {
     "name": "stdout",
     "output_type": "stream",
     "text": [
      "0.circles    1684.circles  3437.circles  3980.circles  686.circles\r\n",
      "0.edges      1684.edges    3437.edges    3980.edges    686.edges\r\n",
      "107.circles  1912.circles  348.circles   414.circles   698.circles\r\n",
      "107.edges    1912.edges    348.edges     414.edges     698.edges\r\n"
     ]
    }
   ],
   "source": [
    "%ls"
   ]
  },
  {
   "cell_type": "code",
   "execution_count": 9,
   "metadata": {
    "collapsed": true
   },
   "outputs": [],
   "source": [
    "%bookmark fbdata"
   ]
  },
  {
   "cell_type": "code",
   "execution_count": 12,
   "metadata": {
    "collapsed": true
   },
   "outputs": [],
   "source": [
    "%bookmark?"
   ]
  },
  {
   "cell_type": "code",
   "execution_count": 11,
   "metadata": {
    "collapsed": false
   },
   "outputs": [
    {
     "name": "stdout",
     "output_type": "stream",
     "text": [
      "Current bookmarks:\n",
      "fbdata -> /home/fimplus/GitHub/hiencb/Python/learn/ipython/Getting Started with IPython/facebook\n"
     ]
    }
   ],
   "source": [
    "%bookmark -l"
   ]
  },
  {
   "cell_type": "code",
   "execution_count": 16,
   "metadata": {
    "collapsed": false
   },
   "outputs": [
    {
     "name": "stdout",
     "output_type": "stream",
     "text": [
      "/home/fimplus\n"
     ]
    }
   ],
   "source": [
    "%cd ~"
   ]
  },
  {
   "cell_type": "code",
   "execution_count": 41,
   "metadata": {
    "collapsed": false
   },
   "outputs": [
    {
     "name": "stdout",
     "output_type": "stream",
     "text": [
      "(bookmark:fbdata) -> /home/fimplus/GitHub/hiencb/Python/learn/ipython/Getting Started with IPython/facebook\n",
      "/home/fimplus/GitHub/hiencb/Python/learn/ipython/Getting Started with IPython/facebook\n"
     ]
    }
   ],
   "source": [
    "%cd -b fbdata"
   ]
  },
  {
   "cell_type": "code",
   "execution_count": 20,
   "metadata": {
    "collapsed": false
   },
   "outputs": [
    {
     "data": {
      "text/plain": [
       "['1912.circles',\n",
       " '1684.circles',\n",
       " '107.circles',\n",
       " '348.circles',\n",
       " '686.circles',\n",
       " '0.circles',\n",
       " '3437.circles',\n",
       " '414.circles',\n",
       " '698.circles',\n",
       " '3980.circles']"
      ]
     },
     "execution_count": 20,
     "metadata": {},
     "output_type": "execute_result"
    }
   ],
   "source": [
    "files = !ls -1 -S | grep .circles\n",
    "files"
   ]
  },
  {
   "cell_type": "code",
   "execution_count": 21,
   "metadata": {
    "collapsed": false
   },
   "outputs": [
    {
     "name": "stdout",
     "output_type": "stream",
     "text": [
      "circle0\t2540\t2047\t2543\t2332\t2183\t2094\t1941\r\n",
      "circle1\t2014\t2571\t2009\t2011\t2657\t1931\t2639\t2640\t2645\t1999\t2000\t1998\t2284\t2585\t2001\t2020\t2192\t2159\t2024\t2297\t1921\t1995\t2004\t2378\t2006\t2346\t2116\t2648\t2647\t2459\t2337\t2022\t2658\t2660\t2659\t2018\t2268\t2633\t1976\t2341\t1968\t1927\t1954\t2447\t1928\t2157\t2472\t1991\t1950\t2627\t2626\t1914\t2016\t2012\t136\t2364\t2636\t2494\t2015\t2097\t2620\t2583\t1951\t2538\t1935\t2143\t2025\t2027\t2171\t1919\r\n",
      "circle2\t2456\r\n",
      "circle3\t2108\t2369\t2046\t2059\r\n",
      "circle4\t2439\t2531\t2185\t2254\t2548\t2461\t2558\t2375\t2219\t2217\t2621\r\n"
     ]
    }
   ],
   "source": [
    "!head -n5 {files[0]}"
   ]
  },
  {
   "cell_type": "code",
   "execution_count": 36,
   "metadata": {
    "collapsed": true
   },
   "outputs": [],
   "source": [
    "%alias goto cd"
   ]
  },
  {
   "cell_type": "code",
   "execution_count": 44,
   "metadata": {
    "collapsed": false
   },
   "outputs": [
    {
     "data": {
      "text/plain": [
       "'/home/fimplus/GitHub/hiencb/Python/learn/ipython/Getting Started with IPython/facebook'"
      ]
     },
     "execution_count": 44,
     "metadata": {},
     "output_type": "execute_result"
    }
   ],
   "source": [
    "%goto \"/\"\n",
    "%pwd"
   ]
  },
  {
   "cell_type": "code",
   "execution_count": 40,
   "metadata": {
    "collapsed": false
   },
   "outputs": [
    {
     "name": "stdout",
     "output_type": "stream",
     "text": [
      "/bin/sh: 1: cd: Illegal option -b\r\n"
     ]
    },
    {
     "data": {
      "text/plain": [
       "'/home/fimplus'"
      ]
     },
     "execution_count": 40,
     "metadata": {},
     "output_type": "execute_result"
    }
   ],
   "source": [
    "%goto -b fbddata\n",
    "%pwd"
   ]
  },
  {
   "cell_type": "code",
   "execution_count": 35,
   "metadata": {
    "collapsed": true
   },
   "outputs": [],
   "source": [
    "%store?"
   ]
  },
  {
   "cell_type": "code",
   "execution_count": null,
   "metadata": {
    "collapsed": true
   },
   "outputs": [],
   "source": []
  }
 ],
 "metadata": {
  "kernelspec": {
   "display_name": "Python 3",
   "language": "python",
   "name": "python3"
  },
  "language_info": {
   "codemirror_mode": {
    "name": "ipython",
    "version": 3
   },
   "file_extension": ".py",
   "mimetype": "text/x-python",
   "name": "python",
   "nbconvert_exporter": "python",
   "pygments_lexer": "ipython3",
   "version": "3.6.0"
  }
 },
 "nbformat": 4,
 "nbformat_minor": 2
}
