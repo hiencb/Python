{
 "cells": [
  {
   "cell_type": "markdown",
   "metadata": {},
   "source": [
    "# The Notebook modal interface"
   ]
  },
  {
   "cell_type": "markdown",
   "metadata": {},
   "source": [
    "## Keyboard shortcuts available in both modes\n",
    "* Ctrl + Enter: run the cell\n",
    "* Shift + Enter: run the cell and select the cell below\n",
    "* Alt + Enter: run the cell and insert a new cell below\n",
    "* Ctrl + S: save the notebook"
   ]
  },
  {
   "cell_type": "markdown",
   "metadata": {},
   "source": [
    "## Keyboard shortcuts available in the edit mode\n",
    "* Esc: switch to command mode\n",
    "* Ctrl + Shift + -: split the cell"
   ]
  },
  {
   "cell_type": "markdown",
   "metadata": {},
   "source": [
    "## Keyboard shortcuts available in the command mode\n",
    "* Enter: switch to edit mode\n",
    "* ↑ or k: select the previous cell\n",
    "* ↓ or j: select the next cell\n",
    "* y / m: change the cell type to code cell/Markdown cell\n",
    "* a / b: insert a new cell above/below the current cell\n",
    "* x / c / v: cut/copy/paste the current cell\n",
    "* dd: delete the current cell\n",
    "* z: undo the last delete operation\n",
    "* Shift + m: merge the cell below\n",
    "* h: display the help menu with the list of keyboard shortcuts"
   ]
  },
  {
   "cell_type": "code",
   "execution_count": null,
   "metadata": {
    "collapsed": true
   },
   "outputs": [],
   "source": []
  }
 ],
 "metadata": {
  "kernelspec": {
   "display_name": "Python 3",
   "language": "python",
   "name": "python3"
  },
  "language_info": {
   "codemirror_mode": {
    "name": "ipython",
    "version": 3
   },
   "file_extension": ".py",
   "mimetype": "text/x-python",
   "name": "python",
   "nbconvert_exporter": "python",
   "pygments_lexer": "ipython3",
   "version": "3.6.0"
  }
 },
 "nbformat": 4,
 "nbformat_minor": 2
}
