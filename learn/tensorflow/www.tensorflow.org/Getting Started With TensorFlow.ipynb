{
 "cells": [
  {
   "cell_type": "markdown",
   "metadata": {},
   "source": [
    "# [Getting Started With TensorFlow](https://www.tensorflow.org/get_started/get_started)"
   ]
  },
  {
   "cell_type": "code",
   "execution_count": 1,
   "metadata": {
    "collapsed": true
   },
   "outputs": [],
   "source": [
    "import tensorflow as tf\n",
    "import numpy as np\n",
    "logDir = 'logs/getting started'"
   ]
  },
  {
   "cell_type": "code",
   "execution_count": 2,
   "metadata": {},
   "outputs": [
    {
     "data": {
      "text/plain": [
       "'1.0.1'"
      ]
     },
     "execution_count": 2,
     "metadata": {},
     "output_type": "execute_result"
    }
   ],
   "source": [
    "tf.__version__"
   ]
  },
  {
   "cell_type": "markdown",
   "metadata": {},
   "source": [
    "## Constants"
   ]
  },
  {
   "cell_type": "code",
   "execution_count": 3,
   "metadata": {},
   "outputs": [
    {
     "name": "stdout",
     "output_type": "stream",
     "text": [
      "3 4 7\n"
     ]
    }
   ],
   "source": [
    "a = tf.constant(3)\n",
    "b = tf.constant(4)\n",
    "c = a + b\n",
    "\n",
    "with tf.Session() as sess:\n",
    "    (aRes, bRes, cRes) = sess.run([a, b, c])\n",
    "    print(aRes, bRes, cRes)\n",
    "    tf.summary.FileWriter(logDir, sess.graph)"
   ]
  },
  {
   "cell_type": "markdown",
   "metadata": {},
   "source": [
    "## Placeholders"
   ]
  },
  {
   "cell_type": "code",
   "execution_count": 4,
   "metadata": {},
   "outputs": [
    {
     "name": "stdout",
     "output_type": "stream",
     "text": [
      "[[ 3.  5.  8.  1.]\n",
      " [ 2.  9.  4.  2.]]\n",
      "[[ 4.]\n",
      " [ 8.]\n",
      " [ 0.]\n",
      " [ 3.]]\n",
      "[[ 55.]\n",
      " [ 86.]]\n"
     ]
    }
   ],
   "source": [
    "a = tf.placeholder(dtype=tf.float64, shape=[2, 4])\n",
    "b = tf.placeholder(dtype=tf.float64, shape=[4, 1])\n",
    "c = tf.matmul(a, b)\n",
    "\n",
    "with tf.Session() as sess:\n",
    "    aVal = [[3, 5, 8, 1], [2, 9, 4, 2]]\n",
    "    bVal = [[4], [8], [0], [3]]\n",
    "    (aRes, bRes, cRes) = sess.run((a, b, c), feed_dict={a: aVal, b:bVal})\n",
    "    print(aRes)\n",
    "    print(bRes)\n",
    "    print(cRes)\n",
    "    tf.summary.FileWriter(logDir, sess.graph)"
   ]
  },
  {
   "cell_type": "markdown",
   "metadata": {},
   "source": [
    "## Variables"
   ]
  },
  {
   "cell_type": "code",
   "execution_count": 5,
   "metadata": {},
   "outputs": [
    {
     "name": "stdout",
     "output_type": "stream",
     "text": [
      "[-0.60279095  1.18525495 -0.04886636 -1.91084952]\n",
      "-0.344312970718\n",
      "1.23692858716\n"
     ]
    }
   ],
   "source": [
    "def statistics(a, b, c):\n",
    "    randomize = tf.assign(a, tf.random_normal(dtype=tf.float64, shape=[4]))\n",
    "    (mean, stdev) = tf.nn.moments(a, axes=[0])\n",
    "    setMean = tf.assign(b, mean)\n",
    "    setStdev = tf.assign(c, stdev)\n",
    "    init = tf.global_variables_initializer()\n",
    "    \n",
    "    with tf.Session() as sess:\n",
    "        sess.run(init)\n",
    "        sess.run(randomize)\n",
    "        sess.run((setMean, setStdev))\n",
    "        (aRes, bRes, cRes) = sess.run((a, b, c))\n",
    "        print(aRes)\n",
    "        print(bRes)\n",
    "        print(cRes)\n",
    "        tf.summary.FileWriter(logDir, sess.graph)\n",
    "        \n",
    "    \n",
    "a = tf.Variable([0, 0, 0, 0], dtype=tf.float64)\n",
    "b = tf.Variable(0, dtype=tf.float64)\n",
    "c = tf.Variable(0, dtype=tf.float64)\n",
    "statistics(a, b, c)"
   ]
  },
  {
   "cell_type": "markdown",
   "metadata": {},
   "source": [
    "## ``tf.train``"
   ]
  },
  {
   "cell_type": "code",
   "execution_count": 23,
   "metadata": {
    "collapsed": true
   },
   "outputs": [],
   "source": [
    "nSamples = 1000\n",
    "nFeatures = 3\n",
    "nTrain = int(nSamples * 0.8)\n",
    "\n",
    "X = tf.placeholder(dtype=tf.float32, name='X')\n",
    "y = tf.placeholder(dtype=tf.float32, name='y')\n",
    "a = tf.Variable([[0], [0], [0]], dtype=tf.float32, name='a')\n",
    "b = tf.Variable(0, dtype=tf.float32, name='b')\n",
    "\n",
    "prediction = tf.matmul(X, a) + b\n",
    "cost = tf.reduce_mean(tf.square(prediction - y))\n",
    "optimizer = tf.train.GradientDescentOptimizer(0.003)\n",
    "train = optimizer.minimize(cost)\n",
    "init = tf.global_variables_initializer()"
   ]
  },
  {
   "cell_type": "code",
   "execution_count": 24,
   "metadata": {
    "collapsed": true
   },
   "outputs": [],
   "source": [
    "XSamples = np.random.randn(nSamples, nFeatures) * 10 + 3\n",
    "def calculateY(x):\n",
    "    return [x[0] * 4.2 + x[1] * (-2.2) + x[2] * 0.48 + 3.8 - np.random.normal(loc=2.22, scale=0.25)]\n",
    "\n",
    "ySamples = np.apply_along_axis(arr=XSamples, func1d=calculateY, axis=1)\n",
    "\n",
    "X_train = XSamples[: nTrain, :]\n",
    "y_train = ySamples[: nTrain, :]\n",
    "X_test = XSamples[nTrain :, :]\n",
    "y_test = ySamples[nTrain :, :]"
   ]
  },
  {
   "cell_type": "code",
   "execution_count": 8,
   "metadata": {},
   "outputs": [
    {
     "name": "stdout",
     "output_type": "stream",
     "text": [
      "(800, 3)\n"
     ]
    },
    {
     "data": {
      "text/plain": [
       "array([[ 12.20124728,   2.5398655 ,   8.80046104],\n",
       "       [ -8.84608428,  -2.70371496,  -1.61742939],\n",
       "       [ -1.09668924,  -6.99596994,  15.59148976],\n",
       "       [ 14.34560048,   0.95803639,  25.70520824],\n",
       "       [ 11.82515693,   1.40197366,   9.54464551],\n",
       "       [  3.24737932,  26.00698478,   0.94306032]])"
      ]
     },
     "execution_count": 8,
     "metadata": {},
     "output_type": "execute_result"
    }
   ],
   "source": [
    "print(X_train.shape)\n",
    "X_train[: 6, :]"
   ]
  },
  {
   "cell_type": "code",
   "execution_count": 9,
   "metadata": {},
   "outputs": [
    {
     "name": "stdout",
     "output_type": "stream",
     "text": [
      "(200, 3)\n"
     ]
    },
    {
     "data": {
      "text/plain": [
       "array([[ -3.30252904e-01,   1.50951787e+01,   6.66171163e+00],\n",
       "       [  1.29261772e+01,  -5.22915627e+00,   1.75905124e+01],\n",
       "       [ -1.43550430e+01,   1.42803789e+01,   2.20685069e+00],\n",
       "       [ -6.76525268e+00,   1.08565869e+01,   1.99767552e-02],\n",
       "       [  6.65704631e+00,  -1.03037930e+01,   2.09280275e+00],\n",
       "       [ -1.06531677e+01,   2.75097098e+01,   1.71980115e+00]])"
      ]
     },
     "execution_count": 9,
     "metadata": {},
     "output_type": "execute_result"
    }
   ],
   "source": [
    "print(X_test.shape)\n",
    "X_test[: 6, :]"
   ]
  },
  {
   "cell_type": "code",
   "execution_count": 10,
   "metadata": {},
   "outputs": [
    {
     "name": "stdout",
     "output_type": "stream",
     "text": [
      "(800, 1)\n"
     ]
    },
    {
     "data": {
      "text/plain": [
       "array([[ 51.80962364],\n",
       "       [-30.21258113],\n",
       "       [ 19.67206929],\n",
       "       [ 72.18222245],\n",
       "       [ 52.39921053],\n",
       "       [-41.34869118]])"
      ]
     },
     "execution_count": 10,
     "metadata": {},
     "output_type": "execute_result"
    }
   ],
   "source": [
    "print(y_train.shape)\n",
    "y_train[: 6]"
   ]
  },
  {
   "cell_type": "code",
   "execution_count": 11,
   "metadata": {},
   "outputs": [
    {
     "name": "stdout",
     "output_type": "stream",
     "text": [
      "(200, 1)\n"
     ]
    },
    {
     "data": {
      "text/plain": [
       "array([[ -29.75754717],\n",
       "       [  75.48195547],\n",
       "       [ -89.08376795],\n",
       "       [ -50.5912982 ],\n",
       "       [  53.42229165],\n",
       "       [-102.83625617]])"
      ]
     },
     "execution_count": 11,
     "metadata": {},
     "output_type": "execute_result"
    }
   ],
   "source": [
    "print(y_test.shape)\n",
    "y_test[: 6]"
   ]
  },
  {
   "cell_type": "code",
   "execution_count": 12,
   "metadata": {},
   "outputs": [
    {
     "name": "stdout",
     "output_type": "stream",
     "text": [
      "aRes: [[ 4.20036316]\n",
      " [-2.20034289]\n",
      " [ 0.48015046]]\n",
      "bRes: 1.5813637971878052\n",
      "costRes: 0.05771639943122864\n",
      "y_predict: [[ -29.8217659 ]\n",
      " [  75.82803345]\n",
      " [ -89.07713318]\n",
      " [ -50.71377563]\n",
      " [  53.22011185]\n",
      " [-102.87084198]]\n",
      "y_test: [[ -29.75754717]\n",
      " [  75.48195547]\n",
      " [ -89.08376795]\n",
      " [ -50.5912982 ]\n",
      " [  53.42229165]\n",
      " [-102.83625617]]\n",
      "cost_test: 0.06520393490791321\n"
     ]
    }
   ],
   "source": [
    "with tf.Session() as sess:\n",
    "    sess.run(init)\n",
    "    tf.summary.FileWriter(logDir, sess.graph)\n",
    "    feed_train = {X: X_train, y: y_train}\n",
    "    \n",
    "    for _ in range(10000):\n",
    "        sess.run(train, feed_dict=feed_train)\n",
    "\n",
    "    (aRes, bRes, costRes) = sess.run((a, b, cost), feed_dict=feed_train)\n",
    "    print('aRes: {0}'.format(aRes))\n",
    "    print('bRes: {0}'.format(bRes))\n",
    "    print('costRes: {0}'.format(costRes))\n",
    "    \n",
    "    feed_test = {X: X_test, y: y_test}\n",
    "    \n",
    "    y_predict = sess.run(prediction, feed_dict=feed_test)\n",
    "    print('y_predict: {0}'.format(y_predict[: 6]))\n",
    "    print('y_test: {0}'.format(y_test[: 6]))\n",
    "    cost_test = sess.run(cost, feed_dict=feed_test)\n",
    "    print('cost_test: {0}'.format(cost_test))"
   ]
  },
  {
   "cell_type": "markdown",
   "metadata": {},
   "source": [
    "## ``tf.contrib.learn``"
   ]
  },
  {
   "cell_type": "markdown",
   "metadata": {},
   "source": [
    "### Basic usage"
   ]
  },
  {
   "cell_type": "code",
   "execution_count": 13,
   "metadata": {
    "scrolled": false
   },
   "outputs": [
    {
     "name": "stdout",
     "output_type": "stream",
     "text": [
      "INFO:tensorflow:Using default config.\n",
      "INFO:tensorflow:Using config: {'_environment': 'local', '_evaluation_master': '', '_task_id': 0, '_tf_config': gpu_options {\n",
      "  per_process_gpu_memory_fraction: 1\n",
      "}\n",
      ", '_master': '', '_tf_random_seed': None, '_save_checkpoints_steps': None, '_task_type': None, '_keep_checkpoint_every_n_hours': 10000, '_keep_checkpoint_max': 5, '_cluster_spec': <tensorflow.python.training.server_lib.ClusterSpec object at 0x10ec2bda0>, '_save_checkpoints_secs': 600, '_save_summary_steps': 100, '_num_ps_replicas': 0, '_is_chief': True}\n",
      "WARNING:tensorflow:From /Library/Frameworks/Python.framework/Versions/3.5/lib/python3.5/site-packages/tensorflow/contrib/learn/python/learn/estimators/head.py:1362: scalar_summary (from tensorflow.python.ops.logging_ops) is deprecated and will be removed after 2016-11-30.\n",
      "Instructions for updating:\n",
      "Please switch to tf.summary.scalar. Note that tf.summary.scalar uses the node name instead of the tag. This means that TensorFlow will automatically de-duplicate summary names based on the scope they are created in. Also, passing a tensor or list of tags to a scalar summary op is no longer supported.\n",
      "INFO:tensorflow:Create CheckpointSaverHook.\n",
      "INFO:tensorflow:Saving checkpoints for 154201 into logs/model.ckpt.\n",
      "INFO:tensorflow:loss = 0.0552771, step = 154201\n",
      "INFO:tensorflow:global_step/sec: 986.795\n",
      "INFO:tensorflow:loss = 0.0571701, step = 154301\n",
      "INFO:tensorflow:global_step/sec: 882.528\n",
      "INFO:tensorflow:loss = 0.0558643, step = 154401\n",
      "INFO:tensorflow:global_step/sec: 978.339\n",
      "INFO:tensorflow:loss = 0.0540647, step = 154501\n",
      "INFO:tensorflow:global_step/sec: 1011.22\n",
      "INFO:tensorflow:loss = 0.0699061, step = 154601\n",
      "INFO:tensorflow:global_step/sec: 990.992\n",
      "INFO:tensorflow:loss = 0.0577396, step = 154701\n",
      "INFO:tensorflow:global_step/sec: 994.887\n",
      "INFO:tensorflow:loss = 0.0626457, step = 154801\n",
      "INFO:tensorflow:global_step/sec: 1009.85\n",
      "INFO:tensorflow:loss = 0.051839, step = 154901\n",
      "INFO:tensorflow:global_step/sec: 1025.34\n",
      "INFO:tensorflow:loss = 0.0590223, step = 155001\n",
      "INFO:tensorflow:global_step/sec: 993.205\n",
      "INFO:tensorflow:loss = 0.0600884, step = 155101\n",
      "INFO:tensorflow:global_step/sec: 1046.6\n",
      "INFO:tensorflow:loss = 0.0609348, step = 155201\n",
      "INFO:tensorflow:global_step/sec: 1040.26\n",
      "INFO:tensorflow:loss = 0.0612463, step = 155301\n",
      "INFO:tensorflow:global_step/sec: 1056.77\n",
      "INFO:tensorflow:loss = 0.0565735, step = 155401\n",
      "INFO:tensorflow:global_step/sec: 1027.58\n",
      "INFO:tensorflow:loss = 0.0551672, step = 155501\n",
      "INFO:tensorflow:global_step/sec: 974.66\n",
      "INFO:tensorflow:loss = 0.0624848, step = 155601\n",
      "INFO:tensorflow:global_step/sec: 923.53\n",
      "INFO:tensorflow:loss = 0.0545105, step = 155701\n",
      "INFO:tensorflow:global_step/sec: 930.649\n",
      "INFO:tensorflow:loss = 0.056786, step = 155801\n",
      "INFO:tensorflow:global_step/sec: 998.223\n",
      "INFO:tensorflow:loss = 0.0503681, step = 155901\n",
      "INFO:tensorflow:global_step/sec: 967.66\n",
      "INFO:tensorflow:loss = 0.0544179, step = 156001\n",
      "INFO:tensorflow:global_step/sec: 985.388\n",
      "INFO:tensorflow:loss = 0.045505, step = 156101\n",
      "INFO:tensorflow:global_step/sec: 924.206\n",
      "INFO:tensorflow:loss = 0.0686906, step = 156201\n",
      "INFO:tensorflow:global_step/sec: 934.51\n",
      "INFO:tensorflow:loss = 0.0610654, step = 156301\n",
      "INFO:tensorflow:global_step/sec: 945.777\n",
      "INFO:tensorflow:loss = 0.0590177, step = 156401\n",
      "INFO:tensorflow:global_step/sec: 1032.13\n",
      "INFO:tensorflow:loss = 0.0585663, step = 156501\n",
      "INFO:tensorflow:global_step/sec: 1052.64\n",
      "INFO:tensorflow:loss = 0.0557027, step = 156601\n",
      "INFO:tensorflow:global_step/sec: 1025.15\n",
      "INFO:tensorflow:loss = 0.0530718, step = 156701\n",
      "INFO:tensorflow:global_step/sec: 1057.12\n",
      "INFO:tensorflow:loss = 0.0575002, step = 156801\n",
      "INFO:tensorflow:global_step/sec: 1032.22\n",
      "INFO:tensorflow:loss = 0.0575763, step = 156901\n",
      "INFO:tensorflow:global_step/sec: 958.111\n",
      "INFO:tensorflow:loss = 0.0544096, step = 157001\n",
      "INFO:tensorflow:global_step/sec: 981.411\n",
      "INFO:tensorflow:loss = 0.0505244, step = 157101\n",
      "INFO:tensorflow:global_step/sec: 1044.36\n",
      "INFO:tensorflow:loss = 0.0544886, step = 157201\n",
      "INFO:tensorflow:global_step/sec: 1027.39\n",
      "INFO:tensorflow:loss = 0.0602568, step = 157301\n",
      "INFO:tensorflow:Saving checkpoints for 157400 into logs/model.ckpt.\n",
      "INFO:tensorflow:Loss for final step: 0.0606765.\n"
     ]
    },
    {
     "data": {
      "text/plain": [
       "LinearRegressor(params={'joint_weights': False, 'optimizer': None, 'head': <tensorflow.contrib.learn.python.learn.estimators.head._RegressionHead object at 0x10eae3f28>, 'gradient_clip_norm': None, 'feature_columns': [_RealValuedColumn(column_name='X', dimension=3, default_value=None, dtype=tf.float32, normalizer=None)]})"
      ]
     },
     "execution_count": 13,
     "metadata": {},
     "output_type": "execute_result"
    }
   ],
   "source": [
    "features = [tf.contrib.layers.real_valued_column(column_name='X', dimension=3)]\n",
    "trainer = tf.contrib.learn.LinearRegressor(feature_columns=features, model_dir=logDir)\n",
    "input_fn_train = tf.contrib.learn.io.numpy_input_fn({'X': X_train}, y_train, batch_size=200, num_epochs=800)\n",
    "trainer.fit(input_fn=input_fn_train, steps=5000)"
   ]
  },
  {
   "cell_type": "code",
   "execution_count": 18,
   "metadata": {},
   "outputs": [
    {
     "name": "stdout",
     "output_type": "stream",
     "text": [
      "a: [[ 4.2003603 ]\n",
      " [-2.20035529]\n",
      " [ 0.48015895]]\n",
      "b: [ 1.58134663]\n",
      "WARNING:tensorflow:From /Library/Frameworks/Python.framework/Versions/3.5/lib/python3.5/site-packages/tensorflow/contrib/learn/python/learn/estimators/head.py:1362: scalar_summary (from tensorflow.python.ops.logging_ops) is deprecated and will be removed after 2016-11-30.\n",
      "Instructions for updating:\n",
      "Please switch to tf.summary.scalar. Note that tf.summary.scalar uses the node name instead of the tag. This means that TensorFlow will automatically de-duplicate summary names based on the scope they are created in. Also, passing a tensor or list of tags to a scalar summary op is no longer supported.\n",
      "INFO:tensorflow:Starting evaluation at 2017-04-11-14:09:24\n",
      "INFO:tensorflow:Finished evaluation at 2017-04-11-14:09:24\n",
      "INFO:tensorflow:Saving dict for global step 157400: global_step = 157400, loss = 0.0462997\n",
      "WARNING:tensorflow:Skipping summary for global_step, must be a float or np.float32.\n",
      "y_predict: [-29.821909, 75.828194, -89.077278, -50.713909, 53.220222, -102.87115]\n",
      "y_test: [ -29.75754717   75.48195547  -89.08376795  -50.5912982    53.42229165\n",
      " -102.83625617]\n",
      "evalRes: {'global_step': 157400, 'loss': 0.046299677}\n"
     ]
    }
   ],
   "source": [
    "print('a: {0}'.format(trainer.get_variable_value('linear/X/weight')))\n",
    "print('b: {0}'.format(trainer.get_variable_value('linear/bias_weight')))\n",
    "\n",
    "def input_test():\n",
    "    return {\n",
    "        'X': X_test,\n",
    "        'y': y_test\n",
    "    }\n",
    "\n",
    "y_predict = list(trainer.predict(input_fn=input_test))\n",
    "\n",
    "input_fn_eval = tf.contrib.learn.io.numpy_input_fn(x={'X': X_test}, y=y_test)\n",
    "evalRes = trainer.evaluate(input_fn=input_fn_eval)\n",
    "print('y_predict: {0}'.format(y_predict[: 6]))\n",
    "print('y_test: {0}'.format(y_test.reshape(-1,)[: 6]))\n",
    "print('evalRes: {0}'.format(evalRes))"
   ]
  },
  {
   "cell_type": "markdown",
   "metadata": {},
   "source": [
    "### Custom model"
   ]
  },
  {
   "cell_type": "code",
   "execution_count": 28,
   "metadata": {
    "scrolled": false
   },
   "outputs": [
    {
     "name": "stdout",
     "output_type": "stream",
     "text": [
      "WARNING:tensorflow:Using temporary folder as model directory: /var/folders/bs/_rnbrf4j6918fhbsgh06x6q40000gp/T/tmp4qd1kosc\n",
      "INFO:tensorflow:Using default config.\n",
      "INFO:tensorflow:Using config: {'_environment': 'local', '_evaluation_master': '', '_task_id': 0, '_tf_config': gpu_options {\n",
      "  per_process_gpu_memory_fraction: 1\n",
      "}\n",
      ", '_master': '', '_tf_random_seed': None, '_save_checkpoints_steps': None, '_task_type': None, '_keep_checkpoint_every_n_hours': 10000, '_keep_checkpoint_max': 5, '_cluster_spec': <tensorflow.python.training.server_lib.ClusterSpec object at 0x114408c18>, '_save_checkpoints_secs': 600, '_save_summary_steps': 100, '_num_ps_replicas': 0, '_is_chief': True}\n",
      "INFO:tensorflow:Create CheckpointSaverHook.\n",
      "INFO:tensorflow:Saving checkpoints for 1 into /var/folders/bs/_rnbrf4j6918fhbsgh06x6q40000gp/T/tmp4qd1kosc/model.ckpt.\n",
      "INFO:tensorflow:loss = 2173.09889065, step = 1\n",
      "INFO:tensorflow:global_step/sec: 997.516\n",
      "INFO:tensorflow:loss = 0.155520159832, step = 101\n",
      "INFO:tensorflow:global_step/sec: 1062.58\n",
      "INFO:tensorflow:loss = 0.11463080279, step = 201\n",
      "INFO:tensorflow:global_step/sec: 1092.35\n",
      "INFO:tensorflow:loss = 0.0826788683496, step = 301\n",
      "INFO:tensorflow:global_step/sec: 981.546\n",
      "INFO:tensorflow:loss = 0.0801381388127, step = 401\n",
      "INFO:tensorflow:global_step/sec: 1058.13\n",
      "INFO:tensorflow:loss = 0.0732350652992, step = 501\n",
      "INFO:tensorflow:global_step/sec: 1048.37\n",
      "INFO:tensorflow:loss = 0.069256489727, step = 601\n",
      "INFO:tensorflow:global_step/sec: 1000.74\n",
      "INFO:tensorflow:loss = 0.0745852724376, step = 701\n",
      "INFO:tensorflow:global_step/sec: 996.679\n",
      "INFO:tensorflow:loss = 0.0760553626944, step = 801\n",
      "INFO:tensorflow:global_step/sec: 1027.78\n",
      "INFO:tensorflow:loss = 0.0761191215308, step = 901\n",
      "INFO:tensorflow:global_step/sec: 1010.34\n",
      "INFO:tensorflow:loss = 0.0702235505918, step = 1001\n",
      "INFO:tensorflow:global_step/sec: 1042.95\n",
      "INFO:tensorflow:loss = 0.074820700094, step = 1101\n",
      "INFO:tensorflow:global_step/sec: 1091.14\n",
      "INFO:tensorflow:loss = 0.0655800199353, step = 1201\n",
      "INFO:tensorflow:global_step/sec: 1007.24\n",
      "INFO:tensorflow:loss = 0.0661145922824, step = 1301\n",
      "INFO:tensorflow:global_step/sec: 1020.56\n",
      "INFO:tensorflow:loss = 0.0705400526339, step = 1401\n",
      "INFO:tensorflow:global_step/sec: 1000.78\n",
      "INFO:tensorflow:loss = 0.0728115987197, step = 1501\n",
      "INFO:tensorflow:global_step/sec: 1025.87\n",
      "INFO:tensorflow:loss = 0.0632001874611, step = 1601\n",
      "INFO:tensorflow:global_step/sec: 1096.54\n",
      "INFO:tensorflow:loss = 0.0653675454676, step = 1701\n",
      "INFO:tensorflow:global_step/sec: 985.504\n",
      "INFO:tensorflow:loss = 0.0848110593424, step = 1801\n",
      "INFO:tensorflow:global_step/sec: 1042.5\n",
      "INFO:tensorflow:loss = 0.0625896368546, step = 1901\n",
      "INFO:tensorflow:global_step/sec: 1037.42\n",
      "INFO:tensorflow:loss = 0.0751398280006, step = 2001\n",
      "INFO:tensorflow:global_step/sec: 1070.31\n",
      "INFO:tensorflow:loss = 0.0609429653016, step = 2101\n",
      "INFO:tensorflow:global_step/sec: 1068.65\n",
      "INFO:tensorflow:loss = 0.069246377405, step = 2201\n",
      "INFO:tensorflow:global_step/sec: 965.829\n",
      "INFO:tensorflow:loss = 0.0738771056616, step = 2301\n",
      "INFO:tensorflow:global_step/sec: 961.123\n",
      "INFO:tensorflow:loss = 0.0590848462641, step = 2401\n",
      "INFO:tensorflow:global_step/sec: 1032.49\n",
      "INFO:tensorflow:loss = 0.0674073039766, step = 2501\n",
      "INFO:tensorflow:global_step/sec: 1044.96\n",
      "INFO:tensorflow:loss = 0.0754502277362, step = 2601\n",
      "INFO:tensorflow:global_step/sec: 1071.85\n",
      "INFO:tensorflow:loss = 0.0681412115323, step = 2701\n",
      "INFO:tensorflow:global_step/sec: 1054.24\n",
      "INFO:tensorflow:loss = 0.0774056219783, step = 2801\n",
      "INFO:tensorflow:global_step/sec: 1049.65\n",
      "INFO:tensorflow:loss = 0.0676791251934, step = 2901\n",
      "INFO:tensorflow:global_step/sec: 1090.32\n",
      "INFO:tensorflow:loss = 0.0761334341533, step = 3001\n",
      "INFO:tensorflow:global_step/sec: 1029.05\n",
      "INFO:tensorflow:loss = 0.0634563735697, step = 3101\n",
      "INFO:tensorflow:global_step/sec: 1093.63\n",
      "INFO:tensorflow:loss = 0.0671519514522, step = 3201\n",
      "INFO:tensorflow:global_step/sec: 1103.38\n",
      "INFO:tensorflow:loss = 0.0700140220776, step = 3301\n",
      "INFO:tensorflow:global_step/sec: 991.592\n",
      "INFO:tensorflow:loss = 0.0759666540736, step = 3401\n",
      "INFO:tensorflow:global_step/sec: 1014.73\n",
      "INFO:tensorflow:loss = 0.0758300867932, step = 3501\n",
      "INFO:tensorflow:global_step/sec: 999.622\n",
      "INFO:tensorflow:loss = 0.0727815732197, step = 3601\n",
      "INFO:tensorflow:global_step/sec: 1061.23\n",
      "INFO:tensorflow:loss = 0.078318334323, step = 3701\n",
      "INFO:tensorflow:global_step/sec: 1054.78\n",
      "INFO:tensorflow:loss = 0.0660035990332, step = 3801\n",
      "INFO:tensorflow:global_step/sec: 1079.74\n",
      "INFO:tensorflow:loss = 0.0679448060881, step = 3901\n",
      "INFO:tensorflow:Saving checkpoints for 4001 into /var/folders/bs/_rnbrf4j6918fhbsgh06x6q40000gp/T/tmp4qd1kosc/model.ckpt.\n",
      "INFO:tensorflow:Loss for final step: 0.0786383981839.\n"
     ]
    },
    {
     "data": {
      "text/plain": [
       "Estimator(params=None)"
      ]
     },
     "execution_count": 28,
     "metadata": {},
     "output_type": "execute_result"
    }
   ],
   "source": [
    "def model(features, y, mode):\n",
    "    a = tf.get_variable(name='a', shape=[3, 1], dtype=tf.float64)\n",
    "    b = tf.get_variable(name='b', shape=1, dtype=tf.float64)\n",
    "    X = features['X']\n",
    "    predictions = tf.matmul(X, a) + b\n",
    "    loss = tf.reduce_mean(tf.square(predictions - y))\n",
    "    global_step = tf.train.get_global_step()\n",
    "    optimizer = tf.train.GradientDescentOptimizer(0.003)\n",
    "    train = tf.group(optimizer.minimize(loss), tf.assign_add(global_step, 1))\n",
    "    \n",
    "    return tf.contrib.learn.ModelFnOps(mode=mode, predictions=predictions, loss=loss, train_op=train)\n",
    "\n",
    "estimator = tf.contrib.learn.Estimator(model_fn=model)\n",
    "# X_train = np.array([[2.2, 3.3, 4.4], [1.5, 4.6, 7.8]])\n",
    "# y_train = np.array([[9], [15]])\n",
    "input_fn_train = tf.contrib.learn.io.numpy_input_fn(x={'X': X_train}, y=y_train, batch_size=200, num_epochs=1000)\n",
    "estimator.fit(input_fn=input_fn_train, steps=5000)"
   ]
  },
  {
   "cell_type": "code",
   "execution_count": 35,
   "metadata": {},
   "outputs": [
    {
     "name": "stdout",
     "output_type": "stream",
     "text": [
      "a: [[ 4.20239728]\n",
      " [-2.19961867]\n",
      " [ 0.47976918]]\n",
      "b: [ 1.58433718]\n",
      "INFO:tensorflow:Starting evaluation at 2017-04-11-14:20:04\n",
      "INFO:tensorflow:Finished evaluation at 2017-04-11-14:20:04\n",
      "INFO:tensorflow:Saving dict for global step 4001: global_step = 4001, loss = 0.0389435\n",
      "WARNING:tensorflow:Skipping summary for global_step, must be a float or np.float32.\n",
      "y_predict: [11.210544521621516, -40.679471594842639, 21.659016263188487, 12.62510152320772, 36.564740182826263, 69.104542108821164]\n",
      "y_test: [ 11.22785878 -40.68100867  21.78221009  12.92040124  36.37709252\n",
      "  68.91257175]\n",
      "evalRes: {'global_step': 4001, 'loss': 0.038943511}\n"
     ]
    }
   ],
   "source": [
    "print('a: {0}'.format(estimator.get_variable_value('a')))\n",
    "print('b: {0}'.format(estimator.get_variable_value('b')))\n",
    "\n",
    "def input_test():\n",
    "    return {\n",
    "        'X': X_test,\n",
    "        'y': y_test\n",
    "    }\n",
    "\n",
    "y_predict = [item[0] for item in estimator.predict(input_fn=input_test)]\n",
    "\n",
    "input_fn_eval = tf.contrib.learn.io.numpy_input_fn(x={'X': X_test}, y=y_test)\n",
    "evalRes = estimator.evaluate(input_fn=input_fn_eval)\n",
    "print('y_predict: {0}'.format(y_predict[: 6]))\n",
    "print('y_test: {0}'.format(y_test.reshape(-1,)[: 6]))\n",
    "print('evalRes: {0}'.format(evalRes))"
   ]
  },
  {
   "cell_type": "code",
   "execution_count": null,
   "metadata": {
    "collapsed": true
   },
   "outputs": [],
   "source": [
    "tf.contrib.learn.ModelFnOps?"
   ]
  },
  {
   "cell_type": "markdown",
   "metadata": {},
   "source": [
    "## Using Tensorboard"
   ]
  },
  {
   "cell_type": "markdown",
   "metadata": {},
   "source": [
    "Run this command on terminal\n",
    "```shell\n",
    "$ tensorboard --logdir=logs\n",
    "```"
   ]
  },
  {
   "cell_type": "code",
   "execution_count": null,
   "metadata": {
    "collapsed": true
   },
   "outputs": [],
   "source": [
    "!open http://localhost:6006"
   ]
  }
 ],
 "metadata": {
  "kernelspec": {
   "display_name": "Python 3",
   "language": "python",
   "name": "python3"
  },
  "language_info": {
   "codemirror_mode": {
    "name": "ipython",
    "version": 3
   },
   "file_extension": ".py",
   "mimetype": "text/x-python",
   "name": "python",
   "nbconvert_exporter": "python",
   "pygments_lexer": "ipython3",
   "version": "3.5.2"
  }
 },
 "nbformat": 4,
 "nbformat_minor": 2
}
