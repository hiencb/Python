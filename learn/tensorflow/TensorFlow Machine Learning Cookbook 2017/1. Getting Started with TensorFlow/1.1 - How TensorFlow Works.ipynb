{
 "cells": [
  {
   "cell_type": "markdown",
   "metadata": {},
   "source": [
    "# How TensorFlow Works"
   ]
  },
  {
   "cell_type": "markdown",
   "metadata": {},
   "source": [
    "1. Import or generate datasets\n",
    "\n",
    "2. Transform and normalize data\n",
    "\n",
    "3. Partition datasets into train, test, and validation sets\n",
    "\n",
    "4. Set algorithm parameters (hyperparameters)\n",
    "\n",
    "5. Initialize variables and placeholders\n",
    "\n",
    "6. Define the model structure\n",
    "\n",
    "7. Declare the loss function\n",
    "\n",
    "8. Initialize and train the model\n",
    "\n",
    "9. Evaluate the model\n",
    "\n",
    "10. Tune hyperparameters\n",
    "\n",
    "11. Deploy/predict new outcomes"
   ]
  }
 ],
 "metadata": {
  "kernelspec": {
   "display_name": "Python 3",
   "language": "python",
   "name": "python3"
  },
  "language_info": {
   "codemirror_mode": {
    "name": "ipython",
    "version": 3
   },
   "file_extension": ".py",
   "mimetype": "text/x-python",
   "name": "python",
   "nbconvert_exporter": "python",
   "pygments_lexer": "ipython3",
   "version": "3.5.2"
  }
 },
 "nbformat": 4,
 "nbformat_minor": 2
}
