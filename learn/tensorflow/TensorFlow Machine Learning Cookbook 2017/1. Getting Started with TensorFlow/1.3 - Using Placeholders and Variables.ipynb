{
 "cells": [
  {
   "cell_type": "markdown",
   "metadata": {},
   "source": [
    "# Using Placeholders and Variables "
   ]
  },
  {
   "cell_type": "code",
   "execution_count": 2,
   "metadata": {
    "collapsed": true
   },
   "outputs": [],
   "source": [
    "import numpy as np\n",
    "import tensorflow as tf\n",
    "\n",
    "sess = tf.InteractiveSession()"
   ]
  },
  {
   "cell_type": "markdown",
   "metadata": {},
   "source": [
    "### Variables"
   ]
  },
  {
   "cell_type": "code",
   "execution_count": 3,
   "metadata": {},
   "outputs": [
    {
     "name": "stdout",
     "output_type": "stream",
     "text": [
      "Tensor(\"var1/read:0\", shape=(), dtype=int64)\n",
      "Tensor(\"var2/read:0\", shape=(2, 2), dtype=float16)\n",
      "9\n",
      "[[ 1.  2.]\n",
      " [ 3.  4.]]\n"
     ]
    }
   ],
   "source": [
    "var1 = tf.Variable(initial_value=9, dtype=tf.int64, name='var1')\n",
    "print(var1)\n",
    "var2 = tf.Variable(initial_value=[[1, 2], [3, 4]], dtype=tf.float16, name='var2')\n",
    "print(var2)\n",
    "\n",
    "sess.run(tf.global_variables_initializer())\n",
    "print(sess.run(var1))\n",
    "print(sess.run(var2))"
   ]
  },
  {
   "cell_type": "code",
   "execution_count": 15,
   "metadata": {},
   "outputs": [
    {
     "name": "stdout",
     "output_type": "stream",
     "text": [
      "Tensor(\"var3_7/read:0\", shape=(2,), dtype=float32)\n",
      "Tensor(\"var4_4/read:0\", shape=(2,), dtype=float32)\n",
      "[ 8.  7.]\n",
      "[ 64.  49.]\n"
     ]
    }
   ],
   "source": [
    "var3 = tf.Variable([8, 7], dtype=tf.float32, name='var3')\n",
    "print(var3)\n",
    "var4 = tf.Variable(tf.pow(x=var3.initialized_value(), y=2), dtype=tf.float32, name='var4')\n",
    "print(var4)\n",
    "\n",
    "sess.run(tf.global_variables_initializer())\n",
    "print(sess.run(var3))\n",
    "print(sess.run(var4))"
   ]
  },
  {
   "cell_type": "code",
   "execution_count": 19,
   "metadata": {},
   "outputs": [
    {
     "name": "stdout",
     "output_type": "stream",
     "text": [
      "Tensor(\"var5_3/read:0\", shape=(2, 3), dtype=float32)\n",
      "Tensor(\"var6/read:0\", shape=(2, 3), dtype=float32)\n",
      "[[ 0.  0.  0.]\n",
      " [ 0.  0.  0.]]\n",
      "[[ 1.  1.  1.]\n",
      " [ 1.  1.  1.]]\n"
     ]
    }
   ],
   "source": [
    "var5 = tf.Variable(tf.zeros(shape=[2, 3]), name='var5')\n",
    "print(var5)\n",
    "sess.run(var5.initializer)\n",
    "\n",
    "var6 = tf.Variable(tf.ones_like(var5), name='var6')\n",
    "print(var6)\n",
    "sess.run(var6.initializer)\n",
    "\n",
    "print(sess.run(var5))\n",
    "print(sess.run(var6))"
   ]
  },
  {
   "cell_type": "markdown",
   "metadata": {},
   "source": [
    "### Placeholders"
   ]
  },
  {
   "cell_type": "code",
   "execution_count": 22,
   "metadata": {},
   "outputs": [
    {
     "name": "stdout",
     "output_type": "stream",
     "text": [
      "Tensor(\"plh_2:0\", shape=(2, 3), dtype=float32)\n",
      "Tensor(\"res:0\", shape=(2, 3), dtype=float32)\n"
     ]
    },
    {
     "data": {
      "text/plain": [
       "array([[  4.,  25.,  16.],\n",
       "       [  1.,  81.,   9.]], dtype=float32)"
      ]
     },
     "execution_count": 22,
     "metadata": {},
     "output_type": "execute_result"
    }
   ],
   "source": [
    "plh = tf.placeholder(shape=[2, 3], dtype=tf.float32, name='plh')\n",
    "print(plh)\n",
    "\n",
    "res = tf.pow(x=plh, y=2, name='res')\n",
    "print(res)\n",
    "\n",
    "vals = np.array([[2, 5, 4], [1, 9, 3]])\n",
    "sess.run(fetches=res, feed_dict={plh: vals})"
   ]
  }
 ],
 "metadata": {
  "kernelspec": {
   "display_name": "Python 3",
   "language": "python",
   "name": "python3"
  },
  "language_info": {
   "codemirror_mode": {
    "name": "ipython",
    "version": 3
   },
   "file_extension": ".py",
   "mimetype": "text/x-python",
   "name": "python",
   "nbconvert_exporter": "python",
   "pygments_lexer": "ipython3",
   "version": "3.5.2"
  }
 },
 "nbformat": 4,
 "nbformat_minor": 2
}
