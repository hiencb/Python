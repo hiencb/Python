{
 "cells": [
  {
   "cell_type": "markdown",
   "metadata": {},
   "source": [
    "# Working with Data Sources"
   ]
  },
  {
   "cell_type": "code",
   "execution_count": 130,
   "metadata": {
    "collapsed": true,
    "scrolled": true
   },
   "outputs": [],
   "source": [
    "import numpy as np\n",
    "import pandas as pd\n",
    "import matplotlib.pyplot as plt\n",
    "%matplotlib inline\n",
    "\n",
    "N_ROWS = 3\n",
    "N_COLS = 4\n",
    "N_ITEMS = N_ROWS * N_COLS"
   ]
  },
  {
   "cell_type": "code",
   "execution_count": 131,
   "metadata": {
    "collapsed": true
   },
   "outputs": [],
   "source": [
    "def randIndices(maxIndex, size=N_ITEMS):\n",
    "    return np.random.randint(low=0, high=maxIndex - 1, size=size)"
   ]
  },
  {
   "cell_type": "markdown",
   "metadata": {
    "collapsed": true
   },
   "source": [
    "### Iris Data"
   ]
  },
  {
   "cell_type": "code",
   "execution_count": 5,
   "metadata": {
    "collapsed": true
   },
   "outputs": [],
   "source": [
    "from sklearn import datasets"
   ]
  },
  {
   "cell_type": "code",
   "execution_count": 7,
   "metadata": {},
   "outputs": [
    {
     "data": {
      "text/plain": [
       "array([129,  53, 135,  37,   2,  83, 143, 110,  12,  45,  16,  39])"
      ]
     },
     "execution_count": 7,
     "metadata": {},
     "output_type": "execute_result"
    }
   ],
   "source": [
    "iris = datasets.load_iris()\n",
    "irisIdx = randIndices(iris.data.shape[0])\n",
    "irisIdx"
   ]
  },
  {
   "cell_type": "code",
   "execution_count": null,
   "metadata": {
    "collapsed": true
   },
   "outputs": [],
   "source": [
    "print(iris.data.shape)\n",
    "print(iris.target.shape)"
   ]
  },
  {
   "cell_type": "code",
   "execution_count": 8,
   "metadata": {},
   "outputs": [
    {
     "data": {
      "text/plain": [
       "array([[ 7.2,  3. ,  5.8,  1.6],\n",
       "       [ 5.5,  2.3,  4. ,  1.3],\n",
       "       [ 7.7,  3. ,  6.1,  2.3],\n",
       "       [ 4.9,  3.1,  1.5,  0.1],\n",
       "       [ 4.7,  3.2,  1.3,  0.2],\n",
       "       [ 6. ,  2.7,  5.1,  1.6],\n",
       "       [ 6.8,  3.2,  5.9,  2.3],\n",
       "       [ 6.5,  3.2,  5.1,  2. ],\n",
       "       [ 4.8,  3. ,  1.4,  0.1],\n",
       "       [ 4.8,  3. ,  1.4,  0.3],\n",
       "       [ 5.4,  3.9,  1.3,  0.4],\n",
       "       [ 5.1,  3.4,  1.5,  0.2]])"
      ]
     },
     "execution_count": 8,
     "metadata": {},
     "output_type": "execute_result"
    }
   ],
   "source": [
    "iris.data[irisIdx, :]"
   ]
  },
  {
   "cell_type": "code",
   "execution_count": 9,
   "metadata": {},
   "outputs": [
    {
     "data": {
      "text/plain": [
       "array([2, 1, 2, 0, 0, 1, 2, 2, 0, 0, 0, 0])"
      ]
     },
     "execution_count": 9,
     "metadata": {},
     "output_type": "execute_result"
    }
   ],
   "source": [
    "iris.target[irisIdx]"
   ]
  },
  {
   "cell_type": "markdown",
   "metadata": {},
   "source": [
    "### Birth Weight Data"
   ]
  },
  {
   "cell_type": "code",
   "execution_count": 64,
   "metadata": {
    "collapsed": true
   },
   "outputs": [],
   "source": [
    "birthdata_url = 'https://www.umass.edu/statdata/statdata/data/lowbwt.dat'\n",
    "birthdata_file = 'birthdata.txt'"
   ]
  },
  {
   "cell_type": "code",
   "execution_count": 66,
   "metadata": {},
   "outputs": [
    {
     "name": "stdout",
     "output_type": "stream",
     "text": [
      "--2017-04-18 11:56:15--  https://www.umass.edu/statdata/statdata/data/lowbwt.dat\n",
      "Resolving www.umass.edu... 128.119.8.148\n",
      "Connecting to www.umass.edu|128.119.8.148|:443... connected.\n",
      "HTTP request sent, awaiting response... 200 OK\n",
      "Length: 15053 (15K) [text/plain]\n",
      "Saving to: ‘birthdata.txt’\n",
      "\n",
      "birthdata.txt       100%[===================>]  14.70K  --.-KB/s    in 0s      \n",
      "\n",
      "2017-04-18 11:56:16 (106 MB/s) - ‘birthdata.txt’ saved [15053/15053]\n",
      "\n"
     ]
    }
   ],
   "source": [
    "!wget {birthdata_url} -O {birthdata_file}"
   ]
  },
  {
   "cell_type": "code",
   "execution_count": 72,
   "metadata": {
    "collapsed": true
   },
   "outputs": [],
   "source": [
    "widths = [4, 7, 7, 7, 8, 9, 7, 6, 6, 7, 8]\n",
    "birthdata_df = pd.read_fwf(birthdata_file, widths=widths, skiprows=5, skipfooter=1, skip_blank_lines=True)\n",
    "birthdata_df = birthdata_df.drop(0)"
   ]
  },
  {
   "cell_type": "code",
   "execution_count": 73,
   "metadata": {},
   "outputs": [
    {
     "data": {
      "text/plain": [
       "array([117, 122, 121,  56,   4,  44, 147, 125, 131, 103, 142,  74])"
      ]
     },
     "execution_count": 73,
     "metadata": {},
     "output_type": "execute_result"
    }
   ],
   "source": [
    "birthdata_idx = randIndices(birthdata_df.shape[0])\n",
    "birthdata_idx"
   ]
  },
  {
   "cell_type": "code",
   "execution_count": 74,
   "metadata": {},
   "outputs": [
    {
     "data": {
      "text/html": [
       "<div>\n",
       "<table border=\"1\" class=\"dataframe\">\n",
       "  <thead>\n",
       "    <tr style=\"text-align: right;\">\n",
       "      <th></th>\n",
       "      <th>ID</th>\n",
       "      <th>LOW</th>\n",
       "      <th>AGE</th>\n",
       "      <th>LWT</th>\n",
       "      <th>RACE</th>\n",
       "      <th>SMOKE</th>\n",
       "      <th>PTL</th>\n",
       "      <th>HT</th>\n",
       "      <th>UI</th>\n",
       "      <th>FTV</th>\n",
       "      <th>BWT</th>\n",
       "    </tr>\n",
       "  </thead>\n",
       "  <tbody>\n",
       "    <tr>\n",
       "      <th>118</th>\n",
       "      <td>214.0</td>\n",
       "      <td>0.0</td>\n",
       "      <td>28.0</td>\n",
       "      <td>130.0</td>\n",
       "      <td>3.0</td>\n",
       "      <td>0.0</td>\n",
       "      <td>0.0</td>\n",
       "      <td>0.0</td>\n",
       "      <td>0.0</td>\n",
       "      <td>0.0</td>\n",
       "      <td>3969.0</td>\n",
       "    </tr>\n",
       "    <tr>\n",
       "      <th>123</th>\n",
       "      <td>219.0</td>\n",
       "      <td>0.0</td>\n",
       "      <td>21.0</td>\n",
       "      <td>115.0</td>\n",
       "      <td>1.0</td>\n",
       "      <td>0.0</td>\n",
       "      <td>0.0</td>\n",
       "      <td>0.0</td>\n",
       "      <td>0.0</td>\n",
       "      <td>1.0</td>\n",
       "      <td>4054.0</td>\n",
       "    </tr>\n",
       "    <tr>\n",
       "      <th>122</th>\n",
       "      <td>218.0</td>\n",
       "      <td>0.0</td>\n",
       "      <td>26.0</td>\n",
       "      <td>160.0</td>\n",
       "      <td>3.0</td>\n",
       "      <td>0.0</td>\n",
       "      <td>0.0</td>\n",
       "      <td>0.0</td>\n",
       "      <td>0.0</td>\n",
       "      <td>0.0</td>\n",
       "      <td>4054.0</td>\n",
       "    </tr>\n",
       "    <tr>\n",
       "      <th>57</th>\n",
       "      <td>144.0</td>\n",
       "      <td>0.0</td>\n",
       "      <td>21.0</td>\n",
       "      <td>110.0</td>\n",
       "      <td>3.0</td>\n",
       "      <td>1.0</td>\n",
       "      <td>0.0</td>\n",
       "      <td>0.0</td>\n",
       "      <td>1.0</td>\n",
       "      <td>0.0</td>\n",
       "      <td>3203.0</td>\n",
       "    </tr>\n",
       "    <tr>\n",
       "      <th>5</th>\n",
       "      <td>89.0</td>\n",
       "      <td>0.0</td>\n",
       "      <td>18.0</td>\n",
       "      <td>107.0</td>\n",
       "      <td>1.0</td>\n",
       "      <td>1.0</td>\n",
       "      <td>0.0</td>\n",
       "      <td>0.0</td>\n",
       "      <td>1.0</td>\n",
       "      <td>0.0</td>\n",
       "      <td>2600.0</td>\n",
       "    </tr>\n",
       "    <tr>\n",
       "      <th>45</th>\n",
       "      <td>132.0</td>\n",
       "      <td>0.0</td>\n",
       "      <td>18.0</td>\n",
       "      <td>90.0</td>\n",
       "      <td>1.0</td>\n",
       "      <td>1.0</td>\n",
       "      <td>0.0</td>\n",
       "      <td>0.0</td>\n",
       "      <td>1.0</td>\n",
       "      <td>0.0</td>\n",
       "      <td>3076.0</td>\n",
       "    </tr>\n",
       "    <tr>\n",
       "      <th>148</th>\n",
       "      <td>29.0</td>\n",
       "      <td>1.0</td>\n",
       "      <td>24.0</td>\n",
       "      <td>155.0</td>\n",
       "      <td>1.0</td>\n",
       "      <td>1.0</td>\n",
       "      <td>1.0</td>\n",
       "      <td>0.0</td>\n",
       "      <td>0.0</td>\n",
       "      <td>0.0</td>\n",
       "      <td>1936.0</td>\n",
       "    </tr>\n",
       "    <tr>\n",
       "      <th>126</th>\n",
       "      <td>222.0</td>\n",
       "      <td>0.0</td>\n",
       "      <td>31.0</td>\n",
       "      <td>120.0</td>\n",
       "      <td>1.0</td>\n",
       "      <td>0.0</td>\n",
       "      <td>0.0</td>\n",
       "      <td>0.0</td>\n",
       "      <td>0.0</td>\n",
       "      <td>2.0</td>\n",
       "      <td>4167.0</td>\n",
       "    </tr>\n",
       "    <tr>\n",
       "      <th>132</th>\n",
       "      <td>10.0</td>\n",
       "      <td>1.0</td>\n",
       "      <td>29.0</td>\n",
       "      <td>130.0</td>\n",
       "      <td>1.0</td>\n",
       "      <td>0.0</td>\n",
       "      <td>0.0</td>\n",
       "      <td>0.0</td>\n",
       "      <td>1.0</td>\n",
       "      <td>2.0</td>\n",
       "      <td>1021.0</td>\n",
       "    </tr>\n",
       "    <tr>\n",
       "      <th>104</th>\n",
       "      <td>200.0</td>\n",
       "      <td>0.0</td>\n",
       "      <td>23.0</td>\n",
       "      <td>110.0</td>\n",
       "      <td>1.0</td>\n",
       "      <td>0.0</td>\n",
       "      <td>0.0</td>\n",
       "      <td>0.0</td>\n",
       "      <td>0.0</td>\n",
       "      <td>1.0</td>\n",
       "      <td>3770.0</td>\n",
       "    </tr>\n",
       "    <tr>\n",
       "      <th>143</th>\n",
       "      <td>24.0</td>\n",
       "      <td>1.0</td>\n",
       "      <td>25.0</td>\n",
       "      <td>115.0</td>\n",
       "      <td>3.0</td>\n",
       "      <td>0.0</td>\n",
       "      <td>0.0</td>\n",
       "      <td>0.0</td>\n",
       "      <td>0.0</td>\n",
       "      <td>0.0</td>\n",
       "      <td>1893.0</td>\n",
       "    </tr>\n",
       "    <tr>\n",
       "      <th>75</th>\n",
       "      <td>167.0</td>\n",
       "      <td>0.0</td>\n",
       "      <td>16.0</td>\n",
       "      <td>135.0</td>\n",
       "      <td>1.0</td>\n",
       "      <td>1.0</td>\n",
       "      <td>0.0</td>\n",
       "      <td>0.0</td>\n",
       "      <td>0.0</td>\n",
       "      <td>0.0</td>\n",
       "      <td>3374.0</td>\n",
       "    </tr>\n",
       "  </tbody>\n",
       "</table>\n",
       "</div>"
      ],
      "text/plain": [
       "        ID  LOW   AGE    LWT  RACE  SMOKE  PTL   HT   UI  FTV     BWT\n",
       "118  214.0  0.0  28.0  130.0   3.0    0.0  0.0  0.0  0.0  0.0  3969.0\n",
       "123  219.0  0.0  21.0  115.0   1.0    0.0  0.0  0.0  0.0  1.0  4054.0\n",
       "122  218.0  0.0  26.0  160.0   3.0    0.0  0.0  0.0  0.0  0.0  4054.0\n",
       "57   144.0  0.0  21.0  110.0   3.0    1.0  0.0  0.0  1.0  0.0  3203.0\n",
       "5     89.0  0.0  18.0  107.0   1.0    1.0  0.0  0.0  1.0  0.0  2600.0\n",
       "45   132.0  0.0  18.0   90.0   1.0    1.0  0.0  0.0  1.0  0.0  3076.0\n",
       "148   29.0  1.0  24.0  155.0   1.0    1.0  1.0  0.0  0.0  0.0  1936.0\n",
       "126  222.0  0.0  31.0  120.0   1.0    0.0  0.0  0.0  0.0  2.0  4167.0\n",
       "132   10.0  1.0  29.0  130.0   1.0    0.0  0.0  0.0  1.0  2.0  1021.0\n",
       "104  200.0  0.0  23.0  110.0   1.0    0.0  0.0  0.0  0.0  1.0  3770.0\n",
       "143   24.0  1.0  25.0  115.0   3.0    0.0  0.0  0.0  0.0  0.0  1893.0\n",
       "75   167.0  0.0  16.0  135.0   1.0    1.0  0.0  0.0  0.0  0.0  3374.0"
      ]
     },
     "execution_count": 74,
     "metadata": {},
     "output_type": "execute_result"
    }
   ],
   "source": [
    "birthdata_df.iloc[birthdata_idx]"
   ]
  },
  {
   "cell_type": "markdown",
   "metadata": {},
   "source": [
    "### Boston Housing Data"
   ]
  },
  {
   "cell_type": "code",
   "execution_count": 67,
   "metadata": {
    "collapsed": true
   },
   "outputs": [],
   "source": [
    "housing_url = 'https://archive.ics.uci.edu/ml/machine-learning-databases/housing/housing.data'\n",
    "housing_file = 'housing.txt'"
   ]
  },
  {
   "cell_type": "code",
   "execution_count": 68,
   "metadata": {},
   "outputs": [
    {
     "name": "stdout",
     "output_type": "stream",
     "text": [
      "--2017-04-18 11:57:16--  https://archive.ics.uci.edu/ml/machine-learning-databases/housing/housing.data\n",
      "Resolving archive.ics.uci.edu... 128.195.10.249\n",
      "Connecting to archive.ics.uci.edu|128.195.10.249|:443... connected.\n",
      "HTTP request sent, awaiting response... 200 OK\n",
      "Length: 49082 (48K) [text/plain]\n",
      "Saving to: ‘housing.txt’\n",
      "\n",
      "housing.txt         100%[===================>]  47.93K   124KB/s    in 0.4s    \n",
      "\n",
      "2017-04-18 11:57:18 (124 KB/s) - ‘housing.txt’ saved [49082/49082]\n",
      "\n"
     ]
    }
   ],
   "source": [
    "!wget {housing_url} -O {housing_file}"
   ]
  },
  {
   "cell_type": "code",
   "execution_count": 69,
   "metadata": {
    "collapsed": true
   },
   "outputs": [],
   "source": [
    "cols = ['CRIM', 'ZN', 'INDUS', 'CHAS', 'NOX', 'RM', 'AGE', 'DIS', 'RAD', 'TAX', 'PTRATIO', 'B', 'LSTAT', 'MEDV0']\n",
    "housing_df = pd.read_fwf(housing_file, headers=None, names=cols)"
   ]
  },
  {
   "cell_type": "code",
   "execution_count": 105,
   "metadata": {},
   "outputs": [
    {
     "name": "stdout",
     "output_type": "stream",
     "text": [
      "(506, 14)\n"
     ]
    },
    {
     "data": {
      "text/plain": [
       "array([ 11, 151, 184, 470, 264, 348, 269, 219, 263, 300, 286, 168])"
      ]
     },
     "execution_count": 105,
     "metadata": {},
     "output_type": "execute_result"
    }
   ],
   "source": [
    "print(housing_df.shape)\n",
    "housing_idx = randIndices(housing_df.shape[0])\n",
    "housing_idx"
   ]
  },
  {
   "cell_type": "code",
   "execution_count": 71,
   "metadata": {},
   "outputs": [
    {
     "data": {
      "text/html": [
       "<div>\n",
       "<table border=\"1\" class=\"dataframe\">\n",
       "  <thead>\n",
       "    <tr style=\"text-align: right;\">\n",
       "      <th></th>\n",
       "      <th>CRIM</th>\n",
       "      <th>ZN</th>\n",
       "      <th>INDUS</th>\n",
       "      <th>CHAS</th>\n",
       "      <th>NOX</th>\n",
       "      <th>RM</th>\n",
       "      <th>AGE</th>\n",
       "      <th>DIS</th>\n",
       "      <th>RAD</th>\n",
       "      <th>TAX</th>\n",
       "      <th>PTRATIO</th>\n",
       "      <th>B</th>\n",
       "      <th>LSTAT</th>\n",
       "      <th>MEDV0</th>\n",
       "    </tr>\n",
       "  </thead>\n",
       "  <tbody>\n",
       "    <tr>\n",
       "      <th>406</th>\n",
       "      <td>0.71620</td>\n",
       "      <td>0.0</td>\n",
       "      <td>18.10</td>\n",
       "      <td>0</td>\n",
       "      <td>0.659</td>\n",
       "      <td>4.138</td>\n",
       "      <td>100.0</td>\n",
       "      <td>1.1781</td>\n",
       "      <td>4</td>\n",
       "      <td>666.0</td>\n",
       "      <td>20.2</td>\n",
       "      <td>370.22</td>\n",
       "      <td>23.34</td>\n",
       "      <td>11.9</td>\n",
       "    </tr>\n",
       "    <tr>\n",
       "      <th>254</th>\n",
       "      <td>0.04819</td>\n",
       "      <td>80.0</td>\n",
       "      <td>3.64</td>\n",
       "      <td>0</td>\n",
       "      <td>0.392</td>\n",
       "      <td>6.108</td>\n",
       "      <td>32.0</td>\n",
       "      <td>9.2203</td>\n",
       "      <td>1</td>\n",
       "      <td>315.0</td>\n",
       "      <td>16.4</td>\n",
       "      <td>392.89</td>\n",
       "      <td>6.57</td>\n",
       "      <td>21.9</td>\n",
       "    </tr>\n",
       "    <tr>\n",
       "      <th>305</th>\n",
       "      <td>0.05479</td>\n",
       "      <td>33.0</td>\n",
       "      <td>2.18</td>\n",
       "      <td>0</td>\n",
       "      <td>0.472</td>\n",
       "      <td>6.616</td>\n",
       "      <td>58.1</td>\n",
       "      <td>3.3700</td>\n",
       "      <td>7</td>\n",
       "      <td>222.0</td>\n",
       "      <td>18.4</td>\n",
       "      <td>393.36</td>\n",
       "      <td>8.93</td>\n",
       "      <td>28.4</td>\n",
       "    </tr>\n",
       "    <tr>\n",
       "      <th>112</th>\n",
       "      <td>0.12329</td>\n",
       "      <td>0.0</td>\n",
       "      <td>10.01</td>\n",
       "      <td>0</td>\n",
       "      <td>0.547</td>\n",
       "      <td>5.913</td>\n",
       "      <td>92.9</td>\n",
       "      <td>2.3534</td>\n",
       "      <td>6</td>\n",
       "      <td>432.0</td>\n",
       "      <td>17.8</td>\n",
       "      <td>394.95</td>\n",
       "      <td>16.21</td>\n",
       "      <td>18.8</td>\n",
       "    </tr>\n",
       "    <tr>\n",
       "      <th>318</th>\n",
       "      <td>0.40202</td>\n",
       "      <td>0.0</td>\n",
       "      <td>9.90</td>\n",
       "      <td>0</td>\n",
       "      <td>0.544</td>\n",
       "      <td>6.382</td>\n",
       "      <td>67.2</td>\n",
       "      <td>3.5325</td>\n",
       "      <td>4</td>\n",
       "      <td>304.0</td>\n",
       "      <td>18.4</td>\n",
       "      <td>395.21</td>\n",
       "      <td>10.36</td>\n",
       "      <td>23.1</td>\n",
       "    </tr>\n",
       "    <tr>\n",
       "      <th>87</th>\n",
       "      <td>0.07151</td>\n",
       "      <td>0.0</td>\n",
       "      <td>4.49</td>\n",
       "      <td>0</td>\n",
       "      <td>0.449</td>\n",
       "      <td>6.121</td>\n",
       "      <td>56.8</td>\n",
       "      <td>3.7476</td>\n",
       "      <td>3</td>\n",
       "      <td>247.0</td>\n",
       "      <td>18.5</td>\n",
       "      <td>395.15</td>\n",
       "      <td>8.44</td>\n",
       "      <td>22.2</td>\n",
       "    </tr>\n",
       "    <tr>\n",
       "      <th>312</th>\n",
       "      <td>0.26169</td>\n",
       "      <td>0.0</td>\n",
       "      <td>9.90</td>\n",
       "      <td>0</td>\n",
       "      <td>0.544</td>\n",
       "      <td>6.023</td>\n",
       "      <td>90.4</td>\n",
       "      <td>2.8340</td>\n",
       "      <td>4</td>\n",
       "      <td>304.0</td>\n",
       "      <td>18.4</td>\n",
       "      <td>396.30</td>\n",
       "      <td>11.72</td>\n",
       "      <td>19.4</td>\n",
       "    </tr>\n",
       "    <tr>\n",
       "      <th>275</th>\n",
       "      <td>0.09604</td>\n",
       "      <td>40.0</td>\n",
       "      <td>6.41</td>\n",
       "      <td>0</td>\n",
       "      <td>0.447</td>\n",
       "      <td>6.854</td>\n",
       "      <td>42.8</td>\n",
       "      <td>4.2673</td>\n",
       "      <td>4</td>\n",
       "      <td>254.0</td>\n",
       "      <td>17.6</td>\n",
       "      <td>396.90</td>\n",
       "      <td>2.98</td>\n",
       "      <td>32.0</td>\n",
       "    </tr>\n",
       "    <tr>\n",
       "      <th>88</th>\n",
       "      <td>0.05660</td>\n",
       "      <td>0.0</td>\n",
       "      <td>3.41</td>\n",
       "      <td>0</td>\n",
       "      <td>0.489</td>\n",
       "      <td>7.007</td>\n",
       "      <td>86.3</td>\n",
       "      <td>3.4217</td>\n",
       "      <td>2</td>\n",
       "      <td>270.0</td>\n",
       "      <td>17.8</td>\n",
       "      <td>396.90</td>\n",
       "      <td>5.50</td>\n",
       "      <td>23.6</td>\n",
       "    </tr>\n",
       "    <tr>\n",
       "      <th>77</th>\n",
       "      <td>0.08707</td>\n",
       "      <td>0.0</td>\n",
       "      <td>12.83</td>\n",
       "      <td>0</td>\n",
       "      <td>0.437</td>\n",
       "      <td>6.140</td>\n",
       "      <td>45.8</td>\n",
       "      <td>4.0905</td>\n",
       "      <td>5</td>\n",
       "      <td>398.0</td>\n",
       "      <td>18.7</td>\n",
       "      <td>386.96</td>\n",
       "      <td>10.27</td>\n",
       "      <td>20.8</td>\n",
       "    </tr>\n",
       "    <tr>\n",
       "      <th>112</th>\n",
       "      <td>0.12329</td>\n",
       "      <td>0.0</td>\n",
       "      <td>10.01</td>\n",
       "      <td>0</td>\n",
       "      <td>0.547</td>\n",
       "      <td>5.913</td>\n",
       "      <td>92.9</td>\n",
       "      <td>2.3534</td>\n",
       "      <td>6</td>\n",
       "      <td>432.0</td>\n",
       "      <td>17.8</td>\n",
       "      <td>394.95</td>\n",
       "      <td>16.21</td>\n",
       "      <td>18.8</td>\n",
       "    </tr>\n",
       "    <tr>\n",
       "      <th>83</th>\n",
       "      <td>0.03551</td>\n",
       "      <td>25.0</td>\n",
       "      <td>4.86</td>\n",
       "      <td>0</td>\n",
       "      <td>0.426</td>\n",
       "      <td>6.167</td>\n",
       "      <td>46.7</td>\n",
       "      <td>5.4007</td>\n",
       "      <td>4</td>\n",
       "      <td>281.0</td>\n",
       "      <td>19.0</td>\n",
       "      <td>390.64</td>\n",
       "      <td>7.51</td>\n",
       "      <td>22.9</td>\n",
       "    </tr>\n",
       "  </tbody>\n",
       "</table>\n",
       "</div>"
      ],
      "text/plain": [
       "        CRIM    ZN  INDUS  CHAS    NOX     RM    AGE     DIS  RAD    TAX  \\\n",
       "406  0.71620   0.0  18.10     0  0.659  4.138  100.0  1.1781    4  666.0   \n",
       "254  0.04819  80.0   3.64     0  0.392  6.108   32.0  9.2203    1  315.0   \n",
       "305  0.05479  33.0   2.18     0  0.472  6.616   58.1  3.3700    7  222.0   \n",
       "112  0.12329   0.0  10.01     0  0.547  5.913   92.9  2.3534    6  432.0   \n",
       "318  0.40202   0.0   9.90     0  0.544  6.382   67.2  3.5325    4  304.0   \n",
       "87   0.07151   0.0   4.49     0  0.449  6.121   56.8  3.7476    3  247.0   \n",
       "312  0.26169   0.0   9.90     0  0.544  6.023   90.4  2.8340    4  304.0   \n",
       "275  0.09604  40.0   6.41     0  0.447  6.854   42.8  4.2673    4  254.0   \n",
       "88   0.05660   0.0   3.41     0  0.489  7.007   86.3  3.4217    2  270.0   \n",
       "77   0.08707   0.0  12.83     0  0.437  6.140   45.8  4.0905    5  398.0   \n",
       "112  0.12329   0.0  10.01     0  0.547  5.913   92.9  2.3534    6  432.0   \n",
       "83   0.03551  25.0   4.86     0  0.426  6.167   46.7  5.4007    4  281.0   \n",
       "\n",
       "     PTRATIO       B  LSTAT  MEDV0  \n",
       "406     20.2  370.22  23.34   11.9  \n",
       "254     16.4  392.89   6.57   21.9  \n",
       "305     18.4  393.36   8.93   28.4  \n",
       "112     17.8  394.95  16.21   18.8  \n",
       "318     18.4  395.21  10.36   23.1  \n",
       "87      18.5  395.15   8.44   22.2  \n",
       "312     18.4  396.30  11.72   19.4  \n",
       "275     17.6  396.90   2.98   32.0  \n",
       "88      17.8  396.90   5.50   23.6  \n",
       "77      18.7  386.96  10.27   20.8  \n",
       "112     17.8  394.95  16.21   18.8  \n",
       "83      19.0  390.64   7.51   22.9  "
      ]
     },
     "execution_count": 71,
     "metadata": {},
     "output_type": "execute_result"
    }
   ],
   "source": [
    "housing_df.iloc[housing_idx]"
   ]
  },
  {
   "cell_type": "markdown",
   "metadata": {},
   "source": [
    "### [Mixed National Institute of Standards and Technology (MNIST) Handwriting Data](https://yann.lecun.com/exdb/mnist/)"
   ]
  },
  {
   "cell_type": "code",
   "execution_count": 10,
   "metadata": {
    "collapsed": true
   },
   "outputs": [],
   "source": [
    "from tensorflow.examples.tutorials.mnist import input_data"
   ]
  },
  {
   "cell_type": "code",
   "execution_count": 12,
   "metadata": {},
   "outputs": [
    {
     "name": "stdout",
     "output_type": "stream",
     "text": [
      "Extracting MNIST_data/train-images-idx3-ubyte.gz\n",
      "Extracting MNIST_data/train-labels-idx1-ubyte.gz\n",
      "Extracting MNIST_data/t10k-images-idx3-ubyte.gz\n",
      "Extracting MNIST_data/t10k-labels-idx1-ubyte.gz\n"
     ]
    },
    {
     "data": {
      "text/plain": [
       "array([41706, 53879, 10522, 10644, 14615, 20717, 31792,  6121, 53546,\n",
       "       36014, 41504, 23525])"
      ]
     },
     "execution_count": 12,
     "metadata": {},
     "output_type": "execute_result"
    }
   ],
   "source": [
    "mnist = input_data.read_data_sets('MNIST_data', one_hot=True)\n",
    "mnistIdx = randIndices(mnist.train.images.shape[0])\n",
    "mnistIdx"
   ]
  },
  {
   "cell_type": "code",
   "execution_count": 13,
   "metadata": {
    "scrolled": true
   },
   "outputs": [
    {
     "name": "stdout",
     "output_type": "stream",
     "text": [
      "(55000, 784)\n",
      "(55000, 10)\n"
     ]
    }
   ],
   "source": [
    "print(mnist.train.images.shape)\n",
    "print(mnist.train.labels.shape)"
   ]
  },
  {
   "cell_type": "code",
   "execution_count": 132,
   "metadata": {},
   "outputs": [
    {
     "data": {
      "image/png": "[encoded data removed]",
      "text/plain": [
       "<matplotlib.figure.Figure at 0x123a6a978>"
      ]
     },
     "metadata": {},
     "output_type": "display_data"
    }
   ],
   "source": [
    "for (c, i) in enumerate(mnistIdx):\n",
    "    plt.subplot(N_ROWS, N_COLS, c + 1)\n",
    "    raw = mnist.train.images[i, :]\n",
    "    img = np.reshape(a=raw, newshape=[28, 28])\n",
    "    plt.imshow(X=img, cmap='gray')"
   ]
  },
  {
   "cell_type": "markdown",
   "metadata": {},
   "source": [
    "### Spam-Ham Text Data"
   ]
  },
  {
   "cell_type": "code",
   "execution_count": 75,
   "metadata": {
    "collapsed": true
   },
   "outputs": [],
   "source": [
    "spamham_url = 'http://archive.ics.uci.edu/ml/machine-learning-databases/00228/smsspamcollection.zip'"
   ]
  },
  {
   "cell_type": "code",
   "execution_count": 77,
   "metadata": {},
   "outputs": [
    {
     "name": "stdout",
     "output_type": "stream",
     "text": [
      "--2017-04-18 12:33:41--  http://archive.ics.uci.edu/ml/machine-learning-databases/00228/smsspamcollection.zip\n",
      "Resolving archive.ics.uci.edu... 128.195.10.249\n",
      "Connecting to archive.ics.uci.edu|128.195.10.249|:80... connected.\n",
      "HTTP request sent, awaiting response... 200 OK\n",
      "Length: 203415 (199K) [application/zip]\n",
      "Saving to: ‘smsspamcollection.zip’\n",
      "\n",
      "smsspamcollection.z 100%[===================>] 198.65K   189KB/s    in 1.0s    \n",
      "\n",
      "2017-04-18 12:33:43 (189 KB/s) - ‘smsspamcollection.zip’ saved [203415/203415]\n",
      "\n"
     ]
    }
   ],
   "source": [
    "!wget {spamham_url}"
   ]
  },
  {
   "cell_type": "code",
   "execution_count": 79,
   "metadata": {},
   "outputs": [
    {
     "name": "stdout",
     "output_type": "stream",
     "text": [
      "Archive:  smsspamcollection.zip\r\n",
      "  inflating: spamdata/SMSSpamCollection  \r\n",
      "  inflating: spamdata/readme         \r\n"
     ]
    }
   ],
   "source": [
    "!unzip smsspamcollection.zip -d spamdata"
   ]
  },
  {
   "cell_type": "code",
   "execution_count": 83,
   "metadata": {
    "collapsed": true
   },
   "outputs": [],
   "source": [
    "spamdata_df = pd.read_table('spamdata/SMSSpamCollection', header=None, names=['Class', 'Content'])"
   ]
  },
  {
   "cell_type": "code",
   "execution_count": 84,
   "metadata": {},
   "outputs": [
    {
     "data": {
      "text/html": [
       "<div>\n",
       "<table border=\"1\" class=\"dataframe\">\n",
       "  <thead>\n",
       "    <tr style=\"text-align: right;\">\n",
       "      <th></th>\n",
       "      <th>Class</th>\n",
       "      <th>Content</th>\n",
       "    </tr>\n",
       "  </thead>\n",
       "  <tbody>\n",
       "    <tr>\n",
       "      <th>0</th>\n",
       "      <td>ham</td>\n",
       "      <td>Go until jurong point, crazy.. Available only ...</td>\n",
       "    </tr>\n",
       "    <tr>\n",
       "      <th>1</th>\n",
       "      <td>ham</td>\n",
       "      <td>Ok lar... Joking wif u oni...</td>\n",
       "    </tr>\n",
       "    <tr>\n",
       "      <th>2</th>\n",
       "      <td>spam</td>\n",
       "      <td>Free entry in 2 a wkly comp to win FA Cup fina...</td>\n",
       "    </tr>\n",
       "    <tr>\n",
       "      <th>3</th>\n",
       "      <td>ham</td>\n",
       "      <td>U dun say so early hor... U c already then say...</td>\n",
       "    </tr>\n",
       "    <tr>\n",
       "      <th>4</th>\n",
       "      <td>ham</td>\n",
       "      <td>Nah I don't think he goes to usf, he lives aro...</td>\n",
       "    </tr>\n",
       "  </tbody>\n",
       "</table>\n",
       "</div>"
      ],
      "text/plain": [
       "  Class                                            Content\n",
       "0   ham  Go until jurong point, crazy.. Available only ...\n",
       "1   ham                      Ok lar... Joking wif u oni...\n",
       "2  spam  Free entry in 2 a wkly comp to win FA Cup fina...\n",
       "3   ham  U dun say so early hor... U c already then say...\n",
       "4   ham  Nah I don't think he goes to usf, he lives aro..."
      ]
     },
     "execution_count": 84,
     "metadata": {},
     "output_type": "execute_result"
    }
   ],
   "source": [
    "spamdata_df.head()"
   ]
  },
  {
   "cell_type": "code",
   "execution_count": 104,
   "metadata": {},
   "outputs": [
    {
     "name": "stdout",
     "output_type": "stream",
     "text": [
      "(5572, 2)\n"
     ]
    },
    {
     "data": {
      "text/plain": [
       "array([4664, 3141, 1164, 1010, 2024, 1115, 2548, 2639,  231, 1918, 4473,\n",
       "       4468])"
      ]
     },
     "execution_count": 104,
     "metadata": {},
     "output_type": "execute_result"
    }
   ],
   "source": [
    "print(spamdata_df.shape)\n",
    "contents = spamdata_df['Content']\n",
    "labels = spamdata_df['Class']\n",
    "spamdatIdx = randIndices(spamdata_df.shape[0])\n",
    "spamdatIdx"
   ]
  },
  {
   "cell_type": "code",
   "execution_count": 86,
   "metadata": {},
   "outputs": [
    {
     "data": {
      "text/plain": [
       "4030               […] anyway, many good evenings to u! s\n",
       "3729    The search 4 happiness is 1 of d main sources ...\n",
       "3655                     Why i come in between you people\n",
       "1829                             May i call You later Pls\n",
       "5182                            I sent them. Do you like?\n",
       "5225    Smile in Pleasure Smile in Pain Smile when tro...\n",
       "2618    I cant pick the phone right now. Pls send a me...\n",
       "2139                           K still are you loving me.\n",
       "1691    Sunshine Quiz Wkly Q! Win a top Sony DVD playe...\n",
       "346                     Gudnite....tc...practice going on\n",
       "4888    Todays Vodafone numbers ending with 4882 are s...\n",
       "3355    R u sure they'll understand that! Wine * good ...\n",
       "Name: Content, dtype: object"
      ]
     },
     "execution_count": 86,
     "metadata": {},
     "output_type": "execute_result"
    }
   ],
   "source": [
    "contents.iloc[spamdatIdx]"
   ]
  },
  {
   "cell_type": "code",
   "execution_count": 87,
   "metadata": {},
   "outputs": [
    {
     "data": {
      "text/plain": [
       "4030     ham\n",
       "3729     ham\n",
       "3655     ham\n",
       "1829     ham\n",
       "5182     ham\n",
       "5225     ham\n",
       "2618     ham\n",
       "2139     ham\n",
       "1691    spam\n",
       "346      ham\n",
       "4888    spam\n",
       "3355     ham\n",
       "Name: Class, dtype: object"
      ]
     },
     "execution_count": 87,
     "metadata": {},
     "output_type": "execute_result"
    }
   ],
   "source": [
    "labels.iloc[spamdatIdx]"
   ]
  },
  {
   "cell_type": "markdown",
   "metadata": {},
   "source": [
    "### Movie Review Data"
   ]
  },
  {
   "cell_type": "code",
   "execution_count": 88,
   "metadata": {
    "collapsed": true
   },
   "outputs": [],
   "source": [
    "moviedata_url = 'http://www.cs.cornell.edu/people/pabo/movie-review-data/rt-polaritydata.tar.gz'"
   ]
  },
  {
   "cell_type": "code",
   "execution_count": 89,
   "metadata": {},
   "outputs": [
    {
     "name": "stdout",
     "output_type": "stream",
     "text": [
      "--2017-04-18 13:10:06--  http://www.cs.cornell.edu/people/pabo/movie-review-data/rt-polaritydata.tar.gz\n",
      "Resolving www.cs.cornell.edu... 132.236.207.20\n",
      "Connecting to www.cs.cornell.edu|132.236.207.20|:80... connected.\n",
      "HTTP request sent, awaiting response... 200 OK\n",
      "Length: 487770 (476K) [application/x-gzip]\n",
      "Saving to: ‘rt-polaritydata.tar.gz’\n",
      "\n",
      "rt-polaritydata.tar 100%[===================>] 476.34K   297KB/s    in 1.6s    \n",
      "\n",
      "2017-04-18 13:10:09 (297 KB/s) - ‘rt-polaritydata.tar.gz’ saved [487770/487770]\n",
      "\n"
     ]
    }
   ],
   "source": [
    "!wget {moviedata_url}"
   ]
  },
  {
   "cell_type": "code",
   "execution_count": 95,
   "metadata": {
    "collapsed": true
   },
   "outputs": [],
   "source": [
    "!tar -xf rt-polaritydata.tar.gz "
   ]
  },
  {
   "cell_type": "code",
   "execution_count": 100,
   "metadata": {
    "collapsed": true
   },
   "outputs": [],
   "source": [
    "negReviews = pd.read_table('rt-polaritydata/rt-polarity.neg', header=None, names=['Review'], encoding='latin1')"
   ]
  },
  {
   "cell_type": "code",
   "execution_count": 103,
   "metadata": {},
   "outputs": [
    {
     "name": "stdout",
     "output_type": "stream",
     "text": [
      "(5331, 1)\n"
     ]
    },
    {
     "data": {
      "text/html": [
       "<div>\n",
       "<table border=\"1\" class=\"dataframe\">\n",
       "  <thead>\n",
       "    <tr style=\"text-align: right;\">\n",
       "      <th></th>\n",
       "      <th>Review</th>\n",
       "    </tr>\n",
       "  </thead>\n",
       "  <tbody>\n",
       "    <tr>\n",
       "      <th>1277</th>\n",
       "      <td>gets bogged down by an overly sillified plot a...</td>\n",
       "    </tr>\n",
       "    <tr>\n",
       "      <th>4860</th>\n",
       "      <td>slow , silly and unintentionally hilarious .</td>\n",
       "    </tr>\n",
       "    <tr>\n",
       "      <th>1117</th>\n",
       "      <td>i'm not sure these words have ever been togeth...</td>\n",
       "    </tr>\n",
       "    <tr>\n",
       "      <th>158</th>\n",
       "      <td>[h]ad i suffered and bled on the hard ground o...</td>\n",
       "    </tr>\n",
       "    <tr>\n",
       "      <th>3550</th>\n",
       "      <td>'[hopkins]doesn't so much phone in his perform...</td>\n",
       "    </tr>\n",
       "    <tr>\n",
       "      <th>4409</th>\n",
       "      <td>like schindler's list , the grey zone attempts...</td>\n",
       "    </tr>\n",
       "    <tr>\n",
       "      <th>4641</th>\n",
       "      <td>even a hardened voyeur would require the patie...</td>\n",
       "    </tr>\n",
       "    <tr>\n",
       "      <th>2835</th>\n",
       "      <td>the film apparently takes place in a fantasy w...</td>\n",
       "    </tr>\n",
       "    <tr>\n",
       "      <th>2753</th>\n",
       "      <td>the plot is straight off the shelf , the perfo...</td>\n",
       "    </tr>\n",
       "    <tr>\n",
       "      <th>4395</th>\n",
       "      <td>for a film that celebrates radical , nonconfor...</td>\n",
       "    </tr>\n",
       "    <tr>\n",
       "      <th>1889</th>\n",
       "      <td>due to some script weaknesses and the casting ...</td>\n",
       "    </tr>\n",
       "    <tr>\n",
       "      <th>3154</th>\n",
       "      <td>ponderous , plodding soap opera disguised as a...</td>\n",
       "    </tr>\n",
       "  </tbody>\n",
       "</table>\n",
       "</div>"
      ],
      "text/plain": [
       "                                                 Review\n",
       "1277  gets bogged down by an overly sillified plot a...\n",
       "4860      slow , silly and unintentionally hilarious . \n",
       "1117  i'm not sure these words have ever been togeth...\n",
       "158   [h]ad i suffered and bled on the hard ground o...\n",
       "3550  '[hopkins]doesn't so much phone in his perform...\n",
       "4409  like schindler's list , the grey zone attempts...\n",
       "4641  even a hardened voyeur would require the patie...\n",
       "2835  the film apparently takes place in a fantasy w...\n",
       "2753  the plot is straight off the shelf , the perfo...\n",
       "4395  for a film that celebrates radical , nonconfor...\n",
       "1889  due to some script weaknesses and the casting ...\n",
       "3154  ponderous , plodding soap opera disguised as a..."
      ]
     },
     "execution_count": 103,
     "metadata": {},
     "output_type": "execute_result"
    }
   ],
   "source": [
    "negReviewsIdx = randIndices(negReviews.shape[0])\n",
    "print(negReviews.shape)\n",
    "negReviews.iloc[negReviewsIdx]"
   ]
  },
  {
   "cell_type": "code",
   "execution_count": 106,
   "metadata": {
    "collapsed": true
   },
   "outputs": [],
   "source": [
    "posReviews = pd.read_table('rt-polaritydata/rt-polarity.pos', header=None, names=['Review'], encoding='latin1')"
   ]
  },
  {
   "cell_type": "code",
   "execution_count": 107,
   "metadata": {},
   "outputs": [
    {
     "name": "stdout",
     "output_type": "stream",
     "text": [
      "(5331, 1)\n"
     ]
    },
    {
     "data": {
      "text/html": [
       "<div>\n",
       "<table border=\"1\" class=\"dataframe\">\n",
       "  <thead>\n",
       "    <tr style=\"text-align: right;\">\n",
       "      <th></th>\n",
       "      <th>Review</th>\n",
       "    </tr>\n",
       "  </thead>\n",
       "  <tbody>\n",
       "    <tr>\n",
       "      <th>2729</th>\n",
       "      <td>delivers the sexy razzle-dazzle that everyone ...</td>\n",
       "    </tr>\n",
       "    <tr>\n",
       "      <th>4984</th>\n",
       "      <td>as well-acted and well-intentioned as all or n...</td>\n",
       "    </tr>\n",
       "    <tr>\n",
       "      <th>4412</th>\n",
       "      <td>a must see for all sides of the political spec...</td>\n",
       "    </tr>\n",
       "    <tr>\n",
       "      <th>128</th>\n",
       "      <td>a classy item by a legend who may have nothing...</td>\n",
       "    </tr>\n",
       "    <tr>\n",
       "      <th>3621</th>\n",
       "      <td>the film , while not exactly assured in its ex...</td>\n",
       "    </tr>\n",
       "    <tr>\n",
       "      <th>1811</th>\n",
       "      <td>whenever you think you've figured out late mar...</td>\n",
       "    </tr>\n",
       "    <tr>\n",
       "      <th>4238</th>\n",
       "      <td>beating the austin powers films at their own g...</td>\n",
       "    </tr>\n",
       "    <tr>\n",
       "      <th>4383</th>\n",
       "      <td>highly irritating at first , mr . koury's pass...</td>\n",
       "    </tr>\n",
       "    <tr>\n",
       "      <th>1056</th>\n",
       "      <td>as surreal as a dream and as detailed as a pho...</td>\n",
       "    </tr>\n",
       "    <tr>\n",
       "      <th>766</th>\n",
       "      <td>the fact that the rookie is a nearly impeccabl...</td>\n",
       "    </tr>\n",
       "    <tr>\n",
       "      <th>5241</th>\n",
       "      <td>the acting in pauline and paulette is good all...</td>\n",
       "    </tr>\n",
       "    <tr>\n",
       "      <th>2056</th>\n",
       "      <td>a movie that will surely be profane , politica...</td>\n",
       "    </tr>\n",
       "  </tbody>\n",
       "</table>\n",
       "</div>"
      ],
      "text/plain": [
       "                                                 Review\n",
       "2729  delivers the sexy razzle-dazzle that everyone ...\n",
       "4984  as well-acted and well-intentioned as all or n...\n",
       "4412  a must see for all sides of the political spec...\n",
       "128   a classy item by a legend who may have nothing...\n",
       "3621  the film , while not exactly assured in its ex...\n",
       "1811  whenever you think you've figured out late mar...\n",
       "4238  beating the austin powers films at their own g...\n",
       "4383  highly irritating at first , mr . koury's pass...\n",
       "1056  as surreal as a dream and as detailed as a pho...\n",
       "766   the fact that the rookie is a nearly impeccabl...\n",
       "5241  the acting in pauline and paulette is good all...\n",
       "2056  a movie that will surely be profane , politica..."
      ]
     },
     "execution_count": 107,
     "metadata": {},
     "output_type": "execute_result"
    }
   ],
   "source": [
    "posReviewsIdx = randIndices(posReviews.shape[0])\n",
    "print(posReviews.shape)\n",
    "posReviews.iloc[posReviewsIdx]"
   ]
  },
  {
   "cell_type": "markdown",
   "metadata": {},
   "source": [
    "### [CIFAR-10 Image Data](http://www.cs.toronto.edu/~kriz/cifar.html)"
   ]
  },
  {
   "cell_type": "code",
   "execution_count": 108,
   "metadata": {
    "collapsed": true
   },
   "outputs": [],
   "source": [
    "cifar10_url = 'http://www.cs.toronto.edu/~kriz/cifar-10-python.tar.gz'"
   ]
  },
  {
   "cell_type": "code",
   "execution_count": 109,
   "metadata": {},
   "outputs": [
    {
     "name": "stdout",
     "output_type": "stream",
     "text": [
      "--2017-04-18 13:46:54--  http://www.cs.toronto.edu/~kriz/cifar-10-python.tar.gz\n",
      "Resolving www.cs.toronto.edu... 128.100.3.30\n",
      "Connecting to www.cs.toronto.edu|128.100.3.30|:80... connected.\n",
      "HTTP request sent, awaiting response... 200 OK\n",
      "Length: 170498071 (163M) [application/x-gzip]\n",
      "Saving to: ‘cifar-10-python.tar.gz’\n",
      "\n",
      "cifar-10-python.tar 100%[===================>] 162.60M  3.94MB/s    in 91s     \n",
      "\n",
      "2017-04-18 13:48:27 (1.79 MB/s) - ‘cifar-10-python.tar.gz’ saved [170498071/170498071]\n",
      "\n"
     ]
    }
   ],
   "source": [
    "!wget {cifar10_url}"
   ]
  },
  {
   "cell_type": "code",
   "execution_count": 110,
   "metadata": {
    "collapsed": true
   },
   "outputs": [],
   "source": [
    "!tar -xf cifar-10-python.tar.gz"
   ]
  },
  {
   "cell_type": "code",
   "execution_count": 115,
   "metadata": {
    "collapsed": true
   },
   "outputs": [],
   "source": [
    "def unpickle(file):\n",
    "    import pickle\n",
    "    with open(file, 'rb') as f:\n",
    "        data = pickle.load(f, encoding='bytes')\n",
    "    return data"
   ]
  },
  {
   "cell_type": "code",
   "execution_count": 123,
   "metadata": {
    "collapsed": true
   },
   "outputs": [],
   "source": [
    "cifar = unpickle('cifar-10-batches-py/data_batch_1')"
   ]
  },
  {
   "cell_type": "code",
   "execution_count": 175,
   "metadata": {
    "collapsed": true
   },
   "outputs": [],
   "source": [
    "cifar_imgs = cifar[b'data']\n",
    "cifar_lbls = cifar[b'labels']\n",
    "cifar_labels = ['airplane', 'automobile', 'bird', 'cat', 'deer', 'dog', 'frog', 'horse', 'ship', 'truck']\n",
    "cifarIdx = randIndices(cifar_imgs.shape[0])"
   ]
  },
  {
   "cell_type": "code",
   "execution_count": 128,
   "metadata": {},
   "outputs": [
    {
     "name": "stdout",
     "output_type": "stream",
     "text": [
      "(10000, 3072)\n",
      "10000\n"
     ]
    }
   ],
   "source": [
    "print(cifar_imgs.shape)\n",
    "print(len(cifar_lbls))"
   ]
  },
  {
   "cell_type": "code",
   "execution_count": 176,
   "metadata": {},
   "outputs": [
    {
     "data": {
      "image/png": "[encoded data removed]",
      "text/plain": [
       "<matplotlib.figure.Figure at 0x118235b70>"
      ]
     },
     "metadata": {},
     "output_type": "display_data"
    }
   ],
   "source": [
    "plt.figure(figsize=(8, 6))\n",
    "plt.subplots_adjust(wspace=0.5, hspace=0.5)\n",
    "\n",
    "for (c, i) in enumerate(cifarIdx):\n",
    "    plt.subplot(N_ROWS, N_COLS, c + 1)\n",
    "    data = cifar_imgs[i, :]\n",
    "    img = np.reshape(a=data, newshape=[3, 32, 32]).transpose(1, 2, 0)\n",
    "    plt.imshow(X=img)\n",
    "    plt.title(cifar_labels[cifar_lbls[i]])\n",
    "    \n",
    "plt.show()"
   ]
  },
  {
   "cell_type": "markdown",
   "metadata": {},
   "source": [
    "### [Project Gutenberg](http://www.gutenberg.org/)"
   ]
  },
  {
   "cell_type": "code",
   "execution_count": 179,
   "metadata": {
    "collapsed": true
   },
   "outputs": [],
   "source": [
    "gutenberg_url = 'http://www.gutenberg.org/cache/epub/100/pg100.txt'\n",
    "gutenberg_file = 'gutenberg.txt'"
   ]
  },
  {
   "cell_type": "code",
   "execution_count": 180,
   "metadata": {},
   "outputs": [
    {
     "name": "stdout",
     "output_type": "stream",
     "text": [
      "--2017-04-18 15:03:45--  http://www.gutenberg.org/cache/epub/100/pg100.txt\n",
      "Resolving www.gutenberg.org... 152.19.134.47, 2610:28:3090:3000::bad:cafe:47\n",
      "Connecting to www.gutenberg.org|152.19.134.47|:80... connected.\n",
      "HTTP request sent, awaiting response... 200 OK\n",
      "Length: 5589889 (5.3M) [text/plain]\n",
      "Saving to: ‘gutenberg.txt’\n",
      "\n",
      "gutenberg.txt       100%[===================>]   5.33M  1.30MB/s    in 4.1s    \n",
      "\n",
      "2017-04-18 15:03:50 (1.30 MB/s) - ‘gutenberg.txt’ saved [5589889/5589889]\n",
      "\n"
     ]
    }
   ],
   "source": [
    "!wget {gutenberg_url} -O {gutenberg_file}"
   ]
  },
  {
   "cell_type": "code",
   "execution_count": 181,
   "metadata": {},
   "outputs": [
    {
     "name": "stdout",
     "output_type": "stream",
     "text": [
      "b'\\xef\\xbb\\xbfThe Project Gutenberg EBook of The Complete Works of William Shakespeare, by\\r\\n'\n",
      "b'William Shakespeare\\r\\n'\n",
      "b'\\r\\n'\n",
      "b'This eBook is for the use of anyone anywhere at no cost and with\\r\\n'\n",
      "b'almost no restrictions whatsoever.  You may copy it, give it away or\\r\\n'\n",
      "b're-use it under the terms of the Project Gutenberg License included\\r\\n'\n"
     ]
    }
   ],
   "source": [
    "with open(gutenberg_file, 'rb') as f:\n",
    "    for _ in range(6):\n",
    "        print(f.readline())"
   ]
  },
  {
   "cell_type": "markdown",
   "metadata": {},
   "source": [
    "### [English-German Sentence Translation Data](http://www.manythings.org)"
   ]
  },
  {
   "cell_type": "code",
   "execution_count": 182,
   "metadata": {
    "collapsed": true
   },
   "outputs": [],
   "source": [
    "eg_url = 'http://www.manythings.org/anki/deu-eng.zip'\n",
    "eg_file = ''"
   ]
  },
  {
   "cell_type": "code",
   "execution_count": 183,
   "metadata": {},
   "outputs": [
    {
     "name": "stdout",
     "output_type": "stream",
     "text": [
      "--2017-04-18 15:14:21--  http://www.manythings.org/anki/deu-eng.zip\n",
      "Resolving www.manythings.org... 104.24.108.196, 104.24.109.196, 2400:cb00:2048:1::6818:6dc4, ...\n",
      "Connecting to www.manythings.org|104.24.108.196|:80... connected.\n",
      "HTTP request sent, awaiting response... 200 OK\n",
      "Length: 3595034 (3.4M) [application/zip]\n",
      "Saving to: ‘deu-eng.zip’\n",
      "\n",
      "deu-eng.zip         100%[===================>]   3.43M  1.65MB/s    in 2.1s    \n",
      "\n",
      "2017-04-18 15:14:23 (1.65 MB/s) - ‘deu-eng.zip’ saved [3595034/3595034]\n",
      "\n"
     ]
    }
   ],
   "source": [
    "!wget {eg_url}"
   ]
  },
  {
   "cell_type": "code",
   "execution_count": 186,
   "metadata": {},
   "outputs": [
    {
     "name": "stdout",
     "output_type": "stream",
     "text": [
      "Archive:  deu-eng.zip\n",
      "  inflating: eg/_about.txt           \n",
      "  inflating: eg/deu.txt              \n"
     ]
    }
   ],
   "source": [
    "!unzip deu-eng.zip -d eg"
   ]
  },
  {
   "cell_type": "code",
   "execution_count": 189,
   "metadata": {},
   "outputs": [
    {
     "name": "stdout",
     "output_type": "stream",
     "text": [
      "(147788, 2)\n"
     ]
    }
   ],
   "source": [
    "eg_df = pd.read_table('eg/deu.txt', header=None, names=['English', 'German'])\n",
    "print(eg_df.shape)\n",
    "egIdx = randIndices(eg_df.shape[0])"
   ]
  },
  {
   "cell_type": "code",
   "execution_count": 190,
   "metadata": {},
   "outputs": [
    {
     "data": {
      "text/html": [
       "<div>\n",
       "<table border=\"1\" class=\"dataframe\">\n",
       "  <thead>\n",
       "    <tr style=\"text-align: right;\">\n",
       "      <th></th>\n",
       "      <th>English</th>\n",
       "      <th>German</th>\n",
       "    </tr>\n",
       "  </thead>\n",
       "  <tbody>\n",
       "    <tr>\n",
       "      <th>144405</th>\n",
       "      <td>When Tom works outside in the winter, he usual...</td>\n",
       "      <td>Tom trägt gewöhnlich lange Unterhosen, wenn er...</td>\n",
       "    </tr>\n",
       "    <tr>\n",
       "      <th>73560</th>\n",
       "      <td>Don't forget to close the door.</td>\n",
       "      <td>Vergiss nicht, die Tür zu schließen.</td>\n",
       "    </tr>\n",
       "    <tr>\n",
       "      <th>115435</th>\n",
       "      <td>Last night I did not get a wink of sleep.</td>\n",
       "      <td>Letzte Nacht habe ich kein Auge zugemacht.</td>\n",
       "    </tr>\n",
       "    <tr>\n",
       "      <th>128244</th>\n",
       "      <td>Tom thinks that nothing bad can happen to him.</td>\n",
       "      <td>Tom meint, dass ihm nichts Schlimmes widerfahr...</td>\n",
       "    </tr>\n",
       "    <tr>\n",
       "      <th>119818</th>\n",
       "      <td>A Persian cat was sleeping under the table.</td>\n",
       "      <td>Eine Perserkatze schlief unter dem Tisch.</td>\n",
       "    </tr>\n",
       "    <tr>\n",
       "      <th>26992</th>\n",
       "      <td>Both of you are right.</td>\n",
       "      <td>Ihr habt beide recht.</td>\n",
       "    </tr>\n",
       "    <tr>\n",
       "      <th>46314</th>\n",
       "      <td>You can stay at my house.</td>\n",
       "      <td>Ihr könnt bei mir unterkommen.</td>\n",
       "    </tr>\n",
       "    <tr>\n",
       "      <th>18511</th>\n",
       "      <td>Can I check in here?</td>\n",
       "      <td>Kann ich mich hier anmelden?</td>\n",
       "    </tr>\n",
       "    <tr>\n",
       "      <th>41918</th>\n",
       "      <td>Don't scare the children.</td>\n",
       "      <td>Jage den Kindern keine Angst ein!</td>\n",
       "    </tr>\n",
       "    <tr>\n",
       "      <th>95706</th>\n",
       "      <td>Tom isn't very good at mathematics.</td>\n",
       "      <td>Tom ist nicht besonders gut in Mathematik.</td>\n",
       "    </tr>\n",
       "    <tr>\n",
       "      <th>8953</th>\n",
       "      <td>Give me that one.</td>\n",
       "      <td>Gib mir die da.</td>\n",
       "    </tr>\n",
       "    <tr>\n",
       "      <th>142247</th>\n",
       "      <td>Tom always has trouble sleeping the night befo...</td>\n",
       "      <td>Tom hat in der Nacht vor großen Prüfungen imme...</td>\n",
       "    </tr>\n",
       "  </tbody>\n",
       "</table>\n",
       "</div>"
      ],
      "text/plain": [
       "                                                  English  \\\n",
       "144405  When Tom works outside in the winter, he usual...   \n",
       "73560                     Don't forget to close the door.   \n",
       "115435          Last night I did not get a wink of sleep.   \n",
       "128244     Tom thinks that nothing bad can happen to him.   \n",
       "119818        A Persian cat was sleeping under the table.   \n",
       "26992                              Both of you are right.   \n",
       "46314                           You can stay at my house.   \n",
       "18511                                Can I check in here?   \n",
       "41918                           Don't scare the children.   \n",
       "95706                 Tom isn't very good at mathematics.   \n",
       "8953                                    Give me that one.   \n",
       "142247  Tom always has trouble sleeping the night befo...   \n",
       "\n",
       "                                                   German  \n",
       "144405  Tom trägt gewöhnlich lange Unterhosen, wenn er...  \n",
       "73560                Vergiss nicht, die Tür zu schließen.  \n",
       "115435         Letzte Nacht habe ich kein Auge zugemacht.  \n",
       "128244  Tom meint, dass ihm nichts Schlimmes widerfahr...  \n",
       "119818          Eine Perserkatze schlief unter dem Tisch.  \n",
       "26992                               Ihr habt beide recht.  \n",
       "46314                      Ihr könnt bei mir unterkommen.  \n",
       "18511                        Kann ich mich hier anmelden?  \n",
       "41918                   Jage den Kindern keine Angst ein!  \n",
       "95706          Tom ist nicht besonders gut in Mathematik.  \n",
       "8953                                      Gib mir die da.  \n",
       "142247  Tom hat in der Nacht vor großen Prüfungen imme...  "
      ]
     },
     "execution_count": 190,
     "metadata": {},
     "output_type": "execute_result"
    }
   ],
   "source": [
    "eg_df.iloc[egIdx]"
   ]
  },
  {
   "cell_type": "code",
   "execution_count": null,
   "metadata": {
    "collapsed": true
   },
   "outputs": [],
   "source": []
  }
 ],
 "metadata": {
  "kernelspec": {
   "display_name": "Python 3",
   "language": "python",
   "name": "python3"
  },
  "language_info": {
   "codemirror_mode": {
    "name": "ipython",
    "version": 3
   },
   "file_extension": ".py",
   "mimetype": "text/x-python",
   "name": "python",
   "nbconvert_exporter": "python",
   "pygments_lexer": "ipython3",
   "version": "3.5.3"
  }
 },
 "nbformat": 4,
 "nbformat_minor": 2
}
