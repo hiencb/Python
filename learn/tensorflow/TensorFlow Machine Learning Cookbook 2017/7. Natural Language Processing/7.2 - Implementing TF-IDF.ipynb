{
 "cells": [
  {
   "cell_type": "markdown",
   "metadata": {},
   "source": [
    "# Implementing TF-IDF"
   ]
  },
  {
   "cell_type": "code",
   "execution_count": 21,
   "metadata": {
    "collapsed": true
   },
   "outputs": [],
   "source": [
    "import os\n",
    "import numpy as np\n",
    "import pandas as pd\n",
    "import nltk\n",
    "import tensorflow as tf\n",
    "import matplotlib.pyplot as plt\n",
    "import seaborn as sns\n",
    "from sklearn.feature_extraction.text import TfidfVectorizer\n",
    "from SpamData import SpamData\n",
    "from Partition import partition_indices\n",
    "%matplotlib inline\n",
    "\n",
    "sess = tf.Session()"
   ]
  },
  {
   "cell_type": "code",
   "execution_count": 35,
   "metadata": {
    "collapsed": true
   },
   "outputs": [],
   "source": [
    "BATCH_SIZE = 400\n",
    "MAX_FEATURES = 1000\n",
    "ITERATION = 20000"
   ]
  },
  {
   "cell_type": "markdown",
   "metadata": {},
   "source": [
    "### Loading data"
   ]
  },
  {
   "cell_type": "code",
   "execution_count": 22,
   "metadata": {
    "collapsed": true
   },
   "outputs": [],
   "source": [
    "spamData = SpamData()\n",
    "spamDf = spamData.load_data()"
   ]
  },
  {
   "cell_type": "code",
   "execution_count": 23,
   "metadata": {},
   "outputs": [
    {
     "name": "stdout",
     "output_type": "stream",
     "text": [
      "(5572, 4)\n"
     ]
    },
    {
     "data": {
      "text/html": [
       "<div>\n",
       "<table border=\"1\" class=\"dataframe\">\n",
       "  <thead>\n",
       "    <tr style=\"text-align: right;\">\n",
       "      <th></th>\n",
       "      <th>Class</th>\n",
       "      <th>Content</th>\n",
       "      <th>Label</th>\n",
       "      <th>Text Length</th>\n",
       "    </tr>\n",
       "  </thead>\n",
       "  <tbody>\n",
       "    <tr>\n",
       "      <th>0</th>\n",
       "      <td>ham</td>\n",
       "      <td>go until jurong point crazy available only in ...</td>\n",
       "      <td>0</td>\n",
       "      <td>20</td>\n",
       "    </tr>\n",
       "    <tr>\n",
       "      <th>1</th>\n",
       "      <td>ham</td>\n",
       "      <td>ok lar joking wif u oni</td>\n",
       "      <td>0</td>\n",
       "      <td>6</td>\n",
       "    </tr>\n",
       "    <tr>\n",
       "      <th>2</th>\n",
       "      <td>spam</td>\n",
       "      <td>free entry in a wkly comp to win fa cup final ...</td>\n",
       "      <td>1</td>\n",
       "      <td>25</td>\n",
       "    </tr>\n",
       "    <tr>\n",
       "      <th>3</th>\n",
       "      <td>ham</td>\n",
       "      <td>u dun say so early hor u c already then say</td>\n",
       "      <td>0</td>\n",
       "      <td>11</td>\n",
       "    </tr>\n",
       "    <tr>\n",
       "      <th>4</th>\n",
       "      <td>ham</td>\n",
       "      <td>nah i dont think he goes to usf he lives aroun...</td>\n",
       "      <td>0</td>\n",
       "      <td>13</td>\n",
       "    </tr>\n",
       "  </tbody>\n",
       "</table>\n",
       "</div>"
      ],
      "text/plain": [
       "  Class                                            Content  Label  Text Length\n",
       "0   ham  go until jurong point crazy available only in ...      0           20\n",
       "1   ham                            ok lar joking wif u oni      0            6\n",
       "2  spam  free entry in a wkly comp to win fa cup final ...      1           25\n",
       "3   ham        u dun say so early hor u c already then say      0           11\n",
       "4   ham  nah i dont think he goes to usf he lives aroun...      0           13"
      ]
     },
     "execution_count": 23,
     "metadata": {},
     "output_type": "execute_result"
    }
   ],
   "source": [
    "print(spamDf.shape)\n",
    "spamDf.head()"
   ]
  },
  {
   "cell_type": "markdown",
   "metadata": {
    "collapsed": true
   },
   "source": [
    "### TF-IDF with Tokenizer"
   ]
  },
  {
   "cell_type": "code",
   "execution_count": 24,
   "metadata": {},
   "outputs": [
    {
     "name": "stdout",
     "output_type": "stream",
     "text": [
      "(5572, 1000)\n"
     ]
    }
   ],
   "source": [
    "def tokenizer(text):\n",
    "    words = nltk.word_tokenize(text)\n",
    "    return words\n",
    "\n",
    "tfidf = TfidfVectorizer(tokenizer=tokenizer, stop_words='english', max_features=MAX_FEATURES)\n",
    "tfidfTexts = tfidf.fit_transform(spamDf['Content'])\n",
    "print(tfidfTexts.shape)"
   ]
  },
  {
   "cell_type": "code",
   "execution_count": 25,
   "metadata": {
    "collapsed": true
   },
   "outputs": [],
   "source": [
    "trainIdx, testIdx = partition_indices(spamDf.shape[0])"
   ]
  },
  {
   "cell_type": "code",
   "execution_count": 26,
   "metadata": {
    "scrolled": true
   },
   "outputs": [
    {
     "data": {
      "text/plain": [
       "<4457x1000 sparse matrix of type '<class 'numpy.float64'>'\n",
       "\twith 24029 stored elements in Compressed Sparse Row format>"
      ]
     },
     "execution_count": 26,
     "metadata": {},
     "output_type": "execute_result"
    }
   ],
   "source": [
    "trainTexts = tfidfTexts[trainIdx]\n",
    "trainTexts"
   ]
  },
  {
   "cell_type": "code",
   "execution_count": 27,
   "metadata": {},
   "outputs": [
    {
     "data": {
      "text/plain": [
       "<1115x1000 sparse matrix of type '<class 'numpy.float64'>'\n",
       "\twith 6264 stored elements in Compressed Sparse Row format>"
      ]
     },
     "execution_count": 27,
     "metadata": {},
     "output_type": "execute_result"
    }
   ],
   "source": [
    "testTexts = tfidfTexts[testIdx]\n",
    "testTexts"
   ]
  },
  {
   "cell_type": "markdown",
   "metadata": {},
   "source": [
    "-----\n",
    "**TEST**\n",
    "\n",
    "-----"
   ]
  },
  {
   "cell_type": "code",
   "execution_count": 28,
   "metadata": {
    "scrolled": true
   },
   "outputs": [
    {
     "data": {
      "text/plain": [
       "['The',\n",
       " 'batch',\n",
       " 'size',\n",
       " 'will',\n",
       " 'be',\n",
       " 'baked',\n",
       " 'into',\n",
       " 'both',\n",
       " 'placeholders',\n",
       " '.']"
      ]
     },
     "execution_count": 28,
     "metadata": {},
     "output_type": "execute_result"
    }
   ],
   "source": [
    "nltk.word_tokenize('The batch size will be baked into both placeholders.')"
   ]
  },
  {
   "cell_type": "code",
   "execution_count": 29,
   "metadata": {},
   "outputs": [
    {
     "data": {
      "text/html": [
       "<div>\n",
       "<table border=\"1\" class=\"dataframe\">\n",
       "  <thead>\n",
       "    <tr style=\"text-align: right;\">\n",
       "      <th></th>\n",
       "      <th>birds</th>\n",
       "      <th>cats</th>\n",
       "      <th>dogs</th>\n",
       "      <th>flowers</th>\n",
       "      <th>hate</th>\n",
       "      <th>love</th>\n",
       "      <th>loves</th>\n",
       "    </tr>\n",
       "  </thead>\n",
       "  <tbody>\n",
       "    <tr>\n",
       "      <th>0</th>\n",
       "      <td>0.00000</td>\n",
       "      <td>0.526405</td>\n",
       "      <td>0.000000</td>\n",
       "      <td>0.667679</td>\n",
       "      <td>0.000000</td>\n",
       "      <td>0.526405</td>\n",
       "      <td>0.000000</td>\n",
       "    </tr>\n",
       "    <tr>\n",
       "      <th>1</th>\n",
       "      <td>0.57735</td>\n",
       "      <td>0.000000</td>\n",
       "      <td>0.577350</td>\n",
       "      <td>0.000000</td>\n",
       "      <td>0.000000</td>\n",
       "      <td>0.577350</td>\n",
       "      <td>0.000000</td>\n",
       "    </tr>\n",
       "    <tr>\n",
       "      <th>2</th>\n",
       "      <td>0.61913</td>\n",
       "      <td>0.000000</td>\n",
       "      <td>0.000000</td>\n",
       "      <td>0.000000</td>\n",
       "      <td>0.000000</td>\n",
       "      <td>0.000000</td>\n",
       "      <td>0.785288</td>\n",
       "    </tr>\n",
       "    <tr>\n",
       "      <th>3</th>\n",
       "      <td>0.00000</td>\n",
       "      <td>0.526405</td>\n",
       "      <td>0.526405</td>\n",
       "      <td>0.000000</td>\n",
       "      <td>0.667679</td>\n",
       "      <td>0.000000</td>\n",
       "      <td>0.000000</td>\n",
       "    </tr>\n",
       "  </tbody>\n",
       "</table>\n",
       "</div>"
      ],
      "text/plain": [
       "     birds      cats      dogs   flowers      hate      love     loves\n",
       "0  0.00000  0.526405  0.000000  0.667679  0.000000  0.526405  0.000000\n",
       "1  0.57735  0.000000  0.577350  0.000000  0.000000  0.577350  0.000000\n",
       "2  0.61913  0.000000  0.000000  0.000000  0.000000  0.000000  0.785288\n",
       "3  0.00000  0.526405  0.526405  0.000000  0.667679  0.000000  0.000000"
      ]
     },
     "execution_count": 29,
     "metadata": {},
     "output_type": "execute_result"
    }
   ],
   "source": [
    "texts = [\n",
    "    'I love cats and flowers',\n",
    "    'I love dogs but not birds',\n",
    "    'She loves birds',\n",
    "    'Cats hate dogs'\n",
    "]\n",
    "tfidfTest = TfidfVectorizer(tokenizer=tokenizer, stop_words='english', max_features=10)\n",
    "tfidfTestTexts = tfidfTest.fit_transform(texts)\n",
    "featureNames = tfidfTest.get_feature_names()\n",
    "vals = tfidfTestTexts.todense()\n",
    "df = pd.DataFrame(vals, columns=featureNames)\n",
    "df"
   ]
  },
  {
   "cell_type": "markdown",
   "metadata": {},
   "source": [
    "-----"
   ]
  },
  {
   "cell_type": "markdown",
   "metadata": {},
   "source": [
    "### Declaring Variables and Placeholders"
   ]
  },
  {
   "cell_type": "code",
   "execution_count": 30,
   "metadata": {},
   "outputs": [
    {
     "name": "stdout",
     "output_type": "stream",
     "text": [
      "Tensor(\"W_1/read:0\", shape=(1000, 1), dtype=float32)\n",
      "Tensor(\"b_1/read:0\", shape=(1, 1), dtype=float32)\n",
      "Tensor(\"X_1:0\", shape=(?, 1000), dtype=float32)\n",
      "Tensor(\"y_1:0\", shape=(?, 1), dtype=float32)\n"
     ]
    }
   ],
   "source": [
    "W = tf.Variable(tf.truncated_normal(shape=[MAX_FEATURES, 1]), name='W')\n",
    "b = tf.Variable(tf.truncated_normal(shape=[1, 1]), name='b')\n",
    "\n",
    "X = tf.placeholder(shape=[None, MAX_FEATURES], dtype=tf.float32, name='X')\n",
    "y = tf.placeholder(shape=[None, 1], dtype=tf.float32, name='y')\n",
    "\n",
    "print(W)\n",
    "print(b)\n",
    "print(X)\n",
    "print(y)"
   ]
  },
  {
   "cell_type": "markdown",
   "metadata": {},
   "source": [
    "### Calculating Outputs and Loss Function"
   ]
  },
  {
   "cell_type": "code",
   "execution_count": 31,
   "metadata": {},
   "outputs": [
    {
     "name": "stdout",
     "output_type": "stream",
     "text": [
      "Tensor(\"output_1:0\", shape=(?, 1), dtype=float32)\n",
      "Tensor(\"loss_1:0\", shape=(), dtype=float32)\n",
      "Tensor(\"prediction_1:0\", shape=(?, 1), dtype=float32)\n",
      "Tensor(\"accuracy_1:0\", shape=(), dtype=float32)\n"
     ]
    }
   ],
   "source": [
    "output = tf.add(tf.matmul(X, W), b, name='output')\n",
    "loss = tf.reduce_mean(tf.nn.sigmoid_cross_entropy_with_logits(labels=y, logits=output), name='loss')\n",
    "prediction = tf.round(tf.sigmoid(output), name='prediction')\n",
    "accuracy = tf.reduce_mean(tf.cast(tf.equal(prediction, y), dtype=tf.float32), name='accuracy')\n",
    "\n",
    "print(output)\n",
    "print(loss)\n",
    "print(prediction)\n",
    "print(accuracy)"
   ]
  },
  {
   "cell_type": "markdown",
   "metadata": {},
   "source": [
    "### Training Step"
   ]
  },
  {
   "cell_type": "code",
   "execution_count": 32,
   "metadata": {},
   "outputs": [
    {
     "name": "stdout",
     "output_type": "stream",
     "text": [
      "name: \"GradientDescent_1\"\n",
      "op: \"NoOp\"\n",
      "input: \"^GradientDescent_1/update_W_1/ApplyGradientDescent\"\n",
      "input: \"^GradientDescent_1/update_b_1/ApplyGradientDescent\"\n",
      "\n"
     ]
    }
   ],
   "source": [
    "optimizer = tf.train.GradientDescentOptimizer(0.0025)\n",
    "train = optimizer.minimize(loss)\n",
    "\n",
    "print(train)"
   ]
  },
  {
   "cell_type": "markdown",
   "metadata": {},
   "source": [
    "### Initializing Variables"
   ]
  },
  {
   "cell_type": "code",
   "execution_count": 33,
   "metadata": {
    "collapsed": true
   },
   "outputs": [],
   "source": [
    "init = tf.global_variables_initializer()\n",
    "sess.run(init)"
   ]
  },
  {
   "cell_type": "markdown",
   "metadata": {},
   "source": [
    "### Training Data"
   ]
  },
  {
   "cell_type": "code",
   "execution_count": 34,
   "metadata": {},
   "outputs": [
    {
     "name": "stdout",
     "output_type": "stream",
     "text": [
      "#999 loss: 0.5558622479438782\n",
      "#1999 loss: 0.5102313756942749\n",
      "#2999 loss: 0.4409853219985962\n",
      "#3999 loss: 0.4707418382167816\n",
      "#4999 loss: 0.529253363609314\n",
      "#5999 loss: 0.4487825632095337\n",
      "#6999 loss: 0.43511757254600525\n",
      "#7999 loss: 0.5593792200088501\n",
      "#8999 loss: 0.4808398485183716\n",
      "#9999 loss: 0.4303934574127197\n",
      "#10999 loss: 0.4379213750362396\n",
      "#11999 loss: 0.4345239996910095\n",
      "#12999 loss: 0.5067204833030701\n",
      "#13999 loss: 0.4650583565235138\n",
      "#14999 loss: 0.45959290862083435\n",
      "#15999 loss: 0.3877716064453125\n",
      "#16999 loss: 0.41863173246383667\n",
      "#17999 loss: 0.4034236967563629\n",
      "#18999 loss: 0.5080148577690125\n",
      "#19999 loss: 0.42080157995224\n"
     ]
    }
   ],
   "source": [
    "lossList = []\n",
    "accuracyList = []\n",
    "\n",
    "for i in range(ITERATION):\n",
    "    batchIdx = np.random.choice(trainTexts.shape[0], size=BATCH_SIZE, replace=False)\n",
    "    \n",
    "    X_batch = trainTexts[batchIdx].todense()\n",
    "    y_batch = spamDf.iloc[batchIdx]['Label'].values.reshape([-1, 1])\n",
    "    feedDict = {X: X_batch, y: y_batch}\n",
    "    \n",
    "    _, lossRes, accRes = sess.run((train, loss, accuracy), feed_dict=feedDict)\n",
    "    lossList.append(lossRes)\n",
    "    accuracyList.append(accRes)\n",
    "    \n",
    "    if (i + 1) % 1000 == 0:\n",
    "        print('#{} loss: {}'.format(i, lossRes))"
   ]
  },
  {
   "cell_type": "markdown",
   "metadata": {},
   "source": [
    "### Plotting Loss and Accuracy"
   ]
  },
  {
   "cell_type": "code",
   "execution_count": 16,
   "metadata": {
    "collapsed": true
   },
   "outputs": [],
   "source": [
    "from scipy.interpolate import interp1d"
   ]
  },
  {
   "cell_type": "code",
   "execution_count": 36,
   "metadata": {
    "scrolled": true
   },
   "outputs": [
    {
     "data": {
      "image/png": "[encoded data removed]",
      "text/plain": [
       "<matplotlib.figure.Figure at 0x1169c5320>"
      ]
     },
     "metadata": {},
     "output_type": "display_data"
    }
   ],
   "source": [
    "x_axis = np.linspace(0, ITERATION, ITERATION)\n",
    "interpolateLoss = interp1d(x_axis, lossList, kind='nearest')\n",
    "interpolateAcc = interp1d(x_axis, accuracyList, kind='zero')\n",
    "x_new = np.linspace(0, ITERATION, 125)\n",
    "\n",
    "plt.figure(figsize=[7, 5])\n",
    "plt.plot(x_new, interpolateLoss(x_new))\n",
    "plt.plot(x_new, interpolateAcc(x_new))\n",
    "plt.xlabel('Generation')\n",
    "plt.legend(['Loss', 'Accuracy'])\n",
    "plt.show()"
   ]
  },
  {
   "cell_type": "markdown",
   "metadata": {},
   "source": [
    "### Measuring Test Set Accuracy"
   ]
  },
  {
   "cell_type": "code",
   "execution_count": 37,
   "metadata": {},
   "outputs": [
    {
     "data": {
      "text/plain": [
       "0.84843051"
      ]
     },
     "execution_count": 37,
     "metadata": {},
     "output_type": "execute_result"
    }
   ],
   "source": [
    "XTest = testTexts.todense()\n",
    "yTest = spamDf.iloc[testIdx]['Label'].values.reshape([-1, 1])\n",
    "feedDict = {X: XTest, y: yTest}\n",
    "accRes = sess.run(accuracy, feed_dict=feedDict)\n",
    "accRes"
   ]
  },
  {
   "cell_type": "code",
   "execution_count": null,
   "metadata": {
    "collapsed": true
   },
   "outputs": [],
   "source": []
  }
 ],
 "metadata": {
  "kernelspec": {
   "display_name": "Python 3",
   "language": "python",
   "name": "python3"
  },
  "language_info": {
   "codemirror_mode": {
    "name": "ipython",
    "version": 3
   },
   "file_extension": ".py",
   "mimetype": "text/x-python",
   "name": "python",
   "nbconvert_exporter": "python",
   "pygments_lexer": "ipython3",
   "version": "3.5.2"
  }
 },
 "nbformat": 4,
 "nbformat_minor": 2
}
