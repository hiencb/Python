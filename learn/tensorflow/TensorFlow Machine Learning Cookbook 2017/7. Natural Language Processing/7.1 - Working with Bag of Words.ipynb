{
 "cells": [
  {
   "cell_type": "markdown",
   "metadata": {},
   "source": [
    "# Working with Bag of Words"
   ]
  },
  {
   "cell_type": "code",
   "execution_count": 1,
   "metadata": {
    "collapsed": true
   },
   "outputs": [],
   "source": [
    "import string\n",
    "import numpy as np\n",
    "import pandas as pd\n",
    "import matplotlib.pyplot as plt\n",
    "import seaborn as sns\n",
    "import tensorflow as tf\n",
    "from tensorflow.contrib import learn\n",
    "from SpamData import SpamData\n",
    "from Partition import partition_indices\n",
    "%matplotlib inline\n",
    "\n",
    "sess = tf.Session()"
   ]
  },
  {
   "cell_type": "markdown",
   "metadata": {},
   "source": [
    "### Preparing Data"
   ]
  },
  {
   "cell_type": "code",
   "execution_count": 2,
   "metadata": {},
   "outputs": [],
   "source": [
    "spamData = SpamData()\n",
    "spamDf = spamData.load_data()"
   ]
  },
  {
   "cell_type": "code",
   "execution_count": 3,
   "metadata": {},
   "outputs": [
    {
     "data": {
      "text/html": [
       "<div>\n",
       "<table border=\"1\" class=\"dataframe\">\n",
       "  <thead>\n",
       "    <tr style=\"text-align: right;\">\n",
       "      <th></th>\n",
       "      <th>Class</th>\n",
       "      <th>Content</th>\n",
       "      <th>Label</th>\n",
       "      <th>Text Length</th>\n",
       "    </tr>\n",
       "  </thead>\n",
       "  <tbody>\n",
       "    <tr>\n",
       "      <th>0</th>\n",
       "      <td>ham</td>\n",
       "      <td>go until jurong point crazy available only in ...</td>\n",
       "      <td>0</td>\n",
       "      <td>20</td>\n",
       "    </tr>\n",
       "    <tr>\n",
       "      <th>1</th>\n",
       "      <td>ham</td>\n",
       "      <td>ok lar joking wif u oni</td>\n",
       "      <td>0</td>\n",
       "      <td>6</td>\n",
       "    </tr>\n",
       "    <tr>\n",
       "      <th>2</th>\n",
       "      <td>spam</td>\n",
       "      <td>free entry in a wkly comp to win fa cup final ...</td>\n",
       "      <td>1</td>\n",
       "      <td>25</td>\n",
       "    </tr>\n",
       "    <tr>\n",
       "      <th>3</th>\n",
       "      <td>ham</td>\n",
       "      <td>u dun say so early hor u c already then say</td>\n",
       "      <td>0</td>\n",
       "      <td>11</td>\n",
       "    </tr>\n",
       "    <tr>\n",
       "      <th>4</th>\n",
       "      <td>ham</td>\n",
       "      <td>nah i dont think he goes to usf he lives aroun...</td>\n",
       "      <td>0</td>\n",
       "      <td>13</td>\n",
       "    </tr>\n",
       "  </tbody>\n",
       "</table>\n",
       "</div>"
      ],
      "text/plain": [
       "  Class                                            Content  Label  Text Length\n",
       "0   ham  go until jurong point crazy available only in ...      0           20\n",
       "1   ham                            ok lar joking wif u oni      0            6\n",
       "2  spam  free entry in a wkly comp to win fa cup final ...      1           25\n",
       "3   ham        u dun say so early hor u c already then say      0           11\n",
       "4   ham  nah i dont think he goes to usf he lives aroun...      0           13"
      ]
     },
     "execution_count": 3,
     "metadata": {},
     "output_type": "execute_result"
    }
   ],
   "source": [
    "spamDf.head()"
   ]
  },
  {
   "cell_type": "code",
   "execution_count": 23,
   "metadata": {
    "collapsed": true
   },
   "outputs": [],
   "source": [
    "trainIdx, testIdx = partition_indices(spamDf.shape[0])"
   ]
  },
  {
   "cell_type": "code",
   "execution_count": 24,
   "metadata": {},
   "outputs": [
    {
     "name": "stdout",
     "output_type": "stream",
     "text": [
      "(4457, 4)\n"
     ]
    },
    {
     "data": {
      "text/html": [
       "<div>\n",
       "<table border=\"1\" class=\"dataframe\">\n",
       "  <thead>\n",
       "    <tr style=\"text-align: right;\">\n",
       "      <th></th>\n",
       "      <th>Class</th>\n",
       "      <th>Content</th>\n",
       "      <th>Label</th>\n",
       "      <th>Text Length</th>\n",
       "    </tr>\n",
       "  </thead>\n",
       "  <tbody>\n",
       "    <tr>\n",
       "      <th>4345</th>\n",
       "      <td>ham</td>\n",
       "      <td>hidid you asked to waheeda fathima about leave</td>\n",
       "      <td>0</td>\n",
       "      <td>8</td>\n",
       "    </tr>\n",
       "    <tr>\n",
       "      <th>2933</th>\n",
       "      <td>ham</td>\n",
       "      <td>only students solved this cat question in xam ...</td>\n",
       "      <td>0</td>\n",
       "      <td>23</td>\n",
       "    </tr>\n",
       "    <tr>\n",
       "      <th>2176</th>\n",
       "      <td>ham</td>\n",
       "      <td>im at work please call</td>\n",
       "      <td>0</td>\n",
       "      <td>5</td>\n",
       "    </tr>\n",
       "    <tr>\n",
       "      <th>112</th>\n",
       "      <td>ham</td>\n",
       "      <td>going for dinnermsg you after</td>\n",
       "      <td>0</td>\n",
       "      <td>5</td>\n",
       "    </tr>\n",
       "    <tr>\n",
       "      <th>5319</th>\n",
       "      <td>ham</td>\n",
       "      <td>kothi print out marandratha</td>\n",
       "      <td>0</td>\n",
       "      <td>4</td>\n",
       "    </tr>\n",
       "  </tbody>\n",
       "</table>\n",
       "</div>"
      ],
      "text/plain": [
       "     Class                                            Content  Label  \\\n",
       "4345   ham     hidid you asked to waheeda fathima about leave      0   \n",
       "2933   ham  only students solved this cat question in xam ...      0   \n",
       "2176   ham                             im at work please call      0   \n",
       "112    ham                      going for dinnermsg you after      0   \n",
       "5319   ham                        kothi print out marandratha      0   \n",
       "\n",
       "      Text Length  \n",
       "4345            8  \n",
       "2933           23  \n",
       "2176            5  \n",
       "112             5  \n",
       "5319            4  "
      ]
     },
     "execution_count": 24,
     "metadata": {},
     "output_type": "execute_result"
    }
   ],
   "source": [
    "trainData = spamDf.iloc[trainIdx]\n",
    "print(trainData.shape)\n",
    "trainData.head()"
   ]
  },
  {
   "cell_type": "code",
   "execution_count": 25,
   "metadata": {},
   "outputs": [
    {
     "name": "stdout",
     "output_type": "stream",
     "text": [
      "(1115, 4)\n"
     ]
    },
    {
     "data": {
      "text/html": [
       "<div>\n",
       "<table border=\"1\" class=\"dataframe\">\n",
       "  <thead>\n",
       "    <tr style=\"text-align: right;\">\n",
       "      <th></th>\n",
       "      <th>Class</th>\n",
       "      <th>Content</th>\n",
       "      <th>Label</th>\n",
       "      <th>Text Length</th>\n",
       "    </tr>\n",
       "  </thead>\n",
       "  <tbody>\n",
       "    <tr>\n",
       "      <th>511</th>\n",
       "      <td>ham</td>\n",
       "      <td>at the latest gs still there if you can scroun...</td>\n",
       "      <td>0</td>\n",
       "      <td>22</td>\n",
       "    </tr>\n",
       "    <tr>\n",
       "      <th>5477</th>\n",
       "      <td>ham</td>\n",
       "      <td>what todaysundaysunday is holidayso no work</td>\n",
       "      <td>0</td>\n",
       "      <td>6</td>\n",
       "    </tr>\n",
       "    <tr>\n",
       "      <th>2632</th>\n",
       "      <td>spam</td>\n",
       "      <td>urgent your mobile no xxx won a £ bonus caller...</td>\n",
       "      <td>1</td>\n",
       "      <td>24</td>\n",
       "    </tr>\n",
       "    <tr>\n",
       "      <th>2320</th>\n",
       "      <td>ham</td>\n",
       "      <td>in which place do you want da</td>\n",
       "      <td>0</td>\n",
       "      <td>7</td>\n",
       "    </tr>\n",
       "    <tr>\n",
       "      <th>4536</th>\n",
       "      <td>ham</td>\n",
       "      <td>im late tellmiss im on my way</td>\n",
       "      <td>0</td>\n",
       "      <td>7</td>\n",
       "    </tr>\n",
       "  </tbody>\n",
       "</table>\n",
       "</div>"
      ],
      "text/plain": [
       "     Class                                            Content  Label  \\\n",
       "511    ham  at the latest gs still there if you can scroun...      0   \n",
       "5477   ham        what todaysundaysunday is holidayso no work      0   \n",
       "2632  spam  urgent your mobile no xxx won a £ bonus caller...      1   \n",
       "2320   ham                      in which place do you want da      0   \n",
       "4536   ham                      im late tellmiss im on my way      0   \n",
       "\n",
       "      Text Length  \n",
       "511            22  \n",
       "5477            6  \n",
       "2632           24  \n",
       "2320            7  \n",
       "4536            7  "
      ]
     },
     "execution_count": 25,
     "metadata": {},
     "output_type": "execute_result"
    }
   ],
   "source": [
    "testData = spamDf.iloc[testIdx]\n",
    "print(testData.shape)\n",
    "testData.head()"
   ]
  },
  {
   "cell_type": "markdown",
   "metadata": {},
   "source": [
    "### Plotting Data"
   ]
  },
  {
   "cell_type": "code",
   "execution_count": 8,
   "metadata": {
    "scrolled": true
   },
   "outputs": [
    {
     "data": {
      "text/plain": [
       "array([[<matplotlib.axes._subplots.AxesSubplot object at 0x116ae1860>]], dtype=object)"
      ]
     },
     "execution_count": 8,
     "metadata": {},
     "output_type": "execute_result"
    },
    {
     "data": {
      "image/png": "[encoded data removed]",
      "text/plain": [
       "<matplotlib.figure.Figure at 0x116ae1710>"
      ]
     },
     "metadata": {},
     "output_type": "display_data"
    }
   ],
   "source": [
    "spamDf.hist('Text Length', bins=50)"
   ]
  },
  {
   "cell_type": "markdown",
   "metadata": {
    "collapsed": true
   },
   "source": [
    "### Identifying Embedding Size"
   ]
  },
  {
   "cell_type": "code",
   "execution_count": 9,
   "metadata": {},
   "outputs": [
    {
     "name": "stdout",
     "output_type": "stream",
     "text": [
      "<class 'generator'>\n"
     ]
    },
    {
     "data": {
      "text/plain": [
       "2110"
      ]
     },
     "execution_count": 9,
     "metadata": {},
     "output_type": "execute_result"
    }
   ],
   "source": [
    "MAX_SENT_SIZE = 35\n",
    "MIN_WORD_FREQ = 3\n",
    "\n",
    "vocabProcessor = learn.preprocessing.VocabularyProcessor(max_document_length=MAX_SENT_SIZE, min_frequency=MIN_WORD_FREQ)\n",
    "wordIdx = vocabProcessor.fit_transform(spamDf['Content'])\n",
    "embeddingSize = len(vocabProcessor.vocabulary_._mapping)\n",
    "print(type(wordIdx))\n",
    "embeddingSize"
   ]
  },
  {
   "cell_type": "markdown",
   "metadata": {},
   "source": [
    "-----\n",
    "**TEST**\n",
    "\n",
    "-----"
   ]
  },
  {
   "cell_type": "code",
   "execution_count": 10,
   "metadata": {
    "collapsed": true
   },
   "outputs": [],
   "source": [
    "vocab = vocabProcessor.vocabulary_._mapping"
   ]
  },
  {
   "cell_type": "code",
   "execution_count": 11,
   "metadata": {},
   "outputs": [
    {
     "name": "stdout",
     "output_type": "stream",
     "text": [
      "<class 'dict'>\n",
      "2110\n"
     ]
    }
   ],
   "source": [
    "print(type(vocab))\n",
    "print(len(vocab.items()))"
   ]
  },
  {
   "cell_type": "code",
   "execution_count": 12,
   "metadata": {
    "collapsed": true
   },
   "outputs": [],
   "source": [
    "sortedVocab = sorted(vocab.items(), key=lambda i: i[1], reverse=True)"
   ]
  },
  {
   "cell_type": "code",
   "execution_count": 13,
   "metadata": {},
   "outputs": [
    {
     "data": {
      "text/plain": [
       "[('yuo', 2109),\n",
       " ('youclean', 2108),\n",
       " ('yer', 2107),\n",
       " ('xxxxxxx', 2106),\n",
       " ('xxxx', 2105),\n",
       " ('wylie', 2104),\n",
       " ('wwx', 2103),\n",
       " ('wwwringtonescouk', 2102),\n",
       " ('wwwldewcomwinppmxage', 2101),\n",
       " ('wtf', 2100)]"
      ]
     },
     "execution_count": 13,
     "metadata": {},
     "output_type": "execute_result"
    }
   ],
   "source": [
    "sortedVocab[: 10]"
   ]
  },
  {
   "cell_type": "code",
   "execution_count": 14,
   "metadata": {},
   "outputs": [
    {
     "data": {
      "text/plain": [
       "[array([  44,  457,    0,  811,  706,  669,   62,    9, 1234,   88,  121,\n",
       "         367, 1053,  149,    0, 1240,   66,   55,    0,  136,    0,    0,\n",
       "           0,    0,    0,    0,    0,    0,    0,    0,    0,    0,    0,\n",
       "           0,    0]),\n",
       " array([  47,  320, 1441,  460,    6, 1975,    0,    0,    0,    0,    0,\n",
       "           0,    0,    0,    0,    0,    0,    0,    0,    0,    0,    0,\n",
       "           0,    0,    0,    0,    0,    0,    0,    0,    0,    0,    0,\n",
       "           0,    0])]"
      ]
     },
     "execution_count": 14,
     "metadata": {},
     "output_type": "execute_result"
    }
   ],
   "source": [
    "import itertools\n",
    "\n",
    "list(itertools.islice(wordIdx, 2))"
   ]
  },
  {
   "cell_type": "markdown",
   "metadata": {},
   "source": [
    "-----"
   ]
  },
  {
   "cell_type": "markdown",
   "metadata": {},
   "source": [
    "### Embedding Matrix"
   ]
  },
  {
   "cell_type": "code",
   "execution_count": 15,
   "metadata": {},
   "outputs": [
    {
     "data": {
      "text/plain": [
       "<tf.Tensor 'Const:0' shape=(2110, 2110) dtype=float32>"
      ]
     },
     "execution_count": 15,
     "metadata": {},
     "output_type": "execute_result"
    }
   ],
   "source": [
    "embeddingMx = tf.convert_to_tensor(np.eye(embeddingSize, dtype=np.float32))\n",
    "embeddingMx"
   ]
  },
  {
   "cell_type": "markdown",
   "metadata": {},
   "source": [
    "### Declaring Parameters and Placeholders"
   ]
  },
  {
   "cell_type": "code",
   "execution_count": 16,
   "metadata": {},
   "outputs": [
    {
     "name": "stdout",
     "output_type": "stream",
     "text": [
      "Tensor(\"W/read:0\", shape=(2110, 1), dtype=float32)\n",
      "Tensor(\"b/read:0\", shape=(1, 1), dtype=float32)\n",
      "Tensor(\"X:0\", shape=(35,), dtype=int32)\n",
      "Tensor(\"y:0\", shape=(1, 1), dtype=float32)\n"
     ]
    }
   ],
   "source": [
    "W = tf.Variable(tf.truncated_normal(shape=[embeddingSize, 1]), name='W')\n",
    "b = tf.Variable(tf.zeros(shape=[1, 1]), name='b')\n",
    "print(W)\n",
    "print(b)\n",
    "\n",
    "X = tf.placeholder(shape=[MAX_SENT_SIZE], dtype=tf.int32, name='X')\n",
    "y = tf.placeholder(shape=[1, 1], dtype=tf.float32, name='y')\n",
    "print(X)\n",
    "print(y)"
   ]
  },
  {
   "cell_type": "markdown",
   "metadata": {},
   "source": [
    "### Mapping Indices of Words"
   ]
  },
  {
   "cell_type": "code",
   "execution_count": 17,
   "metadata": {},
   "outputs": [
    {
     "name": "stdout",
     "output_type": "stream",
     "text": [
      "Tensor(\"X_embed:0\", shape=(35, 2110), dtype=float32)\n",
      "Tensor(\"X_sums:0\", shape=(2110,), dtype=float32)\n"
     ]
    }
   ],
   "source": [
    "X_embed = tf.nn.embedding_lookup(embeddingMx, X, name='X_embed')\n",
    "X_sums = tf.reduce_sum(X_embed, 0, name='X_sums')\n",
    "\n",
    "print(X_embed)\n",
    "print(X_sums)"
   ]
  },
  {
   "cell_type": "markdown",
   "metadata": {},
   "source": [
    "### Calculating Outputs and Loss Function"
   ]
  },
  {
   "cell_type": "code",
   "execution_count": 18,
   "metadata": {},
   "outputs": [
    {
     "name": "stdout",
     "output_type": "stream",
     "text": [
      "Tensor(\"X_sums_2D:0\", shape=(1, 2110), dtype=float32)\n",
      "Tensor(\"output:0\", shape=(1, 1), dtype=float32)\n",
      "Tensor(\"prediction:0\", shape=(1, 1), dtype=float32)\n",
      "Tensor(\"Mean:0\", shape=(), dtype=float32)\n"
     ]
    }
   ],
   "source": [
    "X_sums_2D = tf.expand_dims(X_sums, 0, name='X_sums_2D')\n",
    "output = tf.add(tf.matmul(X_sums_2D, W), b, name='output')\n",
    "print(X_sums_2D)\n",
    "print(output)\n",
    "\n",
    "prediction = tf.sigmoid(output, name='prediction')\n",
    "loss = tf.reduce_mean(tf.nn.sigmoid_cross_entropy_with_logits(labels=y, logits=output, name='loss'))\n",
    "print(prediction)\n",
    "print(loss)"
   ]
  },
  {
   "cell_type": "markdown",
   "metadata": {},
   "source": [
    "### Training Step"
   ]
  },
  {
   "cell_type": "code",
   "execution_count": 19,
   "metadata": {},
   "outputs": [
    {
     "name": "stdout",
     "output_type": "stream",
     "text": [
      "name: \"train\"\n",
      "op: \"NoOp\"\n",
      "input: \"^train/update_W/ApplyGradientDescent\"\n",
      "input: \"^train/update_b/ApplyGradientDescent\"\n",
      "\n"
     ]
    }
   ],
   "source": [
    "optimizer = tf.train.GradientDescentOptimizer(0.001)\n",
    "train = optimizer.minimize(loss, name='train')\n",
    "print(train)"
   ]
  },
  {
   "cell_type": "markdown",
   "metadata": {},
   "source": [
    "### Initializing Variables"
   ]
  },
  {
   "cell_type": "code",
   "execution_count": 20,
   "metadata": {
    "collapsed": true
   },
   "outputs": [],
   "source": [
    "init = tf.global_variables_initializer()\n",
    "sess.run(init)"
   ]
  },
  {
   "cell_type": "markdown",
   "metadata": {},
   "source": [
    "### Training Data"
   ]
  },
  {
   "cell_type": "code",
   "execution_count": 21,
   "metadata": {},
   "outputs": [
    {
     "name": "stdout",
     "output_type": "stream",
     "text": [
      "#199 - loss: 5.26112174987793\n",
      "#399 - loss: 0.1965966671705246\n",
      "#599 - loss: 0.0002463244891259819\n",
      "#799 - loss: 0.5377370119094849\n",
      "#999 - loss: 0.04413670301437378\n",
      "#1199 - loss: 1.2901149375466048e-06\n",
      "#1399 - loss: 0.04000787064433098\n",
      "#1599 - loss: 0.056731242686510086\n",
      "#1799 - loss: 2.860339641571045\n",
      "#1999 - loss: 0.18568192422389984\n",
      "#2199 - loss: 0.00024442761787213385\n",
      "#2399 - loss: 0.8692538738250732\n",
      "#2599 - loss: 0.0019671402405947447\n",
      "#2799 - loss: 0.006754941772669554\n",
      "#2999 - loss: 0.15233992040157318\n",
      "#3199 - loss: 0.06440827250480652\n",
      "#3399 - loss: 0.00046425487380474806\n",
      "#3599 - loss: 0.022434046491980553\n",
      "#3799 - loss: 4.0674599688372837e-08\n",
      "#3999 - loss: 0.0016532299341633916\n",
      "#4199 - loss: 0.7760111093521118\n",
      "#4399 - loss: 0.0002145512553397566\n"
     ]
    }
   ],
   "source": [
    "for (i, x_item) in enumerate(vocabProcessor.fit_transform(trainData['Content'])):\n",
    "    y_item = trainData.iloc[i]['Label']\n",
    "    feedDict = {X: x_item, y: [[y_item]]}\n",
    "    sess.run(train, feed_dict=feedDict)\n",
    "    \n",
    "    if (i + 1) % 200 == 0:\n",
    "        lossRes = sess.run(loss, feed_dict=feedDict)\n",
    "        print('#{0} - loss: {1}'.format(i, lossRes))"
   ]
  },
  {
   "cell_type": "markdown",
   "metadata": {},
   "source": [
    "### Measuring Test Set Accuracy"
   ]
  },
  {
   "cell_type": "code",
   "execution_count": 22,
   "metadata": {},
   "outputs": [
    {
     "name": "stdout",
     "output_type": "stream",
     "text": [
      "#49 - accuracy: 0.96:\n",
      "#99 - accuracy: 0.87:\n",
      "#149 - accuracy: 0.86:\n",
      "#199 - accuracy: 0.875:\n",
      "#249 - accuracy: 0.864:\n",
      "#299 - accuracy: 0.8633333333333333:\n",
      "#349 - accuracy: 0.8685714285714285:\n",
      "#399 - accuracy: 0.8675:\n",
      "#449 - accuracy: 0.8711111111111111:\n",
      "#499 - accuracy: 0.862:\n",
      "#549 - accuracy: 0.8636363636363636:\n",
      "#599 - accuracy: 0.855:\n",
      "#649 - accuracy: 0.8569230769230769:\n",
      "#699 - accuracy: 0.8528571428571429:\n",
      "#749 - accuracy: 0.8453333333333334:\n",
      "#799 - accuracy: 0.84125:\n",
      "#849 - accuracy: 0.84:\n",
      "#899 - accuracy: 0.8377777777777777:\n",
      "#949 - accuracy: 0.8389473684210527:\n",
      "#999 - accuracy: 0.841:\n",
      "#1049 - accuracy: 0.840952380952381:\n",
      "#1099 - accuracy: 0.8409090909090909:\n",
      "Overall Test Accuracy: 0.842152466367713\n"
     ]
    }
   ],
   "source": [
    "testAccuracy = []\n",
    "\n",
    "for (i, x_item) in enumerate(vocabProcessor.fit_transform(testData['Content'])):\n",
    "    y_item = testData.iloc[i]['Label']\n",
    "    feedDict = {X: x_item, y: [[y_item]]}\n",
    "    predictionRes = sess.run(prediction, feed_dict=feedDict)\n",
    "    testAccuracy.append(y_item == np.round(predictionRes))\n",
    "    \n",
    "    if (i + 1) % 50 == 0:\n",
    "        print('#{0} - accuracy: {1}:'.format(i, np.mean(testAccuracy)))\n",
    "\n",
    "print('Overall Test Accuracy: {0}'.format(np.mean(testAccuracy)))"
   ]
  },
  {
   "cell_type": "code",
   "execution_count": null,
   "metadata": {
    "collapsed": true
   },
   "outputs": [],
   "source": []
  }
 ],
 "metadata": {
  "kernelspec": {
   "display_name": "Python 3",
   "language": "python",
   "name": "python3"
  },
  "language_info": {
   "codemirror_mode": {
    "name": "ipython",
    "version": 3
   },
   "file_extension": ".py",
   "mimetype": "text/x-python",
   "name": "python",
   "nbconvert_exporter": "python",
   "pygments_lexer": "ipython3",
   "version": "3.5.2"
  }
 },
 "nbformat": 4,
 "nbformat_minor": 2
}
