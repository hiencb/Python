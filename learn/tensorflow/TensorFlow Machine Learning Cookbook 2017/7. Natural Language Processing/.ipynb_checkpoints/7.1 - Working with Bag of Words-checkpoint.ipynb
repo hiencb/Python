{
 "cells": [
  {
   "cell_type": "markdown",
   "metadata": {},
   "source": [
    "# Working with Bag of Words"
   ]
  },
  {
   "cell_type": "code",
   "execution_count": 65,
   "metadata": {
    "collapsed": true
   },
   "outputs": [],
   "source": [
    "import string\n",
    "import numpy as np\n",
    "import pandas as pd\n",
    "import matplotlib.pyplot as plt\n",
    "import seaborn as sns\n",
    "import tensorflow as tf\n",
    "from tensorflow.contrib import learn\n",
    "%matplotlib inline\n",
    "\n",
    "sess = tf.Session()\n",
    "data_url = 'http://archive.ics.uci.edu/ml/machine-learning-databases/00228/smsspamcollection.zip'"
   ]
  },
  {
   "cell_type": "markdown",
   "metadata": {},
   "source": [
    "### Preparing Data"
   ]
  },
  {
   "cell_type": "code",
   "execution_count": 66,
   "metadata": {},
   "outputs": [
    {
     "name": "stdout",
     "output_type": "stream",
     "text": [
      "--2017-04-18 18:30:48--  http://archive.ics.uci.edu/ml/machine-learning-databases/00228/smsspamcollection.zip\n",
      "Resolving archive.ics.uci.edu... 128.195.10.249\n",
      "Connecting to archive.ics.uci.edu|128.195.10.249|:80... connected.\n",
      "HTTP request sent, awaiting response... 200 OK\n",
      "Length: 203415 (199K) [application/zip]\n",
      "Saving to: ‘SpamCollection.zip’\n",
      "\n",
      "SpamCollection.zip  100%[===================>] 198.65K   256KB/s    in 0.8s    \n",
      "\n",
      "2017-04-18 18:30:50 (256 KB/s) - ‘SpamCollection.zip’ saved [203415/203415]\n",
      "\n"
     ]
    }
   ],
   "source": [
    "!wget {data_url} -O SpamCollection.zip"
   ]
  },
  {
   "cell_type": "code",
   "execution_count": 72,
   "metadata": {
    "scrolled": true
   },
   "outputs": [
    {
     "name": "stdout",
     "output_type": "stream",
     "text": [
      "Archive:  SpamCollection.zip\r\n",
      "  inflating: SpamCollection/SMSSpamCollection  \r\n",
      "  inflating: SpamCollection/readme   \r\n"
     ]
    }
   ],
   "source": [
    "!unzip -o SpamCollection.zip -d SpamCollection"
   ]
  },
  {
   "cell_type": "code",
   "execution_count": 88,
   "metadata": {},
   "outputs": [
    {
     "name": "stdout",
     "output_type": "stream",
     "text": [
      "(5572, 2)\n"
     ]
    },
    {
     "data": {
      "text/html": [
       "<div>\n",
       "<table border=\"1\" class=\"dataframe\">\n",
       "  <thead>\n",
       "    <tr style=\"text-align: right;\">\n",
       "      <th></th>\n",
       "      <th>Class</th>\n",
       "      <th>Content</th>\n",
       "    </tr>\n",
       "  </thead>\n",
       "  <tbody>\n",
       "    <tr>\n",
       "      <th>0</th>\n",
       "      <td>ham</td>\n",
       "      <td>Go until jurong point, crazy.. Available only ...</td>\n",
       "    </tr>\n",
       "    <tr>\n",
       "      <th>1</th>\n",
       "      <td>ham</td>\n",
       "      <td>Ok lar... Joking wif u oni...</td>\n",
       "    </tr>\n",
       "    <tr>\n",
       "      <th>2</th>\n",
       "      <td>spam</td>\n",
       "      <td>Free entry in 2 a wkly comp to win FA Cup fina...</td>\n",
       "    </tr>\n",
       "    <tr>\n",
       "      <th>3</th>\n",
       "      <td>ham</td>\n",
       "      <td>U dun say so early hor... U c already then say...</td>\n",
       "    </tr>\n",
       "    <tr>\n",
       "      <th>4</th>\n",
       "      <td>ham</td>\n",
       "      <td>Nah I don't think he goes to usf, he lives aro...</td>\n",
       "    </tr>\n",
       "  </tbody>\n",
       "</table>\n",
       "</div>"
      ],
      "text/plain": [
       "  Class                                            Content\n",
       "0   ham  Go until jurong point, crazy.. Available only ...\n",
       "1   ham                      Ok lar... Joking wif u oni...\n",
       "2  spam  Free entry in 2 a wkly comp to win FA Cup fina...\n",
       "3   ham  U dun say so early hor... U c already then say...\n",
       "4   ham  Nah I don't think he goes to usf, he lives aro..."
      ]
     },
     "execution_count": 88,
     "metadata": {},
     "output_type": "execute_result"
    }
   ],
   "source": [
    "spamDf = pd.read_table('SpamCollection/SMSSpamCollection', header=None, names=['Class', 'Content'])\n",
    "nSamples = spamDf.shape[0]\n",
    "print(spamDf.shape)\n",
    "spamDf.head(5)"
   ]
  },
  {
   "cell_type": "markdown",
   "metadata": {},
   "source": [
    "Projecting labels:"
   ]
  },
  {
   "cell_type": "code",
   "execution_count": 169,
   "metadata": {
    "collapsed": true
   },
   "outputs": [],
   "source": [
    "spamDf['Label'] = spamDf['Class'].map(lambda c: 0 if c == 'ham' else 1)"
   ]
  },
  {
   "cell_type": "markdown",
   "metadata": {},
   "source": [
    "Projecting text length:"
   ]
  },
  {
   "cell_type": "code",
   "execution_count": 170,
   "metadata": {
    "collapsed": true
   },
   "outputs": [],
   "source": [
    "spamDf['Text Length'] = spamDf['Content'].map(lambda txt: len(txt.split()))"
   ]
  },
  {
   "cell_type": "markdown",
   "metadata": {},
   "source": [
    "Normalizing text:"
   ]
  },
  {
   "cell_type": "code",
   "execution_count": 171,
   "metadata": {
    "collapsed": true
   },
   "outputs": [],
   "source": [
    "def normalizeText(text):\n",
    "    # Remove punctuation and digit\n",
    "    charFiltered = ''.join(c for c in text if c not in string.punctuation and c not in string.digits)\n",
    "    \n",
    "    # Remove extra whitespaces\n",
    "    spaceFiltered = ' '.join(w for w in charFiltered.split())\n",
    "    return spaceFiltered.lower()\n",
    "\n",
    "spamDf['Content'] = spamDf['Content'].map(normalizeText)"
   ]
  },
  {
   "cell_type": "code",
   "execution_count": 172,
   "metadata": {},
   "outputs": [
    {
     "data": {
      "text/html": [
       "<div>\n",
       "<table border=\"1\" class=\"dataframe\">\n",
       "  <thead>\n",
       "    <tr style=\"text-align: right;\">\n",
       "      <th></th>\n",
       "      <th>Class</th>\n",
       "      <th>Content</th>\n",
       "      <th>Label</th>\n",
       "      <th>Text Length</th>\n",
       "    </tr>\n",
       "  </thead>\n",
       "  <tbody>\n",
       "    <tr>\n",
       "      <th>0</th>\n",
       "      <td>ham</td>\n",
       "      <td>go until jurong point crazy available only in ...</td>\n",
       "      <td>0</td>\n",
       "      <td>20</td>\n",
       "    </tr>\n",
       "    <tr>\n",
       "      <th>1</th>\n",
       "      <td>ham</td>\n",
       "      <td>ok lar joking wif u oni</td>\n",
       "      <td>0</td>\n",
       "      <td>6</td>\n",
       "    </tr>\n",
       "    <tr>\n",
       "      <th>2</th>\n",
       "      <td>spam</td>\n",
       "      <td>free entry in a wkly comp to win fa cup final ...</td>\n",
       "      <td>1</td>\n",
       "      <td>28</td>\n",
       "    </tr>\n",
       "    <tr>\n",
       "      <th>3</th>\n",
       "      <td>ham</td>\n",
       "      <td>u dun say so early hor u c already then say</td>\n",
       "      <td>0</td>\n",
       "      <td>11</td>\n",
       "    </tr>\n",
       "    <tr>\n",
       "      <th>4</th>\n",
       "      <td>ham</td>\n",
       "      <td>nah i dont think he goes to usf he lives aroun...</td>\n",
       "      <td>0</td>\n",
       "      <td>13</td>\n",
       "    </tr>\n",
       "  </tbody>\n",
       "</table>\n",
       "</div>"
      ],
      "text/plain": [
       "  Class                                            Content  Label  Text Length\n",
       "0   ham  go until jurong point crazy available only in ...      0           20\n",
       "1   ham                            ok lar joking wif u oni      0            6\n",
       "2  spam  free entry in a wkly comp to win fa cup final ...      1           28\n",
       "3   ham        u dun say so early hor u c already then say      0           11\n",
       "4   ham  nah i dont think he goes to usf he lives aroun...      0           13"
      ]
     },
     "execution_count": 172,
     "metadata": {},
     "output_type": "execute_result"
    }
   ],
   "source": [
    "spamDf.head()"
   ]
  },
  {
   "cell_type": "markdown",
   "metadata": {},
   "source": [
    "### Plotting Data"
   ]
  },
  {
   "cell_type": "code",
   "execution_count": 78,
   "metadata": {
    "scrolled": true
   },
   "outputs": [
    {
     "data": {
      "text/plain": [
       "array([[<matplotlib.axes._subplots.AxesSubplot object at 0x11843a978>]], dtype=object)"
      ]
     },
     "execution_count": 78,
     "metadata": {},
     "output_type": "execute_result"
    },
    {
     "data": {
      "image/png": "[encoded data removed]",
      "text/plain": [
       "<matplotlib.figure.Figure at 0x1184c3588>"
      ]
     },
     "metadata": {},
     "output_type": "display_data"
    }
   ],
   "source": [
    "spamDf.hist('Text Length', bins=50)"
   ]
  },
  {
   "cell_type": "markdown",
   "metadata": {
    "collapsed": true
   },
   "source": [
    "### Identifying Embedding Size"
   ]
  },
  {
   "cell_type": "code",
   "execution_count": 167,
   "metadata": {},
   "outputs": [
    {
     "name": "stdout",
     "output_type": "stream",
     "text": [
      "<class 'generator'>\n"
     ]
    },
    {
     "data": {
      "text/plain": [
       "2739"
      ]
     },
     "execution_count": 167,
     "metadata": {},
     "output_type": "execute_result"
    }
   ],
   "source": [
    "MAX_SENT_SIZE = 35\n",
    "MIN_WORD_FREQ = 3\n",
    "\n",
    "vocabProcessor = learn.preprocessing.VocabularyProcessor(max_document_length=MAX_SENT_SIZE, min_frequency=MIN_WORD_FREQ)\n",
    "wordIdx = vocabProcessor.fit_transform(spamDf['Content'])\n",
    "embeddingSize = len(vocabProcessor.vocabulary_._mapping)\n",
    "print(type(wordIdx))\n",
    "embeddingSize"
   ]
  },
  {
   "cell_type": "markdown",
   "metadata": {},
   "source": [
    "-----\n",
    "**TEST**\n",
    "\n",
    "-----"
   ]
  },
  {
   "cell_type": "code",
   "execution_count": 131,
   "metadata": {
    "collapsed": true
   },
   "outputs": [],
   "source": [
    "vocabProcessor.fit_transform?"
   ]
  },
  {
   "cell_type": "code",
   "execution_count": 132,
   "metadata": {},
   "outputs": [],
   "source": [
    "vocab = vocabProcessor.vocabulary_._mapping"
   ]
  },
  {
   "cell_type": "code",
   "execution_count": 133,
   "metadata": {},
   "outputs": [
    {
     "name": "stdout",
     "output_type": "stream",
     "text": [
      "<class 'dict'>\n",
      "2739\n"
     ]
    }
   ],
   "source": [
    "print(type(vocab))\n",
    "print(len(vocab.items()))"
   ]
  },
  {
   "cell_type": "code",
   "execution_count": 134,
   "metadata": {
    "collapsed": true
   },
   "outputs": [],
   "source": [
    "sortedVocab = sorted(vocab.items(), key=lambda i: i[1], reverse=True)"
   ]
  },
  {
   "cell_type": "code",
   "execution_count": 135,
   "metadata": {},
   "outputs": [
    {
     "data": {
      "text/plain": [
       "[('yuo', 2738),\n",
       " ('yogasana', 2737),\n",
       " ('yer', 2736),\n",
       " ('wow', 2735),\n",
       " (\"wouldn't\", 2734),\n",
       " ('wonders', 2733),\n",
       " ('wishing', 2732),\n",
       " ('wins', 2731),\n",
       " ('white', 2730),\n",
       " (\"where's\", 2729)]"
      ]
     },
     "execution_count": 135,
     "metadata": {},
     "output_type": "execute_result"
    }
   ],
   "source": [
    "sortedVocab[: 10]"
   ]
  },
  {
   "cell_type": "code",
   "execution_count": 141,
   "metadata": {},
   "outputs": [
    {
     "data": {
      "text/plain": [
       "[array([ 26, 305, 158,  32, 415,   0,  26, 288, 152,  62, 158,   0,   0,\n",
       "          0,   0,   0,   0,   0,   0,   0,   0,   0,   0,   0,   0,   0,\n",
       "          0,   0,   0,   0,   0,   0,   0,   0,   0]),\n",
       " array([1155,    3,  109,  106,   83,  508,    1, 1229,   83, 2591,  219,\n",
       "         105,  536,    0,    0,    0,    0,    0,    0,    0,    0,    0,\n",
       "           0,    0,    0,    0,    0,    0,    0,    0,    0,    0,    0,\n",
       "           0,    0])]"
      ]
     },
     "execution_count": 141,
     "metadata": {},
     "output_type": "execute_result"
    }
   ],
   "source": [
    "import itertools\n",
    "\n",
    "list(itertools.islice(wordIdx, 2))"
   ]
  },
  {
   "cell_type": "markdown",
   "metadata": {},
   "source": [
    "-----"
   ]
  },
  {
   "cell_type": "markdown",
   "metadata": {},
   "source": [
    "### Partitioning Data"
   ]
  },
  {
   "cell_type": "code",
   "execution_count": 174,
   "metadata": {},
   "outputs": [
    {
     "name": "stdout",
     "output_type": "stream",
     "text": [
      "(4457, 4)\n",
      "(1115, 4)\n"
     ]
    }
   ],
   "source": [
    "idx = np.arange(nSamples)\n",
    "np.random.shuffle(idx)\n",
    "\n",
    "nTrains = int(nSamples * 0.8)\n",
    "trainIdx = idx[: nTrains]\n",
    "testIdx = idx[nTrains :]\n",
    "\n",
    "trainData = spamDf.iloc[trainIdx]\n",
    "testData = spamDf.iloc[testIdx]\n",
    "\n",
    "print(trainData.shape)\n",
    "print(testData.shape)"
   ]
  },
  {
   "cell_type": "markdown",
   "metadata": {},
   "source": [
    "### Embedding Matrix"
   ]
  },
  {
   "cell_type": "code",
   "execution_count": 151,
   "metadata": {},
   "outputs": [
    {
     "data": {
      "text/plain": [
       "<tf.Tensor 'Const_2:0' shape=(2739, 2739) dtype=float32>"
      ]
     },
     "execution_count": 151,
     "metadata": {},
     "output_type": "execute_result"
    }
   ],
   "source": [
    "embeddingMx = tf.convert_to_tensor(np.eye(embeddingSize, dtype=np.float32))\n",
    "embeddingMx"
   ]
  },
  {
   "cell_type": "markdown",
   "metadata": {},
   "source": [
    "### Declaring Parameters and Placeholders"
   ]
  },
  {
   "cell_type": "code",
   "execution_count": 161,
   "metadata": {},
   "outputs": [
    {
     "name": "stdout",
     "output_type": "stream",
     "text": [
      "Tensor(\"W_3/read:0\", shape=(2739, 1), dtype=float32)\n",
      "Tensor(\"b_3/read:0\", shape=(1, 1), dtype=float32)\n",
      "Tensor(\"X_3:0\", shape=(35,), dtype=int32)\n",
      "Tensor(\"y_2:0\", shape=(1, 1), dtype=float32)\n"
     ]
    }
   ],
   "source": [
    "W = tf.Variable(tf.truncated_normal(shape=[embeddingSize, 1]), name='W')\n",
    "b = tf.Variable(tf.zeros(shape=[1, 1]), name='b')\n",
    "print(W)\n",
    "print(b)\n",
    "\n",
    "X = tf.placeholder(shape=[MAX_SENT_SIZE], dtype=tf.int32, name='X')\n",
    "y = tf.placeholder(shape=[1, 1], dtype=tf.float32, name='y')\n",
    "print(X)\n",
    "print(y)"
   ]
  },
  {
   "cell_type": "markdown",
   "metadata": {},
   "source": [
    "### Mapping Indices of Words"
   ]
  },
  {
   "cell_type": "code",
   "execution_count": 162,
   "metadata": {},
   "outputs": [
    {
     "name": "stdout",
     "output_type": "stream",
     "text": [
      "Tensor(\"X_embed_2:0\", shape=(35, 2739), dtype=float32)\n",
      "Tensor(\"X_sums_2:0\", shape=(2739,), dtype=float32)\n"
     ]
    }
   ],
   "source": [
    "X_embed = tf.nn.embedding_lookup(embeddingMx, X, name='X_embed')\n",
    "X_sums = tf.reduce_sum(X_embed, 0, name='X_sums')\n",
    "\n",
    "print(X_embed)\n",
    "print(X_sums)"
   ]
  },
  {
   "cell_type": "markdown",
   "metadata": {},
   "source": [
    "### Calculating Outputs and Loss Functions"
   ]
  },
  {
   "cell_type": "code",
   "execution_count": 163,
   "metadata": {},
   "outputs": [
    {
     "name": "stdout",
     "output_type": "stream",
     "text": [
      "Tensor(\"X_sums_2D_4:0\", shape=(1, 2739), dtype=float32)\n",
      "Tensor(\"output_4:0\", shape=(1, 1), dtype=float32)\n",
      "Tensor(\"prediction_3:0\", shape=(1, 1), dtype=float32)\n",
      "Tensor(\"Mean:0\", shape=(), dtype=float32)\n"
     ]
    }
   ],
   "source": [
    "X_sums_2D = tf.expand_dims(X_sums, 0, name='X_sums_2D')\n",
    "output = tf.add(tf.matmul(X_sums_2D, W), b, name='output')\n",
    "print(X_sums_2D)\n",
    "print(output)\n",
    "\n",
    "prediction = tf.sigmoid(output, name='prediction')\n",
    "loss = tf.reduce_mean(tf.nn.sigmoid_cross_entropy_with_logits(labels=y, logits=output, name='loss'))\n",
    "print(prediction)\n",
    "print(loss)"
   ]
  },
  {
   "cell_type": "markdown",
   "metadata": {},
   "source": [
    "### Training Step"
   ]
  },
  {
   "cell_type": "code",
   "execution_count": 165,
   "metadata": {},
   "outputs": [
    {
     "name": "stdout",
     "output_type": "stream",
     "text": [
      "name: \"train\"\n",
      "op: \"NoOp\"\n",
      "input: \"^train/update_W_3/ApplyGradientDescent\"\n",
      "input: \"^train/update_b_3/ApplyGradientDescent\"\n",
      "\n"
     ]
    }
   ],
   "source": [
    "optimizer = tf.train.GradientDescentOptimizer(0.001)\n",
    "train = optimizer.minimize(loss, name='train')\n",
    "print(train)"
   ]
  },
  {
   "cell_type": "markdown",
   "metadata": {},
   "source": [
    "### Initializing Variables"
   ]
  },
  {
   "cell_type": "code",
   "execution_count": 166,
   "metadata": {
    "collapsed": true
   },
   "outputs": [],
   "source": [
    "init = tf.global_variables_initializer()\n",
    "sess.run(init)"
   ]
  },
  {
   "cell_type": "markdown",
   "metadata": {},
   "source": [
    "### Training Data"
   ]
  },
  {
   "cell_type": "code",
   "execution_count": 197,
   "metadata": {},
   "outputs": [
    {
     "name": "stdout",
     "output_type": "stream",
     "text": [
      "#199 - loss: 4.766218662261963\n",
      "#399 - loss: 0.0009768157033249736\n",
      "#599 - loss: 0.057059064507484436\n",
      "#799 - loss: 0.002928269561380148\n",
      "#999 - loss: 0.00430036848410964\n",
      "#1199 - loss: 0.0007185084978118539\n",
      "#1399 - loss: 0.005021714139729738\n",
      "#1599 - loss: 2.275639295578003\n",
      "#1799 - loss: 0.02023402787744999\n",
      "#1999 - loss: 1.3315320014953613\n",
      "#2199 - loss: 0.001762574422173202\n",
      "#2399 - loss: 0.005373667925596237\n",
      "#2599 - loss: 4.365481800050475e-05\n",
      "#2799 - loss: 0.013578264974057674\n",
      "#2999 - loss: 0.011156373657286167\n",
      "#3199 - loss: 0.004315444268286228\n",
      "#3399 - loss: 0.6694560050964355\n",
      "#3599 - loss: 0.01589074730873108\n",
      "#3799 - loss: 0.05850490555167198\n",
      "#3999 - loss: 0.014383941888809204\n",
      "#4199 - loss: 2.1465327739715576\n",
      "#4399 - loss: 0.00016649177996441722\n"
     ]
    }
   ],
   "source": [
    "for (i, x_item) in enumerate(vocabProcessor.fit_transform(trainData['Content'])):\n",
    "    y_item = trainData.iloc[i]['Label']\n",
    "    feedDict = {X: x_item, y: [[y_item]]}\n",
    "    sess.run(train, feed_dict=feedDict)\n",
    "    \n",
    "    if (i + 1) % 200 == 0:\n",
    "        lossRes = sess.run(loss, feed_dict=feedDict)\n",
    "        print('#{0} - loss: {1}'.format(i, lossRes))"
   ]
  },
  {
   "cell_type": "markdown",
   "metadata": {},
   "source": [
    "### Measuring Test Set Accuracy"
   ]
  },
  {
   "cell_type": "code",
   "execution_count": 198,
   "metadata": {},
   "outputs": [
    {
     "name": "stdout",
     "output_type": "stream",
     "text": [
      "#49 - accuracy: 0.88:\n",
      "#99 - accuracy: 0.84:\n",
      "#149 - accuracy: 0.82:\n",
      "#199 - accuracy: 0.83:\n",
      "#249 - accuracy: 0.824:\n",
      "#299 - accuracy: 0.82:\n",
      "#349 - accuracy: 0.8114285714285714:\n",
      "#399 - accuracy: 0.81:\n",
      "#449 - accuracy: 0.8111111111111111:\n",
      "#499 - accuracy: 0.81:\n",
      "#549 - accuracy: 0.8127272727272727:\n",
      "#599 - accuracy: 0.8116666666666666:\n",
      "#649 - accuracy: 0.8215384615384616:\n",
      "#699 - accuracy: 0.83:\n",
      "#749 - accuracy: 0.8333333333333334:\n",
      "#799 - accuracy: 0.8275:\n",
      "#849 - accuracy: 0.8235294117647058:\n",
      "#899 - accuracy: 0.8244444444444444:\n",
      "#949 - accuracy: 0.8252631578947368:\n",
      "#999 - accuracy: 0.826:\n",
      "#1049 - accuracy: 0.8266666666666667:\n",
      "#1099 - accuracy: 0.8263636363636364:\n",
      "Overall Test Accuracy: 0.8269058295964126\n"
     ]
    }
   ],
   "source": [
    "testAccuracy = []\n",
    "\n",
    "for (i, x_item) in enumerate(vocabProcessor.fit_transform(testData['Content'])):\n",
    "    y_item = testData.iloc[i]['Label']\n",
    "    feedDict = {X: x_item, y: [[y_item]]}\n",
    "    predictionRes = sess.run(prediction, feed_dict=feedDict)\n",
    "    testAccuracy.append(y_item == np.round(predictionRes))\n",
    "    \n",
    "    if (i + 1) % 50 == 0:\n",
    "        print('#{0} - accuracy: {1}:'.format(i, np.mean(testAccuracy)))\n",
    "\n",
    "print('Overall Test Accuracy: {0}'.format(np.mean(testAccuracy)))"
   ]
  },
  {
   "cell_type": "code",
   "execution_count": null,
   "metadata": {
    "collapsed": true
   },
   "outputs": [],
   "source": []
  }
 ],
 "metadata": {
  "kernelspec": {
   "display_name": "Python 3",
   "language": "python",
   "name": "python3"
  },
  "language_info": {
   "codemirror_mode": {
    "name": "ipython",
    "version": 3
   },
   "file_extension": ".py",
   "mimetype": "text/x-python",
   "name": "python",
   "nbconvert_exporter": "python",
   "pygments_lexer": "ipython3",
   "version": "3.5.2"
  }
 },
 "nbformat": 4,
 "nbformat_minor": 2
}
