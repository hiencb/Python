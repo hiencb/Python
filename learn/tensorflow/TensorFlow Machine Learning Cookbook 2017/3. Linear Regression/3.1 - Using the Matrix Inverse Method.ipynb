{
 "cells": [
  {
   "cell_type": "markdown",
   "metadata": {},
   "source": [
    "# Using the Matrix Inverse Method\n",
    "\n",
    "In this recipe, we will use TensorFlow to solve two dimensional linear regressions with the matrix inverse method."
   ]
  },
  {
   "cell_type": "code",
   "execution_count": 3,
   "metadata": {
    "collapsed": true
   },
   "outputs": [],
   "source": [
    "import numpy as np\n",
    "import tensorflow as tf\n",
    "from tensorflow.python.framework import ops\n",
    "import matplotlib.pyplot as plt\n",
    "import seaborn as sns\n",
    "%matplotlib inline"
   ]
  },
  {
   "cell_type": "code",
   "execution_count": 4,
   "metadata": {
    "collapsed": true
   },
   "outputs": [],
   "source": [
    "ops.reset_default_graph()\n",
    "sess = tf.Session()"
   ]
  },
  {
   "cell_type": "markdown",
   "metadata": {},
   "source": [
    "### Generating data"
   ]
  },
  {
   "cell_type": "code",
   "execution_count": 5,
   "metadata": {},
   "outputs": [
    {
     "name": "stdout",
     "output_type": "stream",
     "text": [
      "[ 8.          8.03438395  8.06876791  8.10315186]\n",
      "[ 14.05139779  18.03182574  19.47293661  19.20033675]\n"
     ]
    }
   ],
   "source": [
    "DATA_SIZE = 350\n",
    "x_vals = np.linspace(8, 20, DATA_SIZE)\n",
    "y_vals = 2.4 * x_vals + np.random.normal(loc=-1.3, scale=1, size=DATA_SIZE)\n",
    "\n",
    "print(x_vals[: 4])\n",
    "print(y_vals[: 4])"
   ]
  },
  {
   "cell_type": "markdown",
   "metadata": {},
   "source": [
    "### Plotting data"
   ]
  },
  {
   "cell_type": "code",
   "execution_count": 6,
   "metadata": {},
   "outputs": [
    {
     "data": {
      "image/png": "[encoded data removed]",
      "text/plain": [
       "<matplotlib.figure.Figure at 0x114f6e588>"
      ]
     },
     "metadata": {},
     "output_type": "display_data"
    }
   ],
   "source": [
    "plt.figure(figsize=(7, 5))\n",
    "plt.scatter(x_vals, y_vals, s=10)\n",
    "plt.xlabel('x')\n",
    "plt.ylabel('y')\n",
    "plt.show()"
   ]
  },
  {
   "cell_type": "markdown",
   "metadata": {},
   "source": [
    "### Creating matrices"
   ]
  },
  {
   "cell_type": "code",
   "execution_count": 7,
   "metadata": {},
   "outputs": [
    {
     "name": "stdout",
     "output_type": "stream",
     "text": [
      "(350, 2)\n",
      "[[ 8.          1.        ]\n",
      " [ 8.03438395  1.        ]\n",
      " [ 8.06876791  1.        ]\n",
      " [ 8.10315186  1.        ]]\n",
      "(350, 1)\n",
      "[[ 14.05139779]\n",
      " [ 18.03182574]\n",
      " [ 19.47293661]\n",
      " [ 19.20033675]]\n"
     ]
    }
   ],
   "source": [
    "ones = np.ones(shape=[DATA_SIZE, 1])\n",
    "A_vals = np.column_stack((np.reshape(x_vals, newshape=[-1, 1]), ones))\n",
    "B_vals = np.reshape(y_vals, newshape=[-1, 1])\n",
    "\n",
    "print(A_vals.shape)\n",
    "print(A_vals[: 4])\n",
    "\n",
    "print(B_vals.shape)\n",
    "print(B_vals[: 4])"
   ]
  },
  {
   "cell_type": "markdown",
   "metadata": {},
   "source": [
    "### Creating tensors"
   ]
  },
  {
   "cell_type": "code",
   "execution_count": 8,
   "metadata": {},
   "outputs": [
    {
     "name": "stdout",
     "output_type": "stream",
     "text": [
      "Tensor(\"Const:0\", shape=(350, 2), dtype=float64)\n",
      "Tensor(\"Const_1:0\", shape=(350, 1), dtype=float64)\n"
     ]
    }
   ],
   "source": [
    "A = tf.constant(A_vals)\n",
    "B = tf.constant(B_vals)\n",
    "\n",
    "print(A)\n",
    "print(B)"
   ]
  },
  {
   "cell_type": "markdown",
   "metadata": {},
   "source": [
    "### Solving with matrix inverse method\n",
    "\n",
    "$$ solution = \\left(A' \\times A \\right)^{-1} \\times A' \\times B $$"
   ]
  },
  {
   "cell_type": "code",
   "execution_count": 17,
   "metadata": {},
   "outputs": [],
   "source": [
    "def solve_matrix_inverse(A, B):\n",
    "    At = tf.transpose(A)\n",
    "    At_A = tf.matmul(tf.transpose(A), A)\n",
    "    At_A_i = tf.matrix_inverse(At_A)\n",
    "    At_A_i_At = tf.matmul(At_A_i, At)\n",
    "    solution = tf.matmul(At_A_i_At, B)\n",
    "    return solution"
   ]
  },
  {
   "cell_type": "code",
   "execution_count": 18,
   "metadata": {},
   "outputs": [
    {
     "name": "stdout",
     "output_type": "stream",
     "text": [
      "Tensor(\"MatMul_8:0\", shape=(2, 1), dtype=float64)\n"
     ]
    }
   ],
   "source": [
    "solution = solve_matrix_inverse(A, B)\n",
    "print(solution)"
   ]
  },
  {
   "cell_type": "code",
   "execution_count": 19,
   "metadata": {},
   "outputs": [
    {
     "data": {
      "text/plain": [
       "array([[ 2.38805583],\n",
       "       [-1.16539368]])"
      ]
     },
     "execution_count": 19,
     "metadata": {},
     "output_type": "execute_result"
    }
   ],
   "source": [
    "sol_res = sess.run(solution)\n",
    "sol_res"
   ]
  },
  {
   "cell_type": "markdown",
   "metadata": {},
   "source": [
    "### Plotting results"
   ]
  },
  {
   "cell_type": "code",
   "execution_count": 11,
   "metadata": {},
   "outputs": [
    {
     "name": "stdout",
     "output_type": "stream",
     "text": [
      "Tensor(\"res:0\", shape=(350, 1), dtype=float64)\n"
     ]
    }
   ],
   "source": [
    "res = tf.matmul(A, solution, name='res')\n",
    "print(res)"
   ]
  },
  {
   "cell_type": "code",
   "execution_count": 12,
   "metadata": {
    "collapsed": true
   },
   "outputs": [],
   "source": [
    "res_vals = sess.run(res)"
   ]
  },
  {
   "cell_type": "code",
   "execution_count": 13,
   "metadata": {
    "scrolled": true
   },
   "outputs": [
    {
     "data": {
      "image/png": "[encoded data removed]",
      "text/plain": [
       "<matplotlib.figure.Figure at 0x1150fa320>"
      ]
     },
     "metadata": {},
     "output_type": "display_data"
    }
   ],
   "source": [
    "plt.figure(figsize=(7, 5))\n",
    "plt.scatter(x_vals, y_vals, s=10, label='Data')\n",
    "plt.plot(x_vals, res_vals, 'm-', linewidth=3, label='Result')\n",
    "plt.xlabel('x')\n",
    "plt.ylabel('y')\n",
    "plt.legend(loc='upper left')\n",
    "plt.show()"
   ]
  },
  {
   "cell_type": "code",
   "execution_count": null,
   "metadata": {
    "collapsed": true
   },
   "outputs": [],
   "source": []
  }
 ],
 "metadata": {
  "kernelspec": {
   "display_name": "Python 3",
   "language": "python",
   "name": "python3"
  },
  "language_info": {
   "codemirror_mode": {
    "name": "ipython",
    "version": 3
   },
   "file_extension": ".py",
   "mimetype": "text/x-python",
   "name": "python",
   "nbconvert_exporter": "python",
   "pygments_lexer": "ipython3",
   "version": "3.5.3"
  }
 },
 "nbformat": 4,
 "nbformat_minor": 2
}
