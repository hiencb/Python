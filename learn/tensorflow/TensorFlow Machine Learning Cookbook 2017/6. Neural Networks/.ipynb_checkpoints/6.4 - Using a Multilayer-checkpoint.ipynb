{
 "cells": [
  {
   "cell_type": "markdown",
   "metadata": {},
   "source": [
    "# Using a Multilayer \n",
    "\n",
    "We will now apply our knowledge of different layers to real data with using a multilayer neural network on the Low Birthweight dataset."
   ]
  },
  {
   "cell_type": "code",
   "execution_count": 1,
   "metadata": {
    "collapsed": true
   },
   "outputs": [],
   "source": [
    "import numpy as np\n",
    "import pandas as pd\n",
    "import tensorflow as tf\n",
    "from tensorflow.python.framework import ops"
   ]
  },
  {
   "cell_type": "code",
   "execution_count": 2,
   "metadata": {
    "collapsed": true
   },
   "outputs": [],
   "source": [
    "BATCH_SIZE = 100"
   ]
  },
  {
   "cell_type": "code",
   "execution_count": 63,
   "metadata": {
    "collapsed": true
   },
   "outputs": [],
   "source": [
    "def create_weight(shape, std=1, name='weight'):\n",
    "    return tf.Variable(tf.random_normal(shape=shape, mean=0, stddev=std), name=name)\n",
    "\n",
    "def create_bias(shape, std=1, name='bias'):\n",
    "    return tf.Variable(tf.random_normal(shape=shape, stddev=std), name=name)\n",
    "\n",
    "def fully_connected(inputs, weights, biases, name='fully_connected'):\n",
    "    full = tf.add(tf.matmul(inputs, weights), biases)\n",
    "    return tf.nn.relu(full, name=name)"
   ]
  },
  {
   "cell_type": "markdown",
   "metadata": {},
   "source": [
    "### Downloading data"
   ]
  },
  {
   "cell_type": "code",
   "execution_count": 4,
   "metadata": {
    "collapsed": true
   },
   "outputs": [],
   "source": [
    "DATA_URL = 'https://www.umass.edu/statdata/statdata/data/lowbwt.dat'\n",
    "DATA_FILE = 'remote_data/birthdata.txt'"
   ]
  },
  {
   "cell_type": "code",
   "execution_count": 5,
   "metadata": {},
   "outputs": [
    {
     "name": "stdout",
     "output_type": "stream",
     "text": [
      "mkdir: remote_data: File exists\r\n"
     ]
    }
   ],
   "source": [
    "%mkdir remote_data"
   ]
  },
  {
   "cell_type": "code",
   "execution_count": 6,
   "metadata": {},
   "outputs": [
    {
     "name": "stdout",
     "output_type": "stream",
     "text": [
      "--2017-04-24 11:58:24--  https://www.umass.edu/statdata/statdata/data/lowbwt.dat\n",
      "Resolving www.umass.edu... 128.119.8.148\n",
      "Connecting to www.umass.edu|128.119.8.148|:443... connected.\n",
      "HTTP request sent, awaiting response... 200 OK\n",
      "Length: 15053 (15K) [text/plain]\n",
      "Saving to: ‘remote_data/birthdata.txt’\n",
      "\n",
      "remote_data/birthda 100%[===================>]  14.70K  --.-KB/s    in 0s      \n",
      "\n",
      "2017-04-24 11:58:25 (137 MB/s) - ‘remote_data/birthdata.txt’ saved [15053/15053]\n",
      "\n"
     ]
    }
   ],
   "source": [
    "!wget {DATA_URL} -O {DATA_FILE}"
   ]
  },
  {
   "cell_type": "markdown",
   "metadata": {},
   "source": [
    "### Loading data"
   ]
  },
  {
   "cell_type": "code",
   "execution_count": 7,
   "metadata": {},
   "outputs": [],
   "source": [
    "widths = [4, 7, 7, 7, 8, 9, 7, 6, 6, 7, 8]\n",
    "COLS_OF_INTEREST = ['AGE', 'LWT', 'RACE', 'SMOKE', 'PTL', 'HT', 'UI', 'FTV', 'BWT']\n",
    "\n",
    "df = pd.read_fwf(DATA_FILE, widths=widths, skiprows=5, skipfooter=1, skip_blank_lines=True, usecols=COLS_OF_INTEREST)\n",
    "df = df.drop(0)"
   ]
  },
  {
   "cell_type": "code",
   "execution_count": 8,
   "metadata": {},
   "outputs": [
    {
     "name": "stdout",
     "output_type": "stream",
     "text": [
      "(189, 9)\n"
     ]
    },
    {
     "data": {
      "text/html": [
       "<div>\n",
       "<table border=\"1\" class=\"dataframe\">\n",
       "  <thead>\n",
       "    <tr style=\"text-align: right;\">\n",
       "      <th></th>\n",
       "      <th>AGE</th>\n",
       "      <th>LWT</th>\n",
       "      <th>RACE</th>\n",
       "      <th>SMOKE</th>\n",
       "      <th>PTL</th>\n",
       "      <th>HT</th>\n",
       "      <th>UI</th>\n",
       "      <th>FTV</th>\n",
       "      <th>BWT</th>\n",
       "    </tr>\n",
       "  </thead>\n",
       "  <tbody>\n",
       "    <tr>\n",
       "      <th>1</th>\n",
       "      <td>19.0</td>\n",
       "      <td>182.0</td>\n",
       "      <td>2.0</td>\n",
       "      <td>0.0</td>\n",
       "      <td>0.0</td>\n",
       "      <td>0.0</td>\n",
       "      <td>1.0</td>\n",
       "      <td>0.0</td>\n",
       "      <td>2523.0</td>\n",
       "    </tr>\n",
       "    <tr>\n",
       "      <th>2</th>\n",
       "      <td>33.0</td>\n",
       "      <td>155.0</td>\n",
       "      <td>3.0</td>\n",
       "      <td>0.0</td>\n",
       "      <td>0.0</td>\n",
       "      <td>0.0</td>\n",
       "      <td>0.0</td>\n",
       "      <td>3.0</td>\n",
       "      <td>2551.0</td>\n",
       "    </tr>\n",
       "    <tr>\n",
       "      <th>3</th>\n",
       "      <td>20.0</td>\n",
       "      <td>105.0</td>\n",
       "      <td>1.0</td>\n",
       "      <td>1.0</td>\n",
       "      <td>0.0</td>\n",
       "      <td>0.0</td>\n",
       "      <td>0.0</td>\n",
       "      <td>1.0</td>\n",
       "      <td>2557.0</td>\n",
       "    </tr>\n",
       "  </tbody>\n",
       "</table>\n",
       "</div>"
      ],
      "text/plain": [
       "    AGE    LWT  RACE  SMOKE  PTL   HT   UI  FTV     BWT\n",
       "1  19.0  182.0   2.0    0.0  0.0  0.0  1.0  0.0  2523.0\n",
       "2  33.0  155.0   3.0    0.0  0.0  0.0  0.0  3.0  2551.0\n",
       "3  20.0  105.0   1.0    1.0  0.0  0.0  0.0  1.0  2557.0"
      ]
     },
     "execution_count": 8,
     "metadata": {},
     "output_type": "execute_result"
    }
   ],
   "source": [
    "print(df.shape)\n",
    "df.head(3)"
   ]
  },
  {
   "cell_type": "markdown",
   "metadata": {},
   "source": [
    "### Normalizing data"
   ]
  },
  {
   "cell_type": "code",
   "execution_count": 9,
   "metadata": {},
   "outputs": [
    {
     "data": {
      "text/html": [
       "<div>\n",
       "<table border=\"1\" class=\"dataframe\">\n",
       "  <thead>\n",
       "    <tr style=\"text-align: right;\">\n",
       "      <th></th>\n",
       "      <th>AGE</th>\n",
       "      <th>LWT</th>\n",
       "      <th>RACE</th>\n",
       "      <th>SMOKE</th>\n",
       "      <th>PTL</th>\n",
       "      <th>HT</th>\n",
       "      <th>UI</th>\n",
       "      <th>FTV</th>\n",
       "      <th>BWT</th>\n",
       "    </tr>\n",
       "  </thead>\n",
       "  <tbody>\n",
       "    <tr>\n",
       "      <th>1</th>\n",
       "      <td>19.0</td>\n",
       "      <td>182.0</td>\n",
       "      <td>2.0</td>\n",
       "      <td>0.0</td>\n",
       "      <td>0.0</td>\n",
       "      <td>0.0</td>\n",
       "      <td>1.0</td>\n",
       "      <td>0.0</td>\n",
       "      <td>2523.0</td>\n",
       "    </tr>\n",
       "    <tr>\n",
       "      <th>2</th>\n",
       "      <td>33.0</td>\n",
       "      <td>155.0</td>\n",
       "      <td>3.0</td>\n",
       "      <td>0.0</td>\n",
       "      <td>0.0</td>\n",
       "      <td>0.0</td>\n",
       "      <td>0.0</td>\n",
       "      <td>3.0</td>\n",
       "      <td>2551.0</td>\n",
       "    </tr>\n",
       "    <tr>\n",
       "      <th>3</th>\n",
       "      <td>20.0</td>\n",
       "      <td>105.0</td>\n",
       "      <td>1.0</td>\n",
       "      <td>1.0</td>\n",
       "      <td>0.0</td>\n",
       "      <td>0.0</td>\n",
       "      <td>0.0</td>\n",
       "      <td>1.0</td>\n",
       "      <td>2557.0</td>\n",
       "    </tr>\n",
       "  </tbody>\n",
       "</table>\n",
       "</div>"
      ],
      "text/plain": [
       "    AGE    LWT  RACE  SMOKE  PTL   HT   UI  FTV     BWT\n",
       "1  19.0  182.0   2.0    0.0  0.0  0.0  1.0  0.0  2523.0\n",
       "2  33.0  155.0   3.0    0.0  0.0  0.0  0.0  3.0  2551.0\n",
       "3  20.0  105.0   1.0    1.0  0.0  0.0  0.0  1.0  2557.0"
      ]
     },
     "execution_count": 9,
     "metadata": {},
     "output_type": "execute_result"
    }
   ],
   "source": [
    "df.fillna(df.mean(), inplace=True)\n",
    "df.head(3)"
   ]
  },
  {
   "cell_type": "markdown",
   "metadata": {},
   "source": [
    "### Splitting training and test sets"
   ]
  },
  {
   "cell_type": "code",
   "execution_count": 10,
   "metadata": {
    "collapsed": true
   },
   "outputs": [],
   "source": [
    "seed = 4\n",
    "tf.set_random_seed(seed)\n",
    "np.random.seed(seed)"
   ]
  },
  {
   "cell_type": "code",
   "execution_count": 11,
   "metadata": {},
   "outputs": [
    {
     "name": "stdout",
     "output_type": "stream",
     "text": [
      "189\n",
      "151\n"
     ]
    }
   ],
   "source": [
    "N_SAMPLES = df.shape[0]\n",
    "N_TRAIN = int(N_SAMPLES * 0.8)\n",
    "\n",
    "print(N_SAMPLES)\n",
    "print(N_TRAIN)"
   ]
  },
  {
   "cell_type": "code",
   "execution_count": 12,
   "metadata": {},
   "outputs": [],
   "source": [
    "idx = np.arange(N_SAMPLES)\n",
    "np.random.shuffle(idx)\n",
    "\n",
    "idx_train = idx[: N_TRAIN]\n",
    "idx_test = idx[N_TRAIN :]\n",
    "\n",
    "df_train = df.iloc[idx_train]\n",
    "df_test = df.iloc[idx_test]"
   ]
  },
  {
   "cell_type": "code",
   "execution_count": 13,
   "metadata": {},
   "outputs": [
    {
     "name": "stdout",
     "output_type": "stream",
     "text": [
      "(151, 9)\n"
     ]
    },
    {
     "data": {
      "text/html": [
       "<div>\n",
       "<table border=\"1\" class=\"dataframe\">\n",
       "  <thead>\n",
       "    <tr style=\"text-align: right;\">\n",
       "      <th></th>\n",
       "      <th>AGE</th>\n",
       "      <th>LWT</th>\n",
       "      <th>RACE</th>\n",
       "      <th>SMOKE</th>\n",
       "      <th>PTL</th>\n",
       "      <th>HT</th>\n",
       "      <th>UI</th>\n",
       "      <th>FTV</th>\n",
       "      <th>BWT</th>\n",
       "    </tr>\n",
       "  </thead>\n",
       "  <tbody>\n",
       "    <tr>\n",
       "      <th>34</th>\n",
       "      <td>25.0</td>\n",
       "      <td>155.0</td>\n",
       "      <td>1.0</td>\n",
       "      <td>0.0</td>\n",
       "      <td>0.0</td>\n",
       "      <td>0.0</td>\n",
       "      <td>0.0</td>\n",
       "      <td>1.0</td>\n",
       "      <td>2977.0</td>\n",
       "    </tr>\n",
       "    <tr>\n",
       "      <th>83</th>\n",
       "      <td>30.0</td>\n",
       "      <td>110.0</td>\n",
       "      <td>3.0</td>\n",
       "      <td>0.0</td>\n",
       "      <td>0.0</td>\n",
       "      <td>0.0</td>\n",
       "      <td>0.0</td>\n",
       "      <td>0.0</td>\n",
       "      <td>3475.0</td>\n",
       "    </tr>\n",
       "    <tr>\n",
       "      <th>167</th>\n",
       "      <td>21.0</td>\n",
       "      <td>100.0</td>\n",
       "      <td>3.0</td>\n",
       "      <td>0.0</td>\n",
       "      <td>1.0</td>\n",
       "      <td>0.0</td>\n",
       "      <td>0.0</td>\n",
       "      <td>4.0</td>\n",
       "      <td>2301.0</td>\n",
       "    </tr>\n",
       "  </tbody>\n",
       "</table>\n",
       "</div>"
      ],
      "text/plain": [
       "      AGE    LWT  RACE  SMOKE  PTL   HT   UI  FTV     BWT\n",
       "34   25.0  155.0   1.0    0.0  0.0  0.0  0.0  1.0  2977.0\n",
       "83   30.0  110.0   3.0    0.0  0.0  0.0  0.0  0.0  3475.0\n",
       "167  21.0  100.0   3.0    0.0  1.0  0.0  0.0  4.0  2301.0"
      ]
     },
     "execution_count": 13,
     "metadata": {},
     "output_type": "execute_result"
    }
   ],
   "source": [
    "print(df_train.shape)\n",
    "df_train.head(3)"
   ]
  },
  {
   "cell_type": "code",
   "execution_count": 14,
   "metadata": {},
   "outputs": [
    {
     "name": "stdout",
     "output_type": "stream",
     "text": [
      "(38, 9)\n"
     ]
    },
    {
     "data": {
      "text/html": [
       "<div>\n",
       "<table border=\"1\" class=\"dataframe\">\n",
       "  <thead>\n",
       "    <tr style=\"text-align: right;\">\n",
       "      <th></th>\n",
       "      <th>AGE</th>\n",
       "      <th>LWT</th>\n",
       "      <th>RACE</th>\n",
       "      <th>SMOKE</th>\n",
       "      <th>PTL</th>\n",
       "      <th>HT</th>\n",
       "      <th>UI</th>\n",
       "      <th>FTV</th>\n",
       "      <th>BWT</th>\n",
       "    </tr>\n",
       "  </thead>\n",
       "  <tbody>\n",
       "    <tr>\n",
       "      <th>96</th>\n",
       "      <td>29.0</td>\n",
       "      <td>135.0</td>\n",
       "      <td>1.0</td>\n",
       "      <td>0.0</td>\n",
       "      <td>0.0</td>\n",
       "      <td>0.0</td>\n",
       "      <td>0.0</td>\n",
       "      <td>1.0</td>\n",
       "      <td>3651.0</td>\n",
       "    </tr>\n",
       "    <tr>\n",
       "      <th>99</th>\n",
       "      <td>19.0</td>\n",
       "      <td>147.0</td>\n",
       "      <td>1.0</td>\n",
       "      <td>1.0</td>\n",
       "      <td>0.0</td>\n",
       "      <td>0.0</td>\n",
       "      <td>0.0</td>\n",
       "      <td>0.0</td>\n",
       "      <td>3651.0</td>\n",
       "    </tr>\n",
       "    <tr>\n",
       "      <th>116</th>\n",
       "      <td>28.0</td>\n",
       "      <td>134.0</td>\n",
       "      <td>3.0</td>\n",
       "      <td>0.0</td>\n",
       "      <td>0.0</td>\n",
       "      <td>0.0</td>\n",
       "      <td>0.0</td>\n",
       "      <td>1.0</td>\n",
       "      <td>3941.0</td>\n",
       "    </tr>\n",
       "  </tbody>\n",
       "</table>\n",
       "</div>"
      ],
      "text/plain": [
       "      AGE    LWT  RACE  SMOKE  PTL   HT   UI  FTV     BWT\n",
       "96   29.0  135.0   1.0    0.0  0.0  0.0  0.0  1.0  3651.0\n",
       "99   19.0  147.0   1.0    1.0  0.0  0.0  0.0  0.0  3651.0\n",
       "116  28.0  134.0   3.0    0.0  0.0  0.0  0.0  1.0  3941.0"
      ]
     },
     "execution_count": 14,
     "metadata": {},
     "output_type": "execute_result"
    }
   ],
   "source": [
    "print(df_test.shape)\n",
    "df_test.head(3)"
   ]
  },
  {
   "cell_type": "markdown",
   "metadata": {},
   "source": [
    "### Splitting inputs and labels"
   ]
  },
  {
   "cell_type": "code",
   "execution_count": 15,
   "metadata": {
    "scrolled": true
   },
   "outputs": [
    {
     "name": "stdout",
     "output_type": "stream",
     "text": [
      "(151, 8)\n",
      "(151, 1)\n",
      "(38, 8)\n",
      "(38, 1)\n"
     ]
    }
   ],
   "source": [
    "COLS_INPUT = ['AGE', 'LWT', 'RACE', 'SMOKE', 'PTL', 'HT', 'UI', 'FTV']\n",
    "COL_LABEL = ['BWT']\n",
    "\n",
    "inputs_train = df_train[COLS_INPUT]\n",
    "labels_train = df_train[COL_LABEL]\n",
    "inputs_test = df_test[COLS_INPUT]\n",
    "labels_test = df_test[COL_LABEL]\n",
    "\n",
    "print(inputs_train.shape)\n",
    "print(labels_train.shape)\n",
    "print(inputs_test.shape)\n",
    "print(labels_test.shape)"
   ]
  },
  {
   "cell_type": "code",
   "execution_count": 86,
   "metadata": {},
   "outputs": [
    {
     "data": {
      "text/html": [
       "<div>\n",
       "<table border=\"1\" class=\"dataframe\">\n",
       "  <thead>\n",
       "    <tr style=\"text-align: right;\">\n",
       "      <th></th>\n",
       "      <th>Value</th>\n",
       "    </tr>\n",
       "  </thead>\n",
       "  <tbody>\n",
       "    <tr>\n",
       "      <th>0</th>\n",
       "      <td>1</td>\n",
       "    </tr>\n",
       "    <tr>\n",
       "      <th>1</th>\n",
       "      <td>2</td>\n",
       "    </tr>\n",
       "    <tr>\n",
       "      <th>2</th>\n",
       "      <td>3</td>\n",
       "    </tr>\n",
       "  </tbody>\n",
       "</table>\n",
       "</div>"
      ],
      "text/plain": [
       "   Value\n",
       "0      1\n",
       "1      2\n",
       "2      3"
      ]
     },
     "execution_count": 86,
     "metadata": {},
     "output_type": "execute_result"
    }
   ],
   "source": [
    "a = pd.DataFrame([1, 2, 3], columns=['Value'])\n",
    "a"
   ]
  },
  {
   "cell_type": "code",
   "execution_count": 87,
   "metadata": {},
   "outputs": [
    {
     "data": {
      "text/plain": [
       "<tf.Tensor 'Const_2:0' shape=(1, 3) dtype=int32>"
      ]
     },
     "execution_count": 87,
     "metadata": {},
     "output_type": "execute_result"
    }
   ],
   "source": [
    "b = tf.constant([[1, 2, 3]])\n",
    "b"
   ]
  },
  {
   "cell_type": "code",
   "execution_count": 88,
   "metadata": {},
   "outputs": [
    {
     "data": {
      "text/plain": [
       "<tf.Tensor 'MatMul_4:0' shape=(3, 3) dtype=int32>"
      ]
     },
     "execution_count": 88,
     "metadata": {},
     "output_type": "execute_result"
    }
   ],
   "source": [
    "ad = tf.placeholder(shape=[3, 1], dtype=tf.int32)\n",
    "c = tf.matmul(ad, b)\n",
    "c"
   ]
  },
  {
   "cell_type": "code",
   "execution_count": 89,
   "metadata": {},
   "outputs": [
    {
     "data": {
      "text/plain": [
       "array([[1, 2, 3],\n",
       "       [2, 4, 6],\n",
       "       [3, 6, 9]], dtype=int32)"
      ]
     },
     "execution_count": 89,
     "metadata": {},
     "output_type": "execute_result"
    }
   ],
   "source": [
    "sess.run(c, feed_dict={ad: a})"
   ]
  },
  {
   "cell_type": "code",
   "execution_count": null,
   "metadata": {
    "collapsed": true
   },
   "outputs": [],
   "source": []
  },
  {
   "cell_type": "code",
   "execution_count": 74,
   "metadata": {},
   "outputs": [
    {
     "data": {
      "text/plain": [
       "<tf.Tensor 'MatMul:0' shape=(?, 25) dtype=float32>"
      ]
     },
     "execution_count": 74,
     "metadata": {},
     "output_type": "execute_result"
    }
   ],
   "source": [
    "a = tf.matmul(X, w1)\n",
    "a"
   ]
  },
  {
   "cell_type": "code",
   "execution_count": 75,
   "metadata": {},
   "outputs": [
    {
     "data": {
      "text/plain": [
       "array([[ nan,  nan,  nan, ...,  nan,  nan,  nan],\n",
       "       [ nan,  nan,  nan, ...,  nan,  nan,  nan],\n",
       "       [ nan,  nan,  nan, ...,  nan,  nan,  nan],\n",
       "       ..., \n",
       "       [ nan,  nan,  nan, ...,  nan,  nan,  nan],\n",
       "       [ nan,  nan,  nan, ...,  nan,  nan,  nan],\n",
       "       [ nan,  nan,  nan, ...,  nan,  nan,  nan]], dtype=float32)"
      ]
     },
     "execution_count": 75,
     "metadata": {},
     "output_type": "execute_result"
    }
   ],
   "source": [
    "sess.run(a, feed_dict={X: inputs_train})"
   ]
  },
  {
   "cell_type": "code",
   "execution_count": 72,
   "metadata": {},
   "outputs": [
    {
     "data": {
      "text/plain": [
       "array([[  8.98104286e+00,  -1.75578213e+00,   4.41987801e+00,\n",
       "         -2.94943862e-02,   8.16234016e+00,   5.47929192e+00,\n",
       "          1.11572790e+01,   4.76468474e-01,  -4.43702841e+00,\n",
       "          4.07331020e-01,  -4.41468000e-01,  -3.21676040e+00,\n",
       "         -2.85538530e+00,   2.47448659e+00,   2.76009750e+00,\n",
       "          6.66295576e+00,  -1.39069881e+01,  -1.02546463e+01,\n",
       "          1.12508574e+01,   1.24828711e+01,  -5.54175377e+00,\n",
       "         -3.28265905e+00,   5.75678587e+00,   2.12327156e+01,\n",
       "          4.32058525e+00],\n",
       "       [  4.37598050e-01,  -1.25312948e+01,   8.13111687e+00,\n",
       "          1.03819036e+01,   1.24020443e+01,  -3.05788374e+00,\n",
       "          1.77261887e+01,   1.97146244e+01,   5.21626902e+00,\n",
       "         -2.37826014e+00,   9.97630692e+00,   2.59630489e+00,\n",
       "         -7.66364050e+00,  -1.26710300e+01,  -2.64937305e+00,\n",
       "         -1.39346943e+01,  -8.33961391e+00,  -5.79609013e+00,\n",
       "          6.62745953e-01,  -2.26647520e+00,   3.85621572e+00,\n",
       "         -8.62159348e+00,   1.03137932e+01,   6.60350418e+00,\n",
       "         -3.62696075e+00],\n",
       "       [  4.36090565e+00,  -9.92537308e+00,   1.96471632e-01,\n",
       "         -2.04959679e+00,  -1.00106382e+01,   8.88906574e+00,\n",
       "         -2.52377090e+01,   9.13377380e+00,   2.44885139e+01,\n",
       "         -2.16763544e+00,   1.07368660e+01,  -8.03752995e+00,\n",
       "          1.29473305e+01,  -1.05810757e+01,   2.16300273e+00,\n",
       "          3.75299478e+00,   3.32648706e+00,  -9.53375435e+00,\n",
       "          1.23569441e+00,  -6.49131536e+00,  -1.73213615e+01,\n",
       "          3.45435410e+01,   1.40878928e+00,   8.57905674e+00,\n",
       "          1.33305368e+01],\n",
       "       [  8.27550507e+00,  -5.90930367e+00,   1.90225589e+00,\n",
       "         -7.11148357e+00,   8.07209396e+00,   7.42809582e+00,\n",
       "          7.23857403e+00,   9.48561954e+00,   5.09444809e+00,\n",
       "         -5.05703259e+00,  -3.73539299e-01,   6.28803635e+00,\n",
       "          1.47957134e+01,  -1.64510345e+00,  -6.43828154e+00,\n",
       "         -3.20268106e+00,   8.65646362e+00,   8.51237774e+00,\n",
       "          1.51782131e+01,   4.09911919e+00,   3.46336651e+00,\n",
       "         -1.40303440e+01,  -4.70140028e+00,   1.68404150e+00,\n",
       "         -1.97408237e+01],\n",
       "       [ -1.67254639e+01,   3.58356261e+00,   2.92449724e-02,\n",
       "          2.62792063e+00,   4.68084049e+00,  -1.78456707e+01,\n",
       "          1.90500278e+01,   7.56911850e+00,   2.32779388e+01,\n",
       "         -5.12787819e+00,  -9.60967827e+00,  -1.06957245e+01,\n",
       "         -1.69783401e+01,  -9.29450321e+00,   1.02957463e+00,\n",
       "         -1.75777063e-01,  -1.84204426e+01,   2.09268236e+00,\n",
       "          1.68902725e-01,  -5.22013378e+00,  -1.03195677e+01,\n",
       "         -3.86642790e+00,  -2.01629567e+00,  -6.17655039e+00,\n",
       "          1.34528246e+01],\n",
       "       [ -1.82687664e+00,   1.48069563e+01,  -4.08693933e+00,\n",
       "         -1.07777700e+01,   6.84246635e+00,  -2.51855165e-01,\n",
       "         -3.55349636e+00,   9.12899208e+00,   2.95281196e+00,\n",
       "          1.54317245e+01,  -2.31787539e+00,   8.79146767e+00,\n",
       "         -7.35560513e+00,  -6.43124700e-01,  -4.37607813e+00,\n",
       "          1.81068468e+00,   5.90496184e-03,   4.30449057e+00,\n",
       "         -4.79451227e+00,  -6.65174246e+00,  -2.59203434e-01,\n",
       "          2.19758530e+01,  -5.36627102e+00,   2.02767754e+01,\n",
       "         -5.13388395e+00],\n",
       "       [ -8.88426751e-02,   9.71351719e+00,   1.05936012e+01,\n",
       "         -8.72530174e+00,   4.22215509e+00,   9.80168056e+00,\n",
       "          2.21501017e+00,  -2.31181240e+01,  -1.64963830e+00,\n",
       "          4.18195391e+00,   1.00251856e+01,   6.40971088e+00,\n",
       "         -2.53756561e+01,  -1.57280073e+01,  -7.02263832e-01,\n",
       "         -2.05987167e+01,   3.38753414e+00,  -1.40979967e+01,\n",
       "          9.84613991e+00,  -1.70490856e+01,  -7.19959736e+00,\n",
       "         -2.40118866e+01,  -7.27414560e+00,   1.24232054e+01,\n",
       "          2.66930437e+00],\n",
       "       [ -5.94201803e+00,  -1.30964145e-01,  -1.20165682e+01,\n",
       "          2.37491837e+01,   1.25649796e+01,  -6.77459955e+00,\n",
       "         -1.18706121e+01,   4.63457346e-01,   1.78406930e+00,\n",
       "         -1.35148487e+01,   7.79886532e+00,  -6.75756264e+00,\n",
       "         -1.96162319e+01,   1.73304768e+01,  -3.44702935e+00,\n",
       "         -2.87699556e+00,   1.69472790e+01,   1.30072289e+01,\n",
       "          8.95425510e+00,   5.11976290e+00,  -7.80657816e+00,\n",
       "          1.40099692e+00,  -6.09941196e+00,  -1.93557882e+00,\n",
       "          5.92833710e+00]], dtype=float32)"
      ]
     },
     "execution_count": 72,
     "metadata": {},
     "output_type": "execute_result"
    }
   ],
   "source": [
    "sess.run(w1)"
   ]
  },
  {
   "cell_type": "code",
   "execution_count": 59,
   "metadata": {},
   "outputs": [
    {
     "data": {
      "text/html": [
       "<div>\n",
       "<table border=\"1\" class=\"dataframe\">\n",
       "  <thead>\n",
       "    <tr style=\"text-align: right;\">\n",
       "      <th></th>\n",
       "      <th>AGE</th>\n",
       "      <th>LWT</th>\n",
       "      <th>RACE</th>\n",
       "      <th>SMOKE</th>\n",
       "      <th>PTL</th>\n",
       "      <th>HT</th>\n",
       "      <th>UI</th>\n",
       "      <th>FTV</th>\n",
       "    </tr>\n",
       "  </thead>\n",
       "  <tbody>\n",
       "    <tr>\n",
       "      <th>34</th>\n",
       "      <td>25.0</td>\n",
       "      <td>155.0</td>\n",
       "      <td>1.0</td>\n",
       "      <td>0.0</td>\n",
       "      <td>0.0</td>\n",
       "      <td>0.0</td>\n",
       "      <td>0.0</td>\n",
       "      <td>1.0</td>\n",
       "    </tr>\n",
       "    <tr>\n",
       "      <th>83</th>\n",
       "      <td>30.0</td>\n",
       "      <td>110.0</td>\n",
       "      <td>3.0</td>\n",
       "      <td>0.0</td>\n",
       "      <td>0.0</td>\n",
       "      <td>0.0</td>\n",
       "      <td>0.0</td>\n",
       "      <td>0.0</td>\n",
       "    </tr>\n",
       "    <tr>\n",
       "      <th>167</th>\n",
       "      <td>21.0</td>\n",
       "      <td>100.0</td>\n",
       "      <td>3.0</td>\n",
       "      <td>0.0</td>\n",
       "      <td>1.0</td>\n",
       "      <td>0.0</td>\n",
       "      <td>0.0</td>\n",
       "      <td>4.0</td>\n",
       "    </tr>\n",
       "    <tr>\n",
       "      <th>142</th>\n",
       "      <td>19.0</td>\n",
       "      <td>91.0</td>\n",
       "      <td>1.0</td>\n",
       "      <td>1.0</td>\n",
       "      <td>2.0</td>\n",
       "      <td>0.0</td>\n",
       "      <td>1.0</td>\n",
       "      <td>0.0</td>\n",
       "    </tr>\n",
       "    <tr>\n",
       "      <th>48</th>\n",
       "      <td>19.0</td>\n",
       "      <td>132.0</td>\n",
       "      <td>3.0</td>\n",
       "      <td>0.0</td>\n",
       "      <td>0.0</td>\n",
       "      <td>0.0</td>\n",
       "      <td>0.0</td>\n",
       "      <td>0.0</td>\n",
       "    </tr>\n",
       "    <tr>\n",
       "      <th>12</th>\n",
       "      <td>19.0</td>\n",
       "      <td>150.0</td>\n",
       "      <td>3.0</td>\n",
       "      <td>0.0</td>\n",
       "      <td>0.0</td>\n",
       "      <td>0.0</td>\n",
       "      <td>0.0</td>\n",
       "      <td>1.0</td>\n",
       "    </tr>\n",
       "    <tr>\n",
       "      <th>2</th>\n",
       "      <td>33.0</td>\n",
       "      <td>155.0</td>\n",
       "      <td>3.0</td>\n",
       "      <td>0.0</td>\n",
       "      <td>0.0</td>\n",
       "      <td>0.0</td>\n",
       "      <td>0.0</td>\n",
       "      <td>3.0</td>\n",
       "    </tr>\n",
       "    <tr>\n",
       "      <th>129</th>\n",
       "      <td>24.0</td>\n",
       "      <td>116.0</td>\n",
       "      <td>1.0</td>\n",
       "      <td>0.0</td>\n",
       "      <td>0.0</td>\n",
       "      <td>0.0</td>\n",
       "      <td>0.0</td>\n",
       "      <td>1.0</td>\n",
       "    </tr>\n",
       "    <tr>\n",
       "      <th>120</th>\n",
       "      <td>16.0</td>\n",
       "      <td>95.0</td>\n",
       "      <td>3.0</td>\n",
       "      <td>0.0</td>\n",
       "      <td>0.0</td>\n",
       "      <td>0.0</td>\n",
       "      <td>0.0</td>\n",
       "      <td>1.0</td>\n",
       "    </tr>\n",
       "    <tr>\n",
       "      <th>113</th>\n",
       "      <td>29.0</td>\n",
       "      <td>130.0</td>\n",
       "      <td>1.0</td>\n",
       "      <td>1.0</td>\n",
       "      <td>0.0</td>\n",
       "      <td>0.0</td>\n",
       "      <td>0.0</td>\n",
       "      <td>2.0</td>\n",
       "    </tr>\n",
       "    <tr>\n",
       "      <th>103</th>\n",
       "      <td>24.0</td>\n",
       "      <td>110.0</td>\n",
       "      <td>3.0</td>\n",
       "      <td>0.0</td>\n",
       "      <td>1.0</td>\n",
       "      <td>0.0</td>\n",
       "      <td>0.0</td>\n",
       "      <td>0.0</td>\n",
       "    </tr>\n",
       "    <tr>\n",
       "      <th>181</th>\n",
       "      <td>26.0</td>\n",
       "      <td>154.0</td>\n",
       "      <td>3.0</td>\n",
       "      <td>0.0</td>\n",
       "      <td>1.0</td>\n",
       "      <td>1.0</td>\n",
       "      <td>0.0</td>\n",
       "      <td>1.0</td>\n",
       "    </tr>\n",
       "    <tr>\n",
       "      <th>35</th>\n",
       "      <td>25.0</td>\n",
       "      <td>125.0</td>\n",
       "      <td>2.0</td>\n",
       "      <td>0.0</td>\n",
       "      <td>0.0</td>\n",
       "      <td>0.0</td>\n",
       "      <td>0.0</td>\n",
       "      <td>0.0</td>\n",
       "    </tr>\n",
       "    <tr>\n",
       "      <th>109</th>\n",
       "      <td>18.0</td>\n",
       "      <td>120.0</td>\n",
       "      <td>1.0</td>\n",
       "      <td>1.0</td>\n",
       "      <td>0.0</td>\n",
       "      <td>0.0</td>\n",
       "      <td>0.0</td>\n",
       "      <td>2.0</td>\n",
       "    </tr>\n",
       "    <tr>\n",
       "      <th>85</th>\n",
       "      <td>23.0</td>\n",
       "      <td>123.0</td>\n",
       "      <td>3.0</td>\n",
       "      <td>0.0</td>\n",
       "      <td>0.0</td>\n",
       "      <td>0.0</td>\n",
       "      <td>0.0</td>\n",
       "      <td>0.0</td>\n",
       "    </tr>\n",
       "    <tr>\n",
       "      <th>93</th>\n",
       "      <td>19.0</td>\n",
       "      <td>235.0</td>\n",
       "      <td>1.0</td>\n",
       "      <td>1.0</td>\n",
       "      <td>0.0</td>\n",
       "      <td>1.0</td>\n",
       "      <td>0.0</td>\n",
       "      <td>0.0</td>\n",
       "    </tr>\n",
       "    <tr>\n",
       "      <th>121</th>\n",
       "      <td>20.0</td>\n",
       "      <td>158.0</td>\n",
       "      <td>1.0</td>\n",
       "      <td>0.0</td>\n",
       "      <td>0.0</td>\n",
       "      <td>0.0</td>\n",
       "      <td>0.0</td>\n",
       "      <td>1.0</td>\n",
       "    </tr>\n",
       "    <tr>\n",
       "      <th>49</th>\n",
       "      <td>24.0</td>\n",
       "      <td>115.0</td>\n",
       "      <td>1.0</td>\n",
       "      <td>0.0</td>\n",
       "      <td>0.0</td>\n",
       "      <td>0.0</td>\n",
       "      <td>0.0</td>\n",
       "      <td>2.0</td>\n",
       "    </tr>\n",
       "    <tr>\n",
       "      <th>77</th>\n",
       "      <td>25.0</td>\n",
       "      <td>140.0</td>\n",
       "      <td>1.0</td>\n",
       "      <td>0.0</td>\n",
       "      <td>0.0</td>\n",
       "      <td>0.0</td>\n",
       "      <td>0.0</td>\n",
       "      <td>1.0</td>\n",
       "    </tr>\n",
       "    <tr>\n",
       "      <th>62</th>\n",
       "      <td>23.0</td>\n",
       "      <td>119.0</td>\n",
       "      <td>3.0</td>\n",
       "      <td>0.0</td>\n",
       "      <td>0.0</td>\n",
       "      <td>0.0</td>\n",
       "      <td>0.0</td>\n",
       "      <td>2.0</td>\n",
       "    </tr>\n",
       "    <tr>\n",
       "      <th>114</th>\n",
       "      <td>33.0</td>\n",
       "      <td>117.0</td>\n",
       "      <td>1.0</td>\n",
       "      <td>0.0</td>\n",
       "      <td>0.0</td>\n",
       "      <td>0.0</td>\n",
       "      <td>1.0</td>\n",
       "      <td>1.0</td>\n",
       "    </tr>\n",
       "    <tr>\n",
       "      <th>176</th>\n",
       "      <td>30.0</td>\n",
       "      <td>142.0</td>\n",
       "      <td>1.0</td>\n",
       "      <td>1.0</td>\n",
       "      <td>1.0</td>\n",
       "      <td>0.0</td>\n",
       "      <td>0.0</td>\n",
       "      <td>0.0</td>\n",
       "    </tr>\n",
       "    <tr>\n",
       "      <th>160</th>\n",
       "      <td>20.0</td>\n",
       "      <td>80.0</td>\n",
       "      <td>3.0</td>\n",
       "      <td>1.0</td>\n",
       "      <td>0.0</td>\n",
       "      <td>0.0</td>\n",
       "      <td>1.0</td>\n",
       "      <td>0.0</td>\n",
       "    </tr>\n",
       "    <tr>\n",
       "      <th>46</th>\n",
       "      <td>18.0</td>\n",
       "      <td>90.0</td>\n",
       "      <td>1.0</td>\n",
       "      <td>1.0</td>\n",
       "      <td>0.0</td>\n",
       "      <td>0.0</td>\n",
       "      <td>1.0</td>\n",
       "      <td>0.0</td>\n",
       "    </tr>\n",
       "    <tr>\n",
       "      <th>106</th>\n",
       "      <td>25.0</td>\n",
       "      <td>241.0</td>\n",
       "      <td>2.0</td>\n",
       "      <td>0.0</td>\n",
       "      <td>0.0</td>\n",
       "      <td>1.0</td>\n",
       "      <td>0.0</td>\n",
       "      <td>0.0</td>\n",
       "    </tr>\n",
       "    <tr>\n",
       "      <th>7</th>\n",
       "      <td>22.0</td>\n",
       "      <td>118.0</td>\n",
       "      <td>1.0</td>\n",
       "      <td>0.0</td>\n",
       "      <td>0.0</td>\n",
       "      <td>0.0</td>\n",
       "      <td>0.0</td>\n",
       "      <td>1.0</td>\n",
       "    </tr>\n",
       "    <tr>\n",
       "      <th>15</th>\n",
       "      <td>18.0</td>\n",
       "      <td>100.0</td>\n",
       "      <td>1.0</td>\n",
       "      <td>1.0</td>\n",
       "      <td>0.0</td>\n",
       "      <td>0.0</td>\n",
       "      <td>0.0</td>\n",
       "      <td>0.0</td>\n",
       "    </tr>\n",
       "    <tr>\n",
       "      <th>135</th>\n",
       "      <td>25.0</td>\n",
       "      <td>85.0</td>\n",
       "      <td>3.0</td>\n",
       "      <td>0.0</td>\n",
       "      <td>0.0</td>\n",
       "      <td>0.0</td>\n",
       "      <td>1.0</td>\n",
       "      <td>0.0</td>\n",
       "    </tr>\n",
       "    <tr>\n",
       "      <th>124</th>\n",
       "      <td>22.0</td>\n",
       "      <td>129.0</td>\n",
       "      <td>1.0</td>\n",
       "      <td>0.0</td>\n",
       "      <td>0.0</td>\n",
       "      <td>0.0</td>\n",
       "      <td>0.0</td>\n",
       "      <td>0.0</td>\n",
       "    </tr>\n",
       "    <tr>\n",
       "      <th>19</th>\n",
       "      <td>20.0</td>\n",
       "      <td>120.0</td>\n",
       "      <td>3.0</td>\n",
       "      <td>0.0</td>\n",
       "      <td>0.0</td>\n",
       "      <td>0.0</td>\n",
       "      <td>1.0</td>\n",
       "      <td>0.0</td>\n",
       "    </tr>\n",
       "    <tr>\n",
       "      <th>...</th>\n",
       "      <td>...</td>\n",
       "      <td>...</td>\n",
       "      <td>...</td>\n",
       "      <td>...</td>\n",
       "      <td>...</td>\n",
       "      <td>...</td>\n",
       "      <td>...</td>\n",
       "      <td>...</td>\n",
       "    </tr>\n",
       "    <tr>\n",
       "      <th>54</th>\n",
       "      <td>30.0</td>\n",
       "      <td>95.0</td>\n",
       "      <td>1.0</td>\n",
       "      <td>1.0</td>\n",
       "      <td>0.0</td>\n",
       "      <td>0.0</td>\n",
       "      <td>0.0</td>\n",
       "      <td>2.0</td>\n",
       "    </tr>\n",
       "    <tr>\n",
       "      <th>10</th>\n",
       "      <td>26.0</td>\n",
       "      <td>113.0</td>\n",
       "      <td>1.0</td>\n",
       "      <td>1.0</td>\n",
       "      <td>0.0</td>\n",
       "      <td>0.0</td>\n",
       "      <td>0.0</td>\n",
       "      <td>0.0</td>\n",
       "    </tr>\n",
       "    <tr>\n",
       "      <th>79</th>\n",
       "      <td>20.0</td>\n",
       "      <td>121.0</td>\n",
       "      <td>2.0</td>\n",
       "      <td>1.0</td>\n",
       "      <td>0.0</td>\n",
       "      <td>0.0</td>\n",
       "      <td>0.0</td>\n",
       "      <td>0.0</td>\n",
       "    </tr>\n",
       "    <tr>\n",
       "      <th>18</th>\n",
       "      <td>25.0</td>\n",
       "      <td>118.0</td>\n",
       "      <td>1.0</td>\n",
       "      <td>1.0</td>\n",
       "      <td>0.0</td>\n",
       "      <td>0.0</td>\n",
       "      <td>0.0</td>\n",
       "      <td>3.0</td>\n",
       "    </tr>\n",
       "    <tr>\n",
       "      <th>41</th>\n",
       "      <td>21.0</td>\n",
       "      <td>185.0</td>\n",
       "      <td>2.0</td>\n",
       "      <td>1.0</td>\n",
       "      <td>0.0</td>\n",
       "      <td>0.0</td>\n",
       "      <td>0.0</td>\n",
       "      <td>2.0</td>\n",
       "    </tr>\n",
       "    <tr>\n",
       "      <th>32</th>\n",
       "      <td>24.0</td>\n",
       "      <td>90.0</td>\n",
       "      <td>1.0</td>\n",
       "      <td>1.0</td>\n",
       "      <td>1.0</td>\n",
       "      <td>0.0</td>\n",
       "      <td>0.0</td>\n",
       "      <td>1.0</td>\n",
       "    </tr>\n",
       "    <tr>\n",
       "      <th>101</th>\n",
       "      <td>24.0</td>\n",
       "      <td>110.0</td>\n",
       "      <td>1.0</td>\n",
       "      <td>0.0</td>\n",
       "      <td>0.0</td>\n",
       "      <td>0.0</td>\n",
       "      <td>0.0</td>\n",
       "      <td>1.0</td>\n",
       "    </tr>\n",
       "    <tr>\n",
       "      <th>136</th>\n",
       "      <td>27.0</td>\n",
       "      <td>150.0</td>\n",
       "      <td>3.0</td>\n",
       "      <td>0.0</td>\n",
       "      <td>0.0</td>\n",
       "      <td>0.0</td>\n",
       "      <td>0.0</td>\n",
       "      <td>0.0</td>\n",
       "    </tr>\n",
       "    <tr>\n",
       "      <th>166</th>\n",
       "      <td>20.0</td>\n",
       "      <td>121.0</td>\n",
       "      <td>1.0</td>\n",
       "      <td>1.0</td>\n",
       "      <td>1.0</td>\n",
       "      <td>0.0</td>\n",
       "      <td>1.0</td>\n",
       "      <td>0.0</td>\n",
       "    </tr>\n",
       "    <tr>\n",
       "      <th>133</th>\n",
       "      <td>34.0</td>\n",
       "      <td>187.0</td>\n",
       "      <td>2.0</td>\n",
       "      <td>1.0</td>\n",
       "      <td>0.0</td>\n",
       "      <td>1.0</td>\n",
       "      <td>0.0</td>\n",
       "      <td>0.0</td>\n",
       "    </tr>\n",
       "    <tr>\n",
       "      <th>97</th>\n",
       "      <td>29.0</td>\n",
       "      <td>154.0</td>\n",
       "      <td>1.0</td>\n",
       "      <td>0.0</td>\n",
       "      <td>0.0</td>\n",
       "      <td>0.0</td>\n",
       "      <td>0.0</td>\n",
       "      <td>1.0</td>\n",
       "    </tr>\n",
       "    <tr>\n",
       "      <th>55</th>\n",
       "      <td>19.0</td>\n",
       "      <td>115.0</td>\n",
       "      <td>3.0</td>\n",
       "      <td>0.0</td>\n",
       "      <td>0.0</td>\n",
       "      <td>0.0</td>\n",
       "      <td>0.0</td>\n",
       "      <td>0.0</td>\n",
       "    </tr>\n",
       "    <tr>\n",
       "      <th>126</th>\n",
       "      <td>31.0</td>\n",
       "      <td>120.0</td>\n",
       "      <td>1.0</td>\n",
       "      <td>0.0</td>\n",
       "      <td>0.0</td>\n",
       "      <td>0.0</td>\n",
       "      <td>0.0</td>\n",
       "      <td>2.0</td>\n",
       "    </tr>\n",
       "    <tr>\n",
       "      <th>73</th>\n",
       "      <td>23.0</td>\n",
       "      <td>115.0</td>\n",
       "      <td>3.0</td>\n",
       "      <td>1.0</td>\n",
       "      <td>0.0</td>\n",
       "      <td>0.0</td>\n",
       "      <td>0.0</td>\n",
       "      <td>1.0</td>\n",
       "    </tr>\n",
       "    <tr>\n",
       "      <th>9</th>\n",
       "      <td>29.0</td>\n",
       "      <td>123.0</td>\n",
       "      <td>1.0</td>\n",
       "      <td>1.0</td>\n",
       "      <td>0.0</td>\n",
       "      <td>0.0</td>\n",
       "      <td>0.0</td>\n",
       "      <td>1.0</td>\n",
       "    </tr>\n",
       "    <tr>\n",
       "      <th>52</th>\n",
       "      <td>23.0</td>\n",
       "      <td>128.0</td>\n",
       "      <td>3.0</td>\n",
       "      <td>0.0</td>\n",
       "      <td>0.0</td>\n",
       "      <td>0.0</td>\n",
       "      <td>0.0</td>\n",
       "      <td>0.0</td>\n",
       "    </tr>\n",
       "    <tr>\n",
       "      <th>108</th>\n",
       "      <td>22.0</td>\n",
       "      <td>169.0</td>\n",
       "      <td>1.0</td>\n",
       "      <td>0.0</td>\n",
       "      <td>0.0</td>\n",
       "      <td>0.0</td>\n",
       "      <td>0.0</td>\n",
       "      <td>0.0</td>\n",
       "    </tr>\n",
       "    <tr>\n",
       "      <th>60</th>\n",
       "      <td>17.0</td>\n",
       "      <td>119.0</td>\n",
       "      <td>3.0</td>\n",
       "      <td>0.0</td>\n",
       "      <td>0.0</td>\n",
       "      <td>0.0</td>\n",
       "      <td>0.0</td>\n",
       "      <td>0.0</td>\n",
       "    </tr>\n",
       "    <tr>\n",
       "      <th>37</th>\n",
       "      <td>19.0</td>\n",
       "      <td>138.0</td>\n",
       "      <td>1.0</td>\n",
       "      <td>1.0</td>\n",
       "      <td>0.0</td>\n",
       "      <td>0.0</td>\n",
       "      <td>0.0</td>\n",
       "      <td>2.0</td>\n",
       "    </tr>\n",
       "    <tr>\n",
       "      <th>80</th>\n",
       "      <td>23.0</td>\n",
       "      <td>190.0</td>\n",
       "      <td>1.0</td>\n",
       "      <td>0.0</td>\n",
       "      <td>0.0</td>\n",
       "      <td>0.0</td>\n",
       "      <td>0.0</td>\n",
       "      <td>0.0</td>\n",
       "    </tr>\n",
       "    <tr>\n",
       "      <th>86</th>\n",
       "      <td>17.0</td>\n",
       "      <td>120.0</td>\n",
       "      <td>3.0</td>\n",
       "      <td>1.0</td>\n",
       "      <td>0.0</td>\n",
       "      <td>0.0</td>\n",
       "      <td>0.0</td>\n",
       "      <td>0.0</td>\n",
       "    </tr>\n",
       "    <tr>\n",
       "      <th>148</th>\n",
       "      <td>24.0</td>\n",
       "      <td>155.0</td>\n",
       "      <td>1.0</td>\n",
       "      <td>1.0</td>\n",
       "      <td>1.0</td>\n",
       "      <td>0.0</td>\n",
       "      <td>0.0</td>\n",
       "      <td>0.0</td>\n",
       "    </tr>\n",
       "    <tr>\n",
       "      <th>174</th>\n",
       "      <td>15.0</td>\n",
       "      <td>115.0</td>\n",
       "      <td>3.0</td>\n",
       "      <td>0.0</td>\n",
       "      <td>0.0</td>\n",
       "      <td>0.0</td>\n",
       "      <td>1.0</td>\n",
       "      <td>0.0</td>\n",
       "    </tr>\n",
       "    <tr>\n",
       "      <th>24</th>\n",
       "      <td>28.0</td>\n",
       "      <td>120.0</td>\n",
       "      <td>3.0</td>\n",
       "      <td>0.0</td>\n",
       "      <td>0.0</td>\n",
       "      <td>0.0</td>\n",
       "      <td>0.0</td>\n",
       "      <td>0.0</td>\n",
       "    </tr>\n",
       "    <tr>\n",
       "      <th>76</th>\n",
       "      <td>18.0</td>\n",
       "      <td>229.0</td>\n",
       "      <td>2.0</td>\n",
       "      <td>0.0</td>\n",
       "      <td>0.0</td>\n",
       "      <td>0.0</td>\n",
       "      <td>0.0</td>\n",
       "      <td>0.0</td>\n",
       "    </tr>\n",
       "    <tr>\n",
       "      <th>23</th>\n",
       "      <td>36.0</td>\n",
       "      <td>202.0</td>\n",
       "      <td>1.0</td>\n",
       "      <td>0.0</td>\n",
       "      <td>0.0</td>\n",
       "      <td>0.0</td>\n",
       "      <td>0.0</td>\n",
       "      <td>1.0</td>\n",
       "    </tr>\n",
       "    <tr>\n",
       "      <th>155</th>\n",
       "      <td>24.0</td>\n",
       "      <td>138.0</td>\n",
       "      <td>1.0</td>\n",
       "      <td>0.0</td>\n",
       "      <td>0.0</td>\n",
       "      <td>0.0</td>\n",
       "      <td>0.0</td>\n",
       "      <td>0.0</td>\n",
       "    </tr>\n",
       "    <tr>\n",
       "      <th>74</th>\n",
       "      <td>16.0</td>\n",
       "      <td>112.0</td>\n",
       "      <td>2.0</td>\n",
       "      <td>0.0</td>\n",
       "      <td>0.0</td>\n",
       "      <td>0.0</td>\n",
       "      <td>0.0</td>\n",
       "      <td>0.0</td>\n",
       "    </tr>\n",
       "    <tr>\n",
       "      <th>146</th>\n",
       "      <td>20.0</td>\n",
       "      <td>150.0</td>\n",
       "      <td>1.0</td>\n",
       "      <td>1.0</td>\n",
       "      <td>0.0</td>\n",
       "      <td>0.0</td>\n",
       "      <td>0.0</td>\n",
       "      <td>2.0</td>\n",
       "    </tr>\n",
       "    <tr>\n",
       "      <th>183</th>\n",
       "      <td>26.0</td>\n",
       "      <td>190.0</td>\n",
       "      <td>1.0</td>\n",
       "      <td>1.0</td>\n",
       "      <td>0.0</td>\n",
       "      <td>0.0</td>\n",
       "      <td>0.0</td>\n",
       "      <td>0.0</td>\n",
       "    </tr>\n",
       "  </tbody>\n",
       "</table>\n",
       "<p>151 rows × 8 columns</p>\n",
       "</div>"
      ],
      "text/plain": [
       "      AGE    LWT  RACE  SMOKE  PTL   HT   UI  FTV\n",
       "34   25.0  155.0   1.0    0.0  0.0  0.0  0.0  1.0\n",
       "83   30.0  110.0   3.0    0.0  0.0  0.0  0.0  0.0\n",
       "167  21.0  100.0   3.0    0.0  1.0  0.0  0.0  4.0\n",
       "142  19.0   91.0   1.0    1.0  2.0  0.0  1.0  0.0\n",
       "48   19.0  132.0   3.0    0.0  0.0  0.0  0.0  0.0\n",
       "12   19.0  150.0   3.0    0.0  0.0  0.0  0.0  1.0\n",
       "2    33.0  155.0   3.0    0.0  0.0  0.0  0.0  3.0\n",
       "129  24.0  116.0   1.0    0.0  0.0  0.0  0.0  1.0\n",
       "120  16.0   95.0   3.0    0.0  0.0  0.0  0.0  1.0\n",
       "113  29.0  130.0   1.0    1.0  0.0  0.0  0.0  2.0\n",
       "103  24.0  110.0   3.0    0.0  1.0  0.0  0.0  0.0\n",
       "181  26.0  154.0   3.0    0.0  1.0  1.0  0.0  1.0\n",
       "35   25.0  125.0   2.0    0.0  0.0  0.0  0.0  0.0\n",
       "109  18.0  120.0   1.0    1.0  0.0  0.0  0.0  2.0\n",
       "85   23.0  123.0   3.0    0.0  0.0  0.0  0.0  0.0\n",
       "93   19.0  235.0   1.0    1.0  0.0  1.0  0.0  0.0\n",
       "121  20.0  158.0   1.0    0.0  0.0  0.0  0.0  1.0\n",
       "49   24.0  115.0   1.0    0.0  0.0  0.0  0.0  2.0\n",
       "77   25.0  140.0   1.0    0.0  0.0  0.0  0.0  1.0\n",
       "62   23.0  119.0   3.0    0.0  0.0  0.0  0.0  2.0\n",
       "114  33.0  117.0   1.0    0.0  0.0  0.0  1.0  1.0\n",
       "176  30.0  142.0   1.0    1.0  1.0  0.0  0.0  0.0\n",
       "160  20.0   80.0   3.0    1.0  0.0  0.0  1.0  0.0\n",
       "46   18.0   90.0   1.0    1.0  0.0  0.0  1.0  0.0\n",
       "106  25.0  241.0   2.0    0.0  0.0  1.0  0.0  0.0\n",
       "7    22.0  118.0   1.0    0.0  0.0  0.0  0.0  1.0\n",
       "15   18.0  100.0   1.0    1.0  0.0  0.0  0.0  0.0\n",
       "135  25.0   85.0   3.0    0.0  0.0  0.0  1.0  0.0\n",
       "124  22.0  129.0   1.0    0.0  0.0  0.0  0.0  0.0\n",
       "19   20.0  120.0   3.0    0.0  0.0  0.0  1.0  0.0\n",
       "..    ...    ...   ...    ...  ...  ...  ...  ...\n",
       "54   30.0   95.0   1.0    1.0  0.0  0.0  0.0  2.0\n",
       "10   26.0  113.0   1.0    1.0  0.0  0.0  0.0  0.0\n",
       "79   20.0  121.0   2.0    1.0  0.0  0.0  0.0  0.0\n",
       "18   25.0  118.0   1.0    1.0  0.0  0.0  0.0  3.0\n",
       "41   21.0  185.0   2.0    1.0  0.0  0.0  0.0  2.0\n",
       "32   24.0   90.0   1.0    1.0  1.0  0.0  0.0  1.0\n",
       "101  24.0  110.0   1.0    0.0  0.0  0.0  0.0  1.0\n",
       "136  27.0  150.0   3.0    0.0  0.0  0.0  0.0  0.0\n",
       "166  20.0  121.0   1.0    1.0  1.0  0.0  1.0  0.0\n",
       "133  34.0  187.0   2.0    1.0  0.0  1.0  0.0  0.0\n",
       "97   29.0  154.0   1.0    0.0  0.0  0.0  0.0  1.0\n",
       "55   19.0  115.0   3.0    0.0  0.0  0.0  0.0  0.0\n",
       "126  31.0  120.0   1.0    0.0  0.0  0.0  0.0  2.0\n",
       "73   23.0  115.0   3.0    1.0  0.0  0.0  0.0  1.0\n",
       "9    29.0  123.0   1.0    1.0  0.0  0.0  0.0  1.0\n",
       "52   23.0  128.0   3.0    0.0  0.0  0.0  0.0  0.0\n",
       "108  22.0  169.0   1.0    0.0  0.0  0.0  0.0  0.0\n",
       "60   17.0  119.0   3.0    0.0  0.0  0.0  0.0  0.0\n",
       "37   19.0  138.0   1.0    1.0  0.0  0.0  0.0  2.0\n",
       "80   23.0  190.0   1.0    0.0  0.0  0.0  0.0  0.0\n",
       "86   17.0  120.0   3.0    1.0  0.0  0.0  0.0  0.0\n",
       "148  24.0  155.0   1.0    1.0  1.0  0.0  0.0  0.0\n",
       "174  15.0  115.0   3.0    0.0  0.0  0.0  1.0  0.0\n",
       "24   28.0  120.0   3.0    0.0  0.0  0.0  0.0  0.0\n",
       "76   18.0  229.0   2.0    0.0  0.0  0.0  0.0  0.0\n",
       "23   36.0  202.0   1.0    0.0  0.0  0.0  0.0  1.0\n",
       "155  24.0  138.0   1.0    0.0  0.0  0.0  0.0  0.0\n",
       "74   16.0  112.0   2.0    0.0  0.0  0.0  0.0  0.0\n",
       "146  20.0  150.0   1.0    1.0  0.0  0.0  0.0  2.0\n",
       "183  26.0  190.0   1.0    1.0  0.0  0.0  0.0  0.0\n",
       "\n",
       "[151 rows x 8 columns]"
      ]
     },
     "execution_count": 59,
     "metadata": {},
     "output_type": "execute_result"
    }
   ],
   "source": [
    "inputs_train"
   ]
  },
  {
   "cell_type": "markdown",
   "metadata": {},
   "source": [
    "### Resetting graph and creating session"
   ]
  },
  {
   "cell_type": "code",
   "execution_count": 64,
   "metadata": {
    "collapsed": true
   },
   "outputs": [],
   "source": [
    "ops.reset_default_graph()\n",
    "sess = tf.Session()"
   ]
  },
  {
   "cell_type": "markdown",
   "metadata": {},
   "source": [
    "### Initializing input placeholders"
   ]
  },
  {
   "cell_type": "code",
   "execution_count": 65,
   "metadata": {},
   "outputs": [
    {
     "name": "stdout",
     "output_type": "stream",
     "text": [
      "Tensor(\"X:0\", shape=(?, 8), dtype=float32)\n",
      "Tensor(\"y:0\", shape=(?, 1), dtype=float32)\n"
     ]
    }
   ],
   "source": [
    "X = tf.placeholder(shape=[None, 8], dtype=tf.float32, name='X')\n",
    "y = tf.placeholder(shape=[None, 1], dtype=tf.float32, name='y')\n",
    "\n",
    "print(X)\n",
    "print(y)"
   ]
  },
  {
   "cell_type": "markdown",
   "metadata": {},
   "source": [
    "### Layer 1 (25 hidden nodes)"
   ]
  },
  {
   "cell_type": "code",
   "execution_count": 66,
   "metadata": {},
   "outputs": [
    {
     "name": "stdout",
     "output_type": "stream",
     "text": [
      "Tensor(\"layer_1/w1/read:0\", shape=(8, 25), dtype=float32)\n",
      "Tensor(\"layer_1/b1/read:0\", shape=(25,), dtype=float32)\n",
      "Tensor(\"layer_1/layer1:0\", shape=(?, 25), dtype=float32)\n"
     ]
    }
   ],
   "source": [
    "with tf.name_scope('layer_1'):\n",
    "    w1 = create_weight(shape=[8, 25], std=10.0, name='w1')\n",
    "    b1 = create_bias(shape=[25], std=10.0, name='b1')\n",
    "    layer1 = fully_connected(inputs=X, weights=w1, biases=b1, name='layer1')\n",
    "    \n",
    "print(w1)\n",
    "print(b1)\n",
    "print(layer1)"
   ]
  },
  {
   "cell_type": "markdown",
   "metadata": {},
   "source": [
    "### Layer 2 (10 hidden nodes)"
   ]
  },
  {
   "cell_type": "code",
   "execution_count": 67,
   "metadata": {},
   "outputs": [
    {
     "name": "stdout",
     "output_type": "stream",
     "text": [
      "Tensor(\"layer_2/w2/read:0\", shape=(25, 10), dtype=float32)\n",
      "Tensor(\"layer_2/b2/read:0\", shape=(10,), dtype=float32)\n",
      "Tensor(\"layer_2/layer2:0\", shape=(?, 10), dtype=float32)\n"
     ]
    }
   ],
   "source": [
    "with tf.name_scope('layer_2'):\n",
    "    w2 = create_weight(shape=[25, 10], std=10.0, name='w2')\n",
    "    b2 = create_bias(shape=[10], std=10.0, name='b2')\n",
    "    layer2 = fully_connected(inputs=layer1, weights=w2, biases=b2, name='layer2')\n",
    "    \n",
    "print(w2)\n",
    "print(b2)\n",
    "print(layer2)"
   ]
  },
  {
   "cell_type": "markdown",
   "metadata": {},
   "source": [
    "### Layer 3 (3 hidden nodes)"
   ]
  },
  {
   "cell_type": "code",
   "execution_count": 68,
   "metadata": {},
   "outputs": [
    {
     "name": "stdout",
     "output_type": "stream",
     "text": [
      "Tensor(\"layer_3/w3/read:0\", shape=(10, 3), dtype=float32)\n",
      "Tensor(\"layer_3/b3/read:0\", shape=(3,), dtype=float32)\n",
      "Tensor(\"layer_3/layer3:0\", shape=(?, 3), dtype=float32)\n"
     ]
    }
   ],
   "source": [
    "with tf.name_scope('layer_3'):\n",
    "    w3 = create_weight(shape=[10, 3], std=10.0, name='w3')\n",
    "    b3 = create_bias(shape=[3], std=10.0, name='b3')\n",
    "    layer3 = fully_connected(inputs=layer2, weights=w3, biases=b3, name='layer3')\n",
    "    \n",
    "print(w3)\n",
    "print(b3)\n",
    "print(layer3)"
   ]
  },
  {
   "cell_type": "markdown",
   "metadata": {},
   "source": [
    "### Output layer"
   ]
  },
  {
   "cell_type": "code",
   "execution_count": 69,
   "metadata": {},
   "outputs": [
    {
     "name": "stdout",
     "output_type": "stream",
     "text": [
      "Tensor(\"output/w4/read:0\", shape=(3, 1), dtype=float32)\n",
      "Tensor(\"output/b4/read:0\", shape=(1,), dtype=float32)\n",
      "Tensor(\"output/output:0\", shape=(?, 1), dtype=float32)\n",
      "Tensor(\"output/loss:0\", shape=(), dtype=float32)\n"
     ]
    }
   ],
   "source": [
    "with tf.name_scope('output'):\n",
    "    w4 = create_weight(shape=[3, 1], std=10.0, name='w4')\n",
    "    b4 = create_bias(shape=[1], std=10.0, name='b4')\n",
    "    output = fully_connected(inputs=layer3, weights=w4, biases=b4, name='output')\n",
    "    loss = tf.reduce_mean(tf.abs(output - y), name='loss')\n",
    "    \n",
    "print(w4)\n",
    "print(b4)\n",
    "print(output)\n",
    "print(loss)"
   ]
  },
  {
   "cell_type": "markdown",
   "metadata": {},
   "source": [
    "### Loss and training step"
   ]
  },
  {
   "cell_type": "code",
   "execution_count": 70,
   "metadata": {},
   "outputs": [],
   "source": [
    "optimizer = tf.train.AdamOptimizer(0.000005)\n",
    "train = optimizer.minimize(loss)"
   ]
  },
  {
   "cell_type": "markdown",
   "metadata": {},
   "source": [
    "### Initializing variables"
   ]
  },
  {
   "cell_type": "code",
   "execution_count": 71,
   "metadata": {
    "collapsed": true
   },
   "outputs": [],
   "source": [
    "init = tf.global_variables_initializer()\n",
    "sess.run(init)"
   ]
  },
  {
   "cell_type": "markdown",
   "metadata": {},
   "source": [
    "### Training"
   ]
  },
  {
   "cell_type": "code",
   "execution_count": 73,
   "metadata": {},
   "outputs": [
    {
     "name": "stdout",
     "output_type": "stream",
     "text": [
      "#1 - loss: nan\n",
      "#20 - loss: nan\n",
      "#40 - loss: nan\n",
      "#60 - loss: nan\n",
      "#80 - loss: nan\n",
      "#100 - loss: nan\n",
      "#120 - loss: nan\n",
      "#140 - loss: nan\n",
      "#160 - loss: nan\n",
      "#180 - loss: nan\n",
      "#200 - loss: nan\n"
     ]
    }
   ],
   "source": [
    "losses_train = []\n",
    "losses_test = []\n",
    "\n",
    "feed_dict_test = {X: inputs_test, y: labels_test}\n",
    "\n",
    "for i in range(200):\n",
    "    idx_rand = np.random.choice(idx_train, size=BATCH_SIZE, replace=False)\n",
    "#     print(idx_rand[: 6])\n",
    "#     idx_rand = idx_train[: 6]\n",
    "    inputs_rand = inputs_train.loc[idx_rand]\n",
    "    labels_rand = labels_train.loc[idx_rand]\n",
    "    feed_dict_train = {X: inputs_rand, y: labels_rand}\n",
    "    sess.run(train, feed_dict=feed_dict_train)\n",
    "    \n",
    "    loss_train = sess.run(loss, feed_dict=feed_dict_train)\n",
    "    losses_train.append(loss_train)\n",
    "    \n",
    "    loss_test = sess.run(loss, feed_dict=feed_dict_test)\n",
    "    losses_test.append(loss_test)\n",
    "    \n",
    "    if i == 0 or (i + 1) % 20 == 0:\n",
    "        print('#{} - loss: {}'.format(i + 1, loss_train))"
   ]
  },
  {
   "cell_type": "code",
   "execution_count": null,
   "metadata": {
    "collapsed": true
   },
   "outputs": [],
   "source": []
  }
 ],
 "metadata": {
  "kernelspec": {
   "display_name": "Python 3",
   "language": "python",
   "name": "python3"
  },
  "language_info": {
   "codemirror_mode": {
    "name": "ipython",
    "version": 3
   },
   "file_extension": ".py",
   "mimetype": "text/x-python",
   "name": "python",
   "nbconvert_exporter": "python",
   "pygments_lexer": "ipython3",
   "version": "3.5.3"
  }
 },
 "nbformat": 4,
 "nbformat_minor": 2
}
