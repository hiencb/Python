{
 "cells": [
  {
   "cell_type": "markdown",
   "metadata": {},
   "source": [
    "# Using a Multilayer \n",
    "\n",
    "We will now apply our knowledge of different layers to real data with using a multilayer neural network on the Low Birthweight dataset."
   ]
  },
  {
   "cell_type": "code",
   "execution_count": 1,
   "metadata": {
    "collapsed": true
   },
   "outputs": [],
   "source": [
    "import numpy as np\n",
    "import pandas as pd\n",
    "import tensorflow as tf\n",
    "from tensorflow.python.framework import ops"
   ]
  },
  {
   "cell_type": "code",
   "execution_count": 2,
   "metadata": {
    "collapsed": true
   },
   "outputs": [],
   "source": [
    "BATCH_SIZE = 100"
   ]
  },
  {
   "cell_type": "code",
   "execution_count": 3,
   "metadata": {
    "collapsed": true
   },
   "outputs": [],
   "source": [
    "def create_weight(shape, std=1, name='weight'):\n",
    "    return tf.Variable(tf.random_normal(shape=shape, mean=0, stddev=std), name=name)\n",
    "\n",
    "def create_bias(shape, std=1, name='bias'):\n",
    "    return tf.Variable(tf.random_normal(shape=shape, mean=0, stddev=std), name=name)\n",
    "\n",
    "def fully_connected(inputs, weights, biases, name='fully_connected'):\n",
    "    full = tf.add(tf.matmul(inputs, weights), biases)\n",
    "    return tf.nn.relu(full, name=name)"
   ]
  },
  {
   "cell_type": "markdown",
   "metadata": {},
   "source": [
    "### Downloading data"
   ]
  },
  {
   "cell_type": "code",
   "execution_count": 6,
   "metadata": {
    "collapsed": true
   },
   "outputs": [],
   "source": [
    "DATA_URL = 'https://www.umass.edu/statdata/statdata/data/lowbwt.dat'\n",
    "DATA_FILE = 'remote_data/birthdata.txt'"
   ]
  },
  {
   "cell_type": "code",
   "execution_count": null,
   "metadata": {},
   "outputs": [],
   "source": [
    "%mkdir remote_data"
   ]
  },
  {
   "cell_type": "code",
   "execution_count": null,
   "metadata": {},
   "outputs": [],
   "source": [
    "!wget {DATA_URL} -O {DATA_FILE}"
   ]
  },
  {
   "cell_type": "markdown",
   "metadata": {},
   "source": [
    "### Loading data"
   ]
  },
  {
   "cell_type": "code",
   "execution_count": 7,
   "metadata": {},
   "outputs": [],
   "source": [
    "widths = [4, 7, 7, 7, 8, 9, 7, 6, 6, 7, 8]\n",
    "COLS_OF_INTEREST = ['AGE', 'LWT', 'RACE', 'SMOKE', 'PTL', 'HT', 'UI', 'FTV', 'BWT']\n",
    "\n",
    "df = pd.read_fwf(DATA_FILE, widths=widths, skiprows=5, skipfooter=1, skip_blank_lines=True, usecols=COLS_OF_INTEREST)\n",
    "df = df.drop(0)"
   ]
  },
  {
   "cell_type": "code",
   "execution_count": 8,
   "metadata": {},
   "outputs": [
    {
     "name": "stdout",
     "output_type": "stream",
     "text": [
      "(189, 9)\n"
     ]
    },
    {
     "data": {
      "text/html": [
       "<div>\n",
       "<table border=\"1\" class=\"dataframe\">\n",
       "  <thead>\n",
       "    <tr style=\"text-align: right;\">\n",
       "      <th></th>\n",
       "      <th>AGE</th>\n",
       "      <th>LWT</th>\n",
       "      <th>RACE</th>\n",
       "      <th>SMOKE</th>\n",
       "      <th>PTL</th>\n",
       "      <th>HT</th>\n",
       "      <th>UI</th>\n",
       "      <th>FTV</th>\n",
       "      <th>BWT</th>\n",
       "    </tr>\n",
       "  </thead>\n",
       "  <tbody>\n",
       "    <tr>\n",
       "      <th>1</th>\n",
       "      <td>19.0</td>\n",
       "      <td>182.0</td>\n",
       "      <td>2.0</td>\n",
       "      <td>0.0</td>\n",
       "      <td>0.0</td>\n",
       "      <td>0.0</td>\n",
       "      <td>1.0</td>\n",
       "      <td>0.0</td>\n",
       "      <td>2523.0</td>\n",
       "    </tr>\n",
       "    <tr>\n",
       "      <th>2</th>\n",
       "      <td>33.0</td>\n",
       "      <td>155.0</td>\n",
       "      <td>3.0</td>\n",
       "      <td>0.0</td>\n",
       "      <td>0.0</td>\n",
       "      <td>0.0</td>\n",
       "      <td>0.0</td>\n",
       "      <td>3.0</td>\n",
       "      <td>2551.0</td>\n",
       "    </tr>\n",
       "    <tr>\n",
       "      <th>3</th>\n",
       "      <td>20.0</td>\n",
       "      <td>105.0</td>\n",
       "      <td>1.0</td>\n",
       "      <td>1.0</td>\n",
       "      <td>0.0</td>\n",
       "      <td>0.0</td>\n",
       "      <td>0.0</td>\n",
       "      <td>1.0</td>\n",
       "      <td>2557.0</td>\n",
       "    </tr>\n",
       "  </tbody>\n",
       "</table>\n",
       "</div>"
      ],
      "text/plain": [
       "    AGE    LWT  RACE  SMOKE  PTL   HT   UI  FTV     BWT\n",
       "1  19.0  182.0   2.0    0.0  0.0  0.0  1.0  0.0  2523.0\n",
       "2  33.0  155.0   3.0    0.0  0.0  0.0  0.0  3.0  2551.0\n",
       "3  20.0  105.0   1.0    1.0  0.0  0.0  0.0  1.0  2557.0"
      ]
     },
     "execution_count": 8,
     "metadata": {},
     "output_type": "execute_result"
    }
   ],
   "source": [
    "print(df.shape)\n",
    "df.head(3)"
   ]
  },
  {
   "cell_type": "markdown",
   "metadata": {},
   "source": [
    "### Normalizing data"
   ]
  },
  {
   "cell_type": "code",
   "execution_count": 9,
   "metadata": {},
   "outputs": [
    {
     "data": {
      "text/html": [
       "<div>\n",
       "<table border=\"1\" class=\"dataframe\">\n",
       "  <thead>\n",
       "    <tr style=\"text-align: right;\">\n",
       "      <th></th>\n",
       "      <th>AGE</th>\n",
       "      <th>LWT</th>\n",
       "      <th>RACE</th>\n",
       "      <th>SMOKE</th>\n",
       "      <th>PTL</th>\n",
       "      <th>HT</th>\n",
       "      <th>UI</th>\n",
       "      <th>FTV</th>\n",
       "      <th>BWT</th>\n",
       "    </tr>\n",
       "  </thead>\n",
       "  <tbody>\n",
       "    <tr>\n",
       "      <th>1</th>\n",
       "      <td>19.0</td>\n",
       "      <td>182.0</td>\n",
       "      <td>2.0</td>\n",
       "      <td>0.0</td>\n",
       "      <td>0.0</td>\n",
       "      <td>0.0</td>\n",
       "      <td>1.0</td>\n",
       "      <td>0.0</td>\n",
       "      <td>2523.0</td>\n",
       "    </tr>\n",
       "    <tr>\n",
       "      <th>2</th>\n",
       "      <td>33.0</td>\n",
       "      <td>155.0</td>\n",
       "      <td>3.0</td>\n",
       "      <td>0.0</td>\n",
       "      <td>0.0</td>\n",
       "      <td>0.0</td>\n",
       "      <td>0.0</td>\n",
       "      <td>3.0</td>\n",
       "      <td>2551.0</td>\n",
       "    </tr>\n",
       "    <tr>\n",
       "      <th>3</th>\n",
       "      <td>20.0</td>\n",
       "      <td>105.0</td>\n",
       "      <td>1.0</td>\n",
       "      <td>1.0</td>\n",
       "      <td>0.0</td>\n",
       "      <td>0.0</td>\n",
       "      <td>0.0</td>\n",
       "      <td>1.0</td>\n",
       "      <td>2557.0</td>\n",
       "    </tr>\n",
       "  </tbody>\n",
       "</table>\n",
       "</div>"
      ],
      "text/plain": [
       "    AGE    LWT  RACE  SMOKE  PTL   HT   UI  FTV     BWT\n",
       "1  19.0  182.0   2.0    0.0  0.0  0.0  1.0  0.0  2523.0\n",
       "2  33.0  155.0   3.0    0.0  0.0  0.0  0.0  3.0  2551.0\n",
       "3  20.0  105.0   1.0    1.0  0.0  0.0  0.0  1.0  2557.0"
      ]
     },
     "execution_count": 9,
     "metadata": {},
     "output_type": "execute_result"
    }
   ],
   "source": [
    "df.fillna(df.mean(), inplace=True)\n",
    "df.head(3)"
   ]
  },
  {
   "cell_type": "markdown",
   "metadata": {},
   "source": [
    "### Splitting training and test sets"
   ]
  },
  {
   "cell_type": "code",
   "execution_count": 10,
   "metadata": {
    "collapsed": true
   },
   "outputs": [],
   "source": [
    "seed = 4\n",
    "tf.set_random_seed(seed)\n",
    "np.random.seed(seed)"
   ]
  },
  {
   "cell_type": "code",
   "execution_count": 11,
   "metadata": {},
   "outputs": [
    {
     "name": "stdout",
     "output_type": "stream",
     "text": [
      "189\n",
      "151\n"
     ]
    }
   ],
   "source": [
    "N_SAMPLES = df.shape[0]\n",
    "N_TRAIN = int(N_SAMPLES * 0.8)\n",
    "\n",
    "print(N_SAMPLES)\n",
    "print(N_TRAIN)"
   ]
  },
  {
   "cell_type": "code",
   "execution_count": 12,
   "metadata": {},
   "outputs": [],
   "source": [
    "idx = np.arange(N_SAMPLES)\n",
    "np.random.shuffle(idx)\n",
    "\n",
    "idx_train = idx[: N_TRAIN]\n",
    "idx_test = idx[N_TRAIN :]\n",
    "\n",
    "df_train = df.loc[idx_train]\n",
    "df_test = df.loc[idx_test]"
   ]
  },
  {
   "cell_type": "code",
   "execution_count": 13,
   "metadata": {},
   "outputs": [
    {
     "name": "stdout",
     "output_type": "stream",
     "text": [
      "(151, 9)\n"
     ]
    },
    {
     "data": {
      "text/html": [
       "<div>\n",
       "<table border=\"1\" class=\"dataframe\">\n",
       "  <thead>\n",
       "    <tr style=\"text-align: right;\">\n",
       "      <th></th>\n",
       "      <th>AGE</th>\n",
       "      <th>LWT</th>\n",
       "      <th>RACE</th>\n",
       "      <th>SMOKE</th>\n",
       "      <th>PTL</th>\n",
       "      <th>HT</th>\n",
       "      <th>UI</th>\n",
       "      <th>FTV</th>\n",
       "      <th>BWT</th>\n",
       "    </tr>\n",
       "  </thead>\n",
       "  <tbody>\n",
       "    <tr>\n",
       "      <th>33</th>\n",
       "      <td>35.0</td>\n",
       "      <td>121.0</td>\n",
       "      <td>2.0</td>\n",
       "      <td>1.0</td>\n",
       "      <td>1.0</td>\n",
       "      <td>0.0</td>\n",
       "      <td>0.0</td>\n",
       "      <td>1.0</td>\n",
       "      <td>2948.0</td>\n",
       "    </tr>\n",
       "    <tr>\n",
       "      <th>82</th>\n",
       "      <td>32.0</td>\n",
       "      <td>170.0</td>\n",
       "      <td>1.0</td>\n",
       "      <td>0.0</td>\n",
       "      <td>0.0</td>\n",
       "      <td>0.0</td>\n",
       "      <td>0.0</td>\n",
       "      <td>0.0</td>\n",
       "      <td>3473.0</td>\n",
       "    </tr>\n",
       "    <tr>\n",
       "      <th>166</th>\n",
       "      <td>20.0</td>\n",
       "      <td>121.0</td>\n",
       "      <td>1.0</td>\n",
       "      <td>1.0</td>\n",
       "      <td>1.0</td>\n",
       "      <td>0.0</td>\n",
       "      <td>1.0</td>\n",
       "      <td>0.0</td>\n",
       "      <td>2296.0</td>\n",
       "    </tr>\n",
       "  </tbody>\n",
       "</table>\n",
       "</div>"
      ],
      "text/plain": [
       "      AGE    LWT  RACE  SMOKE  PTL   HT   UI  FTV     BWT\n",
       "33   35.0  121.0   2.0    1.0  1.0  0.0  0.0  1.0  2948.0\n",
       "82   32.0  170.0   1.0    0.0  0.0  0.0  0.0  0.0  3473.0\n",
       "166  20.0  121.0   1.0    1.0  1.0  0.0  1.0  0.0  2296.0"
      ]
     },
     "execution_count": 13,
     "metadata": {},
     "output_type": "execute_result"
    }
   ],
   "source": [
    "print(df_train.shape)\n",
    "df_train.head(3)"
   ]
  },
  {
   "cell_type": "code",
   "execution_count": 14,
   "metadata": {},
   "outputs": [
    {
     "name": "stdout",
     "output_type": "stream",
     "text": [
      "(38, 9)\n"
     ]
    },
    {
     "data": {
      "text/html": [
       "<div>\n",
       "<table border=\"1\" class=\"dataframe\">\n",
       "  <thead>\n",
       "    <tr style=\"text-align: right;\">\n",
       "      <th></th>\n",
       "      <th>AGE</th>\n",
       "      <th>LWT</th>\n",
       "      <th>RACE</th>\n",
       "      <th>SMOKE</th>\n",
       "      <th>PTL</th>\n",
       "      <th>HT</th>\n",
       "      <th>UI</th>\n",
       "      <th>FTV</th>\n",
       "      <th>BWT</th>\n",
       "    </tr>\n",
       "  </thead>\n",
       "  <tbody>\n",
       "    <tr>\n",
       "      <th>95</th>\n",
       "      <td>16.0</td>\n",
       "      <td>135.0</td>\n",
       "      <td>1.0</td>\n",
       "      <td>1.0</td>\n",
       "      <td>0.0</td>\n",
       "      <td>0.0</td>\n",
       "      <td>0.0</td>\n",
       "      <td>0.0</td>\n",
       "      <td>3643.0</td>\n",
       "    </tr>\n",
       "    <tr>\n",
       "      <th>98</th>\n",
       "      <td>19.0</td>\n",
       "      <td>147.0</td>\n",
       "      <td>1.0</td>\n",
       "      <td>1.0</td>\n",
       "      <td>0.0</td>\n",
       "      <td>0.0</td>\n",
       "      <td>0.0</td>\n",
       "      <td>0.0</td>\n",
       "      <td>3651.0</td>\n",
       "    </tr>\n",
       "    <tr>\n",
       "      <th>115</th>\n",
       "      <td>20.0</td>\n",
       "      <td>170.0</td>\n",
       "      <td>1.0</td>\n",
       "      <td>1.0</td>\n",
       "      <td>0.0</td>\n",
       "      <td>0.0</td>\n",
       "      <td>0.0</td>\n",
       "      <td>0.0</td>\n",
       "      <td>3940.0</td>\n",
       "    </tr>\n",
       "  </tbody>\n",
       "</table>\n",
       "</div>"
      ],
      "text/plain": [
       "      AGE    LWT  RACE  SMOKE  PTL   HT   UI  FTV     BWT\n",
       "95   16.0  135.0   1.0    1.0  0.0  0.0  0.0  0.0  3643.0\n",
       "98   19.0  147.0   1.0    1.0  0.0  0.0  0.0  0.0  3651.0\n",
       "115  20.0  170.0   1.0    1.0  0.0  0.0  0.0  0.0  3940.0"
      ]
     },
     "execution_count": 14,
     "metadata": {},
     "output_type": "execute_result"
    }
   ],
   "source": [
    "print(df_test.shape)\n",
    "df_test.head(3)"
   ]
  },
  {
   "cell_type": "markdown",
   "metadata": {},
   "source": [
    "### Splitting inputs and labels"
   ]
  },
  {
   "cell_type": "code",
   "execution_count": 15,
   "metadata": {
    "scrolled": true
   },
   "outputs": [
    {
     "name": "stdout",
     "output_type": "stream",
     "text": [
      "(151, 8)\n",
      "(151, 1)\n",
      "(38, 8)\n",
      "(38, 1)\n"
     ]
    }
   ],
   "source": [
    "COLS_INPUT = ['AGE', 'LWT', 'RACE', 'SMOKE', 'PTL', 'HT', 'UI', 'FTV']\n",
    "COL_LABEL = ['BWT']\n",
    "\n",
    "inputs_train = df_train[COLS_INPUT]\n",
    "labels_train = df_train[COL_LABEL]\n",
    "inputs_test = df_test[COLS_INPUT]\n",
    "labels_test = df_test[COL_LABEL]\n",
    "\n",
    "print(inputs_train.shape)\n",
    "print(labels_train.shape)\n",
    "print(inputs_test.shape)\n",
    "print(labels_test.shape)"
   ]
  },
  {
   "cell_type": "markdown",
   "metadata": {},
   "source": [
    "### Resetting graph and creating session"
   ]
  },
  {
   "cell_type": "code",
   "execution_count": 54,
   "metadata": {
    "collapsed": true
   },
   "outputs": [],
   "source": [
    "ops.reset_default_graph()\n",
    "sess = tf.Session()"
   ]
  },
  {
   "cell_type": "markdown",
   "metadata": {},
   "source": [
    "### Initializing input placeholders"
   ]
  },
  {
   "cell_type": "code",
   "execution_count": 55,
   "metadata": {},
   "outputs": [
    {
     "name": "stdout",
     "output_type": "stream",
     "text": [
      "Tensor(\"X:0\", shape=(?, 8), dtype=float32)\n",
      "Tensor(\"y:0\", shape=(?, 1), dtype=float32)\n"
     ]
    }
   ],
   "source": [
    "X = tf.placeholder(shape=[None, 8], dtype=tf.float32, name='X')\n",
    "y = tf.placeholder(shape=[None, 1], dtype=tf.float32, name='y')\n",
    "\n",
    "print(X)\n",
    "print(y)"
   ]
  },
  {
   "cell_type": "markdown",
   "metadata": {},
   "source": [
    "### Layer 1 (25 hidden nodes)"
   ]
  },
  {
   "cell_type": "code",
   "execution_count": 56,
   "metadata": {},
   "outputs": [
    {
     "name": "stdout",
     "output_type": "stream",
     "text": [
      "Tensor(\"layer_1/w1/read:0\", shape=(8, 25), dtype=float32)\n",
      "Tensor(\"layer_1/b1/read:0\", shape=(25,), dtype=float32)\n",
      "Tensor(\"layer_1/layer1:0\", shape=(?, 25), dtype=float32)\n"
     ]
    }
   ],
   "source": [
    "with tf.name_scope('layer_1'):\n",
    "    w1 = create_weight(shape=[8, 25], std=10.0, name='w1')\n",
    "    b1 = create_bias(shape=[25], std=10.0, name='b1')\n",
    "    layer1 = fully_connected(inputs=X, weights=w1, biases=b1, name='layer1')\n",
    "    \n",
    "print(w1)\n",
    "print(b1)\n",
    "print(layer1)"
   ]
  },
  {
   "cell_type": "markdown",
   "metadata": {},
   "source": [
    "### Layer 2 (10 hidden nodes)"
   ]
  },
  {
   "cell_type": "code",
   "execution_count": 57,
   "metadata": {},
   "outputs": [
    {
     "name": "stdout",
     "output_type": "stream",
     "text": [
      "Tensor(\"layer_2/w2/read:0\", shape=(25, 10), dtype=float32)\n",
      "Tensor(\"layer_2/b2/read:0\", shape=(10,), dtype=float32)\n",
      "Tensor(\"layer_2/layer2:0\", shape=(?, 10), dtype=float32)\n"
     ]
    }
   ],
   "source": [
    "with tf.name_scope('layer_2'):\n",
    "    w2 = create_weight(shape=[25, 10], std=10.0, name='w2')\n",
    "    b2 = create_bias(shape=[10], std=10.0, name='b2')\n",
    "    layer2 = fully_connected(inputs=layer1, weights=w2, biases=b2, name='layer2')\n",
    "    \n",
    "print(w2)\n",
    "print(b2)\n",
    "print(layer2)"
   ]
  },
  {
   "cell_type": "markdown",
   "metadata": {},
   "source": [
    "### Layer 3 (3 hidden nodes)"
   ]
  },
  {
   "cell_type": "code",
   "execution_count": 58,
   "metadata": {},
   "outputs": [
    {
     "name": "stdout",
     "output_type": "stream",
     "text": [
      "Tensor(\"layer_3/w3/read:0\", shape=(10, 3), dtype=float32)\n",
      "Tensor(\"layer_3/b3/read:0\", shape=(3,), dtype=float32)\n",
      "Tensor(\"layer_3/layer3:0\", shape=(?, 3), dtype=float32)\n"
     ]
    }
   ],
   "source": [
    "with tf.name_scope('layer_3'):\n",
    "    w3 = create_weight(shape=[10, 3], std=10.0, name='w3')\n",
    "    b3 = create_bias(shape=[3], std=10.0, name='b3')\n",
    "    layer3 = fully_connected(inputs=layer2, weights=w3, biases=b3, name='layer3')\n",
    "    \n",
    "print(w3)\n",
    "print(b3)\n",
    "print(layer3)"
   ]
  },
  {
   "cell_type": "markdown",
   "metadata": {},
   "source": [
    "### Output layer"
   ]
  },
  {
   "cell_type": "code",
   "execution_count": 59,
   "metadata": {},
   "outputs": [
    {
     "name": "stdout",
     "output_type": "stream",
     "text": [
      "Tensor(\"output/w4/read:0\", shape=(3, 1), dtype=float32)\n",
      "Tensor(\"output/b4/read:0\", shape=(1,), dtype=float32)\n",
      "Tensor(\"output/output:0\", shape=(?, 1), dtype=float32)\n",
      "Tensor(\"output/loss:0\", shape=(), dtype=float32)\n"
     ]
    }
   ],
   "source": [
    "with tf.name_scope('output'):\n",
    "    w4 = create_weight(shape=[3, 1], std=10.0, name='w4')\n",
    "    b4 = create_bias(shape=[1], std=10.0, name='b4')\n",
    "    output = fully_connected(inputs=layer3, weights=w4, biases=b4, name='output')\n",
    "#     loss = tf.reduce_mean(tf.abs(output - y), name='loss')\n",
    "    loss = tf.reduce_mean(tf.square(output - y), name='loss')\n",
    "    \n",
    "print(w4)\n",
    "print(b4)\n",
    "print(output)\n",
    "print(loss)"
   ]
  },
  {
   "cell_type": "markdown",
   "metadata": {},
   "source": [
    "### Loss and training step"
   ]
  },
  {
   "cell_type": "code",
   "execution_count": 60,
   "metadata": {},
   "outputs": [],
   "source": [
    "# optimizer = tf.train.AdamOptimizer(0.05)\n",
    "optimizer = tf.train.GradientDescentOptimizer(0.05)\n",
    "train = optimizer.minimize(loss)"
   ]
  },
  {
   "cell_type": "markdown",
   "metadata": {},
   "source": [
    "### Initializing variables"
   ]
  },
  {
   "cell_type": "code",
   "execution_count": 61,
   "metadata": {
    "collapsed": true
   },
   "outputs": [],
   "source": [
    "init = tf.global_variables_initializer()\n",
    "sess.run(init)"
   ]
  },
  {
   "cell_type": "markdown",
   "metadata": {},
   "source": [
    "### Training"
   ]
  },
  {
   "cell_type": "code",
   "execution_count": 62,
   "metadata": {},
   "outputs": [
    {
     "name": "stdout",
     "output_type": "stream",
     "text": [
      "#1 - loss: 8988466.0\n",
      "#2000 - loss: 9231564.0\n",
      "#4000 - loss: 9319165.0\n",
      "#6000 - loss: 8945099.0\n",
      "#8000 - loss: 8926106.0\n",
      "#10000 - loss: 8770189.0\n",
      "#12000 - loss: 8811158.0\n",
      "#14000 - loss: 9168930.0\n",
      "#16000 - loss: 8854388.0\n",
      "#18000 - loss: 8837446.0\n",
      "#20000 - loss: 9189558.0\n"
     ]
    }
   ],
   "source": [
    "losses_train = []\n",
    "losses_test = []\n",
    "\n",
    "\n",
    "ITERATIONS = 20000\n",
    "LOG_STEP = 2000\n",
    "feed_dict_test = {X: inputs_test, y: labels_test}\n",
    "\n",
    "for i in range(ITERATIONS):\n",
    "    idx_rand = np.random.choice(idx_train, size=BATCH_SIZE, replace=False)\n",
    "#     print(idx_rand[: 6])\n",
    "#     idx_rand = idx_train[: 6]\n",
    "    inputs_rand = inputs_train.loc[idx_rand]\n",
    "    labels_rand = labels_train.loc[idx_rand]\n",
    "    feed_dict_train = {X: inputs_rand, y: labels_rand}\n",
    "    sess.run(train, feed_dict=feed_dict_train)\n",
    "    \n",
    "#     l1, l2, l3, ou = sess.run([layer1, layer2, layer3, output], feed_dict=feed_dict_train)\n",
    "#     print('Layer1:', l1)\n",
    "#     print('Layer2:', l2)\n",
    "#     print('Layer3:', l3)\n",
    "#     print('Output:', ou)\n",
    "    \n",
    "    loss_train = sess.run(loss, feed_dict=feed_dict_train)\n",
    "    losses_train.append(loss_train)\n",
    "    \n",
    "    loss_test = sess.run(loss, feed_dict=feed_dict_test)\n",
    "    losses_test.append(loss_test)\n",
    "    \n",
    "    if i == 0 or (i + 1) % LOG_STEP == 0:\n",
    "        print('#{} - loss: {}'.format(i + 1, loss_train))"
   ]
  },
  {
   "cell_type": "code",
   "execution_count": null,
   "metadata": {},
   "outputs": [],
   "source": [
    "sess.run(w3)"
   ]
  },
  {
   "cell_type": "code",
   "execution_count": null,
   "metadata": {},
   "outputs": [],
   "source": [
    "sess.run(b3)"
   ]
  },
  {
   "cell_type": "code",
   "execution_count": null,
   "metadata": {},
   "outputs": [],
   "source": [
    "sess.run(tf.matmul(layer2, w3) + b3, feed_dict={X: inputs_rand, y:labels_rand})"
   ]
  },
  {
   "cell_type": "code",
   "execution_count": null,
   "metadata": {},
   "outputs": [],
   "source": [
    "aa = pd.DataFrame([0, 1, 2, 3, 4, 5, 6, 7, 8, 9], columns=['Value'])\n",
    "aa"
   ]
  },
  {
   "cell_type": "code",
   "execution_count": null,
   "metadata": {},
   "outputs": [],
   "source": [
    "idx = np.arange(aa.shape[0])\n",
    "idx"
   ]
  },
  {
   "cell_type": "code",
   "execution_count": null,
   "metadata": {},
   "outputs": [],
   "source": [
    "np.random.shuffle(idx)\n",
    "idx"
   ]
  },
  {
   "cell_type": "code",
   "execution_count": null,
   "metadata": {},
   "outputs": [],
   "source": [
    "idx1 = idx[: 8]\n",
    "idx1"
   ]
  },
  {
   "cell_type": "code",
   "execution_count": null,
   "metadata": {},
   "outputs": [],
   "source": [
    "idx2 = idx[8 :]\n",
    "idx2"
   ]
  },
  {
   "cell_type": "code",
   "execution_count": null,
   "metadata": {},
   "outputs": [],
   "source": [
    "aat = aa.loc[idx1]\n",
    "aat"
   ]
  },
  {
   "cell_type": "code",
   "execution_count": null,
   "metadata": {},
   "outputs": [],
   "source": [
    "aae = aa.loc[idx2]\n",
    "aae"
   ]
  },
  {
   "cell_type": "code",
   "execution_count": null,
   "metadata": {},
   "outputs": [],
   "source": [
    "idx_rand = np.random.choice(idx1, size=4, replace=False)\n",
    "idx_rand"
   ]
  },
  {
   "cell_type": "code",
   "execution_count": null,
   "metadata": {},
   "outputs": [],
   "source": [
    "aar = aat.loc[idx_rand]\n",
    "aar"
   ]
  },
  {
   "cell_type": "code",
   "execution_count": null,
   "metadata": {
    "collapsed": true
   },
   "outputs": [],
   "source": []
  }
 ],
 "metadata": {
  "kernelspec": {
   "display_name": "Python 3",
   "language": "python",
   "name": "python3"
  },
  "language_info": {
   "codemirror_mode": {
    "name": "ipython",
    "version": 3
   },
   "file_extension": ".py",
   "mimetype": "text/x-python",
   "name": "python",
   "nbconvert_exporter": "python",
   "pygments_lexer": "ipython3",
   "version": "3.5.3"
  }
 },
 "nbformat": 4,
 "nbformat_minor": 2
}
