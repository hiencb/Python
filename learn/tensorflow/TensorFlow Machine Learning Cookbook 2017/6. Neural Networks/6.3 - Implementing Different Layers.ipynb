{
 "cells": [
  {
   "cell_type": "markdown",
   "metadata": {},
   "source": [
    "# Implementing Different Layers\n",
    "\n",
    "It is important to know how to implement different layers. In the prior recipe, we implemented fully connected layers. We will expand our knowledge of various layers in this recipe."
   ]
  },
  {
   "cell_type": "code",
   "execution_count": 57,
   "metadata": {
    "collapsed": true
   },
   "outputs": [],
   "source": [
    "import numpy as np\n",
    "import tensorflow as tf\n",
    "from tensorflow.python.framework import ops"
   ]
  },
  {
   "cell_type": "markdown",
   "metadata": {},
   "source": [
    "<br/>\n",
    "<br/>\n",
    "<hr/>\n",
    "## One-dimensional data"
   ]
  },
  {
   "cell_type": "code",
   "execution_count": 58,
   "metadata": {
    "collapsed": true
   },
   "outputs": [],
   "source": [
    "ops.reset_default_graph()\n",
    "sess = tf.Session()"
   ]
  },
  {
   "cell_type": "markdown",
   "metadata": {},
   "source": [
    "### Inputs"
   ]
  },
  {
   "cell_type": "code",
   "execution_count": 59,
   "metadata": {
    "collapsed": true
   },
   "outputs": [],
   "source": [
    "DATA_SIZE = 25"
   ]
  },
  {
   "cell_type": "code",
   "execution_count": 60,
   "metadata": {},
   "outputs": [
    {
     "name": "stdout",
     "output_type": "stream",
     "text": [
      "[-1.6678073  -0.30906708  0.06410025  1.04731887]\n"
     ]
    }
   ],
   "source": [
    "x_vals = np.random.normal(size=DATA_SIZE)\n",
    "print(x_vals[: 4])"
   ]
  },
  {
   "cell_type": "code",
   "execution_count": 61,
   "metadata": {},
   "outputs": [
    {
     "name": "stdout",
     "output_type": "stream",
     "text": [
      "Tensor(\"x:0\", shape=(25,), dtype=float32)\n"
     ]
    }
   ],
   "source": [
    "x = tf.placeholder(dtype=tf.float32, shape=[DATA_SIZE], name='x')\n",
    "print(x)"
   ]
  },
  {
   "cell_type": "markdown",
   "metadata": {},
   "source": [
    "### Convolution layer"
   ]
  },
  {
   "cell_type": "code",
   "execution_count": 63,
   "metadata": {
    "collapsed": true
   },
   "outputs": [],
   "source": [
    "def convolution(input_1d, kernel, name='convolution_output'):\n",
    "    with tf.name_scope('convolution'):\n",
    "        # Expand 1d to 4d\n",
    "        input_2d = tf.expand_dims(input_1d, axis=0, name='input_2d')\n",
    "        input_3d = tf.expand_dims(input_2d, axis=0, name='input_3d')\n",
    "        input_4d = tf.expand_dims(input_3d, axis=3, name='input-4d')\n",
    "\n",
    "        print(input_2d)\n",
    "        print(input_3d)\n",
    "        print(input_4d)\n",
    "\n",
    "        strides = [1, 1, 1, 1]\n",
    "        padding = 'VALID'\n",
    "\n",
    "        print('strides: {}'.format(strides))\n",
    "        print('padding: {}'.format(padding))\n",
    "\n",
    "        # Perform convolution\n",
    "        conv = tf.nn.conv2d(input=input_4d, filter=kernel, strides=strides, padding=padding, name='conv')\n",
    "        print(conv)\n",
    "\n",
    "        # Collapse 4d to 1d\n",
    "        conv_output = tf.squeeze(conv, name=name)\n",
    "        return conv_output"
   ]
  },
  {
   "cell_type": "markdown",
   "metadata": {},
   "source": [
    "_____\n",
    "#### <u>FACT</u>: Calculating convolutional output size\n",
    "_____"
   ]
  },
  {
   "cell_type": "markdown",
   "metadata": {},
   "source": [
    "$$output\\_size = (input\\_size - filter\\_size + 2 \\times padding) / stride\\_size + 1$$\n",
    "\n",
    "For example:\n",
    "* input of shape [2, 16, 18, 5]\n",
    "  * samples = 2\n",
    "  * height &times; width = [16, 18]\n",
    "  * channels = 5\n",
    "  \n",
    "  \n",
    "* filter of shape [6, 4, 5, 7]\n",
    "  * height &times width = [6, 4]\n",
    "  * input channels = 5\n",
    "  * output channels = 7\n",
    "  \n",
    "  \n",
    "* strides of shape [1, 3, 2, 1]\n",
    "  * height &times width = [3, 2]\n",
    "  \n",
    "  \n",
    "* Padding 'VALID'\n",
    "  * padding = 0\n",
    "\n",
    "$$output\\_size = \\left([16, 18] - [6, 4] + 2 \\times 0\\right) / [3, 2] + 1 = [4, 8]$$\n",
    "\n",
    "* output will be of shape [2, 4, 8, 7]\n",
    "  * samples = 2\n",
    "  * height &times; width = [4, 8]\n",
    "  * channels = 7"
   ]
  },
  {
   "cell_type": "code",
   "execution_count": 64,
   "metadata": {},
   "outputs": [
    {
     "name": "stdout",
     "output_type": "stream",
     "text": [
      "Tensor(\"input_4d:0\", shape=(2, 16, 18, 5), dtype=float32)\n",
      "Tensor(\"filter_4d:0\", shape=(6, 4, 5, 7), dtype=float32)\n",
      "Tensor(\"output_4d:0\", shape=(2, 4, 8, 7), dtype=float32)\n"
     ]
    }
   ],
   "source": [
    "input_4d = tf.zeros(shape=[2, 16, 18, 5], name='input_4d')\n",
    "filter_4d = tf.ones(shape=[6, 4, 5, 7], name='filter_4d')\n",
    "strides = [1, 3, 2, 1]\n",
    "padding = 'VALID'\n",
    "\n",
    "output_4d = tf.nn.conv2d(input=input_4d, filter=filter_4d, strides=strides, padding=padding, name='output_4d')\n",
    "\n",
    "print(input_4d)\n",
    "print(filter_4d)\n",
    "print(output_4d)"
   ]
  },
  {
   "cell_type": "markdown",
   "metadata": {},
   "source": [
    "-----"
   ]
  },
  {
   "cell_type": "code",
   "execution_count": 65,
   "metadata": {},
   "outputs": [
    {
     "name": "stdout",
     "output_type": "stream",
     "text": [
      "Tensor(\"kernel/read:0\", shape=(1, 5, 1, 1), dtype=float32)\n",
      "Tensor(\"input_2d:0\", shape=(1, 25), dtype=float32)\n",
      "Tensor(\"input_3d:0\", shape=(1, 1, 25), dtype=float32)\n",
      "Tensor(\"input-4d:0\", shape=(1, 1, 25, 1), dtype=float32)\n",
      "strides: [1, 1, 1, 1]\n",
      "padding: VALID\n",
      "Tensor(\"conv:0\", shape=(1, 1, 21, 1), dtype=float32)\n",
      "Tensor(\"conv_output:0\", shape=(21,), dtype=float32)\n"
     ]
    }
   ],
   "source": [
    "kernel = tf.Variable(tf.random_normal(shape=[1, 5, 1, 1]), name='kernel')\n",
    "print(kernel)\n",
    "\n",
    "conv_output = convolution(x, kernel, 'conv_output')\n",
    "print(conv_output)"
   ]
  },
  {
   "cell_type": "markdown",
   "metadata": {},
   "source": [
    "### Activation layer"
   ]
  },
  {
   "cell_type": "code",
   "execution_count": 66,
   "metadata": {
    "collapsed": true
   },
   "outputs": [],
   "source": [
    "def activation(input_1d, name='activation_output'):\n",
    "    with tf.name_scope('activation'):\n",
    "        return tf.nn.relu(input_1d, name=name)"
   ]
  },
  {
   "cell_type": "code",
   "execution_count": 67,
   "metadata": {},
   "outputs": [
    {
     "name": "stdout",
     "output_type": "stream",
     "text": [
      "Tensor(\"act_output:0\", shape=(21,), dtype=float32)\n"
     ]
    }
   ],
   "source": [
    "act_output = activation(conv_output, 'act_output')\n",
    "print(act_output)"
   ]
  },
  {
   "cell_type": "markdown",
   "metadata": {},
   "source": [
    "### Pool layer"
   ]
  },
  {
   "cell_type": "code",
   "execution_count": 68,
   "metadata": {
    "collapsed": true
   },
   "outputs": [],
   "source": [
    "def pool(input_1d, width, name='pool_output'):\n",
    "    with tf.name_scope('pool'):\n",
    "        # Expand 1d to 4d\n",
    "        input_2d = tf.expand_dims(input_1d, axis=0, name='input_2d')\n",
    "        input_3d = tf.expand_dims(input_2d, axis=0, name='input_3d')\n",
    "        input_4d = tf.expand_dims(input_3d, axis=3, name='input_4d')\n",
    "\n",
    "        print(input_2d)\n",
    "        print(input_3d)\n",
    "        print(input_4d)\n",
    "\n",
    "        ksize = [1, 1, width, 1]\n",
    "        strides = [1, 1, 1, 1]\n",
    "        padding = 'VALID'\n",
    "\n",
    "        print('kside: {}'.format(ksize))\n",
    "        print('strides: {}'.format(strides))\n",
    "        print('padding: {}'.format(padding))\n",
    "\n",
    "        # Perform max pool\n",
    "        pool = tf.nn.max_pool(input_4d, ksize=ksize, strides=strides, padding=padding, name='pool')\n",
    "        print(pool)\n",
    "\n",
    "        # Collapse 4d to 1d\n",
    "        pool_output = tf.squeeze(pool, name=name)\n",
    "        return pool_output"
   ]
  },
  {
   "cell_type": "markdown",
   "metadata": {},
   "source": [
    "_____\n",
    "#### <u>FACT</u>: Calculating pool output size\n",
    "_____"
   ]
  },
  {
   "cell_type": "markdown",
   "metadata": {},
   "source": [
    "$$output\\_size = (input\\_size - filter\\_size + 2 \\times padding) / stride\\_size + 1$$\n",
    "\n",
    "For example:\n",
    "* input of shape [2, 16, 18, 5]\n",
    "  * samples = 2\n",
    "  * height &times; width &times; channels = [16, 18, 5]\n",
    "  \n",
    "  \n",
    "* window shape [1, 4, 5, 3]\n",
    "  * height &times; width &times; channels = [4, 5, 3]\n",
    "  \n",
    "  \n",
    "* strides [1, 3, 2, 2]\n",
    "  * height &times; width &times; channels = [3, 2, 2]\n",
    "  \n",
    "  \n",
    "* Padding 'VALID'\n",
    "  * padding = 0\n",
    "\n",
    "$$output\\_size = \\left([16, 18, 5] - [4, 5, 3] + 2 \\times 0\\right) / [3, 2, 2] + 1 = [5, 7, 2]$$\n",
    "\n",
    "* output will be of shape [2, 5, 7, 2]\n",
    "  * samples = 2\n",
    "  * height &times; width = [5, 7]\n",
    "  * channels = 2"
   ]
  },
  {
   "cell_type": "code",
   "execution_count": 69,
   "metadata": {},
   "outputs": [
    {
     "name": "stdout",
     "output_type": "stream",
     "text": [
      "Tensor(\"max_pool_in:0\", shape=(2, 16, 18, 5), dtype=float32)\n",
      "Tensor(\"max_pool_out:0\", shape=(2, 5, 7, 2), dtype=float32)\n"
     ]
    }
   ],
   "source": [
    "max_pool_in = tf.zeros(shape=[2, 16, 18, 5], name='max_pool_in')\n",
    "kside = [1, 4, 5, 3]\n",
    "strides = [1, 3, 2, 2]\n",
    "padding = 'VALID'\n",
    "\n",
    "max_pool_out = tf.nn.max_pool(value=input_4d, ksize=kside, strides=strides, padding=padding, name='max_pool_out')\n",
    "\n",
    "print(max_pool_in)\n",
    "print(max_pool_out)"
   ]
  },
  {
   "cell_type": "markdown",
   "metadata": {},
   "source": [
    "-----"
   ]
  },
  {
   "cell_type": "code",
   "execution_count": 70,
   "metadata": {},
   "outputs": [
    {
     "name": "stdout",
     "output_type": "stream",
     "text": [
      "Tensor(\"input_2d_1:0\", shape=(1, 21), dtype=float32)\n",
      "Tensor(\"input_3d_1:0\", shape=(1, 1, 21), dtype=float32)\n",
      "Tensor(\"input_4d_1:0\", shape=(1, 1, 21, 1), dtype=float32)\n",
      "kside: [1, 1, 5, 1]\n",
      "strides: [1, 1, 1, 1]\n",
      "padding: VALID\n",
      "Tensor(\"pool:0\", shape=(1, 1, 17, 1), dtype=float32)\n",
      "Tensor(\"pool_output:0\", shape=(17,), dtype=float32)\n"
     ]
    }
   ],
   "source": [
    "pool_output = pool(act_output, 5, 'pool_output')\n",
    "print(pool_output)"
   ]
  },
  {
   "cell_type": "markdown",
   "metadata": {},
   "source": [
    "### Fully-connected layer"
   ]
  },
  {
   "cell_type": "code",
   "execution_count": 102,
   "metadata": {
    "collapsed": true
   },
   "outputs": [],
   "source": [
    "def fully_connected(input_layer, num_outputs, name='fully_connected_output'):\n",
    "    with tf.name_scope('fully_connected'):\n",
    "        # expand 1d to 2d\n",
    "        input_2d = tf.expand_dims(input_layer, 0, name='input_2d')\n",
    "        print(input_2d)  \n",
    "\n",
    "        # create weight and bias\n",
    "        height = tf.shape(input_layer)\n",
    "        width = [num_outputs]\n",
    "        shape = tf.squeeze(tf.stack([height, width]))\n",
    "        weight = tf.random_normal(shape=shape, stddev=0.1, name='weight')\n",
    "        bias = tf.random_normal(shape=[num_outputs], name='bias')\n",
    "\n",
    "        print(weight)\n",
    "        print(bias)\n",
    "\n",
    "        # calculate full layer\n",
    "        full = tf.add(tf.matmul(input_2d, weight), bias, name='full')\n",
    "        print(full)\n",
    "\n",
    "        # collapse 2d to 1d\n",
    "        full_output = tf.squeeze(full, name=name)\n",
    "        return full_output"
   ]
  },
  {
   "cell_type": "code",
   "execution_count": 104,
   "metadata": {
    "scrolled": true
   },
   "outputs": [
    {
     "name": "stdout",
     "output_type": "stream",
     "text": [
      "Tensor(\"fully_connected_1/input_2d:0\", shape=(1, 17), dtype=float32)\n",
      "Tensor(\"fully_connected_1/weight:0\", shape=(?, ?), dtype=float32)\n",
      "Tensor(\"fully_connected_1/bias:0\", shape=(5,), dtype=float32)\n",
      "Tensor(\"fully_connected_1/full:0\", shape=(1, 5), dtype=float32)\n",
      "Tensor(\"fully_connected_1/full_output:0\", shape=(5,), dtype=float32)\n"
     ]
    }
   ],
   "source": [
    "full_output = fully_connected(pool_output, 5, 'full_output')\n",
    "print(full_output)"
   ]
  },
  {
   "cell_type": "markdown",
   "metadata": {},
   "source": [
    "### Initializing variables"
   ]
  },
  {
   "cell_type": "code",
   "execution_count": 105,
   "metadata": {
    "collapsed": true
   },
   "outputs": [],
   "source": [
    "init = tf.global_variables_initializer()\n",
    "sess.run(init)"
   ]
  },
  {
   "cell_type": "markdown",
   "metadata": {},
   "source": [
    "### Running graph and printing outputs"
   ]
  },
  {
   "cell_type": "code",
   "execution_count": 106,
   "metadata": {
    "scrolled": true
   },
   "outputs": [
    {
     "name": "stdout",
     "output_type": "stream",
     "text": [
      "Convolution:\n",
      "[ 0.11242437 -1.11597371 -3.53005576  1.59111547  2.64025736  3.65019417\n",
      " -1.76622796 -1.0412904   1.14337957  0.3814013   3.0025847  -3.27095366\n",
      "  1.32398546  3.46479893 -1.06887472  1.37958634 -4.85182524  2.58537221\n",
      " -0.46636114  2.5465951   1.98529458]\n",
      "\n",
      "Activation:\n",
      "[ 0.11242437  0.          0.          1.59111547  2.64025736  3.65019417\n",
      "  0.          0.          1.14337957  0.3814013   3.0025847   0.\n",
      "  1.32398546  3.46479893  0.          1.37958634  0.          2.58537221\n",
      "  0.          2.5465951   1.98529458]\n",
      "\n",
      "Pool:\n",
      "[ 2.64025736  3.65019417  3.65019417  3.65019417  3.65019417  3.65019417\n",
      "  3.0025847   3.0025847   3.0025847   3.46479893  3.46479893  3.46479893\n",
      "  3.46479893  3.46479893  2.58537221  2.58537221  2.58537221]\n",
      "\n",
      "Fully-connected:\n",
      "[-0.13378757 -1.61461425  1.03143084 -1.9784348  -0.15626031]\n",
      "\n"
     ]
    }
   ],
   "source": [
    "feed_dict = {x: x_vals}\n",
    "\n",
    "conv_res, act_res, pool_res, full_res = sess.run([conv_output, act_output, pool_output, full_output], feed_dict=feed_dict)\n",
    "print('Convolution:\\n{}\\n'.format(conv_res))\n",
    "print('Activation:\\n{}\\n'.format(act_res))\n",
    "print('Pool:\\n{}\\n'.format(pool_res))\n",
    "print('Fully-connected:\\n{}\\n'.format(full_res))"
   ]
  },
  {
   "cell_type": "markdown",
   "metadata": {},
   "source": [
    "<br/>\n",
    "<br/>\n",
    "<hr/>\n",
    "## Two-dimensional data"
   ]
  },
  {
   "cell_type": "code",
   "execution_count": 125,
   "metadata": {
    "collapsed": true
   },
   "outputs": [],
   "source": [
    "ops.reset_default_graph()\n",
    "sess = tf.Session()"
   ]
  },
  {
   "cell_type": "markdown",
   "metadata": {},
   "source": [
    "### Inputs"
   ]
  },
  {
   "cell_type": "code",
   "execution_count": 126,
   "metadata": {
    "collapsed": true
   },
   "outputs": [],
   "source": [
    "N_ROWS = 10\n",
    "N_COLS = 8\n",
    "DATA_SIZE = [N_ROWS, N_COLS]\n",
    "KERNEL_SIZE = 2\n",
    "KERNEL_STRIDE_SIZE = 2\n",
    "POOL_SIZE = 2\n",
    "POOL_STRIDE_SIZE = 2"
   ]
  },
  {
   "cell_type": "code",
   "execution_count": 127,
   "metadata": {},
   "outputs": [
    {
     "name": "stdout",
     "output_type": "stream",
     "text": [
      "[[ 0.52201842  0.33799355 -0.48635399  0.23903511]\n",
      " [ 0.92599632  0.70205369  0.6411765  -0.85311417]]\n"
     ]
    }
   ],
   "source": [
    "x_vals = np.random.normal(size=DATA_SIZE)\n",
    "print(x_vals[: 2, : 4])"
   ]
  },
  {
   "cell_type": "code",
   "execution_count": 128,
   "metadata": {},
   "outputs": [
    {
     "name": "stdout",
     "output_type": "stream",
     "text": [
      "Tensor(\"x:0\", shape=(10, 8), dtype=float32)\n"
     ]
    }
   ],
   "source": [
    "x = tf.placeholder(dtype=tf.float32, shape=DATA_SIZE, name='x')\n",
    "print(x)"
   ]
  },
  {
   "cell_type": "markdown",
   "metadata": {},
   "source": [
    "### Convolution layer"
   ]
  },
  {
   "cell_type": "code",
   "execution_count": 129,
   "metadata": {
    "collapsed": true
   },
   "outputs": [],
   "source": [
    "def convolution(input_2d, kernel, name='convolution_output'):\n",
    "    with tf.name_scope('convolution'):\n",
    "        # Expand 2d to 4d\n",
    "        input_3d = tf.expand_dims(input_2d, axis=0, name='input_3d')\n",
    "        input_4d = tf.expand_dims(input_3d, axis=3, name='input-4d')\n",
    "\n",
    "        print(input_3d)\n",
    "        print(input_4d)\n",
    "\n",
    "        strides = [1, KERNEL_STRIDE_SIZE, KERNEL_STRIDE_SIZE, 1]\n",
    "        padding = 'VALID'\n",
    "\n",
    "        print('strides: {}'.format(strides))\n",
    "        print('padding: {}'.format(padding))\n",
    "\n",
    "        # Perform convolution\n",
    "        conv = tf.nn.conv2d(input=input_4d, filter=kernel, strides=strides, padding=padding, name='conv')\n",
    "        print(conv)\n",
    "\n",
    "        # Collapse 4d to 2d\n",
    "        conv_output = tf.squeeze(conv, name=name)\n",
    "        return conv_output"
   ]
  },
  {
   "cell_type": "code",
   "execution_count": 130,
   "metadata": {},
   "outputs": [
    {
     "name": "stdout",
     "output_type": "stream",
     "text": [
      "Tensor(\"kernel/read:0\", shape=(2, 2, 1, 1), dtype=float32)\n",
      "Tensor(\"convolution/input_3d:0\", shape=(1, 10, 8), dtype=float32)\n",
      "Tensor(\"convolution/input-4d:0\", shape=(1, 10, 8, 1), dtype=float32)\n",
      "strides: [1, 2, 2, 1]\n",
      "padding: VALID\n",
      "Tensor(\"convolution/conv:0\", shape=(1, 5, 4, 1), dtype=float32)\n",
      "Tensor(\"convolution/conv_output:0\", shape=(5, 4), dtype=float32)\n"
     ]
    }
   ],
   "source": [
    "kernel = tf.Variable(tf.random_normal(shape=[KERNEL_SIZE, KERNEL_SIZE, 1, 1]), name='kernel')\n",
    "print(kernel)\n",
    "\n",
    "conv_output = convolution(x, kernel, 'conv_output')\n",
    "print(conv_output)"
   ]
  },
  {
   "cell_type": "markdown",
   "metadata": {},
   "source": [
    "### Activation layer"
   ]
  },
  {
   "cell_type": "code",
   "execution_count": 131,
   "metadata": {
    "collapsed": true
   },
   "outputs": [],
   "source": [
    "def activation(input_2d, name='activation_output'):\n",
    "    with tf.name_scope('activation'):\n",
    "        return tf.nn.relu(input_2d, name=name)"
   ]
  },
  {
   "cell_type": "code",
   "execution_count": 132,
   "metadata": {},
   "outputs": [
    {
     "name": "stdout",
     "output_type": "stream",
     "text": [
      "Tensor(\"activation/act_output:0\", shape=(5, 4), dtype=float32)\n"
     ]
    }
   ],
   "source": [
    "act_output = activation(conv_output, 'act_output')\n",
    "print(act_output)"
   ]
  },
  {
   "cell_type": "markdown",
   "metadata": {},
   "source": [
    "### Pool layer"
   ]
  },
  {
   "cell_type": "code",
   "execution_count": 133,
   "metadata": {
    "collapsed": true
   },
   "outputs": [],
   "source": [
    "def pool(input_2d, height, width, stride, name='pool_output'):\n",
    "    with tf.name_scope('pool'):\n",
    "        # Expand 2d to 4d\n",
    "        input_3d = tf.expand_dims(input_2d, axis=0, name='input_3d')\n",
    "        input_4d = tf.expand_dims(input_3d, axis=3, name='input_4d')\n",
    "\n",
    "        print(input_3d)\n",
    "        print(input_4d)\n",
    "\n",
    "        ksize = [1, height, width, 1]\n",
    "        strides = [1, stride, stride, 1]\n",
    "        padding = 'VALID'\n",
    "\n",
    "        print('kside: {}'.format(ksize))\n",
    "        print('strides: {}'.format(strides))\n",
    "        print('padding: {}'.format(padding))\n",
    "\n",
    "        # Perform max pool\n",
    "        pool = tf.nn.max_pool(input_4d, ksize=ksize, strides=strides, padding=padding, name='pool')\n",
    "        print(pool)\n",
    "\n",
    "        # Collapse 4d to 2d\n",
    "        pool_output = tf.squeeze(pool, name=name)\n",
    "        return pool_output"
   ]
  },
  {
   "cell_type": "code",
   "execution_count": 134,
   "metadata": {},
   "outputs": [
    {
     "name": "stdout",
     "output_type": "stream",
     "text": [
      "Tensor(\"pool/input_3d:0\", shape=(1, 5, 4), dtype=float32)\n",
      "Tensor(\"pool/input_4d:0\", shape=(1, 5, 4, 1), dtype=float32)\n",
      "kside: [1, 2, 2, 1]\n",
      "strides: [1, 2, 2, 1]\n",
      "padding: VALID\n",
      "Tensor(\"pool/pool:0\", shape=(1, 2, 2, 1), dtype=float32)\n",
      "Tensor(\"pool/pool_output:0\", shape=(2, 2), dtype=float32)\n"
     ]
    }
   ],
   "source": [
    "pool_output = pool(act_output, POOL_SIZE, POOL_SIZE, POOL_STRIDE_SIZE, 'pool_output')\n",
    "print(pool_output)"
   ]
  },
  {
   "cell_type": "markdown",
   "metadata": {},
   "source": [
    "### Fully-connected layer"
   ]
  },
  {
   "cell_type": "code",
   "execution_count": 135,
   "metadata": {
    "collapsed": true
   },
   "outputs": [],
   "source": [
    "def fully_connected(input_layer, num_outputs, name='fully_connected_output'):\n",
    "    with tf.name_scope('fully_connected'):\n",
    "        # flatten input\n",
    "        input_flat = tf.reshape(input_layer, shape=[-1], name='input_flat')\n",
    "        print(input_flat)\n",
    "        \n",
    "        # create weight and bias\n",
    "        height = tf.shape(input_flat)\n",
    "        width = [num_outputs]\n",
    "        shape = tf.squeeze(tf.stack([height, width]))\n",
    "        weight = tf.random_normal(shape=shape, stddev=0.1, name='weight')\n",
    "        bias = tf.random_normal(shape=[num_outputs], name='bias')\n",
    "\n",
    "        print(weight)\n",
    "        print(bias)\n",
    "\n",
    "        # expand 1d to 2d\n",
    "        input_2d = tf.expand_dims(input_flat, 0, name='input_2d')\n",
    "        print(input_2d)\n",
    "        \n",
    "        # calculate full layer\n",
    "        full = tf.add(tf.matmul(input_2d, weight), bias, name='full')\n",
    "        print(full)\n",
    "\n",
    "        # collapse 2d to 1d\n",
    "        full_output = tf.squeeze(full, name=name)\n",
    "        return full_output"
   ]
  },
  {
   "cell_type": "code",
   "execution_count": 136,
   "metadata": {
    "scrolled": true
   },
   "outputs": [
    {
     "name": "stdout",
     "output_type": "stream",
     "text": [
      "Tensor(\"fully_connected/input_flat:0\", shape=(4,), dtype=float32)\n",
      "Tensor(\"fully_connected/weight:0\", shape=(?, ?), dtype=float32)\n",
      "Tensor(\"fully_connected/bias:0\", shape=(5,), dtype=float32)\n",
      "Tensor(\"fully_connected/input_2d:0\", shape=(1, 4), dtype=float32)\n",
      "Tensor(\"fully_connected/full:0\", shape=(1, 5), dtype=float32)\n",
      "Tensor(\"fully_connected/full_output:0\", shape=(5,), dtype=float32)\n"
     ]
    }
   ],
   "source": [
    "full_output = fully_connected(pool_output, 5, 'full_output')\n",
    "print(full_output)"
   ]
  },
  {
   "cell_type": "markdown",
   "metadata": {},
   "source": [
    "### Initializing variables"
   ]
  },
  {
   "cell_type": "code",
   "execution_count": 137,
   "metadata": {
    "collapsed": true
   },
   "outputs": [],
   "source": [
    "init = tf.global_variables_initializer()\n",
    "sess.run(init)"
   ]
  },
  {
   "cell_type": "markdown",
   "metadata": {},
   "source": [
    "### Running graph and printing outputs"
   ]
  },
  {
   "cell_type": "code",
   "execution_count": 138,
   "metadata": {
    "scrolled": true
   },
   "outputs": [
    {
     "name": "stdout",
     "output_type": "stream",
     "text": [
      "Convolution:\n",
      "[[ 1.89023542 -0.62432337 -0.45539266 -0.88576597]\n",
      " [-0.28317535 -0.85009599  0.22505143  0.99821234]\n",
      " [-0.55481005  2.22789359 -0.56118977 -1.43089116]\n",
      " [ 0.33216459 -2.14857769  1.09039211 -0.08050856]\n",
      " [ 0.32793519  2.27612281 -1.4064281  -1.04818475]]\n",
      "\n",
      "Activation:\n",
      "[[ 1.89023542  0.          0.          0.        ]\n",
      " [ 0.          0.          0.22505143  0.99821234]\n",
      " [ 0.          2.22789359  0.          0.        ]\n",
      " [ 0.33216459  0.          1.09039211  0.        ]\n",
      " [ 0.32793519  2.27612281  0.          0.        ]]\n",
      "\n",
      "Pool:\n",
      "[[ 1.89023542  0.99821234]\n",
      " [ 2.22789359  1.09039211]]\n",
      "\n",
      "Fully-connected:\n",
      "[ 0.30451173 -0.59224355  0.1254805  -0.15607134 -0.99479735]\n",
      "\n"
     ]
    }
   ],
   "source": [
    "feed_dict = {x: x_vals}\n",
    "\n",
    "conv_res, act_res, pool_res, full_res = sess.run([conv_output, act_output, pool_output, full_output], feed_dict=feed_dict)\n",
    "print('Convolution:\\n{}\\n'.format(conv_res))\n",
    "print('Activation:\\n{}\\n'.format(act_res))\n",
    "print('Pool:\\n{}\\n'.format(pool_res))\n",
    "print('Fully-connected:\\n{}\\n'.format(full_res))"
   ]
  },
  {
   "cell_type": "code",
   "execution_count": null,
   "metadata": {
    "collapsed": true
   },
   "outputs": [],
   "source": []
  }
 ],
 "metadata": {
  "kernelspec": {
   "display_name": "Python 3",
   "language": "python",
   "name": "python3"
  },
  "language_info": {
   "codemirror_mode": {
    "name": "ipython",
    "version": 3
   },
   "file_extension": ".py",
   "mimetype": "text/x-python",
   "name": "python",
   "nbconvert_exporter": "python",
   "pygments_lexer": "ipython3",
   "version": "3.5.3"
  }
 },
 "nbformat": 4,
 "nbformat_minor": 2
}
