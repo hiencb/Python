{
 "cells": [
  {
   "cell_type": "markdown",
   "metadata": {},
   "source": [
    "# Layering Nested Operations"
   ]
  },
  {
   "cell_type": "code",
   "execution_count": 1,
   "metadata": {
    "collapsed": true
   },
   "outputs": [],
   "source": [
    "import numpy as np\n",
    "import tensorflow as tf\n",
    "\n",
    "sess = tf.Session()"
   ]
  },
  {
   "cell_type": "code",
   "execution_count": 13,
   "metadata": {},
   "outputs": [
    {
     "name": "stdout",
     "output_type": "stream",
     "text": [
      "Tensor(\"triangle_2:0\", shape=(?, 3), dtype=float32)\n",
      "Tensor(\"perimeter_2:0\", shape=(?,), dtype=float32)\n",
      "Tensor(\"area_1:0\", shape=(?,), dtype=float32)\n"
     ]
    }
   ],
   "source": [
    "triangle = tf.placeholder(shape=[None, 3], dtype=tf.float32, name='triangle')\n",
    "\n",
    "perimeter = tf.reduce_sum(triangle, axis=1, name='perimeter')\n",
    "s = perimeter / 2\n",
    "area = tf.sqrt(s * (s - triangle[:, 0]) * (s - triangle[:, 1]) * (s - triangle[:, 2]), name='area')\n",
    "\n",
    "print(triangle)\n",
    "print(perimeter)\n",
    "print(area)"
   ]
  },
  {
   "cell_type": "code",
   "execution_count": 14,
   "metadata": {},
   "outputs": [
    {
     "name": "stdout",
     "output_type": "stream",
     "text": [
      "[  7.  20.  40.  12.]\n",
      "[  1.98431349  17.32050705  74.83315277   5.99999952]\n"
     ]
    }
   ],
   "source": [
    "triangleData = [\n",
    "    [2, 2, 3],\n",
    "    [5, 8, 7],\n",
    "    [12, 13, 15],\n",
    "    [3, 4, 5]\n",
    "]\n",
    "\n",
    "feedDict = {triangle: triangleData}\n",
    "perimeterRes = sess.run(perimeter, feed_dict=feedDict)\n",
    "areaRes = sess.run(area, feed_dict=feedDict)\n",
    "print(perimeterRes)\n",
    "print(areaRes)"
   ]
  },
  {
   "cell_type": "code",
   "execution_count": null,
   "metadata": {
    "collapsed": true
   },
   "outputs": [],
   "source": []
  }
 ],
 "metadata": {
  "kernelspec": {
   "display_name": "Python 3",
   "language": "python",
   "name": "python3"
  },
  "language_info": {
   "codemirror_mode": {
    "name": "ipython",
    "version": 3
   },
   "file_extension": ".py",
   "mimetype": "text/x-python",
   "name": "python",
   "nbconvert_exporter": "python",
   "pygments_lexer": "ipython3",
   "version": "3.5.2"
  }
 },
 "nbformat": 4,
 "nbformat_minor": 2
}
