{
 "cells": [
  {
   "cell_type": "markdown",
   "metadata": {},
   "source": [
    "# Working with Multiple Layers"
   ]
  },
  {
   "cell_type": "code",
   "execution_count": 11,
   "metadata": {
    "collapsed": true
   },
   "outputs": [],
   "source": [
    "import numpy as np\n",
    "import tensorflow as tf\n",
    "\n",
    "sess = tf.Session()"
   ]
  },
  {
   "cell_type": "markdown",
   "metadata": {
    "collapsed": true
   },
   "source": [
    "### Creating 2D images\n",
    "\n",
    "TensorFlow image functions will operate on 4D tensors. Those 4 dimensions are image number, height, width, and channel."
   ]
  },
  {
   "cell_type": "code",
   "execution_count": 12,
   "metadata": {},
   "outputs": [
    {
     "data": {
      "text/plain": [
       "array([[[[ 0.12691435],\n",
       "         [ 0.11718451],\n",
       "         [ 0.52752832],\n",
       "         [ 0.65734213],\n",
       "         [ 0.60854502],\n",
       "         [ 0.87121535]],\n",
       "\n",
       "        [[ 0.74227432],\n",
       "         [ 0.97047898],\n",
       "         [ 0.44348034],\n",
       "         [ 0.4601906 ],\n",
       "         [ 0.33129814],\n",
       "         [ 0.61599785]],\n",
       "\n",
       "        [[ 0.35500318],\n",
       "         [ 0.86211563],\n",
       "         [ 0.56105653],\n",
       "         [ 0.8660999 ],\n",
       "         [ 0.85283798],\n",
       "         [ 0.99972706]],\n",
       "\n",
       "        [[ 0.70286576],\n",
       "         [ 0.74166744],\n",
       "         [ 0.40221359],\n",
       "         [ 0.21475781],\n",
       "         [ 0.94135829],\n",
       "         [ 0.2633286 ]],\n",
       "\n",
       "        [[ 0.21312174],\n",
       "         [ 0.83296585],\n",
       "         [ 0.42614714],\n",
       "         [ 0.93857129],\n",
       "         [ 0.2129025 ],\n",
       "         [ 0.21393244]],\n",
       "\n",
       "        [[ 0.12345372],\n",
       "         [ 0.43814691],\n",
       "         [ 0.43174616],\n",
       "         [ 0.11238331],\n",
       "         [ 0.03891701],\n",
       "         [ 0.77186486]]]])"
      ]
     },
     "execution_count": 12,
     "metadata": {},
     "output_type": "execute_result"
    }
   ],
   "source": [
    "# Two 8x8 images with one channel\n",
    "X_shape = [1, 6, 6, 1]\n",
    "X_vals = np.random.uniform(size=X_shape)\n",
    "X_vals"
   ]
  },
  {
   "cell_type": "markdown",
   "metadata": {},
   "source": [
    "### Declaring placeholder"
   ]
  },
  {
   "cell_type": "code",
   "execution_count": 13,
   "metadata": {},
   "outputs": [
    {
     "data": {
      "text/plain": [
       "<tf.Tensor 'X_1:0' shape=(1, 6, 6, 1) dtype=float32>"
      ]
     },
     "execution_count": 13,
     "metadata": {},
     "output_type": "execute_result"
    }
   ],
   "source": [
    "X = tf.placeholder(dtype=tf.float32, shape=X_shape, name='X')\n",
    "X"
   ]
  },
  {
   "cell_type": "markdown",
   "metadata": {},
   "source": [
    "### Creating a moving window (kernel or filter)\n",
    "\n",
    "The dimensions of moving windows are height, width, input channels, output channels"
   ]
  },
  {
   "cell_type": "code",
   "execution_count": 14,
   "metadata": {},
   "outputs": [
    {
     "data": {
      "text/plain": [
       "<tf.Tensor 'kernel_1:0' shape=(2, 2, 1, 1) dtype=float32>"
      ]
     },
     "execution_count": 14,
     "metadata": {},
     "output_type": "execute_result"
    }
   ],
   "source": [
    "# A 2x2 moving windows that accepts 1 channel and generates 1 channel\n",
    "# Initializing all elements to 0.5\n",
    "kernel_shape = [2, 2, 1, 1]\n",
    "kernel = tf.constant(0.5, shape=kernel_shape, name='kernel')\n",
    "kernel"
   ]
  },
  {
   "cell_type": "code",
   "execution_count": 15,
   "metadata": {},
   "outputs": [
    {
     "data": {
      "text/plain": [
       "<tf.Tensor 'conv_1:0' shape=(1, 3, 3, 1) dtype=float32>"
      ]
     },
     "execution_count": 15,
     "metadata": {},
     "output_type": "execute_result"
    }
   ],
   "source": [
    "# stride by 2 horizontally and 2 vertically\n",
    "strides = [1, 2, 2, 1]\n",
    "conv = tf.nn.conv2d(input=X, filter=kernel, strides=strides, padding='SAME', name='conv')\n",
    "conv"
   ]
  },
  {
   "cell_type": "markdown",
   "metadata": {},
   "source": [
    "### Output layer"
   ]
  },
  {
   "cell_type": "code",
   "execution_count": 16,
   "metadata": {
    "collapsed": true
   },
   "outputs": [],
   "source": [
    "def calculateOutput(X):\n",
    "    # Removes dimensions of size 1, so turns (1, 3, 3, 1) into (3, 3)\n",
    "    squeeze = tf.squeeze(X, name='squeeze')\n",
    "    W = tf.constant([[1., 2., -2.]], name='W')\n",
    "    b = tf.constant(-1., name='b')\n",
    "    y = tf.add(tf.matmul(W, squeeze), b, name='y')\n",
    "    return tf.sigmoid(y, name='output')"
   ]
  },
  {
   "cell_type": "markdown",
   "metadata": {},
   "source": [
    "### Placing the new layer on the graph"
   ]
  },
  {
   "cell_type": "code",
   "execution_count": 17,
   "metadata": {},
   "outputs": [],
   "source": [
    "with tf.name_scope('Complex_Layer'):\n",
    "    output = calculateOutput(conv)"
   ]
  },
  {
   "cell_type": "markdown",
   "metadata": {},
   "source": [
    "### Running the graph"
   ]
  },
  {
   "cell_type": "code",
   "execution_count": 18,
   "metadata": {},
   "outputs": [
    {
     "data": {
      "text/plain": [
       "array([[ 0.73737895,  0.5447675 ,  0.88423526]], dtype=float32)"
      ]
     },
     "execution_count": 18,
     "metadata": {},
     "output_type": "execute_result"
    }
   ],
   "source": [
    "res = sess.run(output, feed_dict={X: X_vals})\n",
    "res"
   ]
  },
  {
   "cell_type": "markdown",
   "metadata": {},
   "source": [
    "### Viewing the graph"
   ]
  },
  {
   "cell_type": "code",
   "execution_count": 19,
   "metadata": {},
   "outputs": [
    {
     "data": {
      "text/plain": [
       "<tensorflow.python.summary.writer.writer.FileWriter at 0x10f271048>"
      ]
     },
     "execution_count": 19,
     "metadata": {},
     "output_type": "execute_result"
    }
   ],
   "source": [
    "tf.summary.FileWriter(graph=sess.graph, logdir='logs/Multiple Layers')"
   ]
  },
  {
   "cell_type": "markdown",
   "metadata": {},
   "source": [
    "Run this command on terminal and navigate to http://192.168.13.112:6006\n",
    "\n",
    "```shell\n",
    "$ tensorboard --logdir='logs/Multiple Layers'\n",
    "```"
   ]
  }
 ],
 "metadata": {
  "kernelspec": {
   "display_name": "Python 3",
   "language": "python",
   "name": "python3"
  },
  "language_info": {
   "codemirror_mode": {
    "name": "ipython",
    "version": 3
   },
   "file_extension": ".py",
   "mimetype": "text/x-python",
   "name": "python",
   "nbconvert_exporter": "python",
   "pygments_lexer": "ipython3",
   "version": "3.5.3"
  }
 },
 "nbformat": 4,
 "nbformat_minor": 2
}
