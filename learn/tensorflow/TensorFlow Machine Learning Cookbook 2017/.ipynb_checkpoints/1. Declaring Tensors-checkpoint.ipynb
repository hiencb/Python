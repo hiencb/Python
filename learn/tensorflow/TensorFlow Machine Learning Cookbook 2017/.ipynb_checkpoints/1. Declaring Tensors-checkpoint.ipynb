{
 "cells": [
  {
   "cell_type": "markdown",
   "metadata": {},
   "source": [
    "# Declaring Tensors"
   ]
  },
  {
   "cell_type": "code",
   "execution_count": 5,
   "metadata": {
    "collapsed": true
   },
   "outputs": [],
   "source": [
    "import tensorflow as tf\n",
    "import numpy as np\n",
    "NROWS = 3\n",
    "NCOLS = 4\n",
    "\n",
    "sess = tf.InteractiveSession()"
   ]
  },
  {
   "cell_type": "markdown",
   "metadata": {},
   "source": [
    "### Fixed tensors"
   ]
  },
  {
   "cell_type": "code",
   "execution_count": 48,
   "metadata": {},
   "outputs": [
    {
     "name": "stdout",
     "output_type": "stream",
     "text": [
      "Tensor(\"zeros_6:0\", shape=(3, 4), dtype=int32)\n"
     ]
    },
    {
     "data": {
      "text/plain": [
       "array([[0, 0, 0, 0],\n",
       "       [0, 0, 0, 0],\n",
       "       [0, 0, 0, 0]], dtype=int32)"
      ]
     },
     "execution_count": 48,
     "metadata": {},
     "output_type": "execute_result"
    }
   ],
   "source": [
    "zeros = tf.zeros(shape=[NROWS, NCOLS], dtype=tf.int32, name='zeros')\n",
    "print(zeros)\n",
    "zeros.eval(session=sess)"
   ]
  },
  {
   "cell_type": "code",
   "execution_count": 47,
   "metadata": {},
   "outputs": [
    {
     "name": "stdout",
     "output_type": "stream",
     "text": [
      "Tensor(\"ones_3:0\", shape=(3, 4), dtype=float32)\n"
     ]
    },
    {
     "data": {
      "text/plain": [
       "array([[ 1.,  1.,  1.,  1.],\n",
       "       [ 1.,  1.,  1.,  1.],\n",
       "       [ 1.,  1.,  1.,  1.]], dtype=float32)"
      ]
     },
     "execution_count": 47,
     "metadata": {},
     "output_type": "execute_result"
    }
   ],
   "source": [
    "ones = tf.ones(shape=[NROWS, NCOLS], dtype=tf.float32, name='ones')\n",
    "print(ones)\n",
    "ones.eval(session=sess)"
   ]
  },
  {
   "cell_type": "code",
   "execution_count": 46,
   "metadata": {},
   "outputs": [
    {
     "name": "stdout",
     "output_type": "stream",
     "text": [
      "Tensor(\"filled:0\", shape=(3, 4), dtype=float32)\n"
     ]
    },
    {
     "data": {
      "text/plain": [
       "array([[ 0.5,  0.5,  0.5,  0.5],\n",
       "       [ 0.5,  0.5,  0.5,  0.5],\n",
       "       [ 0.5,  0.5,  0.5,  0.5]], dtype=float32)"
      ]
     },
     "execution_count": 46,
     "metadata": {},
     "output_type": "execute_result"
    }
   ],
   "source": [
    "filled = tf.fill(dims=[NROWS, NCOLS], value=0.5, name='filled')\n",
    "print(filled)\n",
    "filled.eval(session=sess)"
   ]
  },
  {
   "cell_type": "code",
   "execution_count": 45,
   "metadata": {},
   "outputs": [
    {
     "name": "stdout",
     "output_type": "stream",
     "text": [
      "Tensor(\"consts1:0\", shape=(2, 3), dtype=int32)\n"
     ]
    },
    {
     "data": {
      "text/plain": [
       "array([[1, 1, 1],\n",
       "       [2, 2, 2]], dtype=int32)"
      ]
     },
     "execution_count": 45,
     "metadata": {},
     "output_type": "execute_result"
    }
   ],
   "source": [
    "consts1 = tf.constant(value=[[1, 1, 1], [2, 2, 2]], name='consts1')\n",
    "print(consts1)\n",
    "consts1.eval(session=sess)"
   ]
  },
  {
   "cell_type": "code",
   "execution_count": 44,
   "metadata": {},
   "outputs": [
    {
     "name": "stdout",
     "output_type": "stream",
     "text": [
      "Tensor(\"const2:0\", shape=(3, 4), dtype=float64)\n"
     ]
    },
    {
     "data": {
      "text/plain": [
       "array([[ 1.5,  1.5,  1.5,  1.5],\n",
       "       [ 1.5,  1.5,  1.5,  1.5],\n",
       "       [ 1.5,  1.5,  1.5,  1.5]])"
      ]
     },
     "execution_count": 44,
     "metadata": {},
     "output_type": "execute_result"
    }
   ],
   "source": [
    "const2 = tf.constant(shape=[NROWS, NCOLS], value=1.5, dtype=tf.float64, name='const2')\n",
    "print(const2)\n",
    "const2.eval(session=sess)"
   ]
  },
  {
   "cell_type": "markdown",
   "metadata": {},
   "source": [
    "### Tensors of similar shape"
   ]
  },
  {
   "cell_type": "code",
   "execution_count": 43,
   "metadata": {},
   "outputs": [
    {
     "name": "stdout",
     "output_type": "stream",
     "text": [
      "Tensor(\"zeros_like_4:0\", shape=(2, 3), dtype=float16)\n"
     ]
    },
    {
     "data": {
      "text/plain": [
       "array([[ 0.,  0.,  0.],\n",
       "       [ 0.,  0.,  0.]], dtype=float16)"
      ]
     },
     "execution_count": 43,
     "metadata": {},
     "output_type": "execute_result"
    }
   ],
   "source": [
    "zeros_like = tf.zeros_like(tensor=consts1, dtype=tf.float16, optimize=False, name='zeros_like')\n",
    "print(zeros_like)\n",
    "zeros_like.eval(session=sess)"
   ]
  },
  {
   "cell_type": "code",
   "execution_count": 42,
   "metadata": {},
   "outputs": [
    {
     "name": "stdout",
     "output_type": "stream",
     "text": [
      "Tensor(\"ones_like_1:0\", shape=(3, 4), dtype=int64)\n"
     ]
    },
    {
     "data": {
      "text/plain": [
       "array([[1, 1, 1, 1],\n",
       "       [1, 1, 1, 1],\n",
       "       [1, 1, 1, 1]])"
      ]
     },
     "execution_count": 42,
     "metadata": {},
     "output_type": "execute_result"
    }
   ],
   "source": [
    "ones_like = tf.ones_like(tensor=const2, dtype=tf.int64, optimize=True, name='ones_like')\n",
    "print(ones_like)\n",
    "ones_like.eval(session=sess)"
   ]
  },
  {
   "cell_type": "markdown",
   "metadata": {},
   "source": [
    "### Sequence tensors"
   ]
  },
  {
   "cell_type": "code",
   "execution_count": 66,
   "metadata": {},
   "outputs": [
    {
     "name": "stdout",
     "output_type": "stream",
     "text": [
      "Tensor(\"linear_2:0\", shape=(15,), dtype=float32)\n"
     ]
    },
    {
     "data": {
      "text/plain": [
       "array([ 0.5       ,  0.59285712,  0.68571424,  0.77857143,  0.87142855,\n",
       "        0.96428567,  1.05714285,  1.14999998,  1.2428571 ,  1.33571422,\n",
       "        1.42857134,  1.52142847,  1.61428571,  1.70714283,  1.79999995], dtype=float32)"
      ]
     },
     "execution_count": 66,
     "metadata": {},
     "output_type": "execute_result"
    }
   ],
   "source": [
    "linear = tf.linspace(start=0.5, stop=1.8, num=15, name='linear')\n",
    "print(linear)\n",
    "linear.eval(session=sess)"
   ]
  },
  {
   "cell_type": "code",
   "execution_count": 52,
   "metadata": {},
   "outputs": [
    {
     "name": "stdout",
     "output_type": "stream",
     "text": [
      "Tensor(\"seq:0\", shape=(12,), dtype=float32)\n"
     ]
    },
    {
     "data": {
      "text/plain": [
       "array([-1.5       , -1.20000005, -0.90000004, -0.60000002, -0.30000001,\n",
       "        0.        ,  0.30000001,  0.60000002,  0.90000004,  1.20000005,\n",
       "        1.5       ,  1.79999995], dtype=float32)"
      ]
     },
     "execution_count": 52,
     "metadata": {},
     "output_type": "execute_result"
    }
   ],
   "source": [
    "seq = tf.range(start=-1.5, limit=2, delta=0.3, name='seq')\n",
    "print(seq)\n",
    "seq.eval(session=sess)"
   ]
  },
  {
   "cell_type": "markdown",
   "metadata": {},
   "source": [
    "### Random tensors"
   ]
  },
  {
   "cell_type": "code",
   "execution_count": 58,
   "metadata": {},
   "outputs": [
    {
     "name": "stdout",
     "output_type": "stream",
     "text": [
      "Tensor(\"randu_1:0\", shape=(3, 4), dtype=float32)\n"
     ]
    },
    {
     "data": {
      "text/plain": [
       "array([[ 0.04379261, -1.23091149,  0.58356071, -0.34657288],\n",
       "       [ 0.85153985, -0.18326783, -0.89315951,  1.14479446],\n",
       "       [-0.14480531, -0.67774808,  0.56082129,  1.16890383]], dtype=float32)"
      ]
     },
     "execution_count": 58,
     "metadata": {},
     "output_type": "execute_result"
    }
   ],
   "source": [
    "randu = tf.random_uniform(shape=[NROWS, NCOLS], minval=-1.5, maxval=1.5, dtype=tf.float32, name='randu')\n",
    "print(randu)\n",
    "randu.eval(session=sess)"
   ]
  },
  {
   "cell_type": "code",
   "execution_count": 55,
   "metadata": {},
   "outputs": [
    {
     "name": "stdout",
     "output_type": "stream",
     "text": [
      "Tensor(\"randn_1:0\", shape=(3, 4), dtype=float16)\n"
     ]
    },
    {
     "data": {
      "text/plain": [
       "array([[ 3.1796875 ,  3.328125  ,  2.10351562,  2.33789062],\n",
       "       [ 2.45117188,  3.07421875,  2.44726562,  2.23242188],\n",
       "       [ 2.65234375,  2.328125  ,  2.55859375,  2.54101562]], dtype=float16)"
      ]
     },
     "execution_count": 55,
     "metadata": {},
     "output_type": "execute_result"
    }
   ],
   "source": [
    "randn = tf.random_normal(shape=[NROWS, NCOLS], mean=2.5, stddev=0.6, dtype=tf.float16, name='randn')\n",
    "print(randn)\n",
    "randn.eval(session=sess)"
   ]
  },
  {
   "cell_type": "code",
   "execution_count": 61,
   "metadata": {},
   "outputs": [
    {
     "name": "stdout",
     "output_type": "stream",
     "text": [
      "Tensor(\"randnt_1:0\", shape=(3, 4), dtype=float64)\n"
     ]
    },
    {
     "data": {
      "text/plain": [
       "array([[-1.33049068, -1.14467178, -0.71711957, -1.07640052],\n",
       "       [-1.71351627, -1.24732577, -1.3576249 , -0.88537022],\n",
       "       [-1.25343132, -0.68211961, -1.01170417, -0.73458419]])"
      ]
     },
     "execution_count": 61,
     "metadata": {},
     "output_type": "execute_result"
    }
   ],
   "source": [
    "randnt = tf.truncated_normal(shape=[NROWS, NCOLS], mean=-1.2, stddev=0.4, dtype=tf.float64, name='randnt')\n",
    "print(randnt)\n",
    "randnt.eval(session=sess)"
   ]
  },
  {
   "cell_type": "code",
   "execution_count": 63,
   "metadata": {},
   "outputs": [
    {
     "name": "stdout",
     "output_type": "stream",
     "text": [
      "Tensor(\"shuffle:0\", shape=(12,), dtype=float32)\n"
     ]
    },
    {
     "data": {
      "text/plain": [
       "array([ 1.79999995, -1.5       ,  1.5       , -0.60000002,  0.        ,\n",
       "        0.30000001, -0.90000004,  0.60000002,  0.90000004,  1.20000005,\n",
       "       -0.30000001, -1.20000005], dtype=float32)"
      ]
     },
     "execution_count": 63,
     "metadata": {},
     "output_type": "execute_result"
    }
   ],
   "source": [
    "shuffle = tf.random_shuffle(value=seq, name='shuffle')\n",
    "print(shuffle)\n",
    "shuffle.eval(session=sess)"
   ]
  },
  {
   "cell_type": "code",
   "execution_count": 68,
   "metadata": {},
   "outputs": [
    {
     "name": "stdout",
     "output_type": "stream",
     "text": [
      "Tensor(\"crop_1:0\", shape=(10,), dtype=float32)\n"
     ]
    },
    {
     "data": {
      "text/plain": [
       "array([ 0.96428567,  1.05714285,  1.14999998,  1.2428571 ,  1.33571422,\n",
       "        1.42857134,  1.52142847,  1.61428571,  1.70714283,  1.79999995], dtype=float32)"
      ]
     },
     "execution_count": 68,
     "metadata": {},
     "output_type": "execute_result"
    }
   ],
   "source": [
    "crop = tf.random_crop(value=linear, size=[10], name='crop')\n",
    "print(crop)\n",
    "crop.eval(session=sess)"
   ]
  },
  {
   "cell_type": "markdown",
   "metadata": {},
   "source": [
    "### Convert to Tensor"
   ]
  },
  {
   "cell_type": "code",
   "execution_count": 72,
   "metadata": {},
   "outputs": [
    {
     "name": "stdout",
     "output_type": "stream",
     "text": [
      "Tensor(\"tensor:0\", shape=(5, 5), dtype=int64)\n"
     ]
    },
    {
     "data": {
      "text/plain": [
       "array([[1, 0, 0, 0, 0],\n",
       "       [0, 1, 0, 0, 0],\n",
       "       [0, 0, 1, 0, 0],\n",
       "       [0, 0, 0, 1, 0],\n",
       "       [0, 0, 0, 0, 1]])"
      ]
     },
     "execution_count": 72,
     "metadata": {},
     "output_type": "execute_result"
    }
   ],
   "source": [
    "array = np.identity(n=5, dtype=np.int32)\n",
    "tensor = tf.convert_to_tensor(value=array, dtype=tf.int64, name='tensor')\n",
    "print(tensor)\n",
    "tensor.eval(session=sess)"
   ]
  }
 ],
 "metadata": {
  "kernelspec": {
   "display_name": "Python 3",
   "language": "python",
   "name": "python3"
  },
  "language_info": {
   "codemirror_mode": {
    "name": "ipython",
    "version": 3
   },
   "file_extension": ".py",
   "mimetype": "text/x-python",
   "name": "python",
   "nbconvert_exporter": "python",
   "pygments_lexer": "ipython3",
   "version": "3.5.2"
  }
 },
 "nbformat": 4,
 "nbformat_minor": 2
}
