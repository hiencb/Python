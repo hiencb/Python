{
 "cells": [
  {
   "cell_type": "code",
   "execution_count": 43,
   "metadata": {
    "collapsed": true
   },
   "outputs": [],
   "source": [
    "import numpy as np\n",
    "import tensorflow as tf\n",
    "from tensorflow.python.framework import ops"
   ]
  },
  {
   "cell_type": "code",
   "execution_count": 448,
   "metadata": {
    "collapsed": true
   },
   "outputs": [],
   "source": [
    "ITERATIONS = 20000\n",
    "LOG_INTERVAL = 2000"
   ]
  },
  {
   "cell_type": "code",
   "execution_count": 449,
   "metadata": {},
   "outputs": [
    {
     "name": "stdout",
     "output_type": "stream",
     "text": [
      "(4, 2)\n",
      "(4, 1)\n"
     ]
    }
   ],
   "source": [
    "x_vals = np.array([\n",
    "    [0., 0.],\n",
    "    [0., 1.],\n",
    "    [1., 0.],\n",
    "    [1., 1.]\n",
    "])\n",
    "\n",
    "y_vals = np.array([\n",
    "    [0.],\n",
    "    [1.],\n",
    "    [1.],\n",
    "    [0.]\n",
    "])\n",
    "\n",
    "\n",
    "print(x_vals.shape)\n",
    "print(y_vals.shape)"
   ]
  },
  {
   "cell_type": "code",
   "execution_count": 450,
   "metadata": {
    "collapsed": true
   },
   "outputs": [],
   "source": [
    "def createPlaceholder(shape, name):\n",
    "    return tf.placeholder(dtype=tf.float32, shape=shape, name=name)\n",
    "\n",
    "def createVariable(shape, name):\n",
    "    return tf.Variable(tf.truncated_normal(mean=0, stddev=100, shape=shape), name=name)\n",
    "\n",
    "def createOptimizer(learning_rate):\n",
    "    return tf.train.AdamOptimizer(learning_rate=learning_rate)"
   ]
  },
  {
   "cell_type": "markdown",
   "metadata": {},
   "source": [
    "## Linear Regression"
   ]
  },
  {
   "cell_type": "code",
   "execution_count": 451,
   "metadata": {
    "collapsed": true
   },
   "outputs": [],
   "source": [
    "ops.reset_default_graph()\n",
    "sess = tf.Session()"
   ]
  },
  {
   "cell_type": "markdown",
   "metadata": {},
   "source": [
    "### Declaring inputs"
   ]
  },
  {
   "cell_type": "code",
   "execution_count": 452,
   "metadata": {},
   "outputs": [
    {
     "name": "stdout",
     "output_type": "stream",
     "text": [
      "Tensor(\"x:0\", shape=(4, 2), dtype=float32)\n",
      "Tensor(\"y:0\", shape=(4, 1), dtype=float32)\n"
     ]
    }
   ],
   "source": [
    "x = createPlaceholder([4, 2], 'x')\n",
    "y = createPlaceholder([4, 1], 'y')\n",
    "\n",
    "print(x)\n",
    "print(y)"
   ]
  },
  {
   "cell_type": "markdown",
   "metadata": {},
   "source": [
    "### Outputs"
   ]
  },
  {
   "cell_type": "code",
   "execution_count": 453,
   "metadata": {},
   "outputs": [
    {
     "name": "stdout",
     "output_type": "stream",
     "text": [
      "Tensor(\"w/read:0\", shape=(2, 1), dtype=float32)\n",
      "Tensor(\"b/read:0\", shape=(1,), dtype=float32)\n"
     ]
    }
   ],
   "source": [
    "w = createVariable([2, 1], 'w')\n",
    "b = createVariable([1], 'b')\n",
    "\n",
    "print(w)\n",
    "print(b)"
   ]
  },
  {
   "cell_type": "code",
   "execution_count": 454,
   "metadata": {},
   "outputs": [
    {
     "name": "stdout",
     "output_type": "stream",
     "text": [
      "Tensor(\"output:0\", shape=(4, 1), dtype=float32)\n"
     ]
    }
   ],
   "source": [
    "output = tf.add(tf.matmul(x, w), b, name='output')\n",
    "print(output)"
   ]
  },
  {
   "cell_type": "code",
   "execution_count": 459,
   "metadata": {},
   "outputs": [
    {
     "name": "stdout",
     "output_type": "stream",
     "text": [
      "Tensor(\"prediction:0\", shape=(4, 1), dtype=float32)\n"
     ]
    }
   ],
   "source": [
    "prediction = tf.identity(output, name='prediction')\n",
    "print(prediction)"
   ]
  },
  {
   "cell_type": "markdown",
   "metadata": {},
   "source": [
    "### Loss"
   ]
  },
  {
   "cell_type": "code",
   "execution_count": 455,
   "metadata": {},
   "outputs": [
    {
     "name": "stdout",
     "output_type": "stream",
     "text": [
      "Tensor(\"error:0\", shape=(4, 1), dtype=float32)\n",
      "Tensor(\"loss:0\", shape=(), dtype=float32)\n"
     ]
    }
   ],
   "source": [
    "error = tf.subtract(output, y, name='error')\n",
    "loss = tf.reduce_mean(tf.square(error), name='loss')\n",
    "\n",
    "print(error)\n",
    "print(loss)"
   ]
  },
  {
   "cell_type": "markdown",
   "metadata": {},
   "source": [
    "### Optimizer and train step"
   ]
  },
  {
   "cell_type": "code",
   "execution_count": 456,
   "metadata": {
    "collapsed": true
   },
   "outputs": [],
   "source": [
    "optimizer = createOptimizer(0.05)\n",
    "train = optimizer.minimize(loss)"
   ]
  },
  {
   "cell_type": "markdown",
   "metadata": {},
   "source": [
    "### Initializing variables"
   ]
  },
  {
   "cell_type": "code",
   "execution_count": 457,
   "metadata": {
    "collapsed": true
   },
   "outputs": [],
   "source": [
    "init = tf.global_variables_initializer()\n",
    "sess.run(init)"
   ]
  },
  {
   "cell_type": "markdown",
   "metadata": {},
   "source": [
    "### Training"
   ]
  },
  {
   "cell_type": "code",
   "execution_count": 458,
   "metadata": {},
   "outputs": [
    {
     "name": "stdout",
     "output_type": "stream",
     "text": [
      "#1 - w: [[ -74.50698853]\n",
      " [ 158.18148804]] - b: [ 111.00563049] - loss: 30851.7734375\n",
      "#2000 - w: [[-99.75609589]\n",
      " [ 80.82260132]] - b: [ 40.71972275] - loss: 5066.888671875\n",
      "#4000 - w: [[-31.92739677]\n",
      " [ 30.58205223]] - b: [ 6.70631456] - loss: 519.5263671875\n",
      "#6000 - w: [[-0.86601293]\n",
      " [ 5.33506441]] - b: [-1.87272322] - loss: 7.57232141494751\n",
      "#8000 - w: [[ 0.07587034]\n",
      " [ 0.2084118 ]] - b: [ 0.32962403] - loss: 0.2630951702594757\n",
      "#10000 - w: [[  1.71881475e-05]\n",
      " [  4.62725329e-05]] - b: [ 0.49996194] - loss: 0.25\n",
      "#12000 - w: [[  2.94119019e-07]\n",
      " [  2.96156941e-07]] - b: [ 0.49999955] - loss: 0.2499999701976776\n",
      "#14000 - w: [[  9.95924125e-08]\n",
      " [  1.02754235e-07]] - b: [ 0.49999985] - loss: 0.25\n",
      "#16000 - w: [[  3.74154645e-08]\n",
      " [  1.73635346e-08]] - b: [ 0.49999994] - loss: 0.2499999850988388\n",
      "#18000 - w: [[ -3.14423021e-09]\n",
      " [  2.63445599e-09]] - b: [ 0.5] - loss: 0.25\n",
      "#20000 - w: [[ -3.26838917e-10]\n",
      " [  3.65105080e-09]] - b: [ 0.5] - loss: 0.25\n"
     ]
    }
   ],
   "source": [
    "feedDict = {x: x_vals, y: y_vals}\n",
    "\n",
    "for i in range(ITERATIONS):\n",
    "    sess.run(train, feed_dict=feedDict)\n",
    "    \n",
    "    if i == 0 or (i + 1) % LOG_INTERVAL == 0:\n",
    "        lossRes, wRes, bRes = sess.run((loss, w, b), feed_dict=feedDict)\n",
    "        print('#{} - w: {} - b: {} - loss: {}'.format(i + 1, wRes, bRes, lossRes))"
   ]
  },
  {
   "cell_type": "markdown",
   "metadata": {},
   "source": [
    "### Running model"
   ]
  },
  {
   "cell_type": "code",
   "execution_count": 460,
   "metadata": {
    "scrolled": true
   },
   "outputs": [
    {
     "data": {
      "text/plain": [
       "array([[ 0.5],\n",
       "       [ 0.5],\n",
       "       [ 0.5],\n",
       "       [ 0.5]], dtype=float32)"
      ]
     },
     "execution_count": 460,
     "metadata": {},
     "output_type": "execute_result"
    }
   ],
   "source": [
    "predictionRes = sess.run(prediction, feed_dict=feedDict)\n",
    "predictionRes"
   ]
  },
  {
   "cell_type": "markdown",
   "metadata": {},
   "source": [
    "## Feed-forward neural network"
   ]
  },
  {
   "cell_type": "code",
   "execution_count": 461,
   "metadata": {
    "collapsed": true
   },
   "outputs": [],
   "source": [
    "ops.reset_default_graph()\n",
    "sess = tf.Session()"
   ]
  },
  {
   "cell_type": "markdown",
   "metadata": {},
   "source": [
    "### Declaring inputs"
   ]
  },
  {
   "cell_type": "code",
   "execution_count": 462,
   "metadata": {},
   "outputs": [
    {
     "name": "stdout",
     "output_type": "stream",
     "text": [
      "Tensor(\"x:0\", shape=(4, 2), dtype=float32)\n",
      "Tensor(\"y:0\", shape=(4, 1), dtype=float32)\n"
     ]
    }
   ],
   "source": [
    "x = createPlaceholder([4, 2], 'x')\n",
    "y = createPlaceholder([4, 1], 'y')\n",
    "\n",
    "print(x)\n",
    "print(y)"
   ]
  },
  {
   "cell_type": "markdown",
   "metadata": {},
   "source": [
    "### Layer 1"
   ]
  },
  {
   "cell_type": "code",
   "execution_count": 463,
   "metadata": {},
   "outputs": [
    {
     "name": "stdout",
     "output_type": "stream",
     "text": [
      "Tensor(\"w1/read:0\", shape=(2, 2), dtype=float32)\n",
      "Tensor(\"b1/read:0\", shape=(1,), dtype=float32)\n",
      "Tensor(\"layer1:0\", shape=(4, 2), dtype=float32)\n"
     ]
    }
   ],
   "source": [
    "w1 = createVariable([2, 2], 'w1')\n",
    "b1 = createVariable([1], 'b1')\n",
    "layer1 = tf.add(tf.matmul(x, w1), b1, name='layer1')\n",
    "\n",
    "print(w1)\n",
    "print(b1)\n",
    "print(layer1)"
   ]
  },
  {
   "cell_type": "markdown",
   "metadata": {},
   "source": [
    "### Layer 2"
   ]
  },
  {
   "cell_type": "code",
   "execution_count": 464,
   "metadata": {},
   "outputs": [
    {
     "name": "stdout",
     "output_type": "stream",
     "text": [
      "Tensor(\"w2/read:0\", shape=(2, 1), dtype=float32)\n",
      "Tensor(\"b2/read:0\", shape=(1,), dtype=float32)\n",
      "Tensor(\"output:0\", shape=(4, 1), dtype=float32)\n"
     ]
    }
   ],
   "source": [
    "w2 = createVariable([2, 1], 'w2')\n",
    "b2 = createVariable([1], 'b2')\n",
    "output = tf.add(tf.matmul(layer1, w2), b2, name='output')\n",
    "\n",
    "print(w2)\n",
    "print(b2)\n",
    "print(output)"
   ]
  },
  {
   "cell_type": "code",
   "execution_count": 465,
   "metadata": {},
   "outputs": [
    {
     "name": "stdout",
     "output_type": "stream",
     "text": [
      "Tensor(\"prediction:0\", shape=(4, 1), dtype=float32)\n"
     ]
    }
   ],
   "source": [
    "prediction = tf.identity(output, name='prediction')\n",
    "print(prediction)"
   ]
  },
  {
   "cell_type": "markdown",
   "metadata": {},
   "source": [
    "### Loss"
   ]
  },
  {
   "cell_type": "code",
   "execution_count": 466,
   "metadata": {},
   "outputs": [
    {
     "name": "stdout",
     "output_type": "stream",
     "text": [
      "Tensor(\"error:0\", shape=(4, 1), dtype=float32)\n",
      "Tensor(\"loss:0\", shape=(), dtype=float32)\n"
     ]
    }
   ],
   "source": [
    "error = tf.subtract(output, y, name='error')\n",
    "loss = tf.reduce_mean(tf.square(error), name='loss')\n",
    "\n",
    "print(error)\n",
    "print(loss)"
   ]
  },
  {
   "cell_type": "markdown",
   "metadata": {},
   "source": [
    "### Optimizer and train step"
   ]
  },
  {
   "cell_type": "code",
   "execution_count": 467,
   "metadata": {
    "collapsed": true
   },
   "outputs": [],
   "source": [
    "optimizer = createOptimizer(0.05)\n",
    "train = optimizer.minimize(loss)"
   ]
  },
  {
   "cell_type": "markdown",
   "metadata": {},
   "source": [
    "### Initializing variables"
   ]
  },
  {
   "cell_type": "code",
   "execution_count": 468,
   "metadata": {
    "collapsed": true
   },
   "outputs": [],
   "source": [
    "init = tf.global_variables_initializer()\n",
    "sess.run(init)"
   ]
  },
  {
   "cell_type": "markdown",
   "metadata": {},
   "source": [
    "### Training"
   ]
  },
  {
   "cell_type": "code",
   "execution_count": 469,
   "metadata": {
    "scrolled": true
   },
   "outputs": [
    {
     "name": "stdout",
     "output_type": "stream",
     "text": [
      "#1 - loss: 108190664.0\n",
      "#2000 - loss: 2349100.5\n",
      "#4000 - loss: 121828.46875\n",
      "#6000 - loss: 366.7317199707031\n",
      "#8000 - loss: 0.25082558393478394\n",
      "#10000 - loss: 0.250024676322937\n",
      "#12000 - loss: 0.24997079372406006\n",
      "#14000 - loss: 0.24996960163116455\n",
      "#16000 - loss: 0.25\n",
      "#18000 - loss: 0.249969482421875\n",
      "#20000 - loss: 0.25\n"
     ]
    }
   ],
   "source": [
    "feedDict = {x: x_vals, y: y_vals}\n",
    "\n",
    "for i in range(ITERATIONS):\n",
    "    sess.run(train, feed_dict=feedDict)\n",
    "    \n",
    "    if i == 0 or (i + 1) % LOG_INTERVAL == 0:\n",
    "        lossRes = sess.run(loss, feed_dict=feedDict)\n",
    "        print('#{} - loss: {}'.format(i + 1, lossRes))"
   ]
  },
  {
   "cell_type": "markdown",
   "metadata": {},
   "source": [
    "### Running model"
   ]
  },
  {
   "cell_type": "code",
   "execution_count": 470,
   "metadata": {
    "scrolled": true
   },
   "outputs": [
    {
     "data": {
      "text/plain": [
       "array([[ 0.50000763],\n",
       "       [ 0.50000763],\n",
       "       [ 0.50000763],\n",
       "       [ 0.50000763]], dtype=float32)"
      ]
     },
     "execution_count": 470,
     "metadata": {},
     "output_type": "execute_result"
    }
   ],
   "source": [
    "predictionRes = sess.run(prediction, feed_dict=feedDict)\n",
    "predictionRes"
   ]
  },
  {
   "cell_type": "markdown",
   "metadata": {},
   "source": [
    "## Neural network with ReLU"
   ]
  },
  {
   "cell_type": "code",
   "execution_count": 471,
   "metadata": {
    "collapsed": true
   },
   "outputs": [],
   "source": [
    "ops.reset_default_graph()\n",
    "sess = tf.Session()"
   ]
  },
  {
   "cell_type": "markdown",
   "metadata": {},
   "source": [
    "### Declaring inputs"
   ]
  },
  {
   "cell_type": "code",
   "execution_count": 472,
   "metadata": {},
   "outputs": [
    {
     "name": "stdout",
     "output_type": "stream",
     "text": [
      "Tensor(\"x:0\", shape=(4, 2), dtype=float32)\n",
      "Tensor(\"y:0\", shape=(4, 1), dtype=float32)\n"
     ]
    }
   ],
   "source": [
    "x = createPlaceholder([4, 2], 'x')\n",
    "y = createPlaceholder([4, 1], 'y')\n",
    "\n",
    "print(x)\n",
    "print(y)"
   ]
  },
  {
   "cell_type": "markdown",
   "metadata": {},
   "source": [
    "### Layer 1"
   ]
  },
  {
   "cell_type": "code",
   "execution_count": 473,
   "metadata": {},
   "outputs": [
    {
     "name": "stdout",
     "output_type": "stream",
     "text": [
      "Tensor(\"w1/read:0\", shape=(2, 2), dtype=float32)\n",
      "Tensor(\"b1/read:0\", shape=(1,), dtype=float32)\n",
      "Tensor(\"output1:0\", shape=(4, 2), dtype=float32)\n",
      "Tensor(\"layer1:0\", shape=(4, 2), dtype=float32)\n"
     ]
    }
   ],
   "source": [
    "# w1 = tf.Variable(tf.constant([[1., 1.], [1., 1.]]), name='w1')\n",
    "# b1 = tf.Variable(tf.constant([[0., -1.]]), name='b1')\n",
    "\n",
    "w1 = createVariable([2, 2], 'w1')\n",
    "b1 = createVariable([1], 'b1')\n",
    "output1 = tf.add(tf.matmul(x, w1), b1, name='output1')\n",
    "layer1 = tf.nn.relu(output1, name='layer1')\n",
    "\n",
    "print(w1)\n",
    "print(b1)\n",
    "print(output1)\n",
    "print(layer1)"
   ]
  },
  {
   "cell_type": "markdown",
   "metadata": {},
   "source": [
    "### Layer 2"
   ]
  },
  {
   "cell_type": "code",
   "execution_count": 474,
   "metadata": {
    "scrolled": true
   },
   "outputs": [
    {
     "name": "stdout",
     "output_type": "stream",
     "text": [
      "Tensor(\"w2/read:0\", shape=(2, 1), dtype=float32)\n",
      "Tensor(\"b2/read:0\", shape=(1,), dtype=float32)\n",
      "Tensor(\"output:0\", shape=(4, 1), dtype=float32)\n"
     ]
    }
   ],
   "source": [
    "# w2 = tf.Variable(tf.constant([[1.], [-2.]]), 'w2')\n",
    "# b2 = tf.Variable(tf.constant([0.]), name='b2')\n",
    "\n",
    "w2 = createVariable([2, 1], 'w2')\n",
    "b2 = createVariable([1], 'b2')\n",
    "output = tf.add(tf.matmul(layer1, w2), b2, name='output')\n",
    "\n",
    "print(w2)\n",
    "print(b2)\n",
    "print(output)"
   ]
  },
  {
   "cell_type": "code",
   "execution_count": 475,
   "metadata": {},
   "outputs": [
    {
     "name": "stdout",
     "output_type": "stream",
     "text": [
      "Tensor(\"prediction:0\", shape=(4, 1), dtype=float32)\n"
     ]
    }
   ],
   "source": [
    "prediction = tf.identity(output, name='prediction')\n",
    "print(prediction)"
   ]
  },
  {
   "cell_type": "markdown",
   "metadata": {},
   "source": [
    "### Loss"
   ]
  },
  {
   "cell_type": "code",
   "execution_count": 476,
   "metadata": {},
   "outputs": [
    {
     "name": "stdout",
     "output_type": "stream",
     "text": [
      "Tensor(\"error:0\", shape=(4, 1), dtype=float32)\n",
      "Tensor(\"loss:0\", shape=(), dtype=float32)\n"
     ]
    }
   ],
   "source": [
    "error = tf.subtract(output, y, name='error')\n",
    "loss = tf.reduce_mean(tf.square(error), name='loss')\n",
    "\n",
    "print(error)\n",
    "print(loss)"
   ]
  },
  {
   "cell_type": "markdown",
   "metadata": {},
   "source": [
    "### Optimizer and train step"
   ]
  },
  {
   "cell_type": "code",
   "execution_count": 477,
   "metadata": {
    "collapsed": true
   },
   "outputs": [],
   "source": [
    "optimizer = createOptimizer(0.1)\n",
    "train = optimizer.minimize(loss)"
   ]
  },
  {
   "cell_type": "markdown",
   "metadata": {},
   "source": [
    "### Initializing variables"
   ]
  },
  {
   "cell_type": "code",
   "execution_count": 680,
   "metadata": {
    "collapsed": true
   },
   "outputs": [],
   "source": [
    "init = tf.global_variables_initializer()\n",
    "sess.run(init)"
   ]
  },
  {
   "cell_type": "markdown",
   "metadata": {},
   "source": [
    "### Training"
   ]
  },
  {
   "cell_type": "code",
   "execution_count": 681,
   "metadata": {
    "scrolled": true
   },
   "outputs": [
    {
     "name": "stdout",
     "output_type": "stream",
     "text": [
      "#1 - loss: 8521.0771484375\n",
      "#2000 - loss: 8.074002265930176\n",
      "#4000 - loss: 2.8112285137176514\n",
      "#6000 - loss: 0.723237931728363\n",
      "#8000 - loss: 0.7041804790496826\n",
      "#10000 - loss: 0.6931471824645996\n",
      "#12000 - loss: 0.6931471824645996\n",
      "#14000 - loss: 0.6931471824645996\n",
      "#16000 - loss: 0.6931504011154175\n",
      "#18000 - loss: 0.6931471824645996\n",
      "#20000 - loss: 0.6931473016738892\n"
     ]
    }
   ],
   "source": [
    "feedDict = {x: x_vals, y: y_vals}\n",
    "\n",
    "for i in range(ITERATIONS):\n",
    "    sess.run(train, feed_dict=feedDict)\n",
    "    \n",
    "    if i == 0 or (i + 1) % LOG_INTERVAL == 0:\n",
    "        lossRes = sess.run(loss, feed_dict=feedDict)\n",
    "        print('#{} - loss: {}'.format(i + 1, lossRes))"
   ]
  },
  {
   "cell_type": "markdown",
   "metadata": {},
   "source": [
    "**Global minimum:**\n",
    "* 0.000000 &Rarr; [0.000000, 1.000000, 1.000000, 0.000000]\n",
    "\n",
    "**Local minimums:**\n",
    "\n",
    "* 0.250000 &Rarr; [0.500000, 0.500000, 0.500000, 0.500000]\n",
    "\n",
    "* 0.166667 &Rarr; [0.333333, 0.333333, 1.000000, 0.333333]\n",
    "\n",
    "* 0.125000 &Rarr; [0.000000, 1.000000, 0.500000, 0.500000]"
   ]
  },
  {
   "cell_type": "markdown",
   "metadata": {},
   "source": [
    "### Running model"
   ]
  },
  {
   "cell_type": "code",
   "execution_count": 682,
   "metadata": {
    "scrolled": true
   },
   "outputs": [
    {
     "data": {
      "text/plain": [
       "array([[1],\n",
       "       [1],\n",
       "       [1],\n",
       "       [1]], dtype=int32)"
      ]
     },
     "execution_count": 682,
     "metadata": {},
     "output_type": "execute_result"
    }
   ],
   "source": [
    "predictionRes = sess.run(prediction, feed_dict=feedDict)\n",
    "predictionRes"
   ]
  },
  {
   "cell_type": "code",
   "execution_count": 683,
   "metadata": {
    "collapsed": true
   },
   "outputs": [],
   "source": [
    "ops.reset_default_graph()\n",
    "sess = tf.Session()"
   ]
  },
  {
   "cell_type": "markdown",
   "metadata": {},
   "source": [
    "## Neural network with Sigmoid"
   ]
  },
  {
   "cell_type": "code",
   "execution_count": 703,
   "metadata": {
    "collapsed": true
   },
   "outputs": [],
   "source": [
    "ops.reset_default_graph()\n",
    "sess = tf.Session()"
   ]
  },
  {
   "cell_type": "markdown",
   "metadata": {},
   "source": [
    "### Declaring inputs"
   ]
  },
  {
   "cell_type": "code",
   "execution_count": 704,
   "metadata": {},
   "outputs": [
    {
     "name": "stdout",
     "output_type": "stream",
     "text": [
      "Tensor(\"x:0\", shape=(4, 2), dtype=float32)\n",
      "Tensor(\"y:0\", shape=(4, 1), dtype=float32)\n"
     ]
    }
   ],
   "source": [
    "x = createPlaceholder([4, 2], 'x')\n",
    "y = createPlaceholder([4, 1], 'y')\n",
    "\n",
    "print(x)\n",
    "print(y)"
   ]
  },
  {
   "cell_type": "markdown",
   "metadata": {},
   "source": [
    "### Layer 1"
   ]
  },
  {
   "cell_type": "code",
   "execution_count": 705,
   "metadata": {},
   "outputs": [
    {
     "name": "stdout",
     "output_type": "stream",
     "text": [
      "Tensor(\"w1/read:0\", shape=(2, 2), dtype=float32)\n",
      "Tensor(\"b1/read:0\", shape=(1,), dtype=float32)\n",
      "Tensor(\"output1:0\", shape=(4, 2), dtype=float32)\n",
      "Tensor(\"layer1:0\", shape=(4, 2), dtype=float32)\n"
     ]
    }
   ],
   "source": [
    "# w1 = tf.Variable(tf.constant([[1., 1.], [1., 1.]]), name='w1')\n",
    "# b1 = tf.Variable(tf.constant([[0., -1.]]), name='b1')\n",
    "\n",
    "w1 = createVariable([2, 2], 'w1')\n",
    "b1 = createVariable([1], 'b1')\n",
    "output1 = tf.add(tf.matmul(x, w1), b1, name='output1')\n",
    "layer1 = tf.nn.relu(output1, name='layer1')\n",
    "\n",
    "print(w1)\n",
    "print(b1)\n",
    "print(output1)\n",
    "print(layer1)"
   ]
  },
  {
   "cell_type": "markdown",
   "metadata": {},
   "source": [
    "### Layer 2"
   ]
  },
  {
   "cell_type": "code",
   "execution_count": 706,
   "metadata": {},
   "outputs": [
    {
     "name": "stdout",
     "output_type": "stream",
     "text": [
      "Tensor(\"w2/read:0\", shape=(2, 1), dtype=float32)\n",
      "Tensor(\"b2/read:0\", shape=(1,), dtype=float32)\n",
      "Tensor(\"output:0\", shape=(4, 1), dtype=float32)\n"
     ]
    }
   ],
   "source": [
    "# w2 = tf.Variable(tf.constant([[1.], [-2.]]), 'w2')\n",
    "# b2 = tf.Variable(tf.constant([0.]), name='b2')\n",
    "\n",
    "w2 = createVariable([2, 1], 'w2')\n",
    "b2 = createVariable([1], 'b2')\n",
    "output = tf.add(tf.matmul(layer1, w2), b2, name='output')\n",
    "\n",
    "print(w2)\n",
    "print(b2)\n",
    "print(output)"
   ]
  },
  {
   "cell_type": "code",
   "execution_count": 707,
   "metadata": {},
   "outputs": [
    {
     "name": "stdout",
     "output_type": "stream",
     "text": [
      "Tensor(\"prediction:0\", shape=(4, 1), dtype=int32)\n"
     ]
    }
   ],
   "source": [
    "threshold = 0.5\n",
    "prediction = tf.cast(tf.greater(tf.sigmoid(output), threshold), dtype=tf.int32, name='prediction')\n",
    "print(prediction)"
   ]
  },
  {
   "cell_type": "markdown",
   "metadata": {},
   "source": [
    "### Loss"
   ]
  },
  {
   "cell_type": "code",
   "execution_count": 708,
   "metadata": {},
   "outputs": [
    {
     "name": "stdout",
     "output_type": "stream",
     "text": [
      "Tensor(\"error:0\", shape=(4, 1), dtype=float32)\n",
      "Tensor(\"loss:0\", shape=(), dtype=float32)\n"
     ]
    }
   ],
   "source": [
    "loss = tf.reduce_mean(tf.nn.sigmoid_cross_entropy_with_logits(labels=y, logits=output), name='loss')\n",
    "\n",
    "print(error)\n",
    "print(loss)"
   ]
  },
  {
   "cell_type": "markdown",
   "metadata": {},
   "source": [
    "### Optimizer and train step"
   ]
  },
  {
   "cell_type": "code",
   "execution_count": 709,
   "metadata": {
    "collapsed": true
   },
   "outputs": [],
   "source": [
    "optimizer = createOptimizer(0.1)\n",
    "train = optimizer.minimize(loss)"
   ]
  },
  {
   "cell_type": "markdown",
   "metadata": {},
   "source": [
    "### Initializing variables"
   ]
  },
  {
   "cell_type": "code",
   "execution_count": 710,
   "metadata": {
    "collapsed": true
   },
   "outputs": [],
   "source": [
    "init = tf.global_variables_initializer()\n",
    "sess.run(init)"
   ]
  },
  {
   "cell_type": "markdown",
   "metadata": {},
   "source": [
    "### Training"
   ]
  },
  {
   "cell_type": "code",
   "execution_count": 711,
   "metadata": {
    "scrolled": true
   },
   "outputs": [
    {
     "name": "stdout",
     "output_type": "stream",
     "text": [
      "#1 - loss: 1860.8798828125\n",
      "#2000 - loss: 0.29961031675338745\n",
      "#4000 - loss: 0.050887901335954666\n",
      "#6000 - loss: 0.005380174145102501\n",
      "#8000 - loss: 0.001146744005382061\n",
      "#10000 - loss: 0.0003098502638749778\n",
      "#12000 - loss: 9.219719504471868e-05\n",
      "#14000 - loss: 2.875849349948112e-05\n",
      "#16000 - loss: 9.212242730427533e-06\n",
      "#18000 - loss: 3.0019282348803245e-06\n",
      "#20000 - loss: 9.90019429991662e-07\n"
     ]
    }
   ],
   "source": [
    "feedDict = {x: x_vals, y: y_vals}\n",
    "\n",
    "for i in range(ITERATIONS):\n",
    "    sess.run(train, feed_dict=feedDict)\n",
    "    \n",
    "    if i == 0 or (i + 1) % LOG_INTERVAL == 0:\n",
    "        lossRes = sess.run(loss, feed_dict=feedDict)\n",
    "        print('#{} - loss: {}'.format(i + 1, lossRes))"
   ]
  },
  {
   "cell_type": "markdown",
   "metadata": {},
   "source": [
    "**Global minimum:**\n",
    "* 0.000000 &Rarr; [0, 1, 1, 0]\n",
    "\n",
    "**Local minimums:**\n",
    "\n",
    "* 1.229596 &Rarr; [0, 0, 0, 0]\n",
    "\n",
    "* 0.693147 &Rarr; [0, 0, 0, 0]\n",
    "\n",
    "* 0.477386 &Rarr; [1, 1, 1, 0]\n",
    "\n",
    "* 0.346573 &Rarr; [0, 1, 0, 0]"
   ]
  },
  {
   "cell_type": "markdown",
   "metadata": {},
   "source": [
    "### Running model"
   ]
  },
  {
   "cell_type": "code",
   "execution_count": 712,
   "metadata": {
    "scrolled": true
   },
   "outputs": [
    {
     "name": "stdout",
     "output_type": "stream",
     "text": [
      "[[-163.49108887]\n",
      " [  27.02937698]\n",
      " [  12.94281387]\n",
      " [ -13.36652374]]\n",
      "[[0]\n",
      " [1]\n",
      " [1]\n",
      " [0]]\n"
     ]
    }
   ],
   "source": [
    "outputRes, predictionRes = sess.run((output, prediction), feed_dict=feedDict)\n",
    "print(outputRes)\n",
    "print(predictionRes)"
   ]
  },
  {
   "cell_type": "code",
   "execution_count": null,
   "metadata": {
    "collapsed": true
   },
   "outputs": [],
   "source": []
  }
 ],
 "metadata": {
  "kernelspec": {
   "display_name": "Python 3",
   "language": "python",
   "name": "python3"
  },
  "language_info": {
   "codemirror_mode": {
    "name": "ipython",
    "version": 3
   },
   "file_extension": ".py",
   "mimetype": "text/x-python",
   "name": "python",
   "nbconvert_exporter": "python",
   "pygments_lexer": "ipython3",
   "version": "3.5.3"
  }
 },
 "nbformat": 4,
 "nbformat_minor": 2
}
