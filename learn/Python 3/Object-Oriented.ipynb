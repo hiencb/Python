{
 "cells": [
  {
   "cell_type": "markdown",
   "metadata": {
    "collapsed": true
   },
   "source": [
    "### Inheritance"
   ]
  },
  {
   "cell_type": "code",
   "execution_count": 7,
   "metadata": {},
   "outputs": [],
   "source": [
    "class MyClass:\n",
    "    def __init__(self, a):\n",
    "        self.a = a\n",
    "        self.b = 3\n",
    "        \n",
    "    def __str__(self):\n",
    "        return 'a: {} - b: {}'.format(self.a, self.b)\n",
    "    \n",
    "    def method1(self):\n",
    "        return str(self.b)\n",
    "    \n",
    "class DerivedClass(MyClass):\n",
    "    def __init__(self, a, c):\n",
    "        super().__init__(a)\n",
    "        self.c = c\n",
    "        self.d = 9\n",
    "        \n",
    "    def __str__(self):\n",
    "        return 'a: {} - b: {} - c: {} - d: {}'.format(self.a, self.b, self.c, self.d)\n",
    "        \n",
    "    def method2(self):\n",
    "        return str(self.d)"
   ]
  },
  {
   "cell_type": "code",
   "execution_count": 8,
   "metadata": {},
   "outputs": [
    {
     "name": "stdout",
     "output_type": "stream",
     "text": [
      "a: 6 - b: 3\n",
      "3\n"
     ]
    }
   ],
   "source": [
    "myClass = MyClass(6)\n",
    "print(myClass)\n",
    "print(myClass.method1())"
   ]
  },
  {
   "cell_type": "code",
   "execution_count": 9,
   "metadata": {},
   "outputs": [
    {
     "name": "stdout",
     "output_type": "stream",
     "text": [
      "a: 1 - b: 3 - c: 18 - d: 9\n",
      "9\n"
     ]
    }
   ],
   "source": [
    "derivedClass = DerivedClass(1, 18)\n",
    "print(derivedClass)\n",
    "print(derivedClass.method2())"
   ]
  },
  {
   "cell_type": "markdown",
   "metadata": {},
   "source": [
    "### Abstract class"
   ]
  },
  {
   "cell_type": "code",
   "execution_count": 18,
   "metadata": {},
   "outputs": [],
   "source": [
    "from abc import ABCMeta, abstractmethod, abstractproperty\n",
    "\n",
    "class AbstractClass(metaclass=ABCMeta):\n",
    "    @abstractmethod\n",
    "    def method1(self): pass\n",
    "    \n",
    "class ConcreteClass1(AbstractClass):\n",
    "    def method1(self):\n",
    "        return 1\n",
    "                    \n",
    "class ConcreteClass2(AbstractClass):\n",
    "    def method1(self):\n",
    "        return 2"
   ]
  },
  {
   "cell_type": "code",
   "execution_count": 20,
   "metadata": {},
   "outputs": [
    {
     "name": "stdout",
     "output_type": "stream",
     "text": [
      "1\n",
      "2\n"
     ]
    }
   ],
   "source": [
    "co1 = ConcreteClass1()\n",
    "print(co1.method1())\n",
    "\n",
    "co2 = ConcreteClass2()\n",
    "print(co2.method1())"
   ]
  },
  {
   "cell_type": "code",
   "execution_count": null,
   "metadata": {
    "collapsed": true
   },
   "outputs": [],
   "source": []
  }
 ],
 "metadata": {
  "kernelspec": {
   "display_name": "Python 3",
   "language": "python",
   "name": "python3"
  },
  "language_info": {
   "codemirror_mode": {
    "name": "ipython",
    "version": 3
   },
   "file_extension": ".py",
   "mimetype": "text/x-python",
   "name": "python",
   "nbconvert_exporter": "python",
   "pygments_lexer": "ipython3",
   "version": "3.5.3"
  }
 },
 "nbformat": 4,
 "nbformat_minor": 2
}
